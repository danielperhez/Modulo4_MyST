{
 "cells": [
  {
   "cell_type": "markdown",
   "id": "75162e6f",
   "metadata": {},
   "source": [
    "![](data:image/png;base64,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)"
   ]
  },
  {
   "cell_type": "markdown",
   "id": "68b4d978",
   "metadata": {},
   "source": [
    "<center><font color=#555555><font size=6> MAF1731 - Microestructura y Sistemas de Trading </font> <br> <br>\n",
    "    \n",
    "<center><font color=#555555><font size=5> Ingeniería Financiera </font> <br> <br>\n",
    "\n",
    "<center><font color=#555555><font size=4> Carlos Daniel Pérez Hernández </font> <br> <br>\n",
    "   \n",
    "<center> <font color= #555555> <font size = 4> 28 Abril 2022 </a> | <font color= #555555> <font size = 4> Repositorio: <a href='https://github.com/danielperhez/Modulo4_MyST'>Link</a></font>"
   ]
  },
  {
   "cell_type": "markdown",
   "id": "51de8556",
   "metadata": {},
   "source": [
    "<hr style=\"border:0.02in solid gray\"> </hr>"
   ]
  },
  {
   "cell_type": "markdown",
   "id": "b531747b",
   "metadata": {},
   "source": [
    "<center> <font color= #555555> <font size = 6> Laboratorio 4 </font> <br> <br> <font color= #555555> <font size = 5> Behavioral Finance </font>"
   ]
  },
  {
   "cell_type": "markdown",
   "id": "beea0ccd",
   "metadata": {},
   "source": [
    "<hr style=\"border:0.02in solid gray\"> </hr>"
   ]
  },
  {
   "cell_type": "markdown",
   "id": "8a358d4f",
   "metadata": {},
   "source": [
    "<font color= #555555> <font size = 4>Objetivo </font>"
   ]
  },
  {
   "cell_type": "markdown",
   "id": "3699d8ec",
   "metadata": {},
   "source": [
    "<font size = 3> En este laboratorio usaremos información del Libro de Ordenes de Criptomonedas de diversos exchanges internacionales, con el objetivo primario de visualizar y modelar la microestructura del mercado por medio del comportamiento de Libro de Ordenes y sus caracteristicas como; Matching Engine, Levels, Ask-Bid Volumnes, etc."
   ]
  },
  {
   "cell_type": "markdown",
   "id": "20a82471",
   "metadata": {},
   "source": [
    "## <font color= #6B6B6B> 1. Introducción </font>"
   ]
  },
  {
   "cell_type": "markdown",
   "id": "6cb25d4a",
   "metadata": {},
   "source": [
    "## <font color= #6B6B6B> 2. Cargar Paquetes / Instalación de Dependencias </font>"
   ]
  },
  {
   "cell_type": "markdown",
   "id": "ce58ad34",
   "metadata": {},
   "source": [
    "<hr style=\"border:0.02in solid gray\"> </hr>"
   ]
  },
  {
   "cell_type": "markdown",
   "id": "a74f0679",
   "metadata": {},
   "source": [
    "### <font color= #6B6B6B> 2.1 Librerías de Python </font> <font color= #555555>"
   ]
  },
  {
   "cell_type": "markdown",
   "id": "bec48852",
   "metadata": {},
   "source": [
    "Para correr este notebook es necesario tener instaladas las siguientes librerías:\n",
    "- pandas>=1.1.1 \n",
    "- numpy>=1.19.1\n",
    "- jupyter>=1.0.0\n",
    "- _Add any other here_"
   ]
  },
  {
   "cell_type": "markdown",
   "id": "3d48d60e",
   "metadata": {},
   "source": [
    "### <font color= #6E6E6E> 2.2 Instalar Librerias </font>"
   ]
  },
  {
   "cell_type": "code",
   "execution_count": 1,
   "id": "b3b79a21",
   "metadata": {},
   "outputs": [],
   "source": [
    "# Librerías\n",
    "import main\n",
    "import visualizations"
   ]
  },
  {
   "cell_type": "markdown",
   "id": "c29464f7",
   "metadata": {},
   "source": [
    "### <font color= #6E6E6E> 2.3 Cargar la información </font>"
   ]
  },
  {
   "cell_type": "code",
   "execution_count": 2,
   "id": "dd3cc97e",
   "metadata": {},
   "outputs": [
    {
     "name": "stdout",
     "output_type": "stream",
     "text": [
      "540\n"
     ]
    }
   ],
   "source": [
    "diccionario,visualizacion,modelado, data = main.crypto_exchanges(60)"
   ]
  },
  {
   "cell_type": "markdown",
   "id": "de113191",
   "metadata": {},
   "source": [
    "## <font color= #6E6E6E> 3. Consumir datos de CCXT </font>"
   ]
  },
  {
   "cell_type": "markdown",
   "id": "8b64a580",
   "metadata": {},
   "source": [
    "<hr style=\"border:0.02in solid gray\"> </hr>"
   ]
  },
  {
   "cell_type": "markdown",
   "id": "bd50705d",
   "metadata": {},
   "source": [
    "En esta sección debes de lograr consumir el libro de órdenes de los siguientes exchanges para criptomonedas (ejemplo: kraken, ftx, currencycom, coinmate). Y, de por lo menos 3 exchanges de criptomonedas (ejemplo. BTC/USDT, ETH/EUR ).\n",
    "\n",
    "Y el OHLC de las mismas criptomonedas para el mismo timeframe que el libro de órdenes."
   ]
  },
  {
   "cell_type": "markdown",
   "id": "5065456b",
   "metadata": {},
   "source": [
    "### <font color= #6B6B6B> 3.1 Diccionario con el LO y el Close price de cada activo y cada exchange </font> <font color= #555555>"
   ]
  },
  {
   "cell_type": "code",
   "execution_count": 3,
   "id": "52a628a1",
   "metadata": {
    "scrolled": true
   },
   "outputs": [
    {
     "data": {
      "text/plain": [
       "{'Bitso': {'2022-04-29T02:27:29.000Z': {'BTC': {'Ask': 39688.93,\n",
       "    'Bid': 39650.03,\n",
       "    'Ask Volume': 0.99536395,\n",
       "    'Bid Volume': 3.0,\n",
       "    'Spread': 38.900000000001455,\n",
       "    'Close Price': 39634.62},\n",
       "   'ETH': {'Ask': 2919.68,\n",
       "    'Bid': 2919.57,\n",
       "    'Ask Volume': 10.0,\n",
       "    'Bid Volume': 0.00151655,\n",
       "    'Spread': 0.10999999999967258,\n",
       "    'Close Price': 2918.97},\n",
       "   'LTC': {'Ask': 2112.9,\n",
       "    'Bid': 2108.9,\n",
       "    'Ask Volume': 8.78,\n",
       "    'Bid Volume': 0.74511356,\n",
       "    'Spread': 4.0,\n",
       "    'Close Price': 2106.59}},\n",
       "  '2022-04-29T02:28:31.000Z': {'BTC': {'Ask': 39717.48,\n",
       "    'Bid': 39674.62,\n",
       "    'Ask Volume': 1.0,\n",
       "    'Bid Volume': 1.0,\n",
       "    'Spread': 42.86000000000058,\n",
       "    'Close Price': 39634.62},\n",
       "   'ETH': {'Ask': 2922.12,\n",
       "    'Bid': 2918.98,\n",
       "    'Ask Volume': 0.0264,\n",
       "    'Bid Volume': 0.1119,\n",
       "    'Spread': 3.1399999999998727,\n",
       "    'Close Price': 2917.04},\n",
       "   'LTC': {'Ask': 2117.63,\n",
       "    'Bid': 2112.2,\n",
       "    'Ask Volume': 0.4,\n",
       "    'Bid Volume': 10.72,\n",
       "    'Spread': 5.430000000000291,\n",
       "    'Close Price': 2113.8}},\n",
       "  '2022-04-29T02:29:34.000Z': {'BTC': {'Ask': 39712.22,\n",
       "    'Bid': 39668.86,\n",
       "    'Ask Volume': 1.0,\n",
       "    'Bid Volume': 5.0,\n",
       "    'Spread': 43.36000000000058,\n",
       "    'Close Price': 39657.12},\n",
       "   'ETH': {'Ask': 2921.68,\n",
       "    'Bid': 2917.92,\n",
       "    'Ask Volume': 0.1194,\n",
       "    'Bid Volume': 12.776077,\n",
       "    'Spread': 3.7599999999997635,\n",
       "    'Close Price': 2917.04},\n",
       "   'LTC': {'Ask': 2118.0,\n",
       "    'Bid': 2115.0,\n",
       "    'Ask Volume': 0.35560004,\n",
       "    'Bid Volume': 10.72,\n",
       "    'Spread': 3.0,\n",
       "    'Close Price': 2113.8}},\n",
       "  '2022-04-29T02:30:37.000Z': {'BTC': {'Ask': 39687.78,\n",
       "    'Bid': 39647.33,\n",
       "    'Ask Volume': 1.0,\n",
       "    'Bid Volume': 0.99997033,\n",
       "    'Spread': 40.44999999999709,\n",
       "    'Close Price': 39657.12},\n",
       "   'ETH': {'Ask': 2918.37,\n",
       "    'Bid': 2914.18,\n",
       "    'Ask Volume': 0.1231,\n",
       "    'Bid Volume': 38.188159,\n",
       "    'Spread': 4.190000000000055,\n",
       "    'Close Price': 2920.77},\n",
       "   'LTC': {'Ask': 2118.0,\n",
       "    'Bid': 2115.31,\n",
       "    'Ask Volume': 0.35560004,\n",
       "    'Bid Volume': 20.123,\n",
       "    'Spread': 2.6900000000000546,\n",
       "    'Close Price': 2121.49}},\n",
       "  '2022-04-29T02:31:39.000Z': {'BTC': {'Ask': 39708.86,\n",
       "    'Bid': 39672.95,\n",
       "    'Ask Volume': 1.0,\n",
       "    'Bid Volume': 1.0,\n",
       "    'Spread': 35.91000000000349,\n",
       "    'Close Price': 39714.1},\n",
       "   'ETH': {'Ask': 2920.77,\n",
       "    'Bid': 2916.94,\n",
       "    'Ask Volume': 9.96694946,\n",
       "    'Bid Volume': 0.1411,\n",
       "    'Spread': 3.8299999999999272,\n",
       "    'Close Price': 2920.77},\n",
       "   'LTC': {'Ask': 2121.0,\n",
       "    'Bid': 2115.6,\n",
       "    'Ask Volume': 9.58,\n",
       "    'Bid Volume': 10.72,\n",
       "    'Spread': 5.400000000000091,\n",
       "    'Close Price': 2119.6}},\n",
       "  '2022-04-29T02:32:42.000Z': {'BTC': {'Ask': 39714.1,\n",
       "    'Bid': 39674.05,\n",
       "    'Ask Volume': 2.9978951,\n",
       "    'Bid Volume': 1.0,\n",
       "    'Spread': 40.049999999995634,\n",
       "    'Close Price': 39714.1},\n",
       "   'ETH': {'Ask': 2920.64,\n",
       "    'Bid': 2916.86,\n",
       "    'Ask Volume': 10.0,\n",
       "    'Bid Volume': 0.0886,\n",
       "    'Spread': 3.7799999999997453,\n",
       "    'Close Price': 2920.77},\n",
       "   'LTC': {'Ask': 2121.42,\n",
       "    'Bid': 2117.9,\n",
       "    'Ask Volume': 0.4,\n",
       "    'Bid Volume': 0.08407124,\n",
       "    'Spread': 3.519999999999982,\n",
       "    'Close Price': 2119.6}},\n",
       "  '2022-04-29T02:33:44.000Z': {'BTC': {'Ask': 39695.32,\n",
       "    'Bid': 39661.24,\n",
       "    'Ask Volume': 1.0,\n",
       "    'Bid Volume': 1.0,\n",
       "    'Spread': 34.080000000001746,\n",
       "    'Close Price': 39641.83},\n",
       "   'ETH': {'Ask': 2918.77,\n",
       "    'Bid': 2915.16,\n",
       "    'Ask Volume': 10.0,\n",
       "    'Bid Volume': 10.0,\n",
       "    'Spread': 3.6100000000001273,\n",
       "    'Close Price': 2920.77},\n",
       "   'LTC': {'Ask': 2123.0,\n",
       "    'Bid': 2118.1,\n",
       "    'Ask Volume': 0.5,\n",
       "    'Bid Volume': 10.72,\n",
       "    'Spread': 4.900000000000091,\n",
       "    'Close Price': 2117.9}},\n",
       "  '2022-04-29T02:34:46.000Z': {'BTC': {'Ask': 39684.91,\n",
       "    'Bid': 39643.82,\n",
       "    'Ask Volume': 1.0,\n",
       "    'Bid Volume': 10.0,\n",
       "    'Spread': 41.09000000000378,\n",
       "    'Close Price': 39661.49},\n",
       "   'ETH': {'Ask': 2917.7,\n",
       "    'Bid': 2913.87,\n",
       "    'Ask Volume': 10.0,\n",
       "    'Bid Volume': 3.699441,\n",
       "    'Spread': 3.8299999999999272,\n",
       "    'Close Price': 2919.78},\n",
       "   'LTC': {'Ask': 2123.0,\n",
       "    'Bid': 2117.9,\n",
       "    'Ask Volume': 0.5,\n",
       "    'Bid Volume': 0.00407124,\n",
       "    'Spread': 5.099999999999909,\n",
       "    'Close Price': 2117.9}},\n",
       "  '2022-04-29T02:35:48.000Z': {'BTC': {'Ask': 39702.41,\n",
       "    'Bid': 39667.75,\n",
       "    'Ask Volume': 1.0,\n",
       "    'Bid Volume': 3.0,\n",
       "    'Spread': 34.66000000000349,\n",
       "    'Close Price': 39671.31},\n",
       "   'ETH': {'Ask': 2919.78,\n",
       "    'Bid': 2915.73,\n",
       "    'Ask Volume': 9.97806164,\n",
       "    'Bid Volume': 0.0083,\n",
       "    'Spread': 4.050000000000182,\n",
       "    'Close Price': 2919.01},\n",
       "   'LTC': {'Ask': 2123.0,\n",
       "    'Bid': 2117.9,\n",
       "    'Ask Volume': 0.5,\n",
       "    'Bid Volume': 0.00407124,\n",
       "    'Spread': 5.099999999999909,\n",
       "    'Close Price': 2117.9}},\n",
       "  '2022-04-29T02:36:51.000Z': {'BTC': {'Ask': 39700.73,\n",
       "    'Bid': 39661.13,\n",
       "    'Ask Volume': 1.0,\n",
       "    'Bid Volume': 5.0,\n",
       "    'Spread': 39.60000000000582,\n",
       "    'Close Price': 39671.31},\n",
       "   'ETH': {'Ask': 2919.0,\n",
       "    'Bid': 2915.7,\n",
       "    'Ask Volume': 10.0,\n",
       "    'Bid Volume': 9.99967587,\n",
       "    'Spread': 3.300000000000182,\n",
       "    'Close Price': 2918.14},\n",
       "   'LTC': {'Ask': 2122.67,\n",
       "    'Bid': 2117.9,\n",
       "    'Ask Volume': 380.763,\n",
       "    'Bid Volume': 0.00407124,\n",
       "    'Spread': 4.769999999999982,\n",
       "    'Close Price': 2117.9}},\n",
       "  '2022-04-29T02:37:54.000Z': {'BTC': {'Ask': 39700.73,\n",
       "    'Bid': 39662.64,\n",
       "    'Ask Volume': 1.0,\n",
       "    'Bid Volume': 1.0,\n",
       "    'Spread': 38.09000000000378,\n",
       "    'Close Price': 39671.31},\n",
       "   'ETH': {'Ask': 2918.16,\n",
       "    'Bid': 2915.17,\n",
       "    'Ask Volume': 10.0,\n",
       "    'Bid Volume': 0.0088,\n",
       "    'Spread': 2.9899999999997817,\n",
       "    'Close Price': 2919.8},\n",
       "   'LTC': {'Ask': 2122.42,\n",
       "    'Bid': 2117.9,\n",
       "    'Ask Volume': 4.17136954,\n",
       "    'Bid Volume': 0.00407124,\n",
       "    'Spread': 4.519999999999982,\n",
       "    'Close Price': 2117.9}},\n",
       "  '2022-04-29T02:38:57.000Z': {'BTC': {'Ask': 39698.92,\n",
       "    'Bid': 39663.83,\n",
       "    'Ask Volume': 1.0,\n",
       "    'Bid Volume': 1.0,\n",
       "    'Spread': 35.08999999999651,\n",
       "    'Close Price': 39671.31},\n",
       "   'ETH': {'Ask': 2919.37,\n",
       "    'Bid': 2916.01,\n",
       "    'Ask Volume': 10.0,\n",
       "    'Bid Volume': 10.0,\n",
       "    'Spread': 3.3599999999996726,\n",
       "    'Close Price': 2919.37},\n",
       "   'LTC': {'Ask': 2119.92,\n",
       "    'Bid': 2117.9,\n",
       "    'Ask Volume': 4.43198251,\n",
       "    'Bid Volume': 0.00407124,\n",
       "    'Spread': 2.019999999999982,\n",
       "    'Close Price': 2117.9}},\n",
       "  '2022-04-29T02:40:00.000Z': {'BTC': {'Ask': 39698.92,\n",
       "    'Bid': 39663.83,\n",
       "    'Ask Volume': 1.0,\n",
       "    'Bid Volume': 1.0,\n",
       "    'Spread': 35.08999999999651,\n",
       "    'Close Price': 39671.31},\n",
       "   'ETH': {'Ask': 2918.77,\n",
       "    'Bid': 2916.01,\n",
       "    'Ask Volume': 0.0143,\n",
       "    'Bid Volume': 10.0,\n",
       "    'Spread': 2.7599999999997635,\n",
       "    'Close Price': 2916.01},\n",
       "   'LTC': {'Ask': 2117.08,\n",
       "    'Bid': 2108.54,\n",
       "    'Ask Volume': 0.4,\n",
       "    'Bid Volume': 20.123,\n",
       "    'Spread': 8.539999999999964,\n",
       "    'Close Price': 2117.9}},\n",
       "  '2022-04-29T02:41:02.000Z': {'BTC': {'Ask': 39698.92,\n",
       "    'Bid': 39663.83,\n",
       "    'Ask Volume': 1.0,\n",
       "    'Bid Volume': 1.0,\n",
       "    'Spread': 35.08999999999651,\n",
       "    'Close Price': 39652.26},\n",
       "   'ETH': {'Ask': 2918.96,\n",
       "    'Bid': 2915.88,\n",
       "    'Ask Volume': 10.0,\n",
       "    'Bid Volume': 0.086,\n",
       "    'Spread': 3.0799999999999272,\n",
       "    'Close Price': 2916.01},\n",
       "   'LTC': {'Ask': 2119.92,\n",
       "    'Bid': 2111.31,\n",
       "    'Ask Volume': 371.883,\n",
       "    'Bid Volume': 20.123,\n",
       "    'Spread': 8.610000000000127,\n",
       "    'Close Price': 2117.9}},\n",
       "  '2022-04-29T02:42:04.000Z': {'BTC': {'Ask': 39708.98,\n",
       "    'Bid': 39664.34,\n",
       "    'Ask Volume': 1.0,\n",
       "    'Bid Volume': 1.0,\n",
       "    'Spread': 44.640000000006694,\n",
       "    'Close Price': 39664.34},\n",
       "   'ETH': {'Ask': 2919.55,\n",
       "    'Bid': 2916.48,\n",
       "    'Ask Volume': 0.0427,\n",
       "    'Bid Volume': 10.0,\n",
       "    'Spread': 3.0700000000001637,\n",
       "    'Close Price': 2920.53},\n",
       "   'LTC': {'Ask': 2120.77,\n",
       "    'Bid': 2117.9,\n",
       "    'Ask Volume': 0.4,\n",
       "    'Bid Volume': 0.07135842,\n",
       "    'Spread': 2.869999999999891,\n",
       "    'Close Price': 2117.9}},\n",
       "  '2022-04-29T02:43:07.000Z': {'BTC': {'Ask': 39702.46,\n",
       "    'Bid': 39664.34,\n",
       "    'Ask Volume': 3.0,\n",
       "    'Bid Volume': 0.99870471,\n",
       "    'Spread': 38.12000000000262,\n",
       "    'Close Price': 39702.46},\n",
       "   'ETH': {'Ask': 2920.53,\n",
       "    'Bid': 2916.49,\n",
       "    'Ask Volume': 9.87494978,\n",
       "    'Bid Volume': 0.1188,\n",
       "    'Spread': 4.040000000000418,\n",
       "    'Close Price': 2920.53},\n",
       "   'LTC': {'Ask': 2114.79,\n",
       "    'Bid': 2114.31,\n",
       "    'Ask Volume': 0.64607655,\n",
       "    'Bid Volume': 20.123,\n",
       "    'Spread': 0.4800000000000182,\n",
       "    'Close Price': 2114.79}},\n",
       "  '2022-04-29T02:44:09.000Z': {'BTC': {'Ask': 39708.98,\n",
       "    'Bid': 39676.38,\n",
       "    'Ask Volume': 1.0,\n",
       "    'Bid Volume': 1.0,\n",
       "    'Spread': 32.60000000000582,\n",
       "    'Close Price': 39702.46},\n",
       "   'ETH': {'Ask': 2920.53,\n",
       "    'Bid': 2917.1,\n",
       "    'Ask Volume': 9.87494978,\n",
       "    'Bid Volume': 0.1597,\n",
       "    'Spread': 3.430000000000291,\n",
       "    'Close Price': 2920.53},\n",
       "   'LTC': {'Ask': 2114.79,\n",
       "    'Bid': 2114.77,\n",
       "    'Ask Volume': 0.09358671,\n",
       "    'Bid Volume': 20.0,\n",
       "    'Spread': 0.01999999999998181,\n",
       "    'Close Price': 2120.4}},\n",
       "  '2022-04-29T02:45:11.000Z': {'BTC': {'Ask': 39726.34,\n",
       "    'Bid': 39682.87,\n",
       "    'Ask Volume': 1.0,\n",
       "    'Bid Volume': 1.0,\n",
       "    'Spread': 43.46999999999389,\n",
       "    'Close Price': 39694.92},\n",
       "   'ETH': {'Ask': 2922.26,\n",
       "    'Bid': 2918.73,\n",
       "    'Ask Volume': 10.0,\n",
       "    'Bid Volume': 0.0891,\n",
       "    'Spread': 3.5300000000002,\n",
       "    'Close Price': 2922.38},\n",
       "   'LTC': {'Ask': 2120.86,\n",
       "    'Bid': 2116.3,\n",
       "    'Ask Volume': 0.4,\n",
       "    'Bid Volume': 5.80002089,\n",
       "    'Spread': 4.559999999999945,\n",
       "    'Close Price': 2116.3}},\n",
       "  '2022-04-29T02:46:14.000Z': {'BTC': {'Ask': 39732.76,\n",
       "    'Bid': 39694.92,\n",
       "    'Ask Volume': 3.0,\n",
       "    'Bid Volume': 0.99994708,\n",
       "    'Spread': 37.84000000000378,\n",
       "    'Close Price': 39694.92},\n",
       "   'ETH': {'Ask': 2924.18,\n",
       "    'Bid': 2920.44,\n",
       "    'Ask Volume': 10.0,\n",
       "    'Bid Volume': 0.1778,\n",
       "    'Spread': 3.7399999999997817,\n",
       "    'Close Price': 2924.18},\n",
       "   'LTC': {'Ask': 2120.8,\n",
       "    'Bid': 2116.3,\n",
       "    'Ask Volume': 10.72,\n",
       "    'Bid Volume': 5.80002089,\n",
       "    'Spread': 4.5,\n",
       "    'Close Price': 2116.3}},\n",
       "  '2022-04-29T02:47:17.000Z': {'BTC': {'Ask': 39758.51,\n",
       "    'Bid': 39718.01,\n",
       "    'Ask Volume': 1.0,\n",
       "    'Bid Volume': 1.0,\n",
       "    'Spread': 40.5,\n",
       "    'Close Price': 39694.92},\n",
       "   'ETH': {'Ask': 2925.56,\n",
       "    'Bid': 2921.81,\n",
       "    'Ask Volume': 10.0,\n",
       "    'Bid Volume': 0.2055,\n",
       "    'Spread': 3.75,\n",
       "    'Close Price': 2921.15},\n",
       "   'LTC': {'Ask': 2122.58,\n",
       "    'Bid': 2117.61,\n",
       "    'Ask Volume': 0.4,\n",
       "    'Bid Volume': 20.123,\n",
       "    'Spread': 4.9699999999998,\n",
       "    'Close Price': 2116.3}},\n",
       "  '2022-04-29T02:48:19.000Z': {'BTC': {'Ask': 39736.53,\n",
       "    'Bid': 39701.72,\n",
       "    'Ask Volume': 1.0,\n",
       "    'Bid Volume': 3.0,\n",
       "    'Spread': 34.80999999999767,\n",
       "    'Close Price': 39694.92},\n",
       "   'ETH': {'Ask': 2924.1,\n",
       "    'Bid': 2921.18,\n",
       "    'Ask Volume': 10.0,\n",
       "    'Bid Volume': 20.484386,\n",
       "    'Spread': 2.9200000000000728,\n",
       "    'Close Price': 2921.67},\n",
       "   'LTC': {'Ask': 2121.2,\n",
       "    'Bid': 2116.3,\n",
       "    'Ask Volume': 10.72,\n",
       "    'Bid Volume': 10.72,\n",
       "    'Spread': 4.899999999999636,\n",
       "    'Close Price': 2116.3}},\n",
       "  '2022-04-29T02:49:23.000Z': {'BTC': {'Ask': 39723.78,\n",
       "    'Bid': 39687.02,\n",
       "    'Ask Volume': 1.0,\n",
       "    'Bid Volume': 1.0,\n",
       "    'Spread': 36.76000000000204,\n",
       "    'Close Price': 39694.92},\n",
       "   'ETH': {'Ask': 2923.36,\n",
       "    'Bid': 2920.37,\n",
       "    'Ask Volume': 0.0088,\n",
       "    'Bid Volume': 65.645387,\n",
       "    'Spread': 2.9900000000002365,\n",
       "    'Close Price': 2920.97},\n",
       "   'LTC': {'Ask': 2120.5,\n",
       "    'Bid': 2120.2,\n",
       "    'Ask Volume': 10.72,\n",
       "    'Bid Volume': 0.20452315,\n",
       "    'Spread': 0.3000000000001819,\n",
       "    'Close Price': 2120.5}},\n",
       "  '2022-04-29T02:50:26.000Z': {'BTC': {'Ask': 39712.22,\n",
       "    'Bid': 39678.97,\n",
       "    'Ask Volume': 1.0,\n",
       "    'Bid Volume': 1.0,\n",
       "    'Spread': 33.25,\n",
       "    'Close Price': 39712.22},\n",
       "   'ETH': {'Ask': 2923.14,\n",
       "    'Bid': 2919.37,\n",
       "    'Ask Volume': 10.0,\n",
       "    'Bid Volume': 0.0405,\n",
       "    'Spread': 3.769999999999982,\n",
       "    'Close Price': 2918.68},\n",
       "   'LTC': {'Ask': 2120.5,\n",
       "    'Bid': 2120.2,\n",
       "    'Ask Volume': 10.66199481,\n",
       "    'Bid Volume': 0.20452315,\n",
       "    'Spread': 0.3000000000001819,\n",
       "    'Close Price': 2120.5}},\n",
       "  '2022-04-29T02:51:30.000Z': {'BTC': {'Ask': 39711.7,\n",
       "    'Bid': 39678.97,\n",
       "    'Ask Volume': 3.0,\n",
       "    'Bid Volume': 1.0,\n",
       "    'Spread': 32.729999999995925,\n",
       "    'Close Price': 39711.7},\n",
       "   'ETH': {'Ask': 2922.43,\n",
       "    'Bid': 2918.68,\n",
       "    'Ask Volume': 0.0069,\n",
       "    'Bid Volume': 0.0608,\n",
       "    'Spread': 3.75,\n",
       "    'Close Price': 2918.68},\n",
       "   'LTC': {'Ask': 2120.5,\n",
       "    'Bid': 2120.2,\n",
       "    'Ask Volume': 10.66199481,\n",
       "    'Bid Volume': 0.20385226,\n",
       "    'Spread': 0.3000000000001819,\n",
       "    'Close Price': 2120.2}},\n",
       "  '2022-04-29T02:52:33.000Z': {'BTC': {'Ask': 39712.22,\n",
       "    'Bid': 39678.97,\n",
       "    'Ask Volume': 0.99896631,\n",
       "    'Bid Volume': 1.0,\n",
       "    'Spread': 33.25,\n",
       "    'Close Price': 39711.7},\n",
       "   'ETH': {'Ask': 2921.81,\n",
       "    'Bid': 2918.45,\n",
       "    'Ask Volume': 10.0,\n",
       "    'Bid Volume': 65.84015219,\n",
       "    'Spread': 3.3600000000001273,\n",
       "    'Close Price': 2918.45},\n",
       "   'LTC': {'Ask': 2120.5,\n",
       "    'Bid': 2120.2,\n",
       "    'Ask Volume': 10.66199481,\n",
       "    'Bid Volume': 0.20385226,\n",
       "    'Spread': 0.3000000000001819,\n",
       "    'Close Price': 2120.2}},\n",
       "  '2022-04-29T02:53:35.000Z': {'BTC': {'Ask': 39710.35,\n",
       "    'Bid': 39669.79,\n",
       "    'Ask Volume': 5.0,\n",
       "    'Bid Volume': 1.0,\n",
       "    'Spread': 40.55999999999767,\n",
       "    'Close Price': 39711.24},\n",
       "   'ETH': {'Ask': 2920.07,\n",
       "    'Bid': 2917.3,\n",
       "    'Ask Volume': 10.0,\n",
       "    'Bid Volume': 10.0,\n",
       "    'Spread': 2.769999999999982,\n",
       "    'Close Price': 2918.45},\n",
       "   'LTC': {'Ask': 2120.5,\n",
       "    'Bid': 2116.3,\n",
       "    'Ask Volume': 10.66199481,\n",
       "    'Bid Volume': 20.02685226,\n",
       "    'Spread': 4.199999999999818,\n",
       "    'Close Price': 2116.3}},\n",
       "  '2022-04-29T02:54:38.000Z': {'BTC': {'Ask': 39677.35,\n",
       "    'Bid': 39640.66,\n",
       "    'Ask Volume': 3.0,\n",
       "    'Bid Volume': 1.0,\n",
       "    'Spread': 36.68999999999505,\n",
       "    'Close Price': 39711.24},\n",
       "   'ETH': {'Ask': 2917.65,\n",
       "    'Bid': 2914.92,\n",
       "    'Ask Volume': 10.0,\n",
       "    'Bid Volume': 44.187261,\n",
       "    'Spread': 2.730000000000018,\n",
       "    'Close Price': 2918.45},\n",
       "   'LTC': {'Ask': 2122.18,\n",
       "    'Bid': 2113.18,\n",
       "    'Ask Volume': 20.123,\n",
       "    'Bid Volume': 20.123,\n",
       "    'Spread': 9.0,\n",
       "    'Close Price': 2116.3}},\n",
       "  '2022-04-29T02:55:40.000Z': {'BTC': {'Ask': 39636.76,\n",
       "    'Bid': 39595.14,\n",
       "    'Ask Volume': 3.0,\n",
       "    'Bid Volume': 1.0,\n",
       "    'Spread': 41.62000000000262,\n",
       "    'Close Price': 39711.24},\n",
       "   'ETH': {'Ask': 2915.39,\n",
       "    'Bid': 2912.22,\n",
       "    'Ask Volume': 10.0,\n",
       "    'Bid Volume': 10.0,\n",
       "    'Spread': 3.1700000000000728,\n",
       "    'Close Price': 2918.45},\n",
       "   'LTC': {'Ask': 2119.48,\n",
       "    'Bid': 2111.6,\n",
       "    'Ask Volume': 36.45,\n",
       "    'Bid Volume': 10.72,\n",
       "    'Spread': 7.880000000000109,\n",
       "    'Close Price': 2116.3}},\n",
       "  '2022-04-29T02:56:42.000Z': {'BTC': {'Ask': 39570.14,\n",
       "    'Bid': 39534.44,\n",
       "    'Ask Volume': 1.0,\n",
       "    'Bid Volume': 3.0,\n",
       "    'Spread': 35.69999999999709,\n",
       "    'Close Price': 39711.24},\n",
       "   'ETH': {'Ask': 2913.47,\n",
       "    'Bid': 2909.8,\n",
       "    'Ask Volume': 25.0,\n",
       "    'Bid Volume': 28.796907,\n",
       "    'Spread': 3.669999999999618,\n",
       "    'Close Price': 2911.49},\n",
       "   'LTC': {'Ask': 2117.69,\n",
       "    'Bid': 2108.4,\n",
       "    'Ask Volume': 370.65,\n",
       "    'Bid Volume': 10.72,\n",
       "    'Spread': 9.289999999999964,\n",
       "    'Close Price': 2119.02}},\n",
       "  '2022-04-29T02:57:45.000Z': {'BTC': {'Ask': 39521.89,\n",
       "    'Bid': 39484.15,\n",
       "    'Ask Volume': 3.0,\n",
       "    'Bid Volume': 3.0,\n",
       "    'Spread': 37.73999999999796,\n",
       "    'Close Price': 39499.85},\n",
       "   'ETH': {'Ask': 2909.38,\n",
       "    'Bid': 2906.34,\n",
       "    'Ask Volume': 10.0,\n",
       "    'Bid Volume': 1.057492,\n",
       "    'Spread': 3.0399999999999636,\n",
       "    'Close Price': 2906.33},\n",
       "   'LTC': {'Ask': 2116.62,\n",
       "    'Bid': 2108.21,\n",
       "    'Ask Volume': 20.123,\n",
       "    'Bid Volume': 20.123,\n",
       "    'Spread': 8.409999999999854,\n",
       "    'Close Price': 2119.02}},\n",
       "  '2022-04-29T02:58:47.000Z': {'BTC': {'Ask': 39544.03,\n",
       "    'Bid': 39502.55,\n",
       "    'Ask Volume': 4.0,\n",
       "    'Bid Volume': 2.9987619,\n",
       "    'Spread': 41.479999999995925,\n",
       "    'Close Price': 39502.55},\n",
       "   'ETH': {'Ask': 2911.53,\n",
       "    'Bid': 2908.48,\n",
       "    'Ask Volume': 10.0,\n",
       "    'Bid Volume': 10.0,\n",
       "    'Spread': 3.050000000000182,\n",
       "    'Close Price': 2906.33},\n",
       "   'LTC': {'Ask': 2115.0,\n",
       "    'Bid': 2111.5,\n",
       "    'Ask Volume': 1.0,\n",
       "    'Bid Volume': 10.72,\n",
       "    'Spread': 3.5,\n",
       "    'Close Price': 2119.02}},\n",
       "  '2022-04-29T02:59:48.000Z': {'BTC': {'Ask': 39547.15,\n",
       "    'Bid': 39511.01,\n",
       "    'Ask Volume': 3.0,\n",
       "    'Bid Volume': 1.0,\n",
       "    'Spread': 36.13999999999942,\n",
       "    'Close Price': 39502.55},\n",
       "   'ETH': {'Ask': 2911.64,\n",
       "    'Bid': 2908.33,\n",
       "    'Ask Volume': 10.0,\n",
       "    'Bid Volume': 10.0,\n",
       "    'Spread': 3.3099999999999454,\n",
       "    'Close Price': 2912.12},\n",
       "   'LTC': {'Ask': 2115.0,\n",
       "    'Bid': 2110.61,\n",
       "    'Ask Volume': 1.0,\n",
       "    'Bid Volume': 20.123,\n",
       "    'Spread': 4.389999999999873,\n",
       "    'Close Price': 2119.02}},\n",
       "  '2022-04-29T03:00:51.000Z': {'BTC': {'Ask': 39516.71,\n",
       "    'Bid': 39478.27,\n",
       "    'Ask Volume': 1.0,\n",
       "    'Bid Volume': 1.0,\n",
       "    'Spread': 38.44000000000233,\n",
       "    'Close Price': 39502.55},\n",
       "   'ETH': {'Ask': 2911.15,\n",
       "    'Bid': 2908.25,\n",
       "    'Ask Volume': 10.0,\n",
       "    'Bid Volume': 10.0,\n",
       "    'Spread': 2.900000000000091,\n",
       "    'Close Price': 2912.12},\n",
       "   'LTC': {'Ask': 2112.0,\n",
       "    'Bid': 2107.8,\n",
       "    'Ask Volume': 1.443554,\n",
       "    'Bid Volume': 20.0,\n",
       "    'Spread': 4.199999999999818,\n",
       "    'Close Price': 2119.02}},\n",
       "  '2022-04-29T03:01:53.000Z': {'BTC': {'Ask': 39514.97,\n",
       "    'Bid': 39482.56,\n",
       "    'Ask Volume': 1.0,\n",
       "    'Bid Volume': 5.0,\n",
       "    'Spread': 32.41000000000349,\n",
       "    'Close Price': 39487.86},\n",
       "   'ETH': {'Ask': 2911.82,\n",
       "    'Bid': 2907.62,\n",
       "    'Ask Volume': 10.0,\n",
       "    'Bid Volume': 10.0,\n",
       "    'Spread': 4.200000000000273,\n",
       "    'Close Price': 2912.12},\n",
       "   'LTC': {'Ask': 2112.0,\n",
       "    'Bid': 2107.8,\n",
       "    'Ask Volume': 1.31950097,\n",
       "    'Bid Volume': 30.72,\n",
       "    'Spread': 4.199999999999818,\n",
       "    'Close Price': 2112.0}},\n",
       "  '2022-04-29T03:02:55.000Z': {'BTC': {'Ask': 39530.05,\n",
       "    'Bid': 39493.08,\n",
       "    'Ask Volume': 3.0,\n",
       "    'Bid Volume': 1.0,\n",
       "    'Spread': 36.970000000001164,\n",
       "    'Close Price': 39487.86},\n",
       "   'ETH': {'Ask': 2911.69,\n",
       "    'Bid': 2907.95,\n",
       "    'Ask Volume': 10.0,\n",
       "    'Bid Volume': 10.0,\n",
       "    'Spread': 3.7400000000002365,\n",
       "    'Close Price': 2910.13},\n",
       "   'LTC': {'Ask': 2112.0,\n",
       "    'Bid': 2107.54,\n",
       "    'Ask Volume': 1.31950097,\n",
       "    'Bid Volume': 0.4,\n",
       "    'Spread': 4.460000000000036,\n",
       "    'Close Price': 2112.0}},\n",
       "  '2022-04-29T03:03:56.000Z': {'BTC': {'Ask': 39568.71,\n",
       "    'Bid': 39526.22,\n",
       "    'Ask Volume': 1.0,\n",
       "    'Bid Volume': 1.0,\n",
       "    'Spread': 42.48999999999796,\n",
       "    'Close Price': 39487.86},\n",
       "   'ETH': {'Ask': 2914.9,\n",
       "    'Bid': 2912.06,\n",
       "    'Ask Volume': 10.0,\n",
       "    'Bid Volume': 10.0,\n",
       "    'Spread': 2.8400000000001455,\n",
       "    'Close Price': 2907.86},\n",
       "   'LTC': {'Ask': 2112.0,\n",
       "    'Bid': 2107.83,\n",
       "    'Ask Volume': 1.17745552,\n",
       "    'Bid Volume': 373.053,\n",
       "    'Spread': 4.170000000000073,\n",
       "    'Close Price': 2112.0}},\n",
       "  '2022-04-29T03:04:58.000Z': {'BTC': {'Ask': 39567.53,\n",
       "    'Bid': 39531.7,\n",
       "    'Ask Volume': 1.0,\n",
       "    'Bid Volume': 3.0,\n",
       "    'Spread': 35.830000000001746,\n",
       "    'Close Price': 39487.86},\n",
       "   'ETH': {'Ask': 2915.45,\n",
       "    'Bid': 2912.17,\n",
       "    'Ask Volume': 10.0,\n",
       "    'Bid Volume': 10.0,\n",
       "    'Spread': 3.2799999999997453,\n",
       "    'Close Price': 2912.76},\n",
       "   'LTC': {'Ask': 2112.0,\n",
       "    'Bid': 2108.01,\n",
       "    'Ask Volume': 1.17745552,\n",
       "    'Bid Volume': 20.123,\n",
       "    'Spread': 3.9899999999997817,\n",
       "    'Close Price': 2112.0}},\n",
       "  '2022-04-29T03:06:01.000Z': {'BTC': {'Ask': 39544.11,\n",
       "    'Bid': 39509.5,\n",
       "    'Ask Volume': 3.0,\n",
       "    'Bid Volume': 1.0,\n",
       "    'Spread': 34.61000000000058,\n",
       "    'Close Price': 39538.5},\n",
       "   'ETH': {'Ask': 2914.48,\n",
       "    'Bid': 2910.71,\n",
       "    'Ask Volume': 10.0,\n",
       "    'Bid Volume': 0.1247,\n",
       "    'Spread': 3.769999999999982,\n",
       "    'Close Price': 2909.32},\n",
       "   'LTC': {'Ask': 2112.0,\n",
       "    'Bid': 2107.51,\n",
       "    'Ask Volume': 1.17745552,\n",
       "    'Bid Volume': 20.0,\n",
       "    'Spread': 4.489999999999782,\n",
       "    'Close Price': 2112.0}},\n",
       "  '2022-04-29T03:07:03.000Z': {'BTC': {'Ask': 39548.42,\n",
       "    'Bid': 39501.69,\n",
       "    'Ask Volume': 1.0,\n",
       "    'Bid Volume': 5.0,\n",
       "    'Spread': 46.729999999995925,\n",
       "    'Close Price': 39538.5},\n",
       "   'ETH': {'Ask': 2915.0,\n",
       "    'Bid': 2911.63,\n",
       "    'Ask Volume': 10.0,\n",
       "    'Bid Volume': 0.0712,\n",
       "    'Spread': 3.369999999999891,\n",
       "    'Close Price': 2909.32},\n",
       "   'LTC': {'Ask': 2112.0,\n",
       "    'Bid': 2107.51,\n",
       "    'Ask Volume': 1.17745552,\n",
       "    'Bid Volume': 20.0,\n",
       "    'Spread': 4.489999999999782,\n",
       "    'Close Price': 2112.0}},\n",
       "  '2022-04-29T03:08:05.000Z': {'BTC': {'Ask': 39542.08,\n",
       "    'Bid': 39502.02,\n",
       "    'Ask Volume': 3.0,\n",
       "    'Bid Volume': 1.0,\n",
       "    'Spread': 40.06000000000495,\n",
       "    'Close Price': 39523.26},\n",
       "   'ETH': {'Ask': 2914.76,\n",
       "    'Bid': 2910.97,\n",
       "    'Ask Volume': 10.0,\n",
       "    'Bid Volume': 0.2463,\n",
       "    'Spread': 3.7900000000004184,\n",
       "    'Close Price': 2909.32},\n",
       "   'LTC': {'Ask': 2114.0,\n",
       "    'Bid': 2112.0,\n",
       "    'Ask Volume': 10.72,\n",
       "    'Bid Volume': 1.18996872,\n",
       "    'Spread': 2.0,\n",
       "    'Close Price': 2112.0}},\n",
       "  '2022-04-29T03:09:07.000Z': {'BTC': {'Ask': 39533.33,\n",
       "    'Bid': 39502.94,\n",
       "    'Ask Volume': 1.0,\n",
       "    'Bid Volume': 1.0,\n",
       "    'Spread': 30.389999999999418,\n",
       "    'Close Price': 39523.26},\n",
       "   'ETH': {'Ask': 2914.62,\n",
       "    'Bid': 2911.01,\n",
       "    'Ask Volume': 10.0,\n",
       "    'Bid Volume': 0.1642,\n",
       "    'Spread': 3.6099999999996726,\n",
       "    'Close Price': 2909.32},\n",
       "   'LTC': {'Ask': 2114.0,\n",
       "    'Bid': 2112.0,\n",
       "    'Ask Volume': 10.15235572,\n",
       "    'Bid Volume': 0.18474881,\n",
       "    'Spread': 2.0,\n",
       "    'Close Price': 2114.0}},\n",
       "  '2022-04-29T03:10:09.000Z': {'BTC': {'Ask': 39520.91,\n",
       "    'Bid': 39485.84,\n",
       "    'Ask Volume': 1.0,\n",
       "    'Bid Volume': 1.0,\n",
       "    'Spread': 35.070000000006985,\n",
       "    'Close Price': 39539.88},\n",
       "   'ETH': {'Ask': 2913.4,\n",
       "    'Bid': 2910.79,\n",
       "    'Ask Volume': 10.0,\n",
       "    'Bid Volume': 0.4058,\n",
       "    'Spread': 2.6100000000001273,\n",
       "    'Close Price': 2909.32},\n",
       "   'LTC': {'Ask': 2114.54,\n",
       "    'Bid': 2107.7,\n",
       "    'Ask Volume': 20.123,\n",
       "    'Bid Volume': 0.4,\n",
       "    'Spread': 6.8400000000001455,\n",
       "    'Close Price': 2108.7}},\n",
       "  '2022-04-29T03:11:12.000Z': {'BTC': {'Ask': 39503.98,\n",
       "    'Bid': 39466.04,\n",
       "    'Ask Volume': 3.0,\n",
       "    'Bid Volume': 1.0,\n",
       "    'Spread': 37.94000000000233,\n",
       "    'Close Price': 39539.88},\n",
       "   'ETH': {'Ask': 2913.44,\n",
       "    'Bid': 2910.19,\n",
       "    'Ask Volume': 10.0,\n",
       "    'Bid Volume': 0.3326,\n",
       "    'Spread': 3.25,\n",
       "    'Close Price': 2909.32},\n",
       "   'LTC': {'Ask': 2114.06,\n",
       "    'Bid': 2108.16,\n",
       "    'Ask Volume': 390.743,\n",
       "    'Bid Volume': 0.4,\n",
       "    'Spread': 5.900000000000091,\n",
       "    'Close Price': 2114.38}},\n",
       "  '2022-04-29T03:12:14.000Z': {'BTC': {'Ask': 39497.27,\n",
       "    'Bid': 39459.91,\n",
       "    'Ask Volume': 3.0,\n",
       "    'Bid Volume': 1.0,\n",
       "    'Spread': 37.359999999993306,\n",
       "    'Close Price': 39539.88},\n",
       "   'ETH': {'Ask': 2913.43,\n",
       "    'Bid': 2909.8,\n",
       "    'Ask Volume': 10.0,\n",
       "    'Bid Volume': 3.049258,\n",
       "    'Spread': 3.6299999999996544,\n",
       "    'Close Price': 2913.49},\n",
       "   'LTC': {'Ask': 2114.85,\n",
       "    'Bid': 2108.17,\n",
       "    'Ask Volume': 363.9,\n",
       "    'Bid Volume': 20.123,\n",
       "    'Spread': 6.679999999999836,\n",
       "    'Close Price': 2114.38}},\n",
       "  '2022-04-29T03:13:16.000Z': {'BTC': {'Ask': 39427.4,\n",
       "    'Bid': 39395.22,\n",
       "    'Ask Volume': 5.0,\n",
       "    'Bid Volume': 1.6e-05,\n",
       "    'Spread': 32.18000000000029,\n",
       "    'Close Price': 39436.05},\n",
       "   'ETH': {'Ask': 2909.74,\n",
       "    'Bid': 2905.13,\n",
       "    'Ask Volume': 10.0,\n",
       "    'Bid Volume': 0.3328,\n",
       "    'Spread': 4.609999999999673,\n",
       "    'Close Price': 2909.8},\n",
       "   'LTC': {'Ask': 2117.84,\n",
       "    'Bid': 2104.1,\n",
       "    'Ask Volume': 265.58515,\n",
       "    'Bid Volume': 10.72,\n",
       "    'Spread': 13.740000000000236,\n",
       "    'Close Price': 2114.73}},\n",
       "  '2022-04-29T03:14:18.000Z': {'BTC': {'Ask': 39407.61,\n",
       "    'Bid': 39366.85,\n",
       "    'Ask Volume': 1.0,\n",
       "    'Bid Volume': 5.0,\n",
       "    'Spread': 40.76000000000204,\n",
       "    'Close Price': 39468.67},\n",
       "   'ETH': {'Ask': 2910.99,\n",
       "    'Bid': 2906.5,\n",
       "    'Ask Volume': 10.0,\n",
       "    'Bid Volume': 0.3888,\n",
       "    'Spread': 4.489999999999782,\n",
       "    'Close Price': 2906.8},\n",
       "   'LTC': {'Ask': 2110.71,\n",
       "    'Bid': 2101.81,\n",
       "    'Ask Volume': 63.2,\n",
       "    'Bid Volume': 20.123,\n",
       "    'Spread': 8.900000000000091,\n",
       "    'Close Price': 2114.73}},\n",
       "  '2022-04-29T03:15:20.000Z': {'BTC': {'Ask': 39384.63,\n",
       "    'Bid': 39347.21,\n",
       "    'Ask Volume': 1.0,\n",
       "    'Bid Volume': 1.0,\n",
       "    'Spread': 37.419999999998254,\n",
       "    'Close Price': 39373.85},\n",
       "   'ETH': {'Ask': 2908.3,\n",
       "    'Bid': 2906.14,\n",
       "    'Ask Volume': 10.0,\n",
       "    'Bid Volume': 16.467927,\n",
       "    'Spread': 2.1600000000003092,\n",
       "    'Close Price': 2906.8},\n",
       "   'LTC': {'Ask': 2108.18,\n",
       "    'Bid': 2100.92,\n",
       "    'Ask Volume': 20.123,\n",
       "    'Bid Volume': 0.1020648,\n",
       "    'Spread': 7.2599999999997635,\n",
       "    'Close Price': 2114.73}},\n",
       "  '2022-04-29T03:16:22.000Z': {'BTC': {'Ask': 39388.67,\n",
       "    'Bid': 39351.09,\n",
       "    'Ask Volume': 1.0,\n",
       "    'Bid Volume': 1.0,\n",
       "    'Spread': 37.580000000001746,\n",
       "    'Close Price': 39373.85},\n",
       "   'ETH': {'Ask': 2909.9,\n",
       "    'Bid': 2903.96,\n",
       "    'Ask Volume': 39.94517,\n",
       "    'Bid Volume': 10.0,\n",
       "    'Spread': 5.940000000000055,\n",
       "    'Close Price': 2907.83},\n",
       "   'LTC': {'Ask': 2100.92,\n",
       "    'Bid': 2097.81,\n",
       "    'Ask Volume': 1.0,\n",
       "    'Bid Volume': 20.123,\n",
       "    'Spread': 3.1100000000001273,\n",
       "    'Close Price': 2114.73}},\n",
       "  '2022-04-29T03:17:26.000Z': {'BTC': {'Ask': 39448.37,\n",
       "    'Bid': 39410.3,\n",
       "    'Ask Volume': 3.0,\n",
       "    'Bid Volume': 1.0,\n",
       "    'Spread': 38.06999999999971,\n",
       "    'Close Price': 39373.85},\n",
       "   'ETH': {'Ask': 2911.21,\n",
       "    'Bid': 2907.83,\n",
       "    'Ask Volume': 0.1419,\n",
       "    'Bid Volume': 0.2744,\n",
       "    'Spread': 3.380000000000109,\n",
       "    'Close Price': 2907.83},\n",
       "   'LTC': {'Ask': 2104.77,\n",
       "    'Bid': 2098.5,\n",
       "    'Ask Volume': 20.123,\n",
       "    'Bid Volume': 10.72,\n",
       "    'Spread': 6.269999999999982,\n",
       "    'Close Price': 2098.48}},\n",
       "  '2022-04-29T03:18:28.000Z': {'BTC': {'Ask': 39437.15,\n",
       "    'Bid': 39399.63,\n",
       "    'Ask Volume': 1.0,\n",
       "    'Bid Volume': 1.0,\n",
       "    'Spread': 37.520000000004075,\n",
       "    'Close Price': 39416.59},\n",
       "   'ETH': {'Ask': 2910.74,\n",
       "    'Bid': 2907.72,\n",
       "    'Ask Volume': 0.4323,\n",
       "    'Bid Volume': 67.080665,\n",
       "    'Spread': 3.019999999999982,\n",
       "    'Close Price': 2907.83},\n",
       "   'LTC': {'Ask': 2104.72,\n",
       "    'Bid': 2099.8,\n",
       "    'Ask Volume': 20.123,\n",
       "    'Bid Volume': 10.72,\n",
       "    'Spread': 4.919999999999618,\n",
       "    'Close Price': 2098.48}},\n",
       "  '2022-04-29T03:19:30.000Z': {'BTC': {'Ask': 39455.54,\n",
       "    'Bid': 39414.35,\n",
       "    'Ask Volume': 1.0,\n",
       "    'Bid Volume': 5.0,\n",
       "    'Spread': 41.19000000000233,\n",
       "    'Close Price': 39456.95},\n",
       "   'ETH': {'Ask': 2911.93,\n",
       "    'Bid': 2908.4,\n",
       "    'Ask Volume': 0.3221,\n",
       "    'Bid Volume': 10.0,\n",
       "    'Spread': 3.5299999999997453,\n",
       "    'Close Price': 2907.83},\n",
       "   'LTC': {'Ask': 2105.39,\n",
       "    'Bid': 2099.8,\n",
       "    'Ask Volume': 20.123,\n",
       "    'Bid Volume': 10.72,\n",
       "    'Spread': 5.589999999999691,\n",
       "    'Close Price': 2098.48}},\n",
       "  '2022-04-29T03:20:32.000Z': {'BTC': {'Ask': 39455.0,\n",
       "    'Bid': 39429.23,\n",
       "    'Ask Volume': 0.07840156,\n",
       "    'Bid Volume': 1.0,\n",
       "    'Spread': 25.7699999999968,\n",
       "    'Close Price': 39414.35},\n",
       "   'ETH': {'Ask': 2915.02,\n",
       "    'Bid': 2910.4,\n",
       "    'Ask Volume': 0.2598,\n",
       "    'Bid Volume': 10.0,\n",
       "    'Spread': 4.619999999999891,\n",
       "    'Close Price': 2907.83},\n",
       "   'LTC': {'Ask': 2105.8,\n",
       "    'Bid': 2100.5,\n",
       "    'Ask Volume': 10.72,\n",
       "    'Bid Volume': 10.72,\n",
       "    'Spread': 5.300000000000182,\n",
       "    'Close Price': 2099.8}},\n",
       "  '2022-04-29T03:21:34.000Z': {'BTC': {'Ask': 39439.42,\n",
       "    'Bid': 39401.05,\n",
       "    'Ask Volume': 1.0,\n",
       "    'Bid Volume': 1.0,\n",
       "    'Spread': 38.36999999999534,\n",
       "    'Close Price': 39414.35},\n",
       "   'ETH': {'Ask': 2914.0,\n",
       "    'Bid': 2910.52,\n",
       "    'Ask Volume': 0.3867,\n",
       "    'Bid Volume': 10.0,\n",
       "    'Spread': 3.480000000000018,\n",
       "    'Close Price': 2911.93},\n",
       "   'LTC': {'Ask': 2099.4,\n",
       "    'Bid': 2094.1,\n",
       "    'Ask Volume': 10.72,\n",
       "    'Bid Volume': 10.72,\n",
       "    'Spread': 5.300000000000182,\n",
       "    'Close Price': 2104.39}},\n",
       "  '2022-04-29T03:22:36.000Z': {'BTC': {'Ask': 39458.32,\n",
       "    'Bid': 39416.3,\n",
       "    'Ask Volume': 3.0,\n",
       "    'Bid Volume': 5.0,\n",
       "    'Spread': 42.0199999999968,\n",
       "    'Close Price': 39450.76},\n",
       "   'ETH': {'Ask': 2915.4,\n",
       "    'Bid': 2912.39,\n",
       "    'Ask Volume': 10.0,\n",
       "    'Bid Volume': 0.0548,\n",
       "    'Spread': 3.0100000000002183,\n",
       "    'Close Price': 2911.93},\n",
       "   'LTC': {'Ask': 2107.92,\n",
       "    'Bid': 2099.7,\n",
       "    'Ask Volume': 20.123,\n",
       "    'Bid Volume': 30.843,\n",
       "    'Spread': 8.220000000000255,\n",
       "    'Close Price': 2094.1}},\n",
       "  '2022-04-29T03:23:38.000Z': {'BTC': {'Ask': 39468.52,\n",
       "    'Bid': 39429.33,\n",
       "    'Ask Volume': 3.0,\n",
       "    'Bid Volume': 1.0,\n",
       "    'Spread': 39.18999999999505,\n",
       "    'Close Price': 39458.32},\n",
       "   'ETH': {'Ask': 2919.17,\n",
       "    'Bid': 2915.47,\n",
       "    'Ask Volume': 0.4084,\n",
       "    'Bid Volume': 10.0,\n",
       "    'Spread': 3.700000000000273,\n",
       "    'Close Price': 2911.93},\n",
       "   'LTC': {'Ask': 2106.09,\n",
       "    'Bid': 2100.41,\n",
       "    'Ask Volume': 0.4,\n",
       "    'Bid Volume': 539.3,\n",
       "    'Spread': 5.680000000000291,\n",
       "    'Close Price': 2107.05}},\n",
       "  '2022-04-29T03:24:41.000Z': {'BTC': {'Ask': 39472.54,\n",
       "    'Bid': 39429.33,\n",
       "    'Ask Volume': 1.0,\n",
       "    'Bid Volume': 1.0,\n",
       "    'Spread': 43.20999999999913,\n",
       "    'Close Price': 39417.97},\n",
       "   'ETH': {'Ask': 2917.65,\n",
       "    'Bid': 2914.99,\n",
       "    'Ask Volume': 0.3359,\n",
       "    'Bid Volume': 42.880758,\n",
       "    'Spread': 2.6600000000003092,\n",
       "    'Close Price': 2917.46},\n",
       "   'LTC': {'Ask': 2108.59,\n",
       "    'Bid': 2101.91,\n",
       "    'Ask Volume': 20.123,\n",
       "    'Bid Volume': 459.04,\n",
       "    'Spread': 6.680000000000291,\n",
       "    'Close Price': 2107.05}},\n",
       "  '2022-04-29T03:25:43.000Z': {'BTC': {'Ask': 39440.32,\n",
       "    'Bid': 39400.31,\n",
       "    'Ask Volume': 3.0,\n",
       "    'Bid Volume': 3.0,\n",
       "    'Spread': 40.01000000000204,\n",
       "    'Close Price': 39417.97},\n",
       "   'ETH': {'Ask': 2917.5,\n",
       "    'Bid': 2914.26,\n",
       "    'Ask Volume': 0.4226,\n",
       "    'Bid Volume': 21.27924965,\n",
       "    'Spread': 3.2399999999997817,\n",
       "    'Close Price': 2917.46},\n",
       "   'LTC': {'Ask': 2110.17,\n",
       "    'Bid': 2102.5,\n",
       "    'Ask Volume': 20.123,\n",
       "    'Bid Volume': 10.72,\n",
       "    'Spread': 7.670000000000073,\n",
       "    'Close Price': 2107.05}},\n",
       "  '2022-04-29T03:26:45.000Z': {'BTC': {'Ask': 39439.33,\n",
       "    'Bid': 39404.64,\n",
       "    'Ask Volume': 0.95776805,\n",
       "    'Bid Volume': 3.0,\n",
       "    'Spread': 34.69000000000233,\n",
       "    'Close Price': 39390.5},\n",
       "   'ETH': {'Ask': 2917.49,\n",
       "    'Bid': 2914.2,\n",
       "    'Ask Volume': 10.0,\n",
       "    'Bid Volume': 0.0755,\n",
       "    'Spread': 3.2899999999999636,\n",
       "    'Close Price': 2914.26},\n",
       "   'LTC': {'Ask': 2108.0,\n",
       "    'Bid': 2105.99,\n",
       "    'Ask Volume': 0.5,\n",
       "    'Bid Volume': 452.07,\n",
       "    'Spread': 2.0100000000002183,\n",
       "    'Close Price': 2107.05}},\n",
       "  '2022-04-29T03:27:47.000Z': {'BTC': {'Ask': 39456.1,\n",
       "    'Bid': 39415.99,\n",
       "    'Ask Volume': 3.0,\n",
       "    'Bid Volume': 2.99998475,\n",
       "    'Spread': 40.11000000000058,\n",
       "    'Close Price': 39439.33},\n",
       "   'ETH': {'Ask': 2919.5,\n",
       "    'Bid': 2915.51,\n",
       "    'Ask Volume': 0.4263,\n",
       "    'Bid Volume': 5.748696,\n",
       "    'Spread': 3.9899999999997817,\n",
       "    'Close Price': 2914.26},\n",
       "   'LTC': {'Ask': 2108.0,\n",
       "    'Bid': 2106.2,\n",
       "    'Ask Volume': 0.44855313,\n",
       "    'Bid Volume': 10.72,\n",
       "    'Spread': 1.800000000000182,\n",
       "    'Close Price': 2107.05}},\n",
       "  '2022-04-29T03:28:50.000Z': {'BTC': {'Ask': 39464.48,\n",
       "    'Bid': 39423.67,\n",
       "    'Ask Volume': 1.0,\n",
       "    'Bid Volume': 1.0,\n",
       "    'Spread': 40.81000000000495,\n",
       "    'Close Price': 39415.99},\n",
       "   'ETH': {'Ask': 2919.59,\n",
       "    'Bid': 2916.14,\n",
       "    'Ask Volume': 0.2572,\n",
       "    'Bid Volume': 10.0,\n",
       "    'Spread': 3.450000000000273,\n",
       "    'Close Price': 2914.26},\n",
       "   'LTC': {'Ask': 2108.0,\n",
       "    'Bid': 2106.8,\n",
       "    'Ask Volume': 0.32120081,\n",
       "    'Bid Volume': 10.72,\n",
       "    'Spread': 1.199999999999818,\n",
       "    'Close Price': 2108.0}}},\n",
       " 'Kraken': {'2022-04-29T02:27:29.000Z': {'BTC': {'Ask': 39664.9,\n",
       "    'Bid': 39657.9,\n",
       "    'Ask Volume': 0.311,\n",
       "    'Bid Volume': 0.001,\n",
       "    'Spread': 7.0,\n",
       "    'Close Price': 39664.4},\n",
       "   'ETH': {'Ask': 2917.7,\n",
       "    'Bid': 2917.69,\n",
       "    'Ask Volume': 20.803,\n",
       "    'Bid Volume': 0.014,\n",
       "    'Spread': 0.009999999999763531,\n",
       "    'Close Price': 2918.64},\n",
       "   'LTC': {'Ask': 103.3,\n",
       "    'Bid': 103.29,\n",
       "    'Ask Volume': 38.021,\n",
       "    'Bid Volume': 0.449,\n",
       "    'Spread': 0.009999999999990905,\n",
       "    'Close Price': 103.45}},\n",
       "  '2022-04-29T02:28:31.000Z': {'BTC': {'Ask': 39690.7,\n",
       "    'Bid': 39683.4,\n",
       "    'Ask Volume': 0.048,\n",
       "    'Bid Volume': 0.605,\n",
       "    'Spread': 7.299999999995634,\n",
       "    'Close Price': 39664.4},\n",
       "   'ETH': {'Ask': 2918.64,\n",
       "    'Bid': 2918.63,\n",
       "    'Ask Volume': 0.046,\n",
       "    'Bid Volume': 76.747,\n",
       "    'Spread': 0.009999999999763531,\n",
       "    'Close Price': 2918.64},\n",
       "   'LTC': {'Ask': 103.46,\n",
       "    'Bid': 103.45,\n",
       "    'Ask Volume': 0.218,\n",
       "    'Bid Volume': 633.703,\n",
       "    'Spread': 0.009999999999990905,\n",
       "    'Close Price': 103.67}},\n",
       "  '2022-04-29T02:29:34.000Z': {'BTC': {'Ask': 39689.0,\n",
       "    'Bid': 39680.5,\n",
       "    'Ask Volume': 0.076,\n",
       "    'Bid Volume': 0.84,\n",
       "    'Spread': 8.5,\n",
       "    'Close Price': 39664.4},\n",
       "   'ETH': {'Ask': 2918.64,\n",
       "    'Bid': 2918.63,\n",
       "    'Ask Volume': 13.102,\n",
       "    'Bid Volume': 0.037,\n",
       "    'Spread': 0.009999999999763531,\n",
       "    'Close Price': 2918.99},\n",
       "   'LTC': {'Ask': 103.63,\n",
       "    'Bid': 103.62,\n",
       "    'Ask Volume': 4.276,\n",
       "    'Bid Volume': 72.341,\n",
       "    'Spread': 0.009999999999990905,\n",
       "    'Close Price': 103.67}},\n",
       "  '2022-04-29T02:30:37.000Z': {'BTC': {'Ask': 39672.8,\n",
       "    'Bid': 39663.6,\n",
       "    'Ask Volume': 0.235,\n",
       "    'Bid Volume': 0.235,\n",
       "    'Spread': 9.200000000004366,\n",
       "    'Close Price': 39664.4},\n",
       "   'ETH': {'Ask': 2917.53,\n",
       "    'Bid': 2917.52,\n",
       "    'Ask Volume': 100.087,\n",
       "    'Bid Volume': 0.027,\n",
       "    'Spread': 0.010000000000218279,\n",
       "    'Close Price': 2918.99},\n",
       "   'LTC': {'Ask': 103.67,\n",
       "    'Bid': 103.66,\n",
       "    'Ask Volume': 0.058,\n",
       "    'Bid Volume': 381.686,\n",
       "    'Spread': 0.010000000000005116,\n",
       "    'Close Price': 103.72}},\n",
       "  '2022-04-29T02:31:39.000Z': {'BTC': {'Ask': 39708.2,\n",
       "    'Bid': 39693.6,\n",
       "    'Ask Volume': 0.076,\n",
       "    'Bid Volume': 0.235,\n",
       "    'Spread': 14.599999999998545,\n",
       "    'Close Price': 39664.4},\n",
       "   'ETH': {'Ask': 2918.1,\n",
       "    'Bid': 2918.09,\n",
       "    'Ask Volume': 0.038,\n",
       "    'Bid Volume': 90.145,\n",
       "    'Spread': 0.009999999999763531,\n",
       "    'Close Price': 2918.1},\n",
       "   'LTC': {'Ask': 103.72,\n",
       "    'Bid': 103.67,\n",
       "    'Ask Volume': 42.936,\n",
       "    'Bid Volume': 77.108,\n",
       "    'Spread': 0.04999999999999716,\n",
       "    'Close Price': 103.67}},\n",
       "  '2022-04-29T02:32:42.000Z': {'BTC': {'Ask': 39696.2,\n",
       "    'Bid': 39687.0,\n",
       "    'Ask Volume': 0.069,\n",
       "    'Bid Volume': 0.06,\n",
       "    'Spread': 9.19999999999709,\n",
       "    'Close Price': 39681.5},\n",
       "   'ETH': {'Ask': 2918.42,\n",
       "    'Bid': 2918.41,\n",
       "    'Ask Volume': 0.02,\n",
       "    'Bid Volume': 104.055,\n",
       "    'Spread': 0.010000000000218279,\n",
       "    'Close Price': 2918.42},\n",
       "   'LTC': {'Ask': 103.68,\n",
       "    'Bid': 103.67,\n",
       "    'Ask Volume': 0.861,\n",
       "    'Bid Volume': 146.783,\n",
       "    'Spread': 0.010000000000005116,\n",
       "    'Close Price': 103.8}},\n",
       "  '2022-04-29T02:33:44.000Z': {'BTC': {'Ask': 39675.1,\n",
       "    'Bid': 39664.7,\n",
       "    'Ask Volume': 0.076,\n",
       "    'Bid Volume': 0.011,\n",
       "    'Spread': 10.400000000001455,\n",
       "    'Close Price': 39681.5},\n",
       "   'ETH': {'Ask': 2918.42,\n",
       "    'Bid': 2918.41,\n",
       "    'Ask Volume': 161.229,\n",
       "    'Bid Volume': 0.028,\n",
       "    'Spread': 0.010000000000218279,\n",
       "    'Close Price': 2916.15},\n",
       "   'LTC': {'Ask': 103.85,\n",
       "    'Bid': 103.84,\n",
       "    'Ask Volume': 0.251,\n",
       "    'Bid Volume': 123.275,\n",
       "    'Spread': 0.009999999999990905,\n",
       "    'Close Price': 103.74}},\n",
       "  '2022-04-29T02:34:46.000Z': {'BTC': {'Ask': 39691.9,\n",
       "    'Bid': 39681.3,\n",
       "    'Ask Volume': 0.076,\n",
       "    'Bid Volume': 0.011,\n",
       "    'Spread': 10.599999999998545,\n",
       "    'Close Price': 39681.5},\n",
       "   'ETH': {'Ask': 2917.51,\n",
       "    'Bid': 2917.5,\n",
       "    'Ask Volume': 0.035,\n",
       "    'Bid Volume': 51.461,\n",
       "    'Spread': 0.010000000000218279,\n",
       "    'Close Price': 2917.52},\n",
       "   'LTC': {'Ask': 103.89,\n",
       "    'Bid': 103.88,\n",
       "    'Ask Volume': 0.081,\n",
       "    'Bid Volume': 57.551,\n",
       "    'Spread': 0.010000000000005116,\n",
       "    'Close Price': 103.76}},\n",
       "  '2022-04-29T02:35:48.000Z': {'BTC': {'Ask': 39689.7,\n",
       "    'Bid': 39678.5,\n",
       "    'Ask Volume': 0.076,\n",
       "    'Bid Volume': 0.011,\n",
       "    'Spread': 11.19999999999709,\n",
       "    'Close Price': 39681.5},\n",
       "   'ETH': {'Ask': 2917.8,\n",
       "    'Bid': 2917.79,\n",
       "    'Ask Volume': 4.616,\n",
       "    'Bid Volume': 53.525,\n",
       "    'Spread': 0.010000000000218279,\n",
       "    'Close Price': 2917.52},\n",
       "   'LTC': {'Ask': 103.79,\n",
       "    'Bid': 103.73,\n",
       "    'Ask Volume': 313.259,\n",
       "    'Bid Volume': 143.538,\n",
       "    'Spread': 0.060000000000002274,\n",
       "    'Close Price': 103.78}},\n",
       "  '2022-04-29T02:36:51.000Z': {'BTC': {'Ask': 39681.7,\n",
       "    'Bid': 39672.5,\n",
       "    'Ask Volume': 0.235,\n",
       "    'Bid Volume': 0.011,\n",
       "    'Spread': 9.19999999999709,\n",
       "    'Close Price': 39677.6},\n",
       "   'ETH': {'Ask': 2917.8,\n",
       "    'Bid': 2917.79,\n",
       "    'Ask Volume': 105.023,\n",
       "    'Bid Volume': 0.013,\n",
       "    'Spread': 0.010000000000218279,\n",
       "    'Close Price': 2917.52},\n",
       "   'LTC': {'Ask': 103.66,\n",
       "    'Bid': 103.63,\n",
       "    'Ask Volume': 5.631,\n",
       "    'Bid Volume': 101.289,\n",
       "    'Spread': 0.030000000000001137,\n",
       "    'Close Price': 103.66}},\n",
       "  '2022-04-29T02:37:54.000Z': {'BTC': {'Ask': 39686.0,\n",
       "    'Bid': 39676.5,\n",
       "    'Ask Volume': 0.235,\n",
       "    'Bid Volume': 0.011,\n",
       "    'Spread': 9.5,\n",
       "    'Close Price': 39677.6},\n",
       "   'ETH': {'Ask': 2917.8,\n",
       "    'Bid': 2917.79,\n",
       "    'Ask Volume': 87.748,\n",
       "    'Bid Volume': 0.006,\n",
       "    'Spread': 0.010000000000218279,\n",
       "    'Close Price': 2917.8},\n",
       "   'LTC': {'Ask': 103.59,\n",
       "    'Bid': 103.56,\n",
       "    'Ask Volume': 10.0,\n",
       "    'Bid Volume': 48.0,\n",
       "    'Spread': 0.030000000000001137,\n",
       "    'Close Price': 103.66}},\n",
       "  '2022-04-29T02:38:57.000Z': {'BTC': {'Ask': 39681.3,\n",
       "    'Bid': 39670.6,\n",
       "    'Ask Volume': 0.076,\n",
       "    'Bid Volume': 0.011,\n",
       "    'Spread': 10.700000000004366,\n",
       "    'Close Price': 39677.6},\n",
       "   'ETH': {'Ask': 2918.1,\n",
       "    'Bid': 2918.09,\n",
       "    'Ask Volume': 4.448,\n",
       "    'Bid Volume': 69.968,\n",
       "    'Spread': 0.009999999999763531,\n",
       "    'Close Price': 2918.1},\n",
       "   'LTC': {'Ask': 103.4,\n",
       "    'Bid': 103.36,\n",
       "    'Ask Volume': 29.023,\n",
       "    'Bid Volume': 106.359,\n",
       "    'Spread': 0.04000000000000625,\n",
       "    'Close Price': 103.66}},\n",
       "  '2022-04-29T02:40:00.000Z': {'BTC': {'Ask': 39683.3,\n",
       "    'Bid': 39672.5,\n",
       "    'Ask Volume': 0.07,\n",
       "    'Bid Volume': 0.765,\n",
       "    'Spread': 10.80000000000291,\n",
       "    'Close Price': 39677.6},\n",
       "   'ETH': {'Ask': 2918.1,\n",
       "    'Bid': 2918.09,\n",
       "    'Ask Volume': 90.681,\n",
       "    'Bid Volume': 0.408,\n",
       "    'Spread': 0.009999999999763531,\n",
       "    'Close Price': 2918.1},\n",
       "   'LTC': {'Ask': 103.35,\n",
       "    'Bid': 103.34,\n",
       "    'Ask Volume': 119.612,\n",
       "    'Bid Volume': 0.045,\n",
       "    'Spread': 0.009999999999990905,\n",
       "    'Close Price': 103.44}},\n",
       "  '2022-04-29T02:41:02.000Z': {'BTC': {'Ask': 39683.2,\n",
       "    'Bid': 39673.6,\n",
       "    'Ask Volume': 0.076,\n",
       "    'Bid Volume': 0.011,\n",
       "    'Spread': 9.599999999998545,\n",
       "    'Close Price': 39677.6},\n",
       "   'ETH': {'Ask': 2918.1,\n",
       "    'Bid': 2918.09,\n",
       "    'Ask Volume': 90.356,\n",
       "    'Bid Volume': 0.656,\n",
       "    'Spread': 0.009999999999763531,\n",
       "    'Close Price': 2918.1},\n",
       "   'LTC': {'Ask': 103.64,\n",
       "    'Bid': 103.61,\n",
       "    'Ask Volume': 4.276,\n",
       "    'Bid Volume': 125.25,\n",
       "    'Spread': 0.030000000000001137,\n",
       "    'Close Price': 103.64}},\n",
       "  '2022-04-29T02:42:04.000Z': {'BTC': {'Ask': 39688.5,\n",
       "    'Bid': 39675.3,\n",
       "    'Ask Volume': 0.076,\n",
       "    'Bid Volume': 0.011,\n",
       "    'Spread': 13.19999999999709,\n",
       "    'Close Price': 39675.3},\n",
       "   'ETH': {'Ask': 2918.1,\n",
       "    'Bid': 2918.09,\n",
       "    'Ask Volume': 0.097,\n",
       "    'Bid Volume': 52.049,\n",
       "    'Spread': 0.009999999999763531,\n",
       "    'Close Price': 2918.1},\n",
       "   'LTC': {'Ask': 103.63,\n",
       "    'Bid': 103.61,\n",
       "    'Ask Volume': 6.131,\n",
       "    'Bid Volume': 48.0,\n",
       "    'Spread': 0.01999999999999602,\n",
       "    'Close Price': 103.63}},\n",
       "  '2022-04-29T02:43:07.000Z': {'BTC': {'Ask': 39675.3,\n",
       "    'Bid': 39672.2,\n",
       "    'Ask Volume': 0.015,\n",
       "    'Bid Volume': 0.84,\n",
       "    'Spread': 3.1000000000058208,\n",
       "    'Close Price': 39675.3},\n",
       "   'ETH': {'Ask': 2918.1,\n",
       "    'Bid': 2918.09,\n",
       "    'Ask Volume': 68.391,\n",
       "    'Bid Volume': 0.685,\n",
       "    'Spread': 0.009999999999763531,\n",
       "    'Close Price': 2918.1},\n",
       "   'LTC': {'Ask': 103.63,\n",
       "    'Bid': 103.62,\n",
       "    'Ask Volume': 0.343,\n",
       "    'Bid Volume': 348.569,\n",
       "    'Spread': 0.009999999999990905,\n",
       "    'Close Price': 103.63}},\n",
       "  '2022-04-29T02:44:09.000Z': {'BTC': {'Ask': 39675.3,\n",
       "    'Bid': 39675.2,\n",
       "    'Ask Volume': 0.013,\n",
       "    'Bid Volume': 1.37,\n",
       "    'Spread': 0.10000000000582077,\n",
       "    'Close Price': 39688.2},\n",
       "   'ETH': {'Ask': 2918.1,\n",
       "    'Bid': 2918.09,\n",
       "    'Ask Volume': 0.155,\n",
       "    'Bid Volume': 87.134,\n",
       "    'Spread': 0.009999999999763531,\n",
       "    'Close Price': 2920.2},\n",
       "   'LTC': {'Ask': 103.63,\n",
       "    'Bid': 103.62,\n",
       "    'Ask Volume': 0.343,\n",
       "    'Bid Volume': 265.52,\n",
       "    'Spread': 0.009999999999990905,\n",
       "    'Close Price': 103.63}},\n",
       "  '2022-04-29T02:45:11.000Z': {'BTC': {'Ask': 39706.5,\n",
       "    'Bid': 39699.4,\n",
       "    'Ask Volume': 0.235,\n",
       "    'Bid Volume': 0.605,\n",
       "    'Spread': 7.099999999998545,\n",
       "    'Close Price': 39688.2},\n",
       "   'ETH': {'Ask': 2920.3,\n",
       "    'Bid': 2920.29,\n",
       "    'Ask Volume': 0.165,\n",
       "    'Bid Volume': 57.891,\n",
       "    'Spread': 0.010000000000218279,\n",
       "    'Close Price': 2921.32},\n",
       "   'LTC': {'Ask': 103.63,\n",
       "    'Bid': 103.62,\n",
       "    'Ask Volume': 0.214,\n",
       "    'Bid Volume': 265.52,\n",
       "    'Spread': 0.009999999999990905,\n",
       "    'Close Price': 103.63}},\n",
       "  '2022-04-29T02:46:14.000Z': {'BTC': {'Ask': 39706.7,\n",
       "    'Bid': 39698.3,\n",
       "    'Ask Volume': 0.235,\n",
       "    'Bid Volume': 0.235,\n",
       "    'Spread': 8.39999999999418,\n",
       "    'Close Price': 39688.2},\n",
       "   'ETH': {'Ask': 2921.69,\n",
       "    'Bid': 2921.67,\n",
       "    'Ask Volume': 0.004,\n",
       "    'Bid Volume': 52.326,\n",
       "    'Spread': 0.01999999999998181,\n",
       "    'Close Price': 2922.06},\n",
       "   'LTC': {'Ask': 103.74,\n",
       "    'Bid': 103.71,\n",
       "    'Ask Volume': 5.739,\n",
       "    'Bid Volume': 4.8,\n",
       "    'Spread': 0.030000000000001137,\n",
       "    'Close Price': 103.69}},\n",
       "  '2022-04-29T02:47:17.000Z': {'BTC': {'Ask': 39730.0,\n",
       "    'Bid': 39720.1,\n",
       "    'Ask Volume': 0.048,\n",
       "    'Bid Volume': 0.84,\n",
       "    'Spread': 9.900000000001455,\n",
       "    'Close Price': 39725.1},\n",
       "   'ETH': {'Ask': 2922.06,\n",
       "    'Bid': 2922.05,\n",
       "    'Ask Volume': 0.092,\n",
       "    'Bid Volume': 113.819,\n",
       "    'Spread': 0.009999999999763531,\n",
       "    'Close Price': 2922.05},\n",
       "   'LTC': {'Ask': 103.76,\n",
       "    'Bid': 103.75,\n",
       "    'Ask Volume': 4.507,\n",
       "    'Bid Volume': 120.248,\n",
       "    'Spread': 0.010000000000005116,\n",
       "    'Close Price': 103.69}},\n",
       "  '2022-04-29T02:48:19.000Z': {'BTC': {'Ask': 39719.1,\n",
       "    'Bid': 39710.6,\n",
       "    'Ask Volume': 0.305,\n",
       "    'Bid Volume': 0.605,\n",
       "    'Spread': 8.5,\n",
       "    'Close Price': 39725.1},\n",
       "   'ETH': {'Ask': 2922.06,\n",
       "    'Bid': 2922.05,\n",
       "    'Ask Volume': 0.087,\n",
       "    'Bid Volume': 110.485,\n",
       "    'Spread': 0.009999999999763531,\n",
       "    'Close Price': 2922.06},\n",
       "   'LTC': {'Ask': 103.74,\n",
       "    'Bid': 103.72,\n",
       "    'Ask Volume': 5.832,\n",
       "    'Bid Volume': 72.278,\n",
       "    'Spread': 0.01999999999999602,\n",
       "    'Close Price': 103.69}},\n",
       "  '2022-04-29T02:49:23.000Z': {'BTC': {'Ask': 39698.7,\n",
       "    'Bid': 39689.7,\n",
       "    'Ask Volume': 0.235,\n",
       "    'Bid Volume': 1.134,\n",
       "    'Spread': 9.0,\n",
       "    'Close Price': 39725.1},\n",
       "   'ETH': {'Ask': 2922.06,\n",
       "    'Bid': 2922.05,\n",
       "    'Ask Volume': 87.761,\n",
       "    'Bid Volume': 0.03,\n",
       "    'Spread': 0.009999999999763531,\n",
       "    'Close Price': 2921.54},\n",
       "   'LTC': {'Ask': 103.74,\n",
       "    'Bid': 103.7,\n",
       "    'Ask Volume': 1.82,\n",
       "    'Bid Volume': 134.733,\n",
       "    'Spread': 0.03999999999999204,\n",
       "    'Close Price': 103.72}},\n",
       "  '2022-04-29T02:50:26.000Z': {'BTC': {'Ask': 39695.1,\n",
       "    'Bid': 39685.5,\n",
       "    'Ask Volume': 0.235,\n",
       "    'Bid Volume': 0.765,\n",
       "    'Spread': 9.599999999998545,\n",
       "    'Close Price': 39725.1},\n",
       "   'ETH': {'Ask': 2921.53,\n",
       "    'Bid': 2921.52,\n",
       "    'Ask Volume': 97.026,\n",
       "    'Bid Volume': 0.025,\n",
       "    'Spread': 0.010000000000218279,\n",
       "    'Close Price': 2921.53},\n",
       "   'LTC': {'Ask': 103.74,\n",
       "    'Bid': 103.71,\n",
       "    'Ask Volume': 6.142,\n",
       "    'Bid Volume': 115.195,\n",
       "    'Spread': 0.030000000000001137,\n",
       "    'Close Price': 103.72}},\n",
       "  '2022-04-29T02:51:30.000Z': {'BTC': {'Ask': 39690.2,\n",
       "    'Bid': 39682.4,\n",
       "    'Ask Volume': 0.076,\n",
       "    'Bid Volume': 0.84,\n",
       "    'Spread': 7.799999999995634,\n",
       "    'Close Price': 39725.1},\n",
       "   'ETH': {'Ask': 2920.51,\n",
       "    'Bid': 2920.5,\n",
       "    'Ask Volume': 17.988,\n",
       "    'Bid Volume': 51.423,\n",
       "    'Spread': 0.010000000000218279,\n",
       "    'Close Price': 2920.5},\n",
       "   'LTC': {'Ask': 103.71,\n",
       "    'Bid': 103.67,\n",
       "    'Ask Volume': 2.1,\n",
       "    'Bid Volume': 115.246,\n",
       "    'Spread': 0.03999999999999204,\n",
       "    'Close Price': 103.72}},\n",
       "  '2022-04-29T02:52:33.000Z': {'BTC': {'Ask': 39692.2,\n",
       "    'Bid': 39681.0,\n",
       "    'Ask Volume': 0.076,\n",
       "    'Bid Volume': 1.37,\n",
       "    'Spread': 11.19999999999709,\n",
       "    'Close Price': 39688.5},\n",
       "   'ETH': {'Ask': 2920.63,\n",
       "    'Bid': 2920.62,\n",
       "    'Ask Volume': 143.356,\n",
       "    'Bid Volume': 0.039,\n",
       "    'Spread': 0.010000000000218279,\n",
       "    'Close Price': 2920.63},\n",
       "   'LTC': {'Ask': 103.69,\n",
       "    'Bid': 103.65,\n",
       "    'Ask Volume': 10.0,\n",
       "    'Bid Volume': 101.267,\n",
       "    'Spread': 0.03999999999999204,\n",
       "    'Close Price': 103.74}},\n",
       "  '2022-04-29T02:53:35.000Z': {'BTC': {'Ask': 39691.8,\n",
       "    'Bid': 39680.6,\n",
       "    'Ask Volume': 0.076,\n",
       "    'Bid Volume': 1.37,\n",
       "    'Spread': 11.200000000004366,\n",
       "    'Close Price': 39683.0},\n",
       "   'ETH': {'Ask': 2918.59,\n",
       "    'Bid': 2918.58,\n",
       "    'Ask Volume': 3.424,\n",
       "    'Bid Volume': 12.429,\n",
       "    'Spread': 0.010000000000218279,\n",
       "    'Close Price': 2918.62},\n",
       "   'LTC': {'Ask': 103.68,\n",
       "    'Bid': 103.63,\n",
       "    'Ask Volume': 1.84,\n",
       "    'Bid Volume': 165.01,\n",
       "    'Spread': 0.05000000000001137,\n",
       "    'Close Price': 103.69}},\n",
       "  '2022-04-29T02:54:38.000Z': {'BTC': {'Ask': 39658.0,\n",
       "    'Bid': 39657.9,\n",
       "    'Ask Volume': 1.275,\n",
       "    'Bid Volume': 0.001,\n",
       "    'Spread': 0.09999999999854481,\n",
       "    'Close Price': 39659.5},\n",
       "   'ETH': {'Ask': 2916.33,\n",
       "    'Bid': 2916.32,\n",
       "    'Ask Volume': 107.911,\n",
       "    'Bid Volume': 0.01,\n",
       "    'Spread': 0.009999999999763531,\n",
       "    'Close Price': 2916.33},\n",
       "   'LTC': {'Ask': 103.56,\n",
       "    'Bid': 103.53,\n",
       "    'Ask Volume': 1.788,\n",
       "    'Bid Volume': 48.0,\n",
       "    'Spread': 0.030000000000001137,\n",
       "    'Close Price': 103.69}},\n",
       "  '2022-04-29T02:55:40.000Z': {'BTC': {'Ask': 39561.9,\n",
       "    'Bid': 39540.8,\n",
       "    'Ask Volume': 25.37,\n",
       "    'Bid Volume': 0.011,\n",
       "    'Spread': 21.099999999998545,\n",
       "    'Close Price': 39559.0},\n",
       "   'ETH': {'Ask': 2913.31,\n",
       "    'Bid': 2913.3,\n",
       "    'Ask Volume': 21.508,\n",
       "    'Bid Volume': 0.098,\n",
       "    'Spread': 0.009999999999763531,\n",
       "    'Close Price': 2913.3},\n",
       "   'LTC': {'Ask': 103.4,\n",
       "    'Bid': 103.34,\n",
       "    'Ask Volume': 10.0,\n",
       "    'Bid Volume': 14.045,\n",
       "    'Spread': 0.060000000000002274,\n",
       "    'Close Price': 103.41}},\n",
       "  '2022-04-29T02:56:42.000Z': {'BTC': {'Ask': 39540.9,\n",
       "    'Bid': 39540.8,\n",
       "    'Ask Volume': 1.164,\n",
       "    'Bid Volume': 0.011,\n",
       "    'Spread': 0.09999999999854481,\n",
       "    'Close Price': 39540.9},\n",
       "   'ETH': {'Ask': 2910.01,\n",
       "    'Bid': 2910.0,\n",
       "    'Ask Volume': 115.782,\n",
       "    'Bid Volume': 0.058,\n",
       "    'Spread': 0.010000000000218279,\n",
       "    'Close Price': 2910.26},\n",
       "   'LTC': {'Ask': 103.35,\n",
       "    'Bid': 103.34,\n",
       "    'Ask Volume': 10.0,\n",
       "    'Bid Volume': 0.045,\n",
       "    'Spread': 0.009999999999990905,\n",
       "    'Close Price': 103.41}},\n",
       "  '2022-04-29T02:57:45.000Z': {'BTC': {'Ask': 39496.5,\n",
       "    'Bid': 39492.3,\n",
       "    'Ask Volume': 0.076,\n",
       "    'Bid Volume': 0.001,\n",
       "    'Spread': 4.19999999999709,\n",
       "    'Close Price': 39495.2},\n",
       "   'ETH': {'Ask': 2907.9,\n",
       "    'Bid': 2907.89,\n",
       "    'Ask Volume': 92.285,\n",
       "    'Bid Volume': 0.04,\n",
       "    'Spread': 0.010000000000218279,\n",
       "    'Close Price': 2907.63},\n",
       "   'LTC': {'Ask': 103.35,\n",
       "    'Bid': 103.34,\n",
       "    'Ask Volume': 7.818,\n",
       "    'Bid Volume': 115.612,\n",
       "    'Spread': 0.009999999999990905,\n",
       "    'Close Price': 103.41}},\n",
       "  '2022-04-29T02:58:47.000Z': {'BTC': {'Ask': 39528.7,\n",
       "    'Bid': 39514.8,\n",
       "    'Ask Volume': 0.076,\n",
       "    'Bid Volume': 0.806,\n",
       "    'Spread': 13.89999999999418,\n",
       "    'Close Price': 39514.8},\n",
       "   'ETH': {'Ask': 2909.52,\n",
       "    'Bid': 2909.25,\n",
       "    'Ask Volume': 1.207,\n",
       "    'Bid Volume': 51.555,\n",
       "    'Spread': 0.2699999999999818,\n",
       "    'Close Price': 2910.6},\n",
       "   'LTC': {'Ask': 103.46,\n",
       "    'Bid': 103.45,\n",
       "    'Ask Volume': 10.0,\n",
       "    'Bid Volume': 2.595,\n",
       "    'Spread': 0.009999999999990905,\n",
       "    'Close Price': 103.5}},\n",
       "  '2022-04-29T02:59:48.000Z': {'BTC': {'Ask': 39526.4,\n",
       "    'Bid': 39515.8,\n",
       "    'Ask Volume': 0.076,\n",
       "    'Bid Volume': 0.843,\n",
       "    'Spread': 10.599999999998545,\n",
       "    'Close Price': 39528.4},\n",
       "   'ETH': {'Ask': 2909.16,\n",
       "    'Bid': 2908.64,\n",
       "    'Ask Volume': 51.565,\n",
       "    'Bid Volume': 0.035,\n",
       "    'Spread': 0.5199999999999818,\n",
       "    'Close Price': 2910.12},\n",
       "   'LTC': {'Ask': 103.49,\n",
       "    'Bid': 103.46,\n",
       "    'Ask Volume': 28.996,\n",
       "    'Bid Volume': 23.413,\n",
       "    'Spread': 0.030000000000001137,\n",
       "    'Close Price': 103.47}},\n",
       "  '2022-04-29T03:00:51.000Z': {'BTC': {'Ask': 39505.0,\n",
       "    'Bid': 39497.2,\n",
       "    'Ask Volume': 0.076,\n",
       "    'Bid Volume': 0.608,\n",
       "    'Spread': 7.80000000000291,\n",
       "    'Close Price': 39506.5},\n",
       "   'ETH': {'Ask': 2909.34,\n",
       "    'Bid': 2908.94,\n",
       "    'Ask Volume': 0.568,\n",
       "    'Bid Volume': 0.006,\n",
       "    'Spread': 0.40000000000009095,\n",
       "    'Close Price': 2908.79},\n",
       "   'LTC': {'Ask': 103.38,\n",
       "    'Bid': 103.37,\n",
       "    'Ask Volume': 29.028,\n",
       "    'Bid Volume': 7.818,\n",
       "    'Spread': 0.009999999999990905,\n",
       "    'Close Price': 103.49}},\n",
       "  '2022-04-29T03:01:53.000Z': {'BTC': {'Ask': 39520.5,\n",
       "    'Bid': 39509.5,\n",
       "    'Ask Volume': 0.076,\n",
       "    'Bid Volume': 0.235,\n",
       "    'Spread': 11.0,\n",
       "    'Close Price': 39506.5},\n",
       "   'ETH': {'Ask': 2909.39,\n",
       "    'Bid': 2909.38,\n",
       "    'Ask Volume': 0.047,\n",
       "    'Bid Volume': 56.113,\n",
       "    'Spread': 0.009999999999763531,\n",
       "    'Close Price': 2909.38},\n",
       "   'LTC': {'Ask': 103.38,\n",
       "    'Bid': 103.35,\n",
       "    'Ask Volume': 30.23,\n",
       "    'Bid Volume': 14.139,\n",
       "    'Spread': 0.030000000000001137,\n",
       "    'Close Price': 103.37}},\n",
       "  '2022-04-29T03:02:55.000Z': {'BTC': {'Ask': 39518.6,\n",
       "    'Bid': 39511.3,\n",
       "    'Ask Volume': 0.075,\n",
       "    'Bid Volume': 0.423,\n",
       "    'Spread': 7.299999999995634,\n",
       "    'Close Price': 39495.1},\n",
       "   'ETH': {'Ask': 2909.39,\n",
       "    'Bid': 2909.38,\n",
       "    'Ask Volume': 0.047,\n",
       "    'Bid Volume': 79.075,\n",
       "    'Spread': 0.009999999999763531,\n",
       "    'Close Price': 2909.38},\n",
       "   'LTC': {'Ask': 103.35,\n",
       "    'Bid': 103.34,\n",
       "    'Ask Volume': 107.475,\n",
       "    'Bid Volume': 0.045,\n",
       "    'Spread': 0.009999999999990905,\n",
       "    'Close Price': 103.4}},\n",
       "  '2022-04-29T03:03:56.000Z': {'BTC': {'Ask': 39554.6,\n",
       "    'Bid': 39545.8,\n",
       "    'Ask Volume': 0.048,\n",
       "    'Bid Volume': 0.842,\n",
       "    'Spread': 8.799999999995634,\n",
       "    'Close Price': 39518.6},\n",
       "   'ETH': {'Ask': 2912.1,\n",
       "    'Bid': 2912.09,\n",
       "    'Ask Volume': 1.151,\n",
       "    'Bid Volume': 151.3,\n",
       "    'Spread': 0.009999999999763531,\n",
       "    'Close Price': 2911.5},\n",
       "   'LTC': {'Ask': 103.44,\n",
       "    'Bid': 103.39,\n",
       "    'Ask Volume': 34.547,\n",
       "    'Bid Volume': 18.8,\n",
       "    'Spread': 0.04999999999999716,\n",
       "    'Close Price': 103.34}},\n",
       "  '2022-04-29T03:04:58.000Z': {'BTC': {'Ask': 39539.5,\n",
       "    'Bid': 39526.0,\n",
       "    'Ask Volume': 0.048,\n",
       "    'Bid Volume': 0.843,\n",
       "    'Spread': 13.5,\n",
       "    'Close Price': 39518.6},\n",
       "   'ETH': {'Ask': 2912.1,\n",
       "    'Bid': 2912.03,\n",
       "    'Ask Volume': 4.944,\n",
       "    'Bid Volume': 51.49,\n",
       "    'Spread': 0.06999999999970896,\n",
       "    'Close Price': 2912.7},\n",
       "   'LTC': {'Ask': 103.35,\n",
       "    'Bid': 103.34,\n",
       "    'Ask Volume': 29.036,\n",
       "    'Bid Volume': 0.035,\n",
       "    'Spread': 0.009999999999990905,\n",
       "    'Close Price': 103.44}},\n",
       "  '2022-04-29T03:06:01.000Z': {'BTC': {'Ask': 39531.7,\n",
       "    'Bid': 39520.3,\n",
       "    'Ask Volume': 0.235,\n",
       "    'Bid Volume': 0.608,\n",
       "    'Spread': 11.39999999999418,\n",
       "    'Close Price': 39525.1},\n",
       "   'ETH': {'Ask': 2912.03,\n",
       "    'Bid': 2912.02,\n",
       "    'Ask Volume': 0.315,\n",
       "    'Bid Volume': 19.089,\n",
       "    'Spread': 0.010000000000218279,\n",
       "    'Close Price': 2910.83},\n",
       "   'LTC': {'Ask': 103.38,\n",
       "    'Bid': 103.34,\n",
       "    'Ask Volume': 29.037,\n",
       "    'Bid Volume': 0.035,\n",
       "    'Spread': 0.03999999999999204,\n",
       "    'Close Price': 103.41}},\n",
       "  '2022-04-29T03:07:03.000Z': {'BTC': {'Ask': 39542.1,\n",
       "    'Bid': 39532.9,\n",
       "    'Ask Volume': 0.076,\n",
       "    'Bid Volume': 0.843,\n",
       "    'Spread': 9.19999999999709,\n",
       "    'Close Price': 39525.1},\n",
       "   'ETH': {'Ask': 2913.1,\n",
       "    'Bid': 2913.09,\n",
       "    'Ask Volume': 0.082,\n",
       "    'Bid Volume': 106.077,\n",
       "    'Spread': 0.009999999999763531,\n",
       "    'Close Price': 2913.09},\n",
       "   'LTC': {'Ask': 103.49,\n",
       "    'Bid': 103.43,\n",
       "    'Ask Volume': 20.233,\n",
       "    'Bid Volume': 27.493,\n",
       "    'Spread': 0.05999999999998806,\n",
       "    'Close Price': 103.41}},\n",
       "  '2022-04-29T03:08:05.000Z': {'BTC': {'Ask': 39535.1,\n",
       "    'Bid': 39535.0,\n",
       "    'Ask Volume': 1.202,\n",
       "    'Bid Volume': 0.925,\n",
       "    'Spread': 0.09999999999854481,\n",
       "    'Close Price': 39534.0},\n",
       "   'ETH': {'Ask': 2912.21,\n",
       "    'Bid': 2912.2,\n",
       "    'Ask Volume': 0.055,\n",
       "    'Bid Volume': 52.699,\n",
       "    'Spread': 0.010000000000218279,\n",
       "    'Close Price': 2912.72},\n",
       "   'LTC': {'Ask': 103.47,\n",
       "    'Bid': 103.43,\n",
       "    'Ask Volume': 106.319,\n",
       "    'Bid Volume': 3.096,\n",
       "    'Spread': 0.03999999999999204,\n",
       "    'Close Price': 103.48}},\n",
       "  '2022-04-29T03:09:07.000Z': {'BTC': {'Ask': 39535.1,\n",
       "    'Bid': 39535.0,\n",
       "    'Ask Volume': 1.666,\n",
       "    'Bid Volume': 0.925,\n",
       "    'Spread': 0.09999999999854481,\n",
       "    'Close Price': 39534.0},\n",
       "   'ETH': {'Ask': 2912.49,\n",
       "    'Bid': 2912.35,\n",
       "    'Ask Volume': 1.046,\n",
       "    'Bid Volume': 0.029,\n",
       "    'Spread': 0.13999999999987267,\n",
       "    'Close Price': 2912.53},\n",
       "   'LTC': {'Ask': 103.38,\n",
       "    'Bid': 103.34,\n",
       "    'Ask Volume': 29.03,\n",
       "    'Bid Volume': 14.471,\n",
       "    'Spread': 0.03999999999999204,\n",
       "    'Close Price': 103.48}},\n",
       "  '2022-04-29T03:10:09.000Z': {'BTC': {'Ask': 39520.1,\n",
       "    'Bid': 39520.0,\n",
       "    'Ask Volume': 0.548,\n",
       "    'Bid Volume': 1.0,\n",
       "    'Spread': 0.09999999999854481,\n",
       "    'Close Price': 39520.2},\n",
       "   'ETH': {'Ask': 2911.81,\n",
       "    'Bid': 2911.8,\n",
       "    'Ask Volume': 0.035,\n",
       "    'Bid Volume': 4.504,\n",
       "    'Spread': 0.009999999999763531,\n",
       "    'Close Price': 2912.72},\n",
       "   'LTC': {'Ask': 103.35,\n",
       "    'Bid': 103.34,\n",
       "    'Ask Volume': 4.8,\n",
       "    'Bid Volume': 0.035,\n",
       "    'Spread': 0.009999999999990905,\n",
       "    'Close Price': 103.48}},\n",
       "  '2022-04-29T03:11:12.000Z': {'BTC': {'Ask': 39517.9,\n",
       "    'Bid': 39505.9,\n",
       "    'Ask Volume': 0.066,\n",
       "    'Bid Volume': 0.235,\n",
       "    'Spread': 12.0,\n",
       "    'Close Price': 39521.4},\n",
       "   'ETH': {'Ask': 2912.93,\n",
       "    'Bid': 2912.92,\n",
       "    'Ask Volume': 0.072,\n",
       "    'Bid Volume': 10.4,\n",
       "    'Spread': 0.009999999999763531,\n",
       "    'Close Price': 2912.72},\n",
       "   'LTC': {'Ask': 103.48,\n",
       "    'Bid': 103.42,\n",
       "    'Ask Volume': 4.45,\n",
       "    'Bid Volume': 43.315,\n",
       "    'Spread': 0.060000000000002274,\n",
       "    'Close Price': 103.34}},\n",
       "  '2022-04-29T03:12:14.000Z': {'BTC': {'Ask': 39492.4,\n",
       "    'Bid': 39492.3,\n",
       "    'Ask Volume': 1.678,\n",
       "    'Bid Volume': 0.001,\n",
       "    'Spread': 0.09999999999854481,\n",
       "    'Close Price': 39521.4},\n",
       "   'ETH': {'Ask': 2911.02,\n",
       "    'Bid': 2911.01,\n",
       "    'Ask Volume': 82.814,\n",
       "    'Bid Volume': 0.058,\n",
       "    'Spread': 0.009999999999763531,\n",
       "    'Close Price': 2913.26},\n",
       "   'LTC': {'Ask': 103.33,\n",
       "    'Bid': 103.3,\n",
       "    'Ask Volume': 4.072,\n",
       "    'Bid Volume': 34.854,\n",
       "    'Spread': 0.030000000000001137,\n",
       "    'Close Price': 103.46}},\n",
       "  '2022-04-29T03:13:16.000Z': {'BTC': {'Ask': 39328.7,\n",
       "    'Bid': 39307.0,\n",
       "    'Ask Volume': 0.048,\n",
       "    'Bid Volume': 0.039,\n",
       "    'Spread': 21.69999999999709,\n",
       "    'Close Price': 39478.6},\n",
       "   'ETH': {'Ask': 2905.0,\n",
       "    'Bid': 2903.65,\n",
       "    'Ask Volume': 1.0,\n",
       "    'Bid Volume': 1.247,\n",
       "    'Spread': 1.349999999999909,\n",
       "    'Close Price': 2910.13},\n",
       "   'LTC': {'Ask': 103.02,\n",
       "    'Bid': 103.01,\n",
       "    'Ask Volume': 87.377,\n",
       "    'Bid Volume': 0.34,\n",
       "    'Spread': 0.009999999999990905,\n",
       "    'Close Price': 103.46}},\n",
       "  '2022-04-29T03:14:18.000Z': {'BTC': {'Ask': 39392.8,\n",
       "    'Bid': 39379.4,\n",
       "    'Ask Volume': 0.048,\n",
       "    'Bid Volume': 0.312,\n",
       "    'Spread': 13.400000000001455,\n",
       "    'Close Price': 39323.2},\n",
       "   'ETH': {'Ask': 2908.27,\n",
       "    'Bid': 2908.13,\n",
       "    'Ask Volume': 0.07,\n",
       "    'Bid Volume': 51.577,\n",
       "    'Spread': 0.13999999999987267,\n",
       "    'Close Price': 2905.27},\n",
       "   'LTC': {'Ask': 103.13,\n",
       "    'Bid': 103.08,\n",
       "    'Ask Volume': 7.822,\n",
       "    'Bid Volume': 58.419,\n",
       "    'Spread': 0.04999999999999716,\n",
       "    'Close Price': 103.04}},\n",
       "  '2022-04-29T03:15:20.000Z': {'BTC': {'Ask': 39378.0,\n",
       "    'Bid': 39367.0,\n",
       "    'Ask Volume': 0.066,\n",
       "    'Bid Volume': 0.077,\n",
       "    'Spread': 11.0,\n",
       "    'Close Price': 39393.2},\n",
       "   'ETH': {'Ask': 2906.33,\n",
       "    'Bid': 2906.2,\n",
       "    'Ask Volume': 1.99,\n",
       "    'Bid Volume': 0.3,\n",
       "    'Spread': 0.13000000000010914,\n",
       "    'Close Price': 2907.24},\n",
       "   'LTC': {'Ask': 103.02,\n",
       "    'Bid': 103.01,\n",
       "    'Ask Volume': 691.465,\n",
       "    'Bid Volume': 0.34,\n",
       "    'Spread': 0.009999999999990905,\n",
       "    'Close Price': 103.04}},\n",
       "  '2022-04-29T03:16:22.000Z': {'BTC': {'Ask': 39386.8,\n",
       "    'Bid': 39370.2,\n",
       "    'Ask Volume': 0.608,\n",
       "    'Bid Volume': 0.235,\n",
       "    'Spread': 16.60000000000582,\n",
       "    'Close Price': 39393.2},\n",
       "   'ETH': {'Ask': 2904.66,\n",
       "    'Bid': 2904.6,\n",
       "    'Ask Volume': 9.825,\n",
       "    'Bid Volume': 0.029,\n",
       "    'Spread': 0.05999999999994543,\n",
       "    'Close Price': 2906.25},\n",
       "   'LTC': {'Ask': 102.85,\n",
       "    'Bid': 102.84,\n",
       "    'Ask Volume': 14.607,\n",
       "    'Bid Volume': 0.486,\n",
       "    'Spread': 0.009999999999990905,\n",
       "    'Close Price': 102.93}},\n",
       "  '2022-04-29T03:17:26.000Z': {'BTC': {'Ask': 39449.6,\n",
       "    'Bid': 39441.8,\n",
       "    'Ask Volume': 0.068,\n",
       "    'Bid Volume': 0.235,\n",
       "    'Spread': 7.799999999995634,\n",
       "    'Close Price': 39393.2},\n",
       "   'ETH': {'Ask': 2907.99,\n",
       "    'Bid': 2907.98,\n",
       "    'Ask Volume': 0.151,\n",
       "    'Bid Volume': 102.957,\n",
       "    'Spread': 0.009999999999763531,\n",
       "    'Close Price': 2905.37},\n",
       "   'LTC': {'Ask': 102.95,\n",
       "    'Bid': 102.94,\n",
       "    'Ask Volume': 4.635,\n",
       "    'Bid Volume': 47.936,\n",
       "    'Spread': 0.010000000000005116,\n",
       "    'Close Price': 102.9}},\n",
       "  '2022-04-29T03:18:28.000Z': {'BTC': {'Ask': 39430.6,\n",
       "    'Bid': 39425.6,\n",
       "    'Ask Volume': 0.068,\n",
       "    'Bid Volume': 0.235,\n",
       "    'Spread': 5.0,\n",
       "    'Close Price': 39416.2},\n",
       "   'ETH': {'Ask': 2909.33,\n",
       "    'Bid': 2909.26,\n",
       "    'Ask Volume': 0.031,\n",
       "    'Bid Volume': 51.548,\n",
       "    'Spread': 0.06999999999970896,\n",
       "    'Close Price': 2909.7},\n",
       "   'LTC': {'Ask': 102.95,\n",
       "    'Bid': 102.94,\n",
       "    'Ask Volume': 4.635,\n",
       "    'Bid Volume': 57.936,\n",
       "    'Spread': 0.010000000000005116,\n",
       "    'Close Price': 102.95}},\n",
       "  '2022-04-29T03:19:30.000Z': {'BTC': {'Ask': 39446.4,\n",
       "    'Bid': 39439.1,\n",
       "    'Ask Volume': 0.07,\n",
       "    'Bid Volume': 0.235,\n",
       "    'Spread': 7.30000000000291,\n",
       "    'Close Price': 39416.2},\n",
       "   'ETH': {'Ask': 2909.33,\n",
       "    'Bid': 2909.32,\n",
       "    'Ask Volume': 0.031,\n",
       "    'Bid Volume': 71.313,\n",
       "    'Spread': 0.009999999999763531,\n",
       "    'Close Price': 2909.32},\n",
       "   'LTC': {'Ask': 102.95,\n",
       "    'Bid': 102.94,\n",
       "    'Ask Volume': 4.286,\n",
       "    'Bid Volume': 29.133,\n",
       "    'Spread': 0.010000000000005116,\n",
       "    'Close Price': 102.95}},\n",
       "  '2022-04-29T03:20:32.000Z': {'BTC': {'Ask': 39454.7,\n",
       "    'Bid': 39437.7,\n",
       "    'Ask Volume': 0.048,\n",
       "    'Bid Volume': 0.048,\n",
       "    'Spread': 17.0,\n",
       "    'Close Price': 39446.4},\n",
       "   'ETH': {'Ask': 2910.43,\n",
       "    'Bid': 2910.42,\n",
       "    'Ask Volume': 1.0,\n",
       "    'Bid Volume': 51.536,\n",
       "    'Spread': 0.009999999999763531,\n",
       "    'Close Price': 2910.29},\n",
       "   'LTC': {'Ask': 102.96,\n",
       "    'Bid': 102.93,\n",
       "    'Ask Volume': 8.426,\n",
       "    'Bid Volume': 29.134,\n",
       "    'Spread': 0.029999999999986926,\n",
       "    'Close Price': 102.95}},\n",
       "  '2022-04-29T03:21:34.000Z': {'BTC': {'Ask': 39437.5,\n",
       "    'Bid': 39431.8,\n",
       "    'Ask Volume': 0.067,\n",
       "    'Bid Volume': 0.048,\n",
       "    'Spread': 5.69999999999709,\n",
       "    'Close Price': 39446.4},\n",
       "   'ETH': {'Ask': 2911.8,\n",
       "    'Bid': 2911.79,\n",
       "    'Ask Volume': 0.903,\n",
       "    'Bid Volume': 118.845,\n",
       "    'Spread': 0.010000000000218279,\n",
       "    'Close Price': 2910.31},\n",
       "   'LTC': {'Ask': 102.88,\n",
       "    'Bid': 102.8,\n",
       "    'Ask Volume': 75.604,\n",
       "    'Bid Volume': 41.97,\n",
       "    'Spread': 0.0799999999999983,\n",
       "    'Close Price': 103.0}},\n",
       "  '2022-04-29T03:22:36.000Z': {'BTC': {'Ask': 39450.1,\n",
       "    'Bid': 39441.2,\n",
       "    'Ask Volume': 0.069,\n",
       "    'Bid Volume': 0.077,\n",
       "    'Spread': 8.900000000001455,\n",
       "    'Close Price': 39439.2},\n",
       "   'ETH': {'Ask': 2913.0,\n",
       "    'Bid': 2912.99,\n",
       "    'Ask Volume': 0.378,\n",
       "    'Bid Volume': 131.347,\n",
       "    'Spread': 0.010000000000218279,\n",
       "    'Close Price': 2911.79},\n",
       "   'LTC': {'Ask': 103.08,\n",
       "    'Bid': 103.03,\n",
       "    'Ask Volume': 14.0,\n",
       "    'Bid Volume': 125.295,\n",
       "    'Spread': 0.04999999999999716,\n",
       "    'Close Price': 102.81}},\n",
       "  '2022-04-29T03:23:38.000Z': {'BTC': {'Ask': 39461.8,\n",
       "    'Bid': 39453.9,\n",
       "    'Ask Volume': 1.793,\n",
       "    'Bid Volume': 0.235,\n",
       "    'Spread': 7.900000000001455,\n",
       "    'Close Price': 39439.7},\n",
       "   'ETH': {'Ask': 2915.43,\n",
       "    'Bid': 2915.42,\n",
       "    'Ask Volume': 0.197,\n",
       "    'Bid Volume': 72.729,\n",
       "    'Spread': 0.009999999999763531,\n",
       "    'Close Price': 2913.0},\n",
       "   'LTC': {'Ask': 103.07,\n",
       "    'Bid': 103.02,\n",
       "    'Ask Volume': 30.221,\n",
       "    'Bid Volume': 17.882,\n",
       "    'Spread': 0.04999999999999716,\n",
       "    'Close Price': 103.04}},\n",
       "  '2022-04-29T03:24:41.000Z': {'BTC': {'Ask': 39453.7,\n",
       "    'Bid': 39446.9,\n",
       "    'Ask Volume': 0.048,\n",
       "    'Bid Volume': 0.001,\n",
       "    'Spread': 6.799999999995634,\n",
       "    'Close Price': 39461.8},\n",
       "   'ETH': {'Ask': 2915.43,\n",
       "    'Bid': 2915.42,\n",
       "    'Ask Volume': 14.072,\n",
       "    'Bid Volume': 51.454,\n",
       "    'Spread': 0.009999999999763531,\n",
       "    'Close Price': 2914.78},\n",
       "   'LTC': {'Ask': 103.19,\n",
       "    'Bid': 103.14,\n",
       "    'Ask Volume': 54.084,\n",
       "    'Bid Volume': 29.76,\n",
       "    'Spread': 0.04999999999999716,\n",
       "    'Close Price': 103.04}},\n",
       "  '2022-04-29T03:25:43.000Z': {'BTC': {'Ask': 39424.7,\n",
       "    'Bid': 39410.7,\n",
       "    'Ask Volume': 0.178,\n",
       "    'Bid Volume': 0.61,\n",
       "    'Spread': 14.0,\n",
       "    'Close Price': 39454.1},\n",
       "   'ETH': {'Ask': 2915.7,\n",
       "    'Bid': 2915.69,\n",
       "    'Ask Volume': 135.387,\n",
       "    'Bid Volume': 0.509,\n",
       "    'Spread': 0.009999999999763531,\n",
       "    'Close Price': 2914.78},\n",
       "   'LTC': {'Ask': 103.19,\n",
       "    'Bid': 103.15,\n",
       "    'Ask Volume': 6.243,\n",
       "    'Bid Volume': 119.624,\n",
       "    'Spread': 0.03999999999999204,\n",
       "    'Close Price': 103.04}},\n",
       "  '2022-04-29T03:26:45.000Z': {'BTC': {'Ask': 39432.6,\n",
       "    'Bid': 39420.2,\n",
       "    'Ask Volume': 0.048,\n",
       "    'Bid Volume': 0.077,\n",
       "    'Spread': 12.400000000001455,\n",
       "    'Close Price': 39448.6},\n",
       "   'ETH': {'Ask': 2915.71,\n",
       "    'Bid': 2915.7,\n",
       "    'Ask Volume': 113.42,\n",
       "    'Bid Volume': 4.417,\n",
       "    'Spread': 0.010000000000218279,\n",
       "    'Close Price': 2915.69},\n",
       "   'LTC': {'Ask': 103.28,\n",
       "    'Bid': 103.27,\n",
       "    'Ask Volume': 1.216,\n",
       "    'Bid Volume': 50.222,\n",
       "    'Spread': 0.010000000000005116,\n",
       "    'Close Price': 103.28}},\n",
       "  '2022-04-29T03:27:47.000Z': {'BTC': {'Ask': 39448.6,\n",
       "    'Bid': 39442.6,\n",
       "    'Ask Volume': 0.609,\n",
       "    'Bid Volume': 0.235,\n",
       "    'Spread': 6.0,\n",
       "    'Close Price': 39448.6},\n",
       "   'ETH': {'Ask': 2915.71,\n",
       "    'Bid': 2915.7,\n",
       "    'Ask Volume': 0.073,\n",
       "    'Bid Volume': 122.577,\n",
       "    'Spread': 0.010000000000218279,\n",
       "    'Close Price': 2916.01},\n",
       "   'LTC': {'Ask': 103.3,\n",
       "    'Bid': 103.29,\n",
       "    'Ask Volume': 0.208,\n",
       "    'Bid Volume': 416.946,\n",
       "    'Spread': 0.009999999999990905,\n",
       "    'Close Price': 103.28}},\n",
       "  '2022-04-29T03:28:50.000Z': {'BTC': {'Ask': 39451.6,\n",
       "    'Bid': 39444.9,\n",
       "    'Ask Volume': 0.048,\n",
       "    'Bid Volume': 0.077,\n",
       "    'Spread': 6.69999999999709,\n",
       "    'Close Price': 39448.6},\n",
       "   'ETH': {'Ask': 2917.1,\n",
       "    'Bid': 2916.88,\n",
       "    'Ask Volume': 3.21,\n",
       "    'Bid Volume': 1.0,\n",
       "    'Spread': 0.2199999999997999,\n",
       "    'Close Price': 2915.7},\n",
       "   'LTC': {'Ask': 103.31,\n",
       "    'Bid': 103.28,\n",
       "    'Ask Volume': 26.79,\n",
       "    'Bid Volume': 29.04,\n",
       "    'Spread': 0.030000000000001137,\n",
       "    'Close Price': 103.29}}},\n",
       " 'Binance': {'2022-04-29T02:27:29.000Z': {'BTC': {'Ask': 39702.599999,\n",
       "    'Bid': 39612.811611,\n",
       "    'Ask Volume': 0.11820237,\n",
       "    'Bid Volume': 0.09855065,\n",
       "    'Spread': 89.78838800000085,\n",
       "    'Close Price': 39664.4},\n",
       "   'ETH': {'Ask': 2922.519995,\n",
       "    'Bid': 2909.060001,\n",
       "    'Ask Volume': 0.00241215,\n",
       "    'Bid Volume': 0.11455006,\n",
       "    'Spread': 13.459994000000279,\n",
       "    'Close Price': 2918.64},\n",
       "   'LTC': {'Ask': 103.9,\n",
       "    'Bid': 102.890003,\n",
       "    'Ask Volume': 1.368,\n",
       "    'Bid Volume': 18.92835,\n",
       "    'Spread': 1.0099970000000127,\n",
       "    'Close Price': 103.45}},\n",
       "  '2022-04-29T02:28:31.000Z': {'BTC': {'Ask': 39678.699999,\n",
       "    'Bid': 39600.0,\n",
       "    'Ask Volume': 0.13190264,\n",
       "    'Bid Volume': 0.00036369,\n",
       "    'Spread': 78.69999899999675,\n",
       "    'Close Price': 39664.4},\n",
       "   'ETH': {'Ask': 2922.389969,\n",
       "    'Bid': 2909.060001,\n",
       "    'Ask Volume': 0.00241215,\n",
       "    'Bid Volume': 0.11455006,\n",
       "    'Spread': 13.329968000000008,\n",
       "    'Close Price': 2918.64},\n",
       "   'LTC': {'Ask': 104.259999,\n",
       "    'Bid': 103.05,\n",
       "    'Ask Volume': 0.49941957,\n",
       "    'Bid Volume': 5.153,\n",
       "    'Spread': 1.2099989999999963,\n",
       "    'Close Price': 103.67}},\n",
       "  '2022-04-29T02:29:34.000Z': {'BTC': {'Ask': 39678.699999,\n",
       "    'Bid': 39600.0,\n",
       "    'Ask Volume': 0.13190264,\n",
       "    'Bid Volume': 0.00036369,\n",
       "    'Spread': 78.69999899999675,\n",
       "    'Close Price': 39664.4},\n",
       "   'ETH': {'Ask': 2920.769999,\n",
       "    'Bid': 2905.460001,\n",
       "    'Ask Volume': 0.00241215,\n",
       "    'Bid Volume': 0.11455006,\n",
       "    'Spread': 15.309998000000178,\n",
       "    'Close Price': 2918.99},\n",
       "   'LTC': {'Ask': 104.299999,\n",
       "    'Bid': 103.17,\n",
       "    'Ask Volume': 0.49941957,\n",
       "    'Bid Volume': 5.147,\n",
       "    'Spread': 1.129998999999998,\n",
       "    'Close Price': 103.67}},\n",
       "  '2022-04-29T02:30:37.000Z': {'BTC': {'Ask': 39678.699999,\n",
       "    'Bid': 39600.0,\n",
       "    'Ask Volume': 0.13190264,\n",
       "    'Bid Volume': 0.00036369,\n",
       "    'Spread': 78.69999899999675,\n",
       "    'Close Price': 39664.4},\n",
       "   'ETH': {'Ask': 2920.769999,\n",
       "    'Bid': 2905.460001,\n",
       "    'Ask Volume': 0.00241215,\n",
       "    'Bid Volume': 0.11455006,\n",
       "    'Spread': 15.309998000000178,\n",
       "    'Close Price': 2918.99},\n",
       "   'LTC': {'Ask': 104.34,\n",
       "    'Bid': 103.25,\n",
       "    'Ask Volume': 1.368,\n",
       "    'Bid Volume': 5.143,\n",
       "    'Spread': 1.0900000000000034,\n",
       "    'Close Price': 103.72}},\n",
       "  '2022-04-29T02:31:39.000Z': {'BTC': {'Ask': 39678.699999,\n",
       "    'Bid': 39600.0,\n",
       "    'Ask Volume': 0.13190264,\n",
       "    'Bid Volume': 0.00036369,\n",
       "    'Spread': 78.69999899999675,\n",
       "    'Close Price': 39664.4},\n",
       "   'ETH': {'Ask': 2920.769999,\n",
       "    'Bid': 2905.460001,\n",
       "    'Ask Volume': 0.00241215,\n",
       "    'Bid Volume': 0.11455006,\n",
       "    'Spread': 15.309998000000178,\n",
       "    'Close Price': 2918.1},\n",
       "   'LTC': {'Ask': 104.38,\n",
       "    'Bid': 103.170001,\n",
       "    'Ask Volume': 1.368,\n",
       "    'Bid Volume': 11.74109803,\n",
       "    'Spread': 1.2099989999999963,\n",
       "    'Close Price': 103.67}},\n",
       "  '2022-04-29T02:32:42.000Z': {'BTC': {'Ask': 39678.699999,\n",
       "    'Bid': 39600.0,\n",
       "    'Ask Volume': 0.13190264,\n",
       "    'Bid Volume': 0.00036369,\n",
       "    'Spread': 78.69999899999675,\n",
       "    'Close Price': 39681.5},\n",
       "   'ETH': {'Ask': 2919.009999,\n",
       "    'Bid': 2905.460001,\n",
       "    'Ask Volume': 0.00241215,\n",
       "    'Bid Volume': 0.11455006,\n",
       "    'Spread': 13.54999799999996,\n",
       "    'Close Price': 2918.42},\n",
       "   'LTC': {'Ask': 104.4,\n",
       "    'Bid': 103.21,\n",
       "    'Ask Volume': 1.368,\n",
       "    'Bid Volume': 5.145,\n",
       "    'Spread': 1.190000000000012,\n",
       "    'Close Price': 103.8}},\n",
       "  '2022-04-29T02:33:44.000Z': {'BTC': {'Ask': 39678.699999,\n",
       "    'Bid': 39600.0,\n",
       "    'Ask Volume': 0.13190264,\n",
       "    'Bid Volume': 0.00036369,\n",
       "    'Spread': 78.69999899999675,\n",
       "    'Close Price': 39681.5},\n",
       "   'ETH': {'Ask': 2919.009999,\n",
       "    'Bid': 2905.460001,\n",
       "    'Ask Volume': 0.00241215,\n",
       "    'Bid Volume': 0.11455006,\n",
       "    'Spread': 13.54999799999996,\n",
       "    'Close Price': 2916.15},\n",
       "   'LTC': {'Ask': 104.48,\n",
       "    'Bid': 103.390001,\n",
       "    'Ask Volume': 1.368,\n",
       "    'Bid Volume': 11.71611455,\n",
       "    'Spread': 1.089999000000006,\n",
       "    'Close Price': 103.74}},\n",
       "  '2022-04-29T02:34:46.000Z': {'BTC': {'Ask': 39678.699999,\n",
       "    'Bid': 39600.0,\n",
       "    'Ask Volume': 0.13190264,\n",
       "    'Bid Volume': 0.00036369,\n",
       "    'Spread': 78.69999899999675,\n",
       "    'Close Price': 39681.5},\n",
       "   'ETH': {'Ask': 2919.009999,\n",
       "    'Bid': 2905.460001,\n",
       "    'Ask Volume': 0.00241215,\n",
       "    'Bid Volume': 0.11455006,\n",
       "    'Spread': 13.54999799999996,\n",
       "    'Close Price': 2917.52},\n",
       "   'LTC': {'Ask': 104.5,\n",
       "    'Bid': 103.19,\n",
       "    'Ask Volume': 0.44196189,\n",
       "    'Bid Volume': 5.146,\n",
       "    'Spread': 1.3100000000000023,\n",
       "    'Close Price': 103.76}},\n",
       "  '2022-04-29T02:35:48.000Z': {'BTC': {'Ask': 39678.699999,\n",
       "    'Bid': 39600.0,\n",
       "    'Ask Volume': 0.13190264,\n",
       "    'Bid Volume': 0.00036369,\n",
       "    'Spread': 78.69999899999675,\n",
       "    'Close Price': 39681.5},\n",
       "   'ETH': {'Ask': 2919.009999,\n",
       "    'Bid': 2905.460001,\n",
       "    'Ask Volume': 0.00241215,\n",
       "    'Bid Volume': 0.11455006,\n",
       "    'Spread': 13.54999799999996,\n",
       "    'Close Price': 2917.52},\n",
       "   'LTC': {'Ask': 104.36,\n",
       "    'Bid': 103.39,\n",
       "    'Ask Volume': 1.368,\n",
       "    'Bid Volume': 5.136,\n",
       "    'Spread': 0.9699999999999989,\n",
       "    'Close Price': 103.78}},\n",
       "  '2022-04-29T02:36:51.000Z': {'BTC': {'Ask': 39678.699999,\n",
       "    'Bid': 39600.0,\n",
       "    'Ask Volume': 0.13190264,\n",
       "    'Bid Volume': 0.00036369,\n",
       "    'Spread': 78.69999899999675,\n",
       "    'Close Price': 39677.6},\n",
       "   'ETH': {'Ask': 2919.009999,\n",
       "    'Bid': 2905.460001,\n",
       "    'Ask Volume': 0.00241215,\n",
       "    'Bid Volume': 0.11455006,\n",
       "    'Spread': 13.54999799999996,\n",
       "    'Close Price': 2917.52},\n",
       "   'LTC': {'Ask': 104.32,\n",
       "    'Bid': 103.25,\n",
       "    'Ask Volume': 1.368,\n",
       "    'Bid Volume': 5.143,\n",
       "    'Spread': 1.0699999999999932,\n",
       "    'Close Price': 103.66}},\n",
       "  '2022-04-29T02:37:54.000Z': {'BTC': {'Ask': 39678.699999,\n",
       "    'Bid': 39600.0,\n",
       "    'Ask Volume': 0.13190264,\n",
       "    'Bid Volume': 0.00036369,\n",
       "    'Spread': 78.69999899999675,\n",
       "    'Close Price': 39677.6},\n",
       "   'ETH': {'Ask': 2919.009999,\n",
       "    'Bid': 2905.460001,\n",
       "    'Ask Volume': 0.00241215,\n",
       "    'Bid Volume': 0.11455006,\n",
       "    'Spread': 13.54999799999996,\n",
       "    'Close Price': 2917.8},\n",
       "   'LTC': {'Ask': 104.48,\n",
       "    'Bid': 103.11,\n",
       "    'Ask Volume': 1.368,\n",
       "    'Bid Volume': 5.15,\n",
       "    'Spread': 1.3700000000000045,\n",
       "    'Close Price': 103.66}},\n",
       "  '2022-04-29T02:38:57.000Z': {'BTC': {'Ask': 39678.699999,\n",
       "    'Bid': 39600.0,\n",
       "    'Ask Volume': 0.13190264,\n",
       "    'Bid Volume': 0.00036369,\n",
       "    'Spread': 78.69999899999675,\n",
       "    'Close Price': 39677.6},\n",
       "   'ETH': {'Ask': 2919.009999,\n",
       "    'Bid': 2905.460001,\n",
       "    'Ask Volume': 0.00241215,\n",
       "    'Bid Volume': 0.11455006,\n",
       "    'Spread': 13.54999799999996,\n",
       "    'Close Price': 2918.1},\n",
       "   'LTC': {'Ask': 104.079999,\n",
       "    'Bid': 102.95,\n",
       "    'Ask Volume': 0.49941957,\n",
       "    'Bid Volume': 5.158,\n",
       "    'Spread': 1.129998999999998,\n",
       "    'Close Price': 103.66}},\n",
       "  '2022-04-29T02:40:00.000Z': {'BTC': {'Ask': 39678.699999,\n",
       "    'Bid': 39600.0,\n",
       "    'Ask Volume': 0.13190264,\n",
       "    'Bid Volume': 0.00036369,\n",
       "    'Spread': 78.69999899999675,\n",
       "    'Close Price': 39677.6},\n",
       "   'ETH': {'Ask': 2919.009999,\n",
       "    'Bid': 2905.460001,\n",
       "    'Ask Volume': 0.00241215,\n",
       "    'Bid Volume': 0.11455006,\n",
       "    'Spread': 13.54999799999996,\n",
       "    'Close Price': 2918.1},\n",
       "   'LTC': {'Ask': 103.9,\n",
       "    'Bid': 102.81,\n",
       "    'Ask Volume': 1.368,\n",
       "    'Bid Volume': 5.165,\n",
       "    'Spread': 1.0900000000000034,\n",
       "    'Close Price': 103.44}},\n",
       "  '2022-04-29T02:41:02.000Z': {'BTC': {'Ask': 39678.699999,\n",
       "    'Bid': 39600.0,\n",
       "    'Ask Volume': 0.13190264,\n",
       "    'Bid Volume': 0.00036369,\n",
       "    'Spread': 78.69999899999675,\n",
       "    'Close Price': 39677.6},\n",
       "   'ETH': {'Ask': 2919.009999,\n",
       "    'Bid': 2905.460001,\n",
       "    'Ask Volume': 0.00241215,\n",
       "    'Bid Volume': 0.11455006,\n",
       "    'Spread': 13.54999799999996,\n",
       "    'Close Price': 2918.1},\n",
       "   'LTC': {'Ask': 104.44,\n",
       "    'Bid': 103.13,\n",
       "    'Ask Volume': 1.368,\n",
       "    'Bid Volume': 5.149,\n",
       "    'Spread': 1.3100000000000023,\n",
       "    'Close Price': 103.64}},\n",
       "  '2022-04-29T02:42:04.000Z': {'BTC': {'Ask': 39678.699999,\n",
       "    'Bid': 39600.0,\n",
       "    'Ask Volume': 0.13190264,\n",
       "    'Bid Volume': 0.00036369,\n",
       "    'Spread': 78.69999899999675,\n",
       "    'Close Price': 39675.3},\n",
       "   'ETH': {'Ask': 2919.009999,\n",
       "    'Bid': 2905.460001,\n",
       "    'Ask Volume': 0.00241215,\n",
       "    'Bid Volume': 0.11455006,\n",
       "    'Spread': 13.54999799999996,\n",
       "    'Close Price': 2918.1},\n",
       "   'LTC': {'Ask': 104.2,\n",
       "    'Bid': 103.190007,\n",
       "    'Ask Volume': 1.368,\n",
       "    'Bid Volume': 18.92835,\n",
       "    'Spread': 1.0099930000000086,\n",
       "    'Close Price': 103.63}},\n",
       "  '2022-04-29T02:43:07.000Z': {'BTC': {'Ask': 39678.699999,\n",
       "    'Bid': 39600.0,\n",
       "    'Ask Volume': 0.13190264,\n",
       "    'Bid Volume': 0.00036369,\n",
       "    'Spread': 78.69999899999675,\n",
       "    'Close Price': 39675.3},\n",
       "   'ETH': {'Ask': 2919.009999,\n",
       "    'Bid': 2905.460001,\n",
       "    'Ask Volume': 0.00241215,\n",
       "    'Bid Volume': 0.11455006,\n",
       "    'Spread': 13.54999799999996,\n",
       "    'Close Price': 2918.1},\n",
       "   'LTC': {'Ask': 104.319999,\n",
       "    'Bid': 103.250003,\n",
       "    'Ask Volume': 0.49941957,\n",
       "    'Bid Volume': 18.92835,\n",
       "    'Spread': 1.069995999999989,\n",
       "    'Close Price': 103.63}},\n",
       "  '2022-04-29T02:44:09.000Z': {'BTC': {'Ask': 39678.699999,\n",
       "    'Bid': 39600.0,\n",
       "    'Ask Volume': 0.13190264,\n",
       "    'Bid Volume': 0.00036369,\n",
       "    'Spread': 78.69999899999675,\n",
       "    'Close Price': 39688.2},\n",
       "   'ETH': {'Ask': 2919.009999,\n",
       "    'Bid': 2905.460001,\n",
       "    'Ask Volume': 0.00241215,\n",
       "    'Bid Volume': 0.11455006,\n",
       "    'Spread': 13.54999799999996,\n",
       "    'Close Price': 2920.2},\n",
       "   'LTC': {'Ask': 104.4,\n",
       "    'Bid': 103.21,\n",
       "    'Ask Volume': 1.368,\n",
       "    'Bid Volume': 5.145,\n",
       "    'Spread': 1.190000000000012,\n",
       "    'Close Price': 103.63}},\n",
       "  '2022-04-29T02:45:11.000Z': {'BTC': {'Ask': 39706.499998,\n",
       "    'Bid': 39600.0,\n",
       "    'Ask Volume': 0.00016607,\n",
       "    'Bid Volume': 0.00036369,\n",
       "    'Spread': 106.49999799999932,\n",
       "    'Close Price': 39688.2},\n",
       "   'ETH': {'Ask': 2919.009999,\n",
       "    'Bid': 2905.460001,\n",
       "    'Ask Volume': 0.00241215,\n",
       "    'Bid Volume': 0.11455006,\n",
       "    'Spread': 13.54999799999996,\n",
       "    'Close Price': 2921.32},\n",
       "   'LTC': {'Ask': 104.359999,\n",
       "    'Bid': 103.290003,\n",
       "    'Ask Volume': 0.49941957,\n",
       "    'Bid Volume': 18.92835,\n",
       "    'Spread': 1.0699960000000033,\n",
       "    'Close Price': 103.63}},\n",
       "  '2022-04-29T02:46:14.000Z': {'BTC': {'Ask': 39706.499998,\n",
       "    'Bid': 39600.0,\n",
       "    'Ask Volume': 0.00016607,\n",
       "    'Bid Volume': 0.00036369,\n",
       "    'Spread': 106.49999799999932,\n",
       "    'Close Price': 39688.2},\n",
       "   'ETH': {'Ask': 2919.009999,\n",
       "    'Bid': 2905.460001,\n",
       "    'Ask Volume': 0.00241215,\n",
       "    'Bid Volume': 0.11455006,\n",
       "    'Spread': 13.54999799999996,\n",
       "    'Close Price': 2922.06},\n",
       "   'LTC': {'Ask': 104.3,\n",
       "    'Bid': 103.31,\n",
       "    'Ask Volume': 1.368,\n",
       "    'Bid Volume': 5.14,\n",
       "    'Spread': 0.9899999999999949,\n",
       "    'Close Price': 103.69}},\n",
       "  '2022-04-29T02:47:17.000Z': {'BTC': {'Ask': 39706.499998,\n",
       "    'Bid': 39600.0,\n",
       "    'Ask Volume': 0.00016607,\n",
       "    'Bid Volume': 0.00036369,\n",
       "    'Spread': 106.49999799999932,\n",
       "    'Close Price': 39725.1},\n",
       "   'ETH': {'Ask': 2921.35,\n",
       "    'Bid': 2905.460001,\n",
       "    'Ask Volume': 0.14,\n",
       "    'Bid Volume': 0.11455006,\n",
       "    'Spread': 15.889998999999989,\n",
       "    'Close Price': 2922.05},\n",
       "   'LTC': {'Ask': 104.44,\n",
       "    'Bid': 103.33,\n",
       "    'Ask Volume': 1.368,\n",
       "    'Bid Volume': 5.139,\n",
       "    'Spread': 1.1099999999999994,\n",
       "    'Close Price': 103.69}},\n",
       "  '2022-04-29T02:48:19.000Z': {'BTC': {'Ask': 39706.499998,\n",
       "    'Bid': 39600.0,\n",
       "    'Ask Volume': 0.00016607,\n",
       "    'Bid Volume': 0.00036369,\n",
       "    'Spread': 106.49999799999932,\n",
       "    'Close Price': 39725.1},\n",
       "   'ETH': {'Ask': 2921.35,\n",
       "    'Bid': 2903.51,\n",
       "    'Ask Volume': 0.14,\n",
       "    'Bid Volume': 0.14,\n",
       "    'Spread': 17.83999999999969,\n",
       "    'Close Price': 2922.06},\n",
       "   'LTC': {'Ask': 104.3,\n",
       "    'Bid': 103.270003,\n",
       "    'Ask Volume': 1.368,\n",
       "    'Bid Volume': 18.92835,\n",
       "    'Spread': 1.0299969999999945,\n",
       "    'Close Price': 103.69}},\n",
       "  '2022-04-29T02:49:23.000Z': {'BTC': {'Ask': 39706.499998,\n",
       "    'Bid': 39600.0,\n",
       "    'Ask Volume': 0.00016607,\n",
       "    'Bid Volume': 0.00036369,\n",
       "    'Spread': 106.49999799999932,\n",
       "    'Close Price': 39725.1},\n",
       "   'ETH': {'Ask': 2921.35,\n",
       "    'Bid': 2905.270001,\n",
       "    'Ask Volume': 0.14,\n",
       "    'Bid Volume': 0.11487554,\n",
       "    'Spread': 16.079999000000043,\n",
       "    'Close Price': 2921.54},\n",
       "   'LTC': {'Ask': 104.3,\n",
       "    'Bid': 103.290003,\n",
       "    'Ask Volume': 1.368,\n",
       "    'Bid Volume': 18.92835,\n",
       "    'Spread': 1.0099969999999985,\n",
       "    'Close Price': 103.72}},\n",
       "  '2022-04-29T02:50:26.000Z': {'BTC': {'Ask': 39706.499998,\n",
       "    'Bid': 39600.0,\n",
       "    'Ask Volume': 0.00016607,\n",
       "    'Bid Volume': 0.00036369,\n",
       "    'Spread': 106.49999799999932,\n",
       "    'Close Price': 39725.1},\n",
       "   'ETH': {'Ask': 2921.35,\n",
       "    'Bid': 2905.270001,\n",
       "    'Ask Volume': 0.14,\n",
       "    'Bid Volume': 0.11487554,\n",
       "    'Spread': 16.079999000000043,\n",
       "    'Close Price': 2921.53},\n",
       "   'LTC': {'Ask': 104.48,\n",
       "    'Bid': 103.290003,\n",
       "    'Ask Volume': 1.368,\n",
       "    'Bid Volume': 18.92835,\n",
       "    'Spread': 1.1899970000000053,\n",
       "    'Close Price': 103.72}},\n",
       "  '2022-04-29T02:51:30.000Z': {'BTC': {'Ask': 39706.499998,\n",
       "    'Bid': 39600.0,\n",
       "    'Ask Volume': 0.00016607,\n",
       "    'Bid Volume': 0.00036369,\n",
       "    'Spread': 106.49999799999932,\n",
       "    'Close Price': 39725.1},\n",
       "   'ETH': {'Ask': 2921.35,\n",
       "    'Bid': 2905.270001,\n",
       "    'Ask Volume': 0.14,\n",
       "    'Bid Volume': 0.11487554,\n",
       "    'Spread': 16.079999000000043,\n",
       "    'Close Price': 2920.5},\n",
       "   'LTC': {'Ask': 104.2,\n",
       "    'Bid': 103.290003,\n",
       "    'Ask Volume': 1.368,\n",
       "    'Bid Volume': 18.92835,\n",
       "    'Spread': 0.9099970000000042,\n",
       "    'Close Price': 103.72}},\n",
       "  '2022-04-29T02:52:33.000Z': {'BTC': {'Ask': 39706.499998,\n",
       "    'Bid': 39600.0,\n",
       "    'Ask Volume': 0.00016607,\n",
       "    'Bid Volume': 0.00036369,\n",
       "    'Spread': 106.49999799999932,\n",
       "    'Close Price': 39688.5},\n",
       "   'ETH': {'Ask': 2921.35,\n",
       "    'Bid': 2905.270001,\n",
       "    'Ask Volume': 0.14,\n",
       "    'Bid Volume': 0.11487554,\n",
       "    'Spread': 16.079999000000043,\n",
       "    'Close Price': 2920.63},\n",
       "   'LTC': {'Ask': 104.419999,\n",
       "    'Bid': 103.290003,\n",
       "    'Ask Volume': 0.49941957,\n",
       "    'Bid Volume': 18.92835,\n",
       "    'Spread': 1.1299960000000056,\n",
       "    'Close Price': 103.74}},\n",
       "  '2022-04-29T02:53:35.000Z': {'BTC': {'Ask': 39706.499998,\n",
       "    'Bid': 39600.0,\n",
       "    'Ask Volume': 0.00016607,\n",
       "    'Bid Volume': 0.00036369,\n",
       "    'Spread': 106.49999799999932,\n",
       "    'Close Price': 39683.0},\n",
       "   'ETH': {'Ask': 2921.349999,\n",
       "    'Bid': 2905.270001,\n",
       "    'Ask Volume': 0.4824307,\n",
       "    'Bid Volume': 0.11487554,\n",
       "    'Spread': 16.07999800000016,\n",
       "    'Close Price': 2918.62},\n",
       "   'LTC': {'Ask': 104.44,\n",
       "    'Bid': 103.290003,\n",
       "    'Ask Volume': 1.368,\n",
       "    'Bid Volume': 18.92835,\n",
       "    'Spread': 1.149996999999999,\n",
       "    'Close Price': 103.69}},\n",
       "  '2022-04-29T02:54:38.000Z': {'BTC': {'Ask': 39682.199999,\n",
       "    'Bid': 39600.0,\n",
       "    'Ask Volume': 0.13013534,\n",
       "    'Bid Volume': 0.00036369,\n",
       "    'Spread': 82.19999899999675,\n",
       "    'Close Price': 39659.5},\n",
       "   'ETH': {'Ask': 2921.13996,\n",
       "    'Bid': 2905.270001,\n",
       "    'Ask Volume': 1.49983666,\n",
       "    'Bid Volume': 0.11480595,\n",
       "    'Spread': 15.869959000000108,\n",
       "    'Close Price': 2916.33},\n",
       "   'LTC': {'Ask': 104.2,\n",
       "    'Bid': 102.810001,\n",
       "    'Ask Volume': 1.368,\n",
       "    'Bid Volume': 9.76550366,\n",
       "    'Spread': 1.389999000000003,\n",
       "    'Close Price': 103.69}},\n",
       "  '2022-04-29T02:55:40.000Z': {'BTC': {'Ask': 39682.121035,\n",
       "    'Bid': 39600.0,\n",
       "    'Ask Volume': 0.10367639,\n",
       "    'Bid Volume': 0.00036369,\n",
       "    'Spread': 82.12103499999648,\n",
       "    'Close Price': 39559.0},\n",
       "   'ETH': {'Ask': 2920.73999,\n",
       "    'Bid': 2885.14848,\n",
       "    'Ask Volume': 1.49983666,\n",
       "    'Bid Volume': 0.0080442,\n",
       "    'Spread': 35.5915100000002,\n",
       "    'Close Price': 2913.3},\n",
       "   'LTC': {'Ask': 103.999999,\n",
       "    'Bid': 102.670001,\n",
       "    'Ask Volume': 0.49941957,\n",
       "    'Bid Volume': 11.79827684,\n",
       "    'Spread': 1.3299980000000033,\n",
       "    'Close Price': 103.41}},\n",
       "  '2022-04-29T02:56:42.000Z': {'BTC': {'Ask': 39583.889999,\n",
       "    'Bid': 39501.20001,\n",
       "    'Ask Volume': 0.10367639,\n",
       "    'Bid Volume': 0.0041,\n",
       "    'Spread': 82.6899889999986,\n",
       "    'Close Price': 39540.9},\n",
       "   'ETH': {'Ask': 2906.65,\n",
       "    'Bid': 2885.14848,\n",
       "    'Ask Volume': 0.14,\n",
       "    'Bid Volume': 0.0080442,\n",
       "    'Spread': 21.501520000000255,\n",
       "    'Close Price': 2910.26},\n",
       "   'LTC': {'Ask': 103.9,\n",
       "    'Bid': 102.57,\n",
       "    'Ask Volume': 1.368,\n",
       "    'Bid Volume': 5.177,\n",
       "    'Spread': 1.3300000000000125,\n",
       "    'Close Price': 103.41}},\n",
       "  '2022-04-29T02:57:45.000Z': {'BTC': {'Ask': 39582.759973,\n",
       "    'Bid': 39501.20001,\n",
       "    'Ask Volume': 0.10367639,\n",
       "    'Bid Volume': 0.00332919,\n",
       "    'Spread': 81.5599629999997,\n",
       "    'Close Price': 39495.2},\n",
       "   'ETH': {'Ask': 2900.449995,\n",
       "    'Bid': 2885.148479,\n",
       "    'Ask Volume': 0.49,\n",
       "    'Bid Volume': 0.00100144,\n",
       "    'Spread': 15.301515999999992,\n",
       "    'Close Price': 2907.63},\n",
       "   'LTC': {'Ask': 103.9,\n",
       "    'Bid': 102.930003,\n",
       "    'Ask Volume': 1.368,\n",
       "    'Bid Volume': 18.92835,\n",
       "    'Spread': 0.9699970000000064,\n",
       "    'Close Price': 103.41}},\n",
       "  '2022-04-29T02:58:47.000Z': {'BTC': {'Ask': 39582.529919,\n",
       "    'Bid': 39501.20001,\n",
       "    'Ask Volume': 0.2277219,\n",
       "    'Bid Volume': 0.00332919,\n",
       "    'Spread': 81.32990900000004,\n",
       "    'Close Price': 39514.8},\n",
       "   'ETH': {'Ask': 2897.25,\n",
       "    'Bid': 2876.562519,\n",
       "    'Ask Volume': 0.14,\n",
       "    'Bid Volume': 0.00819071,\n",
       "    'Spread': 20.687480999999934,\n",
       "    'Close Price': 2910.6},\n",
       "   'LTC': {'Ask': 104.12,\n",
       "    'Bid': 102.99,\n",
       "    'Ask Volume': 1.368,\n",
       "    'Bid Volume': 5.156,\n",
       "    'Spread': 1.1300000000000097,\n",
       "    'Close Price': 103.5}},\n",
       "  '2022-04-29T02:59:48.000Z': {'BTC': {'Ask': 39582.289868,\n",
       "    'Bid': 39501.20001,\n",
       "    'Ask Volume': 0.20437632,\n",
       "    'Bid Volume': 0.00332919,\n",
       "    'Spread': 81.08985799999937,\n",
       "    'Close Price': 39528.4},\n",
       "   'ETH': {'Ask': 2900.53,\n",
       "    'Bid': 2876.562519,\n",
       "    'Ask Volume': 0.14,\n",
       "    'Bid Volume': 0.00819071,\n",
       "    'Spread': 23.967481000000134,\n",
       "    'Close Price': 2910.12},\n",
       "   'LTC': {'Ask': 104.0,\n",
       "    'Bid': 103.05,\n",
       "    'Ask Volume': 1.368,\n",
       "    'Bid Volume': 5.153,\n",
       "    'Spread': 0.9500000000000028,\n",
       "    'Close Price': 103.47}},\n",
       "  '2022-04-29T03:00:51.000Z': {'BTC': {'Ask': 39582.009813,\n",
       "    'Bid': 39501.20001,\n",
       "    'Ask Volume': 0.10367639,\n",
       "    'Bid Volume': 0.00332919,\n",
       "    'Spread': 80.80980299999646,\n",
       "    'Close Price': 39506.5},\n",
       "   'ETH': {'Ask': 2900.8,\n",
       "    'Bid': 2876.862581,\n",
       "    'Ask Volume': 0.14,\n",
       "    'Bid Volume': 0.00818986,\n",
       "    'Spread': 23.937419000000318,\n",
       "    'Close Price': 2908.79},\n",
       "   'LTC': {'Ask': 103.9,\n",
       "    'Bid': 102.85,\n",
       "    'Ask Volume': 1.368,\n",
       "    'Bid Volume': 5.163,\n",
       "    'Spread': 1.0500000000000114,\n",
       "    'Close Price': 103.49}},\n",
       "  '2022-04-29T03:01:53.000Z': {'BTC': {'Ask': 39581.739758,\n",
       "    'Bid': 39501.20001,\n",
       "    'Ask Volume': 0.086,\n",
       "    'Bid Volume': 0.00332919,\n",
       "    'Spread': 80.53974800000287,\n",
       "    'Close Price': 39506.5},\n",
       "   'ETH': {'Ask': 2901.35,\n",
       "    'Bid': 2880.810002,\n",
       "    'Ask Volume': 0.14,\n",
       "    'Bid Volume': 0.04228772,\n",
       "    'Spread': 20.53999799999974,\n",
       "    'Close Price': 2909.38},\n",
       "   'LTC': {'Ask': 103.9,\n",
       "    'Bid': 102.79,\n",
       "    'Ask Volume': 1.368,\n",
       "    'Bid Volume': 5.166,\n",
       "    'Spread': 1.1099999999999994,\n",
       "    'Close Price': 103.37}},\n",
       "  '2022-04-29T03:02:55.000Z': {'BTC': {'Ask': 39581.469705,\n",
       "    'Bid': 39501.20001,\n",
       "    'Ask Volume': 0.10367639,\n",
       "    'Bid Volume': 0.00332919,\n",
       "    'Spread': 80.26969500000268,\n",
       "    'Close Price': 39495.1},\n",
       "   'ETH': {'Ask': 2903.17,\n",
       "    'Bid': 2884.520002,\n",
       "    'Ask Volume': 0.14,\n",
       "    'Bid Volume': 0.04223333,\n",
       "    'Spread': 18.64999799999987,\n",
       "    'Close Price': 2909.38},\n",
       "   'LTC': {'Ask': 103.9,\n",
       "    'Bid': 102.890003,\n",
       "    'Ask Volume': 1.368,\n",
       "    'Bid Volume': 18.92835,\n",
       "    'Spread': 1.0099970000000127,\n",
       "    'Close Price': 103.4}},\n",
       "  '2022-04-29T03:03:56.000Z': {'BTC': {'Ask': 39581.359647,\n",
       "    'Bid': 39501.20001,\n",
       "    'Ask Volume': 0.086,\n",
       "    'Bid Volume': 0.00332919,\n",
       "    'Spread': 80.15963699999702,\n",
       "    'Close Price': 39518.6},\n",
       "   'ETH': {'Ask': 2902.94,\n",
       "    'Bid': 2886.230003,\n",
       "    'Ask Volume': 0.14,\n",
       "    'Bid Volume': 0.04220831,\n",
       "    'Spread': 16.70999699999993,\n",
       "    'Close Price': 2911.5},\n",
       "   'LTC': {'Ask': 103.9,\n",
       "    'Bid': 102.97,\n",
       "    'Ask Volume': 1.368,\n",
       "    'Bid Volume': 5.157,\n",
       "    'Spread': 0.9300000000000068,\n",
       "    'Close Price': 103.34}},\n",
       "  '2022-04-29T03:04:58.000Z': {'BTC': {'Ask': 39582.829966,\n",
       "    'Bid': 39501.20001,\n",
       "    'Ask Volume': 0.13863063,\n",
       "    'Bid Volume': 0.00332919,\n",
       "    'Spread': 81.62995599999704,\n",
       "    'Close Price': 39518.6},\n",
       "   'ETH': {'Ask': 2902.67,\n",
       "    'Bid': 2887.400006,\n",
       "    'Ask Volume': 0.1323898,\n",
       "    'Bid Volume': 0.0421912,\n",
       "    'Spread': 15.269994000000224,\n",
       "    'Close Price': 2912.7},\n",
       "   'LTC': {'Ask': 103.9,\n",
       "    'Bid': 102.51,\n",
       "    'Ask Volume': 1.368,\n",
       "    'Bid Volume': 5.18,\n",
       "    'Spread': 1.3900000000000006,\n",
       "    'Close Price': 103.44}},\n",
       "  '2022-04-29T03:06:01.000Z': {'BTC': {'Ask': 39582.509909,\n",
       "    'Bid': 39501.20001,\n",
       "    'Ask Volume': 0.19297718,\n",
       "    'Bid Volume': 0.00332919,\n",
       "    'Spread': 81.30989899999986,\n",
       "    'Close Price': 39525.1},\n",
       "   'ETH': {'Ask': 2902.29,\n",
       "    'Bid': 2887.400006,\n",
       "    'Ask Volume': 0.13238423,\n",
       "    'Bid Volume': 0.0421912,\n",
       "    'Spread': 14.889994000000115,\n",
       "    'Close Price': 2910.83},\n",
       "   'LTC': {'Ask': 103.9,\n",
       "    'Bid': 102.890003,\n",
       "    'Ask Volume': 1.368,\n",
       "    'Bid Volume': 18.92835,\n",
       "    'Spread': 1.0099970000000127,\n",
       "    'Close Price': 103.41}},\n",
       "  '2022-04-29T03:07:03.000Z': {'BTC': {'Ask': 39582.259847,\n",
       "    'Bid': 39501.20001,\n",
       "    'Ask Volume': 0.12367264,\n",
       "    'Bid Volume': 0.00332919,\n",
       "    'Spread': 81.0598370000007,\n",
       "    'Close Price': 39525.1},\n",
       "   'ETH': {'Ask': 2903.73,\n",
       "    'Bid': 2887.980002,\n",
       "    'Ask Volume': 0.13207714,\n",
       "    'Bid Volume': 0.04218273,\n",
       "    'Spread': 15.749998000000232,\n",
       "    'Close Price': 2913.09},\n",
       "   'LTC': {'Ask': 103.9,\n",
       "    'Bid': 102.91,\n",
       "    'Ask Volume': 1.368,\n",
       "    'Bid Volume': 5.16,\n",
       "    'Spread': 0.9900000000000091,\n",
       "    'Close Price': 103.41}},\n",
       "  '2022-04-29T03:08:05.000Z': {'BTC': {'Ask': 39582.009785,\n",
       "    'Bid': 39501.20001,\n",
       "    'Ask Volume': 0.086,\n",
       "    'Bid Volume': 0.00332919,\n",
       "    'Spread': 80.80977500000154,\n",
       "    'Close Price': 39534.0},\n",
       "   'ETH': {'Ask': 2903.72,\n",
       "    'Bid': 2888.360002,\n",
       "    'Ask Volume': 0.13223418,\n",
       "    'Bid Volume': 0.04217718,\n",
       "    'Spread': 15.359997999999905,\n",
       "    'Close Price': 2912.72},\n",
       "   'LTC': {'Ask': 103.9,\n",
       "    'Bid': 102.990003,\n",
       "    'Ask Volume': 1.368,\n",
       "    'Bid Volume': 18.92835,\n",
       "    'Spread': 0.9099970000000042,\n",
       "    'Close Price': 103.48}},\n",
       "  '2022-04-29T03:09:07.000Z': {'BTC': {'Ask': 39581.709728,\n",
       "    'Bid': 39501.20001,\n",
       "    'Ask Volume': 0.086,\n",
       "    'Bid Volume': 0.00332919,\n",
       "    'Spread': 80.50971800000116,\n",
       "    'Close Price': 39534.0},\n",
       "   'ETH': {'Ask': 2903.7,\n",
       "    'Bid': 2888.560002,\n",
       "    'Ask Volume': 0.14,\n",
       "    'Bid Volume': 0.04217426,\n",
       "    'Spread': 15.13999799999965,\n",
       "    'Close Price': 2912.53},\n",
       "   'LTC': {'Ask': 103.9,\n",
       "    'Bid': 102.55,\n",
       "    'Ask Volume': 1.368,\n",
       "    'Bid Volume': 5.178,\n",
       "    'Spread': 1.3500000000000085,\n",
       "    'Close Price': 103.48}},\n",
       "  '2022-04-29T03:10:09.000Z': {'BTC': {'Ask': 39581.459679,\n",
       "    'Bid': 39501.20001,\n",
       "    'Ask Volume': 0.24040819,\n",
       "    'Bid Volume': 0.00332919,\n",
       "    'Spread': 80.25966899999912,\n",
       "    'Close Price': 39520.2},\n",
       "   'ETH': {'Ask': 2903.7,\n",
       "    'Bid': 2888.560002,\n",
       "    'Ask Volume': 0.13207605,\n",
       "    'Bid Volume': 0.04217426,\n",
       "    'Spread': 15.13999799999965,\n",
       "    'Close Price': 2912.72},\n",
       "   'LTC': {'Ask': 103.9,\n",
       "    'Bid': 102.890003,\n",
       "    'Ask Volume': 1.368,\n",
       "    'Bid Volume': 18.92835,\n",
       "    'Spread': 1.0099970000000127,\n",
       "    'Close Price': 103.48}},\n",
       "  '2022-04-29T03:11:12.000Z': {'BTC': {'Ask': 39581.179623,\n",
       "    'Bid': 39501.20001,\n",
       "    'Ask Volume': 0.10367639,\n",
       "    'Bid Volume': 0.00332919,\n",
       "    'Spread': 79.97961300000316,\n",
       "    'Close Price': 39521.4},\n",
       "   'ETH': {'Ask': 2905.51,\n",
       "    'Bid': 2888.560002,\n",
       "    'Ask Volume': 0.14,\n",
       "    'Bid Volume': 0.04217426,\n",
       "    'Spread': 16.94999800000005,\n",
       "    'Close Price': 2912.72},\n",
       "   'LTC': {'Ask': 104.36,\n",
       "    'Bid': 102.930003,\n",
       "    'Ask Volume': 1.368,\n",
       "    'Bid Volume': 18.92835,\n",
       "    'Spread': 1.4299970000000002,\n",
       "    'Close Price': 103.34}},\n",
       "  '2022-04-29T03:12:14.000Z': {'BTC': {'Ask': 39580.959578,\n",
       "    'Bid': 39501.20001,\n",
       "    'Ask Volume': 0.086,\n",
       "    'Bid Volume': 0.00332919,\n",
       "    'Spread': 79.75956800000131,\n",
       "    'Close Price': 39521.4},\n",
       "   'ETH': {'Ask': 2910.109999,\n",
       "    'Bid': 2889.900004,\n",
       "    'Ask Volume': 0.58872331,\n",
       "    'Bid Volume': 0.0421547,\n",
       "    'Spread': 20.209994999999708,\n",
       "    'Close Price': 2913.26},\n",
       "   'LTC': {'Ask': 103.9,\n",
       "    'Bid': 102.83,\n",
       "    'Ask Volume': 1.368,\n",
       "    'Bid Volume': 5.164,\n",
       "    'Spread': 1.0700000000000074,\n",
       "    'Close Price': 103.46}},\n",
       "  '2022-04-29T03:13:16.000Z': {'BTC': {'Ask': 39446.189998,\n",
       "    'Bid': 39076.073894,\n",
       "    'Ask Volume': 0.00016607,\n",
       "    'Bid Volume': 0.00941998,\n",
       "    'Spread': 370.11610400000063,\n",
       "    'Close Price': 39478.6},\n",
       "   'ETH': {'Ask': 2910.209996,\n",
       "    'Bid': 2875.335233,\n",
       "    'Ask Volume': 0.58872331,\n",
       "    'Bid Volume': 0.00819421,\n",
       "    'Spread': 34.87476300000026,\n",
       "    'Close Price': 2910.13},\n",
       "   'LTC': {'Ask': 103.699999,\n",
       "    'Bid': 102.49,\n",
       "    'Ask Volume': 0.49941957,\n",
       "    'Bid Volume': 5.181,\n",
       "    'Spread': 1.2099990000000105,\n",
       "    'Close Price': 103.46}},\n",
       "  '2022-04-29T03:14:18.000Z': {'BTC': {'Ask': 39409.499999,\n",
       "    'Bid': 39084.000613,\n",
       "    'Ask Volume': 0.11304204,\n",
       "    'Bid Volume': 0.00941807,\n",
       "    'Spread': 325.49938600000314,\n",
       "    'Close Price': 39323.2},\n",
       "   'ETH': {'Ask': 2910.039962,\n",
       "    'Bid': 2875.845343,\n",
       "    'Ask Volume': 0.58872331,\n",
       "    'Bid Volume': 0.04236072,\n",
       "    'Spread': 34.194618999999875,\n",
       "    'Close Price': 2905.27},\n",
       "   'LTC': {'Ask': 104.2,\n",
       "    'Bid': 102.56,\n",
       "    'Ask Volume': 1.368,\n",
       "    'Bid Volume': 5.178,\n",
       "    'Spread': 1.6400000000000006,\n",
       "    'Close Price': 103.04}},\n",
       "  '2022-04-29T03:15:20.000Z': {'BTC': {'Ask': 39369.399999,\n",
       "    'Bid': 39160.600001,\n",
       "    'Ask Volume': 0.13608582,\n",
       "    'Bid Volume': 0.00939965,\n",
       "    'Spread': 208.79999800000223,\n",
       "    'Close Price': 39393.2},\n",
       "   'ETH': {'Ask': 2900.589984,\n",
       "    'Bid': 2876.315443,\n",
       "    'Ask Volume': 0.58872331,\n",
       "    'Bid Volume': 0.00819142,\n",
       "    'Spread': 24.274541000000227,\n",
       "    'Close Price': 2907.24},\n",
       "   'LTC': {'Ask': 103.7,\n",
       "    'Bid': 102.26,\n",
       "    'Ask Volume': 1.368,\n",
       "    'Bid Volume': 5.193,\n",
       "    'Spread': 1.4399999999999977,\n",
       "    'Close Price': 103.04}},\n",
       "  '2022-04-29T03:16:22.000Z': {'BTC': {'Ask': 39345.099999,\n",
       "    'Bid': 39185.0,\n",
       "    'Ask Volume': 0.11913468,\n",
       "    'Bid Volume': 0.025,\n",
       "    'Spread': 160.0999989999982,\n",
       "    'Close Price': 39393.2},\n",
       "   'ETH': {'Ask': 2900.58993,\n",
       "    'Bid': 2876.685519,\n",
       "    'Ask Volume': 0.58872331,\n",
       "    'Bid Volume': 0.04234835,\n",
       "    'Spread': 23.904410999999982,\n",
       "    'Close Price': 2906.25},\n",
       "   'LTC': {'Ask': 103.4,\n",
       "    'Bid': 102.440003,\n",
       "    'Ask Volume': 1.368,\n",
       "    'Bid Volume': 18.92835,\n",
       "    'Spread': 0.9599970000000013,\n",
       "    'Close Price': 102.93}},\n",
       "  '2022-04-29T03:17:26.000Z': {'BTC': {'Ask': 39395.899999,\n",
       "    'Bid': 39232.9,\n",
       "    'Ask Volume': 0.00016607,\n",
       "    'Bid Volume': 0.025,\n",
       "    'Spread': 162.99999899999966,\n",
       "    'Close Price': 39393.2},\n",
       "   'ETH': {'Ask': 2893.769998,\n",
       "    'Bid': 2877.175622,\n",
       "    'Ask Volume': 0.33498471,\n",
       "    'Bid Volume': 0.04234114,\n",
       "    'Spread': 16.59437600000001,\n",
       "    'Close Price': 2905.37},\n",
       "   'LTC': {'Ask': 104.2,\n",
       "    'Bid': 102.5,\n",
       "    'Ask Volume': 1.368,\n",
       "    'Bid Volume': 5.181,\n",
       "    'Spread': 1.7000000000000028,\n",
       "    'Close Price': 102.9}},\n",
       "  '2022-04-29T03:18:28.000Z': {'BTC': {'Ask': 39395.899999,\n",
       "    'Bid': 39258.9,\n",
       "    'Ask Volume': 0.00016607,\n",
       "    'Bid Volume': 0.025,\n",
       "    'Spread': 136.99999899999966,\n",
       "    'Close Price': 39416.2},\n",
       "   'ETH': {'Ask': 2897.84,\n",
       "    'Bid': 2877.695737,\n",
       "    'Ask Volume': 0.13252804,\n",
       "    'Bid Volume': 0.00814931,\n",
       "    'Spread': 20.144263000000137,\n",
       "    'Close Price': 2909.7},\n",
       "   'LTC': {'Ask': 103.84,\n",
       "    'Bid': 102.32,\n",
       "    'Ask Volume': 1.368,\n",
       "    'Bid Volume': 5.19,\n",
       "    'Spread': 1.5200000000000102,\n",
       "    'Close Price': 102.95}},\n",
       "  '2022-04-29T03:19:30.000Z': {'BTC': {'Ask': 39395.899999,\n",
       "    'Bid': 39258.9,\n",
       "    'Ask Volume': 0.00016607,\n",
       "    'Bid Volume': 0.025,\n",
       "    'Spread': 136.99999899999966,\n",
       "    'Close Price': 39416.2},\n",
       "   'ETH': {'Ask': 2895.15,\n",
       "    'Bid': 2878.230004,\n",
       "    'Ask Volume': 0.14,\n",
       "    'Bid Volume': 0.0081478,\n",
       "    'Spread': 16.919996000000083,\n",
       "    'Close Price': 2909.32},\n",
       "   'LTC': {'Ask': 103.559999,\n",
       "    'Bid': 102.5,\n",
       "    'Ask Volume': 0.49941957,\n",
       "    'Bid Volume': 5.181,\n",
       "    'Spread': 1.0599990000000048,\n",
       "    'Close Price': 102.95}},\n",
       "  '2022-04-29T03:20:32.000Z': {'BTC': {'Ask': 39420.399998,\n",
       "    'Bid': 39283.0,\n",
       "    'Ask Volume': 0.00016607,\n",
       "    'Bid Volume': 0.025,\n",
       "    'Spread': 137.39999800000078,\n",
       "    'Close Price': 39446.4},\n",
       "   'ETH': {'Ask': 2897.07,\n",
       "    'Bid': 2879.08,\n",
       "    'Ask Volume': 0.10920954,\n",
       "    'Bid Volume': 0.0572,\n",
       "    'Spread': 17.990000000000236,\n",
       "    'Close Price': 2910.29},\n",
       "   'LTC': {'Ask': 103.5,\n",
       "    'Bid': 102.140001,\n",
       "    'Ask Volume': 1.368,\n",
       "    'Bid Volume': 21.05969664,\n",
       "    'Spread': 1.359999000000002,\n",
       "    'Close Price': 102.95}},\n",
       "  '2022-04-29T03:21:34.000Z': {'BTC': {'Ask': 39420.399998,\n",
       "    'Bid': 39283.0,\n",
       "    'Ask Volume': 0.00016607,\n",
       "    'Bid Volume': 0.02499372,\n",
       "    'Spread': 137.39999800000078,\n",
       "    'Close Price': 39446.4},\n",
       "   'ETH': {'Ask': 2901.54,\n",
       "    'Bid': 2883.791235,\n",
       "    'Ask Volume': 0.14,\n",
       "    'Bid Volume': 0.042244,\n",
       "    'Spread': 17.74876499999982,\n",
       "    'Close Price': 2910.31},\n",
       "   'LTC': {'Ask': 103.3,\n",
       "    'Bid': 102.1,\n",
       "    'Ask Volume': 1.368,\n",
       "    'Bid Volume': 5.201,\n",
       "    'Spread': 1.2000000000000028,\n",
       "    'Close Price': 103.0}},\n",
       "  '2022-04-29T03:22:36.000Z': {'BTC': {'Ask': 39420.399998,\n",
       "    'Bid': 39298.1,\n",
       "    'Ask Volume': 0.00016607,\n",
       "    'Bid Volume': 0.025,\n",
       "    'Spread': 122.29999800000223,\n",
       "    'Close Price': 39439.2},\n",
       "   'ETH': {'Ask': 2903.44,\n",
       "    'Bid': 2884.610001,\n",
       "    'Ask Volume': 0.14,\n",
       "    'Bid Volume': 0.04223201,\n",
       "    'Spread': 18.829999000000043,\n",
       "    'Close Price': 2911.79},\n",
       "   'LTC': {'Ask': 103.76,\n",
       "    'Bid': 102.54,\n",
       "    'Ask Volume': 1.368,\n",
       "    'Bid Volume': 5.179,\n",
       "    'Spread': 1.2199999999999989,\n",
       "    'Close Price': 102.81}},\n",
       "  '2022-04-29T03:23:38.000Z': {'BTC': {'Ask': 39420.399998,\n",
       "    'Bid': 39298.1,\n",
       "    'Ask Volume': 0.00016607,\n",
       "    'Bid Volume': 0.025,\n",
       "    'Spread': 122.29999800000223,\n",
       "    'Close Price': 39439.7},\n",
       "   'ETH': {'Ask': 2903.49,\n",
       "    'Bid': 2885.470001,\n",
       "    'Ask Volume': 0.14,\n",
       "    'Bid Volume': 0.04221942,\n",
       "    'Spread': 18.019998999999643,\n",
       "    'Close Price': 2913.0},\n",
       "   'LTC': {'Ask': 103.6,\n",
       "    'Bid': 102.6,\n",
       "    'Ask Volume': 1.368,\n",
       "    'Bid Volume': 5.176,\n",
       "    'Spread': 1.0,\n",
       "    'Close Price': 103.04}},\n",
       "  '2022-04-29T03:24:41.000Z': {'BTC': {'Ask': 39420.399998,\n",
       "    'Bid': 39298.1,\n",
       "    'Ask Volume': 0.00016607,\n",
       "    'Bid Volume': 0.025,\n",
       "    'Spread': 122.29999800000223,\n",
       "    'Close Price': 39461.8},\n",
       "   'ETH': {'Ask': 2903.8,\n",
       "    'Bid': 2886.390001,\n",
       "    'Ask Volume': 0.14,\n",
       "    'Bid Volume': 0.04220597,\n",
       "    'Spread': 17.40999899999997,\n",
       "    'Close Price': 2914.78},\n",
       "   'LTC': {'Ask': 103.6,\n",
       "    'Bid': 102.66,\n",
       "    'Ask Volume': 1.368,\n",
       "    'Bid Volume': 5.173,\n",
       "    'Spread': 0.9399999999999977,\n",
       "    'Close Price': 103.04}},\n",
       "  '2022-04-29T03:25:43.000Z': {'BTC': {'Ask': 39420.399998,\n",
       "    'Bid': 39272.4,\n",
       "    'Ask Volume': 0.00016607,\n",
       "    'Bid Volume': 0.025,\n",
       "    'Spread': 147.99999799999932,\n",
       "    'Close Price': 39454.1},\n",
       "   'ETH': {'Ask': 2904.49,\n",
       "    'Bid': 2887.21,\n",
       "    'Ask Volume': 0.14,\n",
       "    'Bid Volume': 0.0572,\n",
       "    'Spread': 17.279999999999745,\n",
       "    'Close Price': 2914.78},\n",
       "   'LTC': {'Ask': 103.96,\n",
       "    'Bid': 102.7,\n",
       "    'Ask Volume': 1.368,\n",
       "    'Bid Volume': 5.171,\n",
       "    'Spread': 1.259999999999991,\n",
       "    'Close Price': 103.04}},\n",
       "  '2022-04-29T03:26:45.000Z': {'BTC': {'Ask': 39421.499998,\n",
       "    'Bid': 39296.1,\n",
       "    'Ask Volume': 0.00016607,\n",
       "    'Bid Volume': 0.025,\n",
       "    'Spread': 125.39999800000078,\n",
       "    'Close Price': 39448.6},\n",
       "   'ETH': {'Ask': 2904.49,\n",
       "    'Bid': 2888.100001,\n",
       "    'Ask Volume': 0.14,\n",
       "    'Bid Volume': 0.04218098,\n",
       "    'Spread': 16.38999899999999,\n",
       "    'Close Price': 2915.69},\n",
       "   'LTC': {'Ask': 103.8,\n",
       "    'Bid': 102.86,\n",
       "    'Ask Volume': 1.368,\n",
       "    'Bid Volume': 5.163,\n",
       "    'Spread': 0.9399999999999977,\n",
       "    'Close Price': 103.28}},\n",
       "  '2022-04-29T03:27:47.000Z': {'BTC': {'Ask': 39421.499998,\n",
       "    'Bid': 39296.1,\n",
       "    'Ask Volume': 0.00016607,\n",
       "    'Bid Volume': 0.025,\n",
       "    'Spread': 125.39999800000078,\n",
       "    'Close Price': 39448.6},\n",
       "   'ETH': {'Ask': 2905.85,\n",
       "    'Bid': 2889.04,\n",
       "    'Ask Volume': 0.14,\n",
       "    'Bid Volume': 0.0571,\n",
       "    'Spread': 16.809999999999945,\n",
       "    'Close Price': 2916.01},\n",
       "   'LTC': {'Ask': 104.16,\n",
       "    'Bid': 102.92,\n",
       "    'Ask Volume': 1.368,\n",
       "    'Bid Volume': 5.16,\n",
       "    'Spread': 1.2399999999999949,\n",
       "    'Close Price': 103.28}},\n",
       "  '2022-04-29T03:28:50.000Z': {'BTC': {'Ask': 39447.699999,\n",
       "    'Bid': 39296.1,\n",
       "    'Ask Volume': 0.13015706,\n",
       "    'Bid Volume': 0.025,\n",
       "    'Spread': 151.5999989999982,\n",
       "    'Close Price': 39448.6},\n",
       "   'ETH': {'Ask': 2907.79,\n",
       "    'Bid': 2889.98,\n",
       "    'Ask Volume': 0.14,\n",
       "    'Bid Volume': 0.0571,\n",
       "    'Spread': 17.809999999999945,\n",
       "    'Close Price': 2915.7},\n",
       "   'LTC': {'Ask': 103.9,\n",
       "    'Bid': 102.77,\n",
       "    'Ask Volume': 1.368,\n",
       "    'Bid Volume': 5.167,\n",
       "    'Spread': 1.1300000000000097,\n",
       "    'Close Price': 103.29}}}}"
      ]
     },
     "execution_count": 3,
     "metadata": {},
     "output_type": "execute_result"
    }
   ],
   "source": [
    "diccionario"
   ]
  },
  {
   "cell_type": "markdown",
   "id": "6b23acb2",
   "metadata": {},
   "source": [
    "Se puede observar el diccionario en donde está dividido por Exchange y fecha. Se utilizaron los exchanges de Bitso, Kraken y Binance."
   ]
  },
  {
   "cell_type": "markdown",
   "id": "d0f8b02a",
   "metadata": {},
   "source": [
    "## <font color= #6B6B6B> 4. Visualización de Microestructura </font> <font color= #555555>"
   ]
  },
  {
   "cell_type": "markdown",
   "id": "1ceb5b80",
   "metadata": {},
   "source": [
    "<hr style=\"border:0.02in solid gray\"> </hr>"
   ]
  },
  {
   "cell_type": "markdown",
   "id": "c60ac3f5",
   "metadata": {},
   "source": [
    "A continuación se muestra un DataFrame con el exchange, TimeStamp, level, ask volume, bid volume, total volume, mid price\n",
    "y el vwap"
   ]
  },
  {
   "cell_type": "code",
   "execution_count": 4,
   "id": "7b798800",
   "metadata": {},
   "outputs": [
    {
     "data": {
      "text/html": [
       "<div>\n",
       "<style scoped>\n",
       "    .dataframe tbody tr th:only-of-type {\n",
       "        vertical-align: middle;\n",
       "    }\n",
       "\n",
       "    .dataframe tbody tr th {\n",
       "        vertical-align: top;\n",
       "    }\n",
       "\n",
       "    .dataframe thead th {\n",
       "        text-align: right;\n",
       "    }\n",
       "</style>\n",
       "<table border=\"1\" class=\"dataframe\">\n",
       "  <thead>\n",
       "    <tr style=\"text-align: right;\">\n",
       "      <th></th>\n",
       "      <th>level</th>\n",
       "      <th>mid_price</th>\n",
       "      <th>timeStamp</th>\n",
       "      <th>exchange</th>\n",
       "      <th>vwap</th>\n",
       "      <th>total_volume</th>\n",
       "      <th>bid_volume</th>\n",
       "      <th>ask_volume</th>\n",
       "    </tr>\n",
       "  </thead>\n",
       "  <tbody>\n",
       "    <tr>\n",
       "      <th>0</th>\n",
       "      <td>9920.152581</td>\n",
       "      <td>None</td>\n",
       "      <td>2022-04-29T02:27:29.000Z</td>\n",
       "      <td>bitso</td>\n",
       "      <td>35.849249</td>\n",
       "      <td>3.995364</td>\n",
       "      <td>3.00000</td>\n",
       "      <td>0.995364</td>\n",
       "    </tr>\n",
       "    <tr>\n",
       "      <th>1</th>\n",
       "      <td>19817.310000</td>\n",
       "      <td>None</td>\n",
       "      <td>2022-04-29T02:28:31.000Z</td>\n",
       "      <td>bitso</td>\n",
       "      <td>0.000000</td>\n",
       "      <td>2.000000</td>\n",
       "      <td>1.00000</td>\n",
       "      <td>1.000000</td>\n",
       "    </tr>\n",
       "    <tr>\n",
       "      <th>2</th>\n",
       "      <td>6609.520000</td>\n",
       "      <td>None</td>\n",
       "      <td>2022-04-29T02:29:34.000Z</td>\n",
       "      <td>bitso</td>\n",
       "      <td>0.196104</td>\n",
       "      <td>6.000000</td>\n",
       "      <td>5.00000</td>\n",
       "      <td>1.000000</td>\n",
       "    </tr>\n",
       "    <tr>\n",
       "      <th>3</th>\n",
       "      <td>19828.854161</td>\n",
       "      <td>None</td>\n",
       "      <td>2022-04-29T02:30:37.000Z</td>\n",
       "      <td>bitso</td>\n",
       "      <td>0.000000</td>\n",
       "      <td>1.999970</td>\n",
       "      <td>0.99997</td>\n",
       "      <td>1.000000</td>\n",
       "    </tr>\n",
       "    <tr>\n",
       "      <th>4</th>\n",
       "      <td>19857.050000</td>\n",
       "      <td>None</td>\n",
       "      <td>2022-04-29T02:31:39.000Z</td>\n",
       "      <td>bitso</td>\n",
       "      <td>41.797105</td>\n",
       "      <td>2.000000</td>\n",
       "      <td>1.00000</td>\n",
       "      <td>1.000000</td>\n",
       "    </tr>\n",
       "    <tr>\n",
       "      <th>...</th>\n",
       "      <td>...</td>\n",
       "      <td>...</td>\n",
       "      <td>...</td>\n",
       "      <td>...</td>\n",
       "      <td>...</td>\n",
       "      <td>...</td>\n",
       "      <td>...</td>\n",
       "      <td>...</td>\n",
       "    </tr>\n",
       "    <tr>\n",
       "      <th>535</th>\n",
       "      <td>15.752943</td>\n",
       "      <td>None</td>\n",
       "      <td>2022-04-29T03:24:41.000Z</td>\n",
       "      <td>binance</td>\n",
       "      <td>0.000000</td>\n",
       "      <td>6.541000</td>\n",
       "      <td>5.17300</td>\n",
       "      <td>1.368000</td>\n",
       "    </tr>\n",
       "    <tr>\n",
       "      <th>536</th>\n",
       "      <td>15.757761</td>\n",
       "      <td>None</td>\n",
       "      <td>2022-04-29T03:25:43.000Z</td>\n",
       "      <td>binance</td>\n",
       "      <td>0.000000</td>\n",
       "      <td>6.539000</td>\n",
       "      <td>5.17100</td>\n",
       "      <td>1.368000</td>\n",
       "    </tr>\n",
       "    <tr>\n",
       "      <th>537</th>\n",
       "      <td>15.813811</td>\n",
       "      <td>None</td>\n",
       "      <td>2022-04-29T03:26:45.000Z</td>\n",
       "      <td>binance</td>\n",
       "      <td>7.565842</td>\n",
       "      <td>6.531000</td>\n",
       "      <td>5.16300</td>\n",
       "      <td>1.368000</td>\n",
       "    </tr>\n",
       "    <tr>\n",
       "      <th>538</th>\n",
       "      <td>15.821078</td>\n",
       "      <td>None</td>\n",
       "      <td>2022-04-29T03:27:47.000Z</td>\n",
       "      <td>binance</td>\n",
       "      <td>0.000000</td>\n",
       "      <td>6.528000</td>\n",
       "      <td>5.16000</td>\n",
       "      <td>1.368000</td>\n",
       "    </tr>\n",
       "    <tr>\n",
       "      <th>539</th>\n",
       "      <td>15.805662</td>\n",
       "      <td>None</td>\n",
       "      <td>2022-04-29T03:28:50.000Z</td>\n",
       "      <td>binance</td>\n",
       "      <td>21.721251</td>\n",
       "      <td>6.535000</td>\n",
       "      <td>5.16700</td>\n",
       "      <td>1.368000</td>\n",
       "    </tr>\n",
       "  </tbody>\n",
       "</table>\n",
       "<p>540 rows × 8 columns</p>\n",
       "</div>"
      ],
      "text/plain": [
       "            level mid_price                 timeStamp exchange       vwap  \\\n",
       "0     9920.152581      None  2022-04-29T02:27:29.000Z    bitso  35.849249   \n",
       "1    19817.310000      None  2022-04-29T02:28:31.000Z    bitso   0.000000   \n",
       "2     6609.520000      None  2022-04-29T02:29:34.000Z    bitso   0.196104   \n",
       "3    19828.854161      None  2022-04-29T02:30:37.000Z    bitso   0.000000   \n",
       "4    19857.050000      None  2022-04-29T02:31:39.000Z    bitso  41.797105   \n",
       "..            ...       ...                       ...      ...        ...   \n",
       "535     15.752943      None  2022-04-29T03:24:41.000Z  binance   0.000000   \n",
       "536     15.757761      None  2022-04-29T03:25:43.000Z  binance   0.000000   \n",
       "537     15.813811      None  2022-04-29T03:26:45.000Z  binance   7.565842   \n",
       "538     15.821078      None  2022-04-29T03:27:47.000Z  binance   0.000000   \n",
       "539     15.805662      None  2022-04-29T03:28:50.000Z  binance  21.721251   \n",
       "\n",
       "     total_volume  bid_volume  ask_volume  \n",
       "0        3.995364     3.00000    0.995364  \n",
       "1        2.000000     1.00000    1.000000  \n",
       "2        6.000000     5.00000    1.000000  \n",
       "3        1.999970     0.99997    1.000000  \n",
       "4        2.000000     1.00000    1.000000  \n",
       "..            ...         ...         ...  \n",
       "535      6.541000     5.17300    1.368000  \n",
       "536      6.539000     5.17100    1.368000  \n",
       "537      6.531000     5.16300    1.368000  \n",
       "538      6.528000     5.16000    1.368000  \n",
       "539      6.535000     5.16700    1.368000  \n",
       "\n",
       "[540 rows x 8 columns]"
      ]
     },
     "execution_count": 4,
     "metadata": {},
     "output_type": "execute_result"
    }
   ],
   "source": [
    "visualizacion"
   ]
  },
  {
   "cell_type": "markdown",
   "id": "f65bfdd9",
   "metadata": {},
   "source": [
    "### <font color= #6B6B6B> 4.1 Visualización de graficas bid, ask y spread con diferentes exchanges para la el BTC/USDT</font> <font color= #555555>"
   ]
  },
  {
   "cell_type": "code",
   "execution_count": 8,
   "id": "e1c66de9",
   "metadata": {},
   "outputs": [
    {
     "data": {
      "application/vnd.plotly.v1+json": {
       "config": {
        "plotlyServerURL": "https://plot.ly"
       },
       "data": [
        {
         "connectgaps": true,
         "name": "bitso_bid_bit",
         "type": "scatter",
         "x": [
          "2022-04-29T02:27:29.000Z",
          "2022-04-29T02:28:31.000Z",
          "2022-04-29T02:29:34.000Z",
          "2022-04-29T02:30:37.000Z",
          "2022-04-29T02:31:39.000Z",
          "2022-04-29T02:32:42.000Z",
          "2022-04-29T02:33:44.000Z",
          "2022-04-29T02:34:46.000Z",
          "2022-04-29T02:35:48.000Z",
          "2022-04-29T02:36:51.000Z",
          "2022-04-29T02:37:54.000Z",
          "2022-04-29T02:38:57.000Z",
          "2022-04-29T02:40:00.000Z",
          "2022-04-29T02:41:02.000Z",
          "2022-04-29T02:42:04.000Z",
          "2022-04-29T02:43:07.000Z",
          "2022-04-29T02:44:09.000Z",
          "2022-04-29T02:45:11.000Z",
          "2022-04-29T02:46:14.000Z",
          "2022-04-29T02:47:17.000Z",
          "2022-04-29T02:48:19.000Z",
          "2022-04-29T02:49:23.000Z",
          "2022-04-29T02:50:26.000Z",
          "2022-04-29T02:51:30.000Z",
          "2022-04-29T02:52:33.000Z",
          "2022-04-29T02:53:35.000Z",
          "2022-04-29T02:54:38.000Z",
          "2022-04-29T02:55:40.000Z",
          "2022-04-29T02:56:42.000Z",
          "2022-04-29T02:57:45.000Z",
          "2022-04-29T02:58:47.000Z",
          "2022-04-29T02:59:48.000Z",
          "2022-04-29T03:00:51.000Z",
          "2022-04-29T03:01:53.000Z",
          "2022-04-29T03:02:55.000Z",
          "2022-04-29T03:03:56.000Z",
          "2022-04-29T03:04:58.000Z",
          "2022-04-29T03:06:01.000Z",
          "2022-04-29T03:07:03.000Z",
          "2022-04-29T03:08:05.000Z",
          "2022-04-29T03:09:07.000Z",
          "2022-04-29T03:10:09.000Z",
          "2022-04-29T03:11:12.000Z",
          "2022-04-29T03:12:14.000Z",
          "2022-04-29T03:13:16.000Z",
          "2022-04-29T03:14:18.000Z",
          "2022-04-29T03:15:20.000Z",
          "2022-04-29T03:16:22.000Z",
          "2022-04-29T03:17:26.000Z",
          "2022-04-29T03:18:28.000Z",
          "2022-04-29T03:19:30.000Z",
          "2022-04-29T03:20:32.000Z",
          "2022-04-29T03:21:34.000Z",
          "2022-04-29T03:22:36.000Z",
          "2022-04-29T03:23:38.000Z",
          "2022-04-29T03:24:41.000Z",
          "2022-04-29T03:25:43.000Z",
          "2022-04-29T03:26:45.000Z",
          "2022-04-29T03:27:47.000Z",
          "2022-04-29T03:28:50.000Z"
         ],
         "y": [
          39650.03,
          39674.62,
          39668.86,
          39647.33,
          39672.95,
          39674.05,
          39661.24,
          39643.82,
          39667.75,
          39661.13,
          39662.64,
          39663.83,
          39663.83,
          39663.83,
          39664.34,
          39664.34,
          39676.38,
          39682.87,
          39694.92,
          39718.01,
          39701.72,
          39687.02,
          39678.97,
          39678.97,
          39678.97,
          39669.79,
          39640.66,
          39595.14,
          39534.44,
          39484.15,
          39502.55,
          39511.01,
          39478.27,
          39482.56,
          39493.08,
          39526.22,
          39531.7,
          39509.5,
          39501.69,
          39502.02,
          39502.94,
          39485.84,
          39466.04,
          39459.91,
          39395.22,
          39366.85,
          39347.21,
          39351.09,
          39410.3,
          39399.63,
          39414.35,
          39429.23,
          39401.05,
          39416.3,
          39429.33,
          39429.33,
          39400.31,
          39404.64,
          39415.99,
          39423.67
         ]
        },
        {
         "name": "kraken_bid_bit",
         "type": "scatter",
         "x": [
          "2022-04-29T02:27:29.000Z",
          "2022-04-29T02:28:31.000Z",
          "2022-04-29T02:29:34.000Z",
          "2022-04-29T02:30:37.000Z",
          "2022-04-29T02:31:39.000Z",
          "2022-04-29T02:32:42.000Z",
          "2022-04-29T02:33:44.000Z",
          "2022-04-29T02:34:46.000Z",
          "2022-04-29T02:35:48.000Z",
          "2022-04-29T02:36:51.000Z",
          "2022-04-29T02:37:54.000Z",
          "2022-04-29T02:38:57.000Z",
          "2022-04-29T02:40:00.000Z",
          "2022-04-29T02:41:02.000Z",
          "2022-04-29T02:42:04.000Z",
          "2022-04-29T02:43:07.000Z",
          "2022-04-29T02:44:09.000Z",
          "2022-04-29T02:45:11.000Z",
          "2022-04-29T02:46:14.000Z",
          "2022-04-29T02:47:17.000Z",
          "2022-04-29T02:48:19.000Z",
          "2022-04-29T02:49:23.000Z",
          "2022-04-29T02:50:26.000Z",
          "2022-04-29T02:51:30.000Z",
          "2022-04-29T02:52:33.000Z",
          "2022-04-29T02:53:35.000Z",
          "2022-04-29T02:54:38.000Z",
          "2022-04-29T02:55:40.000Z",
          "2022-04-29T02:56:42.000Z",
          "2022-04-29T02:57:45.000Z",
          "2022-04-29T02:58:47.000Z",
          "2022-04-29T02:59:48.000Z",
          "2022-04-29T03:00:51.000Z",
          "2022-04-29T03:01:53.000Z",
          "2022-04-29T03:02:55.000Z",
          "2022-04-29T03:03:56.000Z",
          "2022-04-29T03:04:58.000Z",
          "2022-04-29T03:06:01.000Z",
          "2022-04-29T03:07:03.000Z",
          "2022-04-29T03:08:05.000Z",
          "2022-04-29T03:09:07.000Z",
          "2022-04-29T03:10:09.000Z",
          "2022-04-29T03:11:12.000Z",
          "2022-04-29T03:12:14.000Z",
          "2022-04-29T03:13:16.000Z",
          "2022-04-29T03:14:18.000Z",
          "2022-04-29T03:15:20.000Z",
          "2022-04-29T03:16:22.000Z",
          "2022-04-29T03:17:26.000Z",
          "2022-04-29T03:18:28.000Z",
          "2022-04-29T03:19:30.000Z",
          "2022-04-29T03:20:32.000Z",
          "2022-04-29T03:21:34.000Z",
          "2022-04-29T03:22:36.000Z",
          "2022-04-29T03:23:38.000Z",
          "2022-04-29T03:24:41.000Z",
          "2022-04-29T03:25:43.000Z",
          "2022-04-29T03:26:45.000Z",
          "2022-04-29T03:27:47.000Z",
          "2022-04-29T03:28:50.000Z"
         ],
         "y": [
          39657.9,
          39683.4,
          39680.5,
          39663.6,
          39693.6,
          39687,
          39664.7,
          39681.3,
          39678.5,
          39672.5,
          39676.5,
          39670.6,
          39672.5,
          39673.6,
          39675.3,
          39672.2,
          39675.2,
          39699.4,
          39698.3,
          39720.1,
          39710.6,
          39689.7,
          39685.5,
          39682.4,
          39681,
          39680.6,
          39657.9,
          39540.8,
          39540.8,
          39492.3,
          39514.8,
          39515.8,
          39497.2,
          39509.5,
          39511.3,
          39545.8,
          39526,
          39520.3,
          39532.9,
          39535,
          39535,
          39520,
          39505.9,
          39492.3,
          39307,
          39379.4,
          39367,
          39370.2,
          39441.8,
          39425.6,
          39439.1,
          39437.7,
          39431.8,
          39441.2,
          39453.9,
          39446.9,
          39410.7,
          39420.2,
          39442.6,
          39444.9
         ]
        },
        {
         "name": "binance_bid_bit",
         "type": "scatter",
         "x": [
          "2022-04-29T02:27:29.000Z",
          "2022-04-29T02:28:31.000Z",
          "2022-04-29T02:29:34.000Z",
          "2022-04-29T02:30:37.000Z",
          "2022-04-29T02:31:39.000Z",
          "2022-04-29T02:32:42.000Z",
          "2022-04-29T02:33:44.000Z",
          "2022-04-29T02:34:46.000Z",
          "2022-04-29T02:35:48.000Z",
          "2022-04-29T02:36:51.000Z",
          "2022-04-29T02:37:54.000Z",
          "2022-04-29T02:38:57.000Z",
          "2022-04-29T02:40:00.000Z",
          "2022-04-29T02:41:02.000Z",
          "2022-04-29T02:42:04.000Z",
          "2022-04-29T02:43:07.000Z",
          "2022-04-29T02:44:09.000Z",
          "2022-04-29T02:45:11.000Z",
          "2022-04-29T02:46:14.000Z",
          "2022-04-29T02:47:17.000Z",
          "2022-04-29T02:48:19.000Z",
          "2022-04-29T02:49:23.000Z",
          "2022-04-29T02:50:26.000Z",
          "2022-04-29T02:51:30.000Z",
          "2022-04-29T02:52:33.000Z",
          "2022-04-29T02:53:35.000Z",
          "2022-04-29T02:54:38.000Z",
          "2022-04-29T02:55:40.000Z",
          "2022-04-29T02:56:42.000Z",
          "2022-04-29T02:57:45.000Z",
          "2022-04-29T02:58:47.000Z",
          "2022-04-29T02:59:48.000Z",
          "2022-04-29T03:00:51.000Z",
          "2022-04-29T03:01:53.000Z",
          "2022-04-29T03:02:55.000Z",
          "2022-04-29T03:03:56.000Z",
          "2022-04-29T03:04:58.000Z",
          "2022-04-29T03:06:01.000Z",
          "2022-04-29T03:07:03.000Z",
          "2022-04-29T03:08:05.000Z",
          "2022-04-29T03:09:07.000Z",
          "2022-04-29T03:10:09.000Z",
          "2022-04-29T03:11:12.000Z",
          "2022-04-29T03:12:14.000Z",
          "2022-04-29T03:13:16.000Z",
          "2022-04-29T03:14:18.000Z",
          "2022-04-29T03:15:20.000Z",
          "2022-04-29T03:16:22.000Z",
          "2022-04-29T03:17:26.000Z",
          "2022-04-29T03:18:28.000Z",
          "2022-04-29T03:19:30.000Z",
          "2022-04-29T03:20:32.000Z",
          "2022-04-29T03:21:34.000Z",
          "2022-04-29T03:22:36.000Z",
          "2022-04-29T03:23:38.000Z",
          "2022-04-29T03:24:41.000Z",
          "2022-04-29T03:25:43.000Z",
          "2022-04-29T03:26:45.000Z",
          "2022-04-29T03:27:47.000Z",
          "2022-04-29T03:28:50.000Z"
         ],
         "y": [
          39612.811611,
          39600,
          39600,
          39600,
          39600,
          39600,
          39600,
          39600,
          39600,
          39600,
          39600,
          39600,
          39600,
          39600,
          39600,
          39600,
          39600,
          39600,
          39600,
          39600,
          39600,
          39600,
          39600,
          39600,
          39600,
          39600,
          39600,
          39600,
          39501.20001,
          39501.20001,
          39501.20001,
          39501.20001,
          39501.20001,
          39501.20001,
          39501.20001,
          39501.20001,
          39501.20001,
          39501.20001,
          39501.20001,
          39501.20001,
          39501.20001,
          39501.20001,
          39501.20001,
          39501.20001,
          39076.073894,
          39084.000613,
          39160.600001,
          39185,
          39232.9,
          39258.9,
          39258.9,
          39283,
          39283,
          39298.1,
          39298.1,
          39298.1,
          39272.4,
          39296.1,
          39296.1,
          39296.1
         ]
        }
       ],
       "layout": {
        "template": {
         "data": {
          "bar": [
           {
            "error_x": {
             "color": "#2a3f5f"
            },
            "error_y": {
             "color": "#2a3f5f"
            },
            "marker": {
             "line": {
              "color": "#E5ECF6",
              "width": 0.5
             },
             "pattern": {
              "fillmode": "overlay",
              "size": 10,
              "solidity": 0.2
             }
            },
            "type": "bar"
           }
          ],
          "barpolar": [
           {
            "marker": {
             "line": {
              "color": "#E5ECF6",
              "width": 0.5
             },
             "pattern": {
              "fillmode": "overlay",
              "size": 10,
              "solidity": 0.2
             }
            },
            "type": "barpolar"
           }
          ],
          "carpet": [
           {
            "aaxis": {
             "endlinecolor": "#2a3f5f",
             "gridcolor": "white",
             "linecolor": "white",
             "minorgridcolor": "white",
             "startlinecolor": "#2a3f5f"
            },
            "baxis": {
             "endlinecolor": "#2a3f5f",
             "gridcolor": "white",
             "linecolor": "white",
             "minorgridcolor": "white",
             "startlinecolor": "#2a3f5f"
            },
            "type": "carpet"
           }
          ],
          "choropleth": [
           {
            "colorbar": {
             "outlinewidth": 0,
             "ticks": ""
            },
            "type": "choropleth"
           }
          ],
          "contour": [
           {
            "colorbar": {
             "outlinewidth": 0,
             "ticks": ""
            },
            "colorscale": [
             [
              0,
              "#0d0887"
             ],
             [
              0.1111111111111111,
              "#46039f"
             ],
             [
              0.2222222222222222,
              "#7201a8"
             ],
             [
              0.3333333333333333,
              "#9c179e"
             ],
             [
              0.4444444444444444,
              "#bd3786"
             ],
             [
              0.5555555555555556,
              "#d8576b"
             ],
             [
              0.6666666666666666,
              "#ed7953"
             ],
             [
              0.7777777777777778,
              "#fb9f3a"
             ],
             [
              0.8888888888888888,
              "#fdca26"
             ],
             [
              1,
              "#f0f921"
             ]
            ],
            "type": "contour"
           }
          ],
          "contourcarpet": [
           {
            "colorbar": {
             "outlinewidth": 0,
             "ticks": ""
            },
            "type": "contourcarpet"
           }
          ],
          "heatmap": [
           {
            "colorbar": {
             "outlinewidth": 0,
             "ticks": ""
            },
            "colorscale": [
             [
              0,
              "#0d0887"
             ],
             [
              0.1111111111111111,
              "#46039f"
             ],
             [
              0.2222222222222222,
              "#7201a8"
             ],
             [
              0.3333333333333333,
              "#9c179e"
             ],
             [
              0.4444444444444444,
              "#bd3786"
             ],
             [
              0.5555555555555556,
              "#d8576b"
             ],
             [
              0.6666666666666666,
              "#ed7953"
             ],
             [
              0.7777777777777778,
              "#fb9f3a"
             ],
             [
              0.8888888888888888,
              "#fdca26"
             ],
             [
              1,
              "#f0f921"
             ]
            ],
            "type": "heatmap"
           }
          ],
          "heatmapgl": [
           {
            "colorbar": {
             "outlinewidth": 0,
             "ticks": ""
            },
            "colorscale": [
             [
              0,
              "#0d0887"
             ],
             [
              0.1111111111111111,
              "#46039f"
             ],
             [
              0.2222222222222222,
              "#7201a8"
             ],
             [
              0.3333333333333333,
              "#9c179e"
             ],
             [
              0.4444444444444444,
              "#bd3786"
             ],
             [
              0.5555555555555556,
              "#d8576b"
             ],
             [
              0.6666666666666666,
              "#ed7953"
             ],
             [
              0.7777777777777778,
              "#fb9f3a"
             ],
             [
              0.8888888888888888,
              "#fdca26"
             ],
             [
              1,
              "#f0f921"
             ]
            ],
            "type": "heatmapgl"
           }
          ],
          "histogram": [
           {
            "marker": {
             "pattern": {
              "fillmode": "overlay",
              "size": 10,
              "solidity": 0.2
             }
            },
            "type": "histogram"
           }
          ],
          "histogram2d": [
           {
            "colorbar": {
             "outlinewidth": 0,
             "ticks": ""
            },
            "colorscale": [
             [
              0,
              "#0d0887"
             ],
             [
              0.1111111111111111,
              "#46039f"
             ],
             [
              0.2222222222222222,
              "#7201a8"
             ],
             [
              0.3333333333333333,
              "#9c179e"
             ],
             [
              0.4444444444444444,
              "#bd3786"
             ],
             [
              0.5555555555555556,
              "#d8576b"
             ],
             [
              0.6666666666666666,
              "#ed7953"
             ],
             [
              0.7777777777777778,
              "#fb9f3a"
             ],
             [
              0.8888888888888888,
              "#fdca26"
             ],
             [
              1,
              "#f0f921"
             ]
            ],
            "type": "histogram2d"
           }
          ],
          "histogram2dcontour": [
           {
            "colorbar": {
             "outlinewidth": 0,
             "ticks": ""
            },
            "colorscale": [
             [
              0,
              "#0d0887"
             ],
             [
              0.1111111111111111,
              "#46039f"
             ],
             [
              0.2222222222222222,
              "#7201a8"
             ],
             [
              0.3333333333333333,
              "#9c179e"
             ],
             [
              0.4444444444444444,
              "#bd3786"
             ],
             [
              0.5555555555555556,
              "#d8576b"
             ],
             [
              0.6666666666666666,
              "#ed7953"
             ],
             [
              0.7777777777777778,
              "#fb9f3a"
             ],
             [
              0.8888888888888888,
              "#fdca26"
             ],
             [
              1,
              "#f0f921"
             ]
            ],
            "type": "histogram2dcontour"
           }
          ],
          "mesh3d": [
           {
            "colorbar": {
             "outlinewidth": 0,
             "ticks": ""
            },
            "type": "mesh3d"
           }
          ],
          "parcoords": [
           {
            "line": {
             "colorbar": {
              "outlinewidth": 0,
              "ticks": ""
             }
            },
            "type": "parcoords"
           }
          ],
          "pie": [
           {
            "automargin": true,
            "type": "pie"
           }
          ],
          "scatter": [
           {
            "marker": {
             "colorbar": {
              "outlinewidth": 0,
              "ticks": ""
             }
            },
            "type": "scatter"
           }
          ],
          "scatter3d": [
           {
            "line": {
             "colorbar": {
              "outlinewidth": 0,
              "ticks": ""
             }
            },
            "marker": {
             "colorbar": {
              "outlinewidth": 0,
              "ticks": ""
             }
            },
            "type": "scatter3d"
           }
          ],
          "scattercarpet": [
           {
            "marker": {
             "colorbar": {
              "outlinewidth": 0,
              "ticks": ""
             }
            },
            "type": "scattercarpet"
           }
          ],
          "scattergeo": [
           {
            "marker": {
             "colorbar": {
              "outlinewidth": 0,
              "ticks": ""
             }
            },
            "type": "scattergeo"
           }
          ],
          "scattergl": [
           {
            "marker": {
             "colorbar": {
              "outlinewidth": 0,
              "ticks": ""
             }
            },
            "type": "scattergl"
           }
          ],
          "scattermapbox": [
           {
            "marker": {
             "colorbar": {
              "outlinewidth": 0,
              "ticks": ""
             }
            },
            "type": "scattermapbox"
           }
          ],
          "scatterpolar": [
           {
            "marker": {
             "colorbar": {
              "outlinewidth": 0,
              "ticks": ""
             }
            },
            "type": "scatterpolar"
           }
          ],
          "scatterpolargl": [
           {
            "marker": {
             "colorbar": {
              "outlinewidth": 0,
              "ticks": ""
             }
            },
            "type": "scatterpolargl"
           }
          ],
          "scatterternary": [
           {
            "marker": {
             "colorbar": {
              "outlinewidth": 0,
              "ticks": ""
             }
            },
            "type": "scatterternary"
           }
          ],
          "surface": [
           {
            "colorbar": {
             "outlinewidth": 0,
             "ticks": ""
            },
            "colorscale": [
             [
              0,
              "#0d0887"
             ],
             [
              0.1111111111111111,
              "#46039f"
             ],
             [
              0.2222222222222222,
              "#7201a8"
             ],
             [
              0.3333333333333333,
              "#9c179e"
             ],
             [
              0.4444444444444444,
              "#bd3786"
             ],
             [
              0.5555555555555556,
              "#d8576b"
             ],
             [
              0.6666666666666666,
              "#ed7953"
             ],
             [
              0.7777777777777778,
              "#fb9f3a"
             ],
             [
              0.8888888888888888,
              "#fdca26"
             ],
             [
              1,
              "#f0f921"
             ]
            ],
            "type": "surface"
           }
          ],
          "table": [
           {
            "cells": {
             "fill": {
              "color": "#EBF0F8"
             },
             "line": {
              "color": "white"
             }
            },
            "header": {
             "fill": {
              "color": "#C8D4E3"
             },
             "line": {
              "color": "white"
             }
            },
            "type": "table"
           }
          ]
         },
         "layout": {
          "annotationdefaults": {
           "arrowcolor": "#2a3f5f",
           "arrowhead": 0,
           "arrowwidth": 1
          },
          "autotypenumbers": "strict",
          "coloraxis": {
           "colorbar": {
            "outlinewidth": 0,
            "ticks": ""
           }
          },
          "colorscale": {
           "diverging": [
            [
             0,
             "#8e0152"
            ],
            [
             0.1,
             "#c51b7d"
            ],
            [
             0.2,
             "#de77ae"
            ],
            [
             0.3,
             "#f1b6da"
            ],
            [
             0.4,
             "#fde0ef"
            ],
            [
             0.5,
             "#f7f7f7"
            ],
            [
             0.6,
             "#e6f5d0"
            ],
            [
             0.7,
             "#b8e186"
            ],
            [
             0.8,
             "#7fbc41"
            ],
            [
             0.9,
             "#4d9221"
            ],
            [
             1,
             "#276419"
            ]
           ],
           "sequential": [
            [
             0,
             "#0d0887"
            ],
            [
             0.1111111111111111,
             "#46039f"
            ],
            [
             0.2222222222222222,
             "#7201a8"
            ],
            [
             0.3333333333333333,
             "#9c179e"
            ],
            [
             0.4444444444444444,
             "#bd3786"
            ],
            [
             0.5555555555555556,
             "#d8576b"
            ],
            [
             0.6666666666666666,
             "#ed7953"
            ],
            [
             0.7777777777777778,
             "#fb9f3a"
            ],
            [
             0.8888888888888888,
             "#fdca26"
            ],
            [
             1,
             "#f0f921"
            ]
           ],
           "sequentialminus": [
            [
             0,
             "#0d0887"
            ],
            [
             0.1111111111111111,
             "#46039f"
            ],
            [
             0.2222222222222222,
             "#7201a8"
            ],
            [
             0.3333333333333333,
             "#9c179e"
            ],
            [
             0.4444444444444444,
             "#bd3786"
            ],
            [
             0.5555555555555556,
             "#d8576b"
            ],
            [
             0.6666666666666666,
             "#ed7953"
            ],
            [
             0.7777777777777778,
             "#fb9f3a"
            ],
            [
             0.8888888888888888,
             "#fdca26"
            ],
            [
             1,
             "#f0f921"
            ]
           ]
          },
          "colorway": [
           "#636efa",
           "#EF553B",
           "#00cc96",
           "#ab63fa",
           "#FFA15A",
           "#19d3f3",
           "#FF6692",
           "#B6E880",
           "#FF97FF",
           "#FECB52"
          ],
          "font": {
           "color": "#2a3f5f"
          },
          "geo": {
           "bgcolor": "white",
           "lakecolor": "white",
           "landcolor": "#E5ECF6",
           "showlakes": true,
           "showland": true,
           "subunitcolor": "white"
          },
          "hoverlabel": {
           "align": "left"
          },
          "hovermode": "closest",
          "mapbox": {
           "style": "light"
          },
          "paper_bgcolor": "white",
          "plot_bgcolor": "#E5ECF6",
          "polar": {
           "angularaxis": {
            "gridcolor": "white",
            "linecolor": "white",
            "ticks": ""
           },
           "bgcolor": "#E5ECF6",
           "radialaxis": {
            "gridcolor": "white",
            "linecolor": "white",
            "ticks": ""
           }
          },
          "scene": {
           "xaxis": {
            "backgroundcolor": "#E5ECF6",
            "gridcolor": "white",
            "gridwidth": 2,
            "linecolor": "white",
            "showbackground": true,
            "ticks": "",
            "zerolinecolor": "white"
           },
           "yaxis": {
            "backgroundcolor": "#E5ECF6",
            "gridcolor": "white",
            "gridwidth": 2,
            "linecolor": "white",
            "showbackground": true,
            "ticks": "",
            "zerolinecolor": "white"
           },
           "zaxis": {
            "backgroundcolor": "#E5ECF6",
            "gridcolor": "white",
            "gridwidth": 2,
            "linecolor": "white",
            "showbackground": true,
            "ticks": "",
            "zerolinecolor": "white"
           }
          },
          "shapedefaults": {
           "line": {
            "color": "#2a3f5f"
           }
          },
          "ternary": {
           "aaxis": {
            "gridcolor": "white",
            "linecolor": "white",
            "ticks": ""
           },
           "baxis": {
            "gridcolor": "white",
            "linecolor": "white",
            "ticks": ""
           },
           "bgcolor": "#E5ECF6",
           "caxis": {
            "gridcolor": "white",
            "linecolor": "white",
            "ticks": ""
           }
          },
          "title": {
           "x": 0.05
          },
          "xaxis": {
           "automargin": true,
           "gridcolor": "white",
           "linecolor": "white",
           "ticks": "",
           "title": {
            "standoff": 15
           },
           "zerolinecolor": "white",
           "zerolinewidth": 2
          },
          "yaxis": {
           "automargin": true,
           "gridcolor": "white",
           "linecolor": "white",
           "ticks": "",
           "title": {
            "standoff": 15
           },
           "zerolinecolor": "white",
           "zerolinewidth": 2
          }
         }
        }
       }
      },
      "text/html": [
       "<div>                            <div id=\"510e7ba3-1a13-48f6-a882-e78e16f377b0\" class=\"plotly-graph-div\" style=\"height:525px; width:100%;\"></div>            <script type=\"text/javascript\">                require([\"plotly\"], function(Plotly) {                    window.PLOTLYENV=window.PLOTLYENV || {};                                    if (document.getElementById(\"510e7ba3-1a13-48f6-a882-e78e16f377b0\")) {                    Plotly.newPlot(                        \"510e7ba3-1a13-48f6-a882-e78e16f377b0\",                        [{\"connectgaps\":true,\"name\":\"bitso_bid_bit\",\"x\":[\"2022-04-29T02:27:29.000Z\",\"2022-04-29T02:28:31.000Z\",\"2022-04-29T02:29:34.000Z\",\"2022-04-29T02:30:37.000Z\",\"2022-04-29T02:31:39.000Z\",\"2022-04-29T02:32:42.000Z\",\"2022-04-29T02:33:44.000Z\",\"2022-04-29T02:34:46.000Z\",\"2022-04-29T02:35:48.000Z\",\"2022-04-29T02:36:51.000Z\",\"2022-04-29T02:37:54.000Z\",\"2022-04-29T02:38:57.000Z\",\"2022-04-29T02:40:00.000Z\",\"2022-04-29T02:41:02.000Z\",\"2022-04-29T02:42:04.000Z\",\"2022-04-29T02:43:07.000Z\",\"2022-04-29T02:44:09.000Z\",\"2022-04-29T02:45:11.000Z\",\"2022-04-29T02:46:14.000Z\",\"2022-04-29T02:47:17.000Z\",\"2022-04-29T02:48:19.000Z\",\"2022-04-29T02:49:23.000Z\",\"2022-04-29T02:50:26.000Z\",\"2022-04-29T02:51:30.000Z\",\"2022-04-29T02:52:33.000Z\",\"2022-04-29T02:53:35.000Z\",\"2022-04-29T02:54:38.000Z\",\"2022-04-29T02:55:40.000Z\",\"2022-04-29T02:56:42.000Z\",\"2022-04-29T02:57:45.000Z\",\"2022-04-29T02:58:47.000Z\",\"2022-04-29T02:59:48.000Z\",\"2022-04-29T03:00:51.000Z\",\"2022-04-29T03:01:53.000Z\",\"2022-04-29T03:02:55.000Z\",\"2022-04-29T03:03:56.000Z\",\"2022-04-29T03:04:58.000Z\",\"2022-04-29T03:06:01.000Z\",\"2022-04-29T03:07:03.000Z\",\"2022-04-29T03:08:05.000Z\",\"2022-04-29T03:09:07.000Z\",\"2022-04-29T03:10:09.000Z\",\"2022-04-29T03:11:12.000Z\",\"2022-04-29T03:12:14.000Z\",\"2022-04-29T03:13:16.000Z\",\"2022-04-29T03:14:18.000Z\",\"2022-04-29T03:15:20.000Z\",\"2022-04-29T03:16:22.000Z\",\"2022-04-29T03:17:26.000Z\",\"2022-04-29T03:18:28.000Z\",\"2022-04-29T03:19:30.000Z\",\"2022-04-29T03:20:32.000Z\",\"2022-04-29T03:21:34.000Z\",\"2022-04-29T03:22:36.000Z\",\"2022-04-29T03:23:38.000Z\",\"2022-04-29T03:24:41.000Z\",\"2022-04-29T03:25:43.000Z\",\"2022-04-29T03:26:45.000Z\",\"2022-04-29T03:27:47.000Z\",\"2022-04-29T03:28:50.000Z\"],\"y\":[39650.03,39674.62,39668.86,39647.33,39672.95,39674.05,39661.24,39643.82,39667.75,39661.13,39662.64,39663.83,39663.83,39663.83,39664.34,39664.34,39676.38,39682.87,39694.92,39718.01,39701.72,39687.02,39678.97,39678.97,39678.97,39669.79,39640.66,39595.14,39534.44,39484.15,39502.55,39511.01,39478.27,39482.56,39493.08,39526.22,39531.7,39509.5,39501.69,39502.02,39502.94,39485.84,39466.04,39459.91,39395.22,39366.85,39347.21,39351.09,39410.3,39399.63,39414.35,39429.23,39401.05,39416.3,39429.33,39429.33,39400.31,39404.64,39415.99,39423.67],\"type\":\"scatter\"},{\"name\":\"kraken_bid_bit\",\"x\":[\"2022-04-29T02:27:29.000Z\",\"2022-04-29T02:28:31.000Z\",\"2022-04-29T02:29:34.000Z\",\"2022-04-29T02:30:37.000Z\",\"2022-04-29T02:31:39.000Z\",\"2022-04-29T02:32:42.000Z\",\"2022-04-29T02:33:44.000Z\",\"2022-04-29T02:34:46.000Z\",\"2022-04-29T02:35:48.000Z\",\"2022-04-29T02:36:51.000Z\",\"2022-04-29T02:37:54.000Z\",\"2022-04-29T02:38:57.000Z\",\"2022-04-29T02:40:00.000Z\",\"2022-04-29T02:41:02.000Z\",\"2022-04-29T02:42:04.000Z\",\"2022-04-29T02:43:07.000Z\",\"2022-04-29T02:44:09.000Z\",\"2022-04-29T02:45:11.000Z\",\"2022-04-29T02:46:14.000Z\",\"2022-04-29T02:47:17.000Z\",\"2022-04-29T02:48:19.000Z\",\"2022-04-29T02:49:23.000Z\",\"2022-04-29T02:50:26.000Z\",\"2022-04-29T02:51:30.000Z\",\"2022-04-29T02:52:33.000Z\",\"2022-04-29T02:53:35.000Z\",\"2022-04-29T02:54:38.000Z\",\"2022-04-29T02:55:40.000Z\",\"2022-04-29T02:56:42.000Z\",\"2022-04-29T02:57:45.000Z\",\"2022-04-29T02:58:47.000Z\",\"2022-04-29T02:59:48.000Z\",\"2022-04-29T03:00:51.000Z\",\"2022-04-29T03:01:53.000Z\",\"2022-04-29T03:02:55.000Z\",\"2022-04-29T03:03:56.000Z\",\"2022-04-29T03:04:58.000Z\",\"2022-04-29T03:06:01.000Z\",\"2022-04-29T03:07:03.000Z\",\"2022-04-29T03:08:05.000Z\",\"2022-04-29T03:09:07.000Z\",\"2022-04-29T03:10:09.000Z\",\"2022-04-29T03:11:12.000Z\",\"2022-04-29T03:12:14.000Z\",\"2022-04-29T03:13:16.000Z\",\"2022-04-29T03:14:18.000Z\",\"2022-04-29T03:15:20.000Z\",\"2022-04-29T03:16:22.000Z\",\"2022-04-29T03:17:26.000Z\",\"2022-04-29T03:18:28.000Z\",\"2022-04-29T03:19:30.000Z\",\"2022-04-29T03:20:32.000Z\",\"2022-04-29T03:21:34.000Z\",\"2022-04-29T03:22:36.000Z\",\"2022-04-29T03:23:38.000Z\",\"2022-04-29T03:24:41.000Z\",\"2022-04-29T03:25:43.000Z\",\"2022-04-29T03:26:45.000Z\",\"2022-04-29T03:27:47.000Z\",\"2022-04-29T03:28:50.000Z\"],\"y\":[39657.9,39683.4,39680.5,39663.6,39693.6,39687.0,39664.7,39681.3,39678.5,39672.5,39676.5,39670.6,39672.5,39673.6,39675.3,39672.2,39675.2,39699.4,39698.3,39720.1,39710.6,39689.7,39685.5,39682.4,39681.0,39680.6,39657.9,39540.8,39540.8,39492.3,39514.8,39515.8,39497.2,39509.5,39511.3,39545.8,39526.0,39520.3,39532.9,39535.0,39535.0,39520.0,39505.9,39492.3,39307.0,39379.4,39367.0,39370.2,39441.8,39425.6,39439.1,39437.7,39431.8,39441.2,39453.9,39446.9,39410.7,39420.2,39442.6,39444.9],\"type\":\"scatter\"},{\"name\":\"binance_bid_bit\",\"x\":[\"2022-04-29T02:27:29.000Z\",\"2022-04-29T02:28:31.000Z\",\"2022-04-29T02:29:34.000Z\",\"2022-04-29T02:30:37.000Z\",\"2022-04-29T02:31:39.000Z\",\"2022-04-29T02:32:42.000Z\",\"2022-04-29T02:33:44.000Z\",\"2022-04-29T02:34:46.000Z\",\"2022-04-29T02:35:48.000Z\",\"2022-04-29T02:36:51.000Z\",\"2022-04-29T02:37:54.000Z\",\"2022-04-29T02:38:57.000Z\",\"2022-04-29T02:40:00.000Z\",\"2022-04-29T02:41:02.000Z\",\"2022-04-29T02:42:04.000Z\",\"2022-04-29T02:43:07.000Z\",\"2022-04-29T02:44:09.000Z\",\"2022-04-29T02:45:11.000Z\",\"2022-04-29T02:46:14.000Z\",\"2022-04-29T02:47:17.000Z\",\"2022-04-29T02:48:19.000Z\",\"2022-04-29T02:49:23.000Z\",\"2022-04-29T02:50:26.000Z\",\"2022-04-29T02:51:30.000Z\",\"2022-04-29T02:52:33.000Z\",\"2022-04-29T02:53:35.000Z\",\"2022-04-29T02:54:38.000Z\",\"2022-04-29T02:55:40.000Z\",\"2022-04-29T02:56:42.000Z\",\"2022-04-29T02:57:45.000Z\",\"2022-04-29T02:58:47.000Z\",\"2022-04-29T02:59:48.000Z\",\"2022-04-29T03:00:51.000Z\",\"2022-04-29T03:01:53.000Z\",\"2022-04-29T03:02:55.000Z\",\"2022-04-29T03:03:56.000Z\",\"2022-04-29T03:04:58.000Z\",\"2022-04-29T03:06:01.000Z\",\"2022-04-29T03:07:03.000Z\",\"2022-04-29T03:08:05.000Z\",\"2022-04-29T03:09:07.000Z\",\"2022-04-29T03:10:09.000Z\",\"2022-04-29T03:11:12.000Z\",\"2022-04-29T03:12:14.000Z\",\"2022-04-29T03:13:16.000Z\",\"2022-04-29T03:14:18.000Z\",\"2022-04-29T03:15:20.000Z\",\"2022-04-29T03:16:22.000Z\",\"2022-04-29T03:17:26.000Z\",\"2022-04-29T03:18:28.000Z\",\"2022-04-29T03:19:30.000Z\",\"2022-04-29T03:20:32.000Z\",\"2022-04-29T03:21:34.000Z\",\"2022-04-29T03:22:36.000Z\",\"2022-04-29T03:23:38.000Z\",\"2022-04-29T03:24:41.000Z\",\"2022-04-29T03:25:43.000Z\",\"2022-04-29T03:26:45.000Z\",\"2022-04-29T03:27:47.000Z\",\"2022-04-29T03:28:50.000Z\"],\"y\":[39612.811611,39600.0,39600.0,39600.0,39600.0,39600.0,39600.0,39600.0,39600.0,39600.0,39600.0,39600.0,39600.0,39600.0,39600.0,39600.0,39600.0,39600.0,39600.0,39600.0,39600.0,39600.0,39600.0,39600.0,39600.0,39600.0,39600.0,39600.0,39501.20001,39501.20001,39501.20001,39501.20001,39501.20001,39501.20001,39501.20001,39501.20001,39501.20001,39501.20001,39501.20001,39501.20001,39501.20001,39501.20001,39501.20001,39501.20001,39076.073894,39084.000613,39160.600001,39185.0,39232.9,39258.9,39258.9,39283.0,39283.0,39298.1,39298.1,39298.1,39272.4,39296.1,39296.1,39296.1],\"type\":\"scatter\"}],                        {\"template\":{\"data\":{\"bar\":[{\"error_x\":{\"color\":\"#2a3f5f\"},\"error_y\":{\"color\":\"#2a3f5f\"},\"marker\":{\"line\":{\"color\":\"#E5ECF6\",\"width\":0.5},\"pattern\":{\"fillmode\":\"overlay\",\"size\":10,\"solidity\":0.2}},\"type\":\"bar\"}],\"barpolar\":[{\"marker\":{\"line\":{\"color\":\"#E5ECF6\",\"width\":0.5},\"pattern\":{\"fillmode\":\"overlay\",\"size\":10,\"solidity\":0.2}},\"type\":\"barpolar\"}],\"carpet\":[{\"aaxis\":{\"endlinecolor\":\"#2a3f5f\",\"gridcolor\":\"white\",\"linecolor\":\"white\",\"minorgridcolor\":\"white\",\"startlinecolor\":\"#2a3f5f\"},\"baxis\":{\"endlinecolor\":\"#2a3f5f\",\"gridcolor\":\"white\",\"linecolor\":\"white\",\"minorgridcolor\":\"white\",\"startlinecolor\":\"#2a3f5f\"},\"type\":\"carpet\"}],\"choropleth\":[{\"colorbar\":{\"outlinewidth\":0,\"ticks\":\"\"},\"type\":\"choropleth\"}],\"contour\":[{\"colorbar\":{\"outlinewidth\":0,\"ticks\":\"\"},\"colorscale\":[[0.0,\"#0d0887\"],[0.1111111111111111,\"#46039f\"],[0.2222222222222222,\"#7201a8\"],[0.3333333333333333,\"#9c179e\"],[0.4444444444444444,\"#bd3786\"],[0.5555555555555556,\"#d8576b\"],[0.6666666666666666,\"#ed7953\"],[0.7777777777777778,\"#fb9f3a\"],[0.8888888888888888,\"#fdca26\"],[1.0,\"#f0f921\"]],\"type\":\"contour\"}],\"contourcarpet\":[{\"colorbar\":{\"outlinewidth\":0,\"ticks\":\"\"},\"type\":\"contourcarpet\"}],\"heatmap\":[{\"colorbar\":{\"outlinewidth\":0,\"ticks\":\"\"},\"colorscale\":[[0.0,\"#0d0887\"],[0.1111111111111111,\"#46039f\"],[0.2222222222222222,\"#7201a8\"],[0.3333333333333333,\"#9c179e\"],[0.4444444444444444,\"#bd3786\"],[0.5555555555555556,\"#d8576b\"],[0.6666666666666666,\"#ed7953\"],[0.7777777777777778,\"#fb9f3a\"],[0.8888888888888888,\"#fdca26\"],[1.0,\"#f0f921\"]],\"type\":\"heatmap\"}],\"heatmapgl\":[{\"colorbar\":{\"outlinewidth\":0,\"ticks\":\"\"},\"colorscale\":[[0.0,\"#0d0887\"],[0.1111111111111111,\"#46039f\"],[0.2222222222222222,\"#7201a8\"],[0.3333333333333333,\"#9c179e\"],[0.4444444444444444,\"#bd3786\"],[0.5555555555555556,\"#d8576b\"],[0.6666666666666666,\"#ed7953\"],[0.7777777777777778,\"#fb9f3a\"],[0.8888888888888888,\"#fdca26\"],[1.0,\"#f0f921\"]],\"type\":\"heatmapgl\"}],\"histogram\":[{\"marker\":{\"pattern\":{\"fillmode\":\"overlay\",\"size\":10,\"solidity\":0.2}},\"type\":\"histogram\"}],\"histogram2d\":[{\"colorbar\":{\"outlinewidth\":0,\"ticks\":\"\"},\"colorscale\":[[0.0,\"#0d0887\"],[0.1111111111111111,\"#46039f\"],[0.2222222222222222,\"#7201a8\"],[0.3333333333333333,\"#9c179e\"],[0.4444444444444444,\"#bd3786\"],[0.5555555555555556,\"#d8576b\"],[0.6666666666666666,\"#ed7953\"],[0.7777777777777778,\"#fb9f3a\"],[0.8888888888888888,\"#fdca26\"],[1.0,\"#f0f921\"]],\"type\":\"histogram2d\"}],\"histogram2dcontour\":[{\"colorbar\":{\"outlinewidth\":0,\"ticks\":\"\"},\"colorscale\":[[0.0,\"#0d0887\"],[0.1111111111111111,\"#46039f\"],[0.2222222222222222,\"#7201a8\"],[0.3333333333333333,\"#9c179e\"],[0.4444444444444444,\"#bd3786\"],[0.5555555555555556,\"#d8576b\"],[0.6666666666666666,\"#ed7953\"],[0.7777777777777778,\"#fb9f3a\"],[0.8888888888888888,\"#fdca26\"],[1.0,\"#f0f921\"]],\"type\":\"histogram2dcontour\"}],\"mesh3d\":[{\"colorbar\":{\"outlinewidth\":0,\"ticks\":\"\"},\"type\":\"mesh3d\"}],\"parcoords\":[{\"line\":{\"colorbar\":{\"outlinewidth\":0,\"ticks\":\"\"}},\"type\":\"parcoords\"}],\"pie\":[{\"automargin\":true,\"type\":\"pie\"}],\"scatter\":[{\"marker\":{\"colorbar\":{\"outlinewidth\":0,\"ticks\":\"\"}},\"type\":\"scatter\"}],\"scatter3d\":[{\"line\":{\"colorbar\":{\"outlinewidth\":0,\"ticks\":\"\"}},\"marker\":{\"colorbar\":{\"outlinewidth\":0,\"ticks\":\"\"}},\"type\":\"scatter3d\"}],\"scattercarpet\":[{\"marker\":{\"colorbar\":{\"outlinewidth\":0,\"ticks\":\"\"}},\"type\":\"scattercarpet\"}],\"scattergeo\":[{\"marker\":{\"colorbar\":{\"outlinewidth\":0,\"ticks\":\"\"}},\"type\":\"scattergeo\"}],\"scattergl\":[{\"marker\":{\"colorbar\":{\"outlinewidth\":0,\"ticks\":\"\"}},\"type\":\"scattergl\"}],\"scattermapbox\":[{\"marker\":{\"colorbar\":{\"outlinewidth\":0,\"ticks\":\"\"}},\"type\":\"scattermapbox\"}],\"scatterpolar\":[{\"marker\":{\"colorbar\":{\"outlinewidth\":0,\"ticks\":\"\"}},\"type\":\"scatterpolar\"}],\"scatterpolargl\":[{\"marker\":{\"colorbar\":{\"outlinewidth\":0,\"ticks\":\"\"}},\"type\":\"scatterpolargl\"}],\"scatterternary\":[{\"marker\":{\"colorbar\":{\"outlinewidth\":0,\"ticks\":\"\"}},\"type\":\"scatterternary\"}],\"surface\":[{\"colorbar\":{\"outlinewidth\":0,\"ticks\":\"\"},\"colorscale\":[[0.0,\"#0d0887\"],[0.1111111111111111,\"#46039f\"],[0.2222222222222222,\"#7201a8\"],[0.3333333333333333,\"#9c179e\"],[0.4444444444444444,\"#bd3786\"],[0.5555555555555556,\"#d8576b\"],[0.6666666666666666,\"#ed7953\"],[0.7777777777777778,\"#fb9f3a\"],[0.8888888888888888,\"#fdca26\"],[1.0,\"#f0f921\"]],\"type\":\"surface\"}],\"table\":[{\"cells\":{\"fill\":{\"color\":\"#EBF0F8\"},\"line\":{\"color\":\"white\"}},\"header\":{\"fill\":{\"color\":\"#C8D4E3\"},\"line\":{\"color\":\"white\"}},\"type\":\"table\"}]},\"layout\":{\"annotationdefaults\":{\"arrowcolor\":\"#2a3f5f\",\"arrowhead\":0,\"arrowwidth\":1},\"autotypenumbers\":\"strict\",\"coloraxis\":{\"colorbar\":{\"outlinewidth\":0,\"ticks\":\"\"}},\"colorscale\":{\"diverging\":[[0,\"#8e0152\"],[0.1,\"#c51b7d\"],[0.2,\"#de77ae\"],[0.3,\"#f1b6da\"],[0.4,\"#fde0ef\"],[0.5,\"#f7f7f7\"],[0.6,\"#e6f5d0\"],[0.7,\"#b8e186\"],[0.8,\"#7fbc41\"],[0.9,\"#4d9221\"],[1,\"#276419\"]],\"sequential\":[[0.0,\"#0d0887\"],[0.1111111111111111,\"#46039f\"],[0.2222222222222222,\"#7201a8\"],[0.3333333333333333,\"#9c179e\"],[0.4444444444444444,\"#bd3786\"],[0.5555555555555556,\"#d8576b\"],[0.6666666666666666,\"#ed7953\"],[0.7777777777777778,\"#fb9f3a\"],[0.8888888888888888,\"#fdca26\"],[1.0,\"#f0f921\"]],\"sequentialminus\":[[0.0,\"#0d0887\"],[0.1111111111111111,\"#46039f\"],[0.2222222222222222,\"#7201a8\"],[0.3333333333333333,\"#9c179e\"],[0.4444444444444444,\"#bd3786\"],[0.5555555555555556,\"#d8576b\"],[0.6666666666666666,\"#ed7953\"],[0.7777777777777778,\"#fb9f3a\"],[0.8888888888888888,\"#fdca26\"],[1.0,\"#f0f921\"]]},\"colorway\":[\"#636efa\",\"#EF553B\",\"#00cc96\",\"#ab63fa\",\"#FFA15A\",\"#19d3f3\",\"#FF6692\",\"#B6E880\",\"#FF97FF\",\"#FECB52\"],\"font\":{\"color\":\"#2a3f5f\"},\"geo\":{\"bgcolor\":\"white\",\"lakecolor\":\"white\",\"landcolor\":\"#E5ECF6\",\"showlakes\":true,\"showland\":true,\"subunitcolor\":\"white\"},\"hoverlabel\":{\"align\":\"left\"},\"hovermode\":\"closest\",\"mapbox\":{\"style\":\"light\"},\"paper_bgcolor\":\"white\",\"plot_bgcolor\":\"#E5ECF6\",\"polar\":{\"angularaxis\":{\"gridcolor\":\"white\",\"linecolor\":\"white\",\"ticks\":\"\"},\"bgcolor\":\"#E5ECF6\",\"radialaxis\":{\"gridcolor\":\"white\",\"linecolor\":\"white\",\"ticks\":\"\"}},\"scene\":{\"xaxis\":{\"backgroundcolor\":\"#E5ECF6\",\"gridcolor\":\"white\",\"gridwidth\":2,\"linecolor\":\"white\",\"showbackground\":true,\"ticks\":\"\",\"zerolinecolor\":\"white\"},\"yaxis\":{\"backgroundcolor\":\"#E5ECF6\",\"gridcolor\":\"white\",\"gridwidth\":2,\"linecolor\":\"white\",\"showbackground\":true,\"ticks\":\"\",\"zerolinecolor\":\"white\"},\"zaxis\":{\"backgroundcolor\":\"#E5ECF6\",\"gridcolor\":\"white\",\"gridwidth\":2,\"linecolor\":\"white\",\"showbackground\":true,\"ticks\":\"\",\"zerolinecolor\":\"white\"}},\"shapedefaults\":{\"line\":{\"color\":\"#2a3f5f\"}},\"ternary\":{\"aaxis\":{\"gridcolor\":\"white\",\"linecolor\":\"white\",\"ticks\":\"\"},\"baxis\":{\"gridcolor\":\"white\",\"linecolor\":\"white\",\"ticks\":\"\"},\"bgcolor\":\"#E5ECF6\",\"caxis\":{\"gridcolor\":\"white\",\"linecolor\":\"white\",\"ticks\":\"\"}},\"title\":{\"x\":0.05},\"xaxis\":{\"automargin\":true,\"gridcolor\":\"white\",\"linecolor\":\"white\",\"ticks\":\"\",\"title\":{\"standoff\":15},\"zerolinecolor\":\"white\",\"zerolinewidth\":2},\"yaxis\":{\"automargin\":true,\"gridcolor\":\"white\",\"linecolor\":\"white\",\"ticks\":\"\",\"title\":{\"standoff\":15},\"zerolinecolor\":\"white\",\"zerolinewidth\":2}}}},                        {\"responsive\": true}                    ).then(function(){\n",
       "                            \n",
       "var gd = document.getElementById('510e7ba3-1a13-48f6-a882-e78e16f377b0');\n",
       "var x = new MutationObserver(function (mutations, observer) {{\n",
       "        var display = window.getComputedStyle(gd).display;\n",
       "        if (!display || display === 'none') {{\n",
       "            console.log([gd, 'removed!']);\n",
       "            Plotly.purge(gd);\n",
       "            observer.disconnect();\n",
       "        }}\n",
       "}});\n",
       "\n",
       "// Listen for the removal of the full notebook cells\n",
       "var notebookContainer = gd.closest('#notebook-container');\n",
       "if (notebookContainer) {{\n",
       "    x.observe(notebookContainer, {childList: true});\n",
       "}}\n",
       "\n",
       "// Listen for the clearing of the current output cell\n",
       "var outputEl = gd.closest('.output');\n",
       "if (outputEl) {{\n",
       "    x.observe(outputEl, {childList: true});\n",
       "}}\n",
       "\n",
       "                        })                };                });            </script>        </div>"
      ]
     },
     "metadata": {},
     "output_type": "display_data"
    }
   ],
   "source": [
    "main.plot_bid_bit_1(data)"
   ]
  },
  {
   "cell_type": "code",
   "execution_count": 10,
   "id": "1b5f1b2f",
   "metadata": {},
   "outputs": [
    {
     "data": {
      "application/vnd.plotly.v1+json": {
       "config": {
        "plotlyServerURL": "https://plot.ly"
       },
       "data": [
        {
         "connectgaps": true,
         "name": "bitso_ask_bit",
         "type": "scatter",
         "x": [
          "2022-04-29T02:27:29.000Z",
          "2022-04-29T02:28:31.000Z",
          "2022-04-29T02:29:34.000Z",
          "2022-04-29T02:30:37.000Z",
          "2022-04-29T02:31:39.000Z",
          "2022-04-29T02:32:42.000Z",
          "2022-04-29T02:33:44.000Z",
          "2022-04-29T02:34:46.000Z",
          "2022-04-29T02:35:48.000Z",
          "2022-04-29T02:36:51.000Z",
          "2022-04-29T02:37:54.000Z",
          "2022-04-29T02:38:57.000Z",
          "2022-04-29T02:40:00.000Z",
          "2022-04-29T02:41:02.000Z",
          "2022-04-29T02:42:04.000Z",
          "2022-04-29T02:43:07.000Z",
          "2022-04-29T02:44:09.000Z",
          "2022-04-29T02:45:11.000Z",
          "2022-04-29T02:46:14.000Z",
          "2022-04-29T02:47:17.000Z",
          "2022-04-29T02:48:19.000Z",
          "2022-04-29T02:49:23.000Z",
          "2022-04-29T02:50:26.000Z",
          "2022-04-29T02:51:30.000Z",
          "2022-04-29T02:52:33.000Z",
          "2022-04-29T02:53:35.000Z",
          "2022-04-29T02:54:38.000Z",
          "2022-04-29T02:55:40.000Z",
          "2022-04-29T02:56:42.000Z",
          "2022-04-29T02:57:45.000Z",
          "2022-04-29T02:58:47.000Z",
          "2022-04-29T02:59:48.000Z",
          "2022-04-29T03:00:51.000Z",
          "2022-04-29T03:01:53.000Z",
          "2022-04-29T03:02:55.000Z",
          "2022-04-29T03:03:56.000Z",
          "2022-04-29T03:04:58.000Z",
          "2022-04-29T03:06:01.000Z",
          "2022-04-29T03:07:03.000Z",
          "2022-04-29T03:08:05.000Z",
          "2022-04-29T03:09:07.000Z",
          "2022-04-29T03:10:09.000Z",
          "2022-04-29T03:11:12.000Z",
          "2022-04-29T03:12:14.000Z",
          "2022-04-29T03:13:16.000Z",
          "2022-04-29T03:14:18.000Z",
          "2022-04-29T03:15:20.000Z",
          "2022-04-29T03:16:22.000Z",
          "2022-04-29T03:17:26.000Z",
          "2022-04-29T03:18:28.000Z",
          "2022-04-29T03:19:30.000Z",
          "2022-04-29T03:20:32.000Z",
          "2022-04-29T03:21:34.000Z",
          "2022-04-29T03:22:36.000Z",
          "2022-04-29T03:23:38.000Z",
          "2022-04-29T03:24:41.000Z",
          "2022-04-29T03:25:43.000Z",
          "2022-04-29T03:26:45.000Z",
          "2022-04-29T03:27:47.000Z",
          "2022-04-29T03:28:50.000Z"
         ],
         "y": [
          39688.93,
          39717.48,
          39712.22,
          39687.78,
          39708.86,
          39714.1,
          39695.32,
          39684.91,
          39702.41,
          39700.73,
          39700.73,
          39698.92,
          39698.92,
          39698.92,
          39708.98,
          39702.46,
          39708.98,
          39726.34,
          39732.76,
          39758.51,
          39736.53,
          39723.78,
          39712.22,
          39711.7,
          39712.22,
          39710.35,
          39677.35,
          39636.76,
          39570.14,
          39521.89,
          39544.03,
          39547.15,
          39516.71,
          39514.97,
          39530.05,
          39568.71,
          39567.53,
          39544.11,
          39548.42,
          39542.08,
          39533.33,
          39520.91,
          39503.98,
          39497.27,
          39427.4,
          39407.61,
          39384.63,
          39388.67,
          39448.37,
          39437.15,
          39455.54,
          39455,
          39439.42,
          39458.32,
          39468.52,
          39472.54,
          39440.32,
          39439.33,
          39456.1,
          39464.48
         ]
        },
        {
         "name": "kraken_ask_bit",
         "type": "scatter",
         "x": [
          "2022-04-29T02:27:29.000Z",
          "2022-04-29T02:28:31.000Z",
          "2022-04-29T02:29:34.000Z",
          "2022-04-29T02:30:37.000Z",
          "2022-04-29T02:31:39.000Z",
          "2022-04-29T02:32:42.000Z",
          "2022-04-29T02:33:44.000Z",
          "2022-04-29T02:34:46.000Z",
          "2022-04-29T02:35:48.000Z",
          "2022-04-29T02:36:51.000Z",
          "2022-04-29T02:37:54.000Z",
          "2022-04-29T02:38:57.000Z",
          "2022-04-29T02:40:00.000Z",
          "2022-04-29T02:41:02.000Z",
          "2022-04-29T02:42:04.000Z",
          "2022-04-29T02:43:07.000Z",
          "2022-04-29T02:44:09.000Z",
          "2022-04-29T02:45:11.000Z",
          "2022-04-29T02:46:14.000Z",
          "2022-04-29T02:47:17.000Z",
          "2022-04-29T02:48:19.000Z",
          "2022-04-29T02:49:23.000Z",
          "2022-04-29T02:50:26.000Z",
          "2022-04-29T02:51:30.000Z",
          "2022-04-29T02:52:33.000Z",
          "2022-04-29T02:53:35.000Z",
          "2022-04-29T02:54:38.000Z",
          "2022-04-29T02:55:40.000Z",
          "2022-04-29T02:56:42.000Z",
          "2022-04-29T02:57:45.000Z",
          "2022-04-29T02:58:47.000Z",
          "2022-04-29T02:59:48.000Z",
          "2022-04-29T03:00:51.000Z",
          "2022-04-29T03:01:53.000Z",
          "2022-04-29T03:02:55.000Z",
          "2022-04-29T03:03:56.000Z",
          "2022-04-29T03:04:58.000Z",
          "2022-04-29T03:06:01.000Z",
          "2022-04-29T03:07:03.000Z",
          "2022-04-29T03:08:05.000Z",
          "2022-04-29T03:09:07.000Z",
          "2022-04-29T03:10:09.000Z",
          "2022-04-29T03:11:12.000Z",
          "2022-04-29T03:12:14.000Z",
          "2022-04-29T03:13:16.000Z",
          "2022-04-29T03:14:18.000Z",
          "2022-04-29T03:15:20.000Z",
          "2022-04-29T03:16:22.000Z",
          "2022-04-29T03:17:26.000Z",
          "2022-04-29T03:18:28.000Z",
          "2022-04-29T03:19:30.000Z",
          "2022-04-29T03:20:32.000Z",
          "2022-04-29T03:21:34.000Z",
          "2022-04-29T03:22:36.000Z",
          "2022-04-29T03:23:38.000Z",
          "2022-04-29T03:24:41.000Z",
          "2022-04-29T03:25:43.000Z",
          "2022-04-29T03:26:45.000Z",
          "2022-04-29T03:27:47.000Z",
          "2022-04-29T03:28:50.000Z"
         ],
         "y": [
          39664.9,
          39690.7,
          39689,
          39672.8,
          39708.2,
          39696.2,
          39675.1,
          39691.9,
          39689.7,
          39681.7,
          39686,
          39681.3,
          39683.3,
          39683.2,
          39688.5,
          39675.3,
          39675.3,
          39706.5,
          39706.7,
          39730,
          39719.1,
          39698.7,
          39695.1,
          39690.2,
          39692.2,
          39691.8,
          39658,
          39561.9,
          39540.9,
          39496.5,
          39528.7,
          39526.4,
          39505,
          39520.5,
          39518.6,
          39554.6,
          39539.5,
          39531.7,
          39542.1,
          39535.1,
          39535.1,
          39520.1,
          39517.9,
          39492.4,
          39328.7,
          39392.8,
          39378,
          39386.8,
          39449.6,
          39430.6,
          39446.4,
          39454.7,
          39437.5,
          39450.1,
          39461.8,
          39453.7,
          39424.7,
          39432.6,
          39448.6,
          39451.6
         ]
        },
        {
         "name": "binance_ask_bit",
         "type": "scatter",
         "x": [
          "2022-04-29T02:27:29.000Z",
          "2022-04-29T02:28:31.000Z",
          "2022-04-29T02:29:34.000Z",
          "2022-04-29T02:30:37.000Z",
          "2022-04-29T02:31:39.000Z",
          "2022-04-29T02:32:42.000Z",
          "2022-04-29T02:33:44.000Z",
          "2022-04-29T02:34:46.000Z",
          "2022-04-29T02:35:48.000Z",
          "2022-04-29T02:36:51.000Z",
          "2022-04-29T02:37:54.000Z",
          "2022-04-29T02:38:57.000Z",
          "2022-04-29T02:40:00.000Z",
          "2022-04-29T02:41:02.000Z",
          "2022-04-29T02:42:04.000Z",
          "2022-04-29T02:43:07.000Z",
          "2022-04-29T02:44:09.000Z",
          "2022-04-29T02:45:11.000Z",
          "2022-04-29T02:46:14.000Z",
          "2022-04-29T02:47:17.000Z",
          "2022-04-29T02:48:19.000Z",
          "2022-04-29T02:49:23.000Z",
          "2022-04-29T02:50:26.000Z",
          "2022-04-29T02:51:30.000Z",
          "2022-04-29T02:52:33.000Z",
          "2022-04-29T02:53:35.000Z",
          "2022-04-29T02:54:38.000Z",
          "2022-04-29T02:55:40.000Z",
          "2022-04-29T02:56:42.000Z",
          "2022-04-29T02:57:45.000Z",
          "2022-04-29T02:58:47.000Z",
          "2022-04-29T02:59:48.000Z",
          "2022-04-29T03:00:51.000Z",
          "2022-04-29T03:01:53.000Z",
          "2022-04-29T03:02:55.000Z",
          "2022-04-29T03:03:56.000Z",
          "2022-04-29T03:04:58.000Z",
          "2022-04-29T03:06:01.000Z",
          "2022-04-29T03:07:03.000Z",
          "2022-04-29T03:08:05.000Z",
          "2022-04-29T03:09:07.000Z",
          "2022-04-29T03:10:09.000Z",
          "2022-04-29T03:11:12.000Z",
          "2022-04-29T03:12:14.000Z",
          "2022-04-29T03:13:16.000Z",
          "2022-04-29T03:14:18.000Z",
          "2022-04-29T03:15:20.000Z",
          "2022-04-29T03:16:22.000Z",
          "2022-04-29T03:17:26.000Z",
          "2022-04-29T03:18:28.000Z",
          "2022-04-29T03:19:30.000Z",
          "2022-04-29T03:20:32.000Z",
          "2022-04-29T03:21:34.000Z",
          "2022-04-29T03:22:36.000Z",
          "2022-04-29T03:23:38.000Z",
          "2022-04-29T03:24:41.000Z",
          "2022-04-29T03:25:43.000Z",
          "2022-04-29T03:26:45.000Z",
          "2022-04-29T03:27:47.000Z",
          "2022-04-29T03:28:50.000Z"
         ],
         "y": [
          39702.599999,
          39678.699999,
          39678.699999,
          39678.699999,
          39678.699999,
          39678.699999,
          39678.699999,
          39678.699999,
          39678.699999,
          39678.699999,
          39678.699999,
          39678.699999,
          39678.699999,
          39678.699999,
          39678.699999,
          39678.699999,
          39678.699999,
          39706.499998,
          39706.499998,
          39706.499998,
          39706.499998,
          39706.499998,
          39706.499998,
          39706.499998,
          39706.499998,
          39706.499998,
          39682.199999,
          39682.121035,
          39583.889999,
          39582.759973,
          39582.529919,
          39582.289868,
          39582.009813,
          39581.739758,
          39581.469705,
          39581.359647,
          39582.829966,
          39582.509909,
          39582.259847,
          39582.009785,
          39581.709728,
          39581.459679,
          39581.179623,
          39580.959578,
          39446.189998,
          39409.499999,
          39369.399999,
          39345.099999,
          39395.899999,
          39395.899999,
          39395.899999,
          39420.399998,
          39420.399998,
          39420.399998,
          39420.399998,
          39420.399998,
          39420.399998,
          39421.499998,
          39421.499998,
          39447.699999
         ]
        }
       ],
       "layout": {
        "template": {
         "data": {
          "bar": [
           {
            "error_x": {
             "color": "#2a3f5f"
            },
            "error_y": {
             "color": "#2a3f5f"
            },
            "marker": {
             "line": {
              "color": "#E5ECF6",
              "width": 0.5
             },
             "pattern": {
              "fillmode": "overlay",
              "size": 10,
              "solidity": 0.2
             }
            },
            "type": "bar"
           }
          ],
          "barpolar": [
           {
            "marker": {
             "line": {
              "color": "#E5ECF6",
              "width": 0.5
             },
             "pattern": {
              "fillmode": "overlay",
              "size": 10,
              "solidity": 0.2
             }
            },
            "type": "barpolar"
           }
          ],
          "carpet": [
           {
            "aaxis": {
             "endlinecolor": "#2a3f5f",
             "gridcolor": "white",
             "linecolor": "white",
             "minorgridcolor": "white",
             "startlinecolor": "#2a3f5f"
            },
            "baxis": {
             "endlinecolor": "#2a3f5f",
             "gridcolor": "white",
             "linecolor": "white",
             "minorgridcolor": "white",
             "startlinecolor": "#2a3f5f"
            },
            "type": "carpet"
           }
          ],
          "choropleth": [
           {
            "colorbar": {
             "outlinewidth": 0,
             "ticks": ""
            },
            "type": "choropleth"
           }
          ],
          "contour": [
           {
            "colorbar": {
             "outlinewidth": 0,
             "ticks": ""
            },
            "colorscale": [
             [
              0,
              "#0d0887"
             ],
             [
              0.1111111111111111,
              "#46039f"
             ],
             [
              0.2222222222222222,
              "#7201a8"
             ],
             [
              0.3333333333333333,
              "#9c179e"
             ],
             [
              0.4444444444444444,
              "#bd3786"
             ],
             [
              0.5555555555555556,
              "#d8576b"
             ],
             [
              0.6666666666666666,
              "#ed7953"
             ],
             [
              0.7777777777777778,
              "#fb9f3a"
             ],
             [
              0.8888888888888888,
              "#fdca26"
             ],
             [
              1,
              "#f0f921"
             ]
            ],
            "type": "contour"
           }
          ],
          "contourcarpet": [
           {
            "colorbar": {
             "outlinewidth": 0,
             "ticks": ""
            },
            "type": "contourcarpet"
           }
          ],
          "heatmap": [
           {
            "colorbar": {
             "outlinewidth": 0,
             "ticks": ""
            },
            "colorscale": [
             [
              0,
              "#0d0887"
             ],
             [
              0.1111111111111111,
              "#46039f"
             ],
             [
              0.2222222222222222,
              "#7201a8"
             ],
             [
              0.3333333333333333,
              "#9c179e"
             ],
             [
              0.4444444444444444,
              "#bd3786"
             ],
             [
              0.5555555555555556,
              "#d8576b"
             ],
             [
              0.6666666666666666,
              "#ed7953"
             ],
             [
              0.7777777777777778,
              "#fb9f3a"
             ],
             [
              0.8888888888888888,
              "#fdca26"
             ],
             [
              1,
              "#f0f921"
             ]
            ],
            "type": "heatmap"
           }
          ],
          "heatmapgl": [
           {
            "colorbar": {
             "outlinewidth": 0,
             "ticks": ""
            },
            "colorscale": [
             [
              0,
              "#0d0887"
             ],
             [
              0.1111111111111111,
              "#46039f"
             ],
             [
              0.2222222222222222,
              "#7201a8"
             ],
             [
              0.3333333333333333,
              "#9c179e"
             ],
             [
              0.4444444444444444,
              "#bd3786"
             ],
             [
              0.5555555555555556,
              "#d8576b"
             ],
             [
              0.6666666666666666,
              "#ed7953"
             ],
             [
              0.7777777777777778,
              "#fb9f3a"
             ],
             [
              0.8888888888888888,
              "#fdca26"
             ],
             [
              1,
              "#f0f921"
             ]
            ],
            "type": "heatmapgl"
           }
          ],
          "histogram": [
           {
            "marker": {
             "pattern": {
              "fillmode": "overlay",
              "size": 10,
              "solidity": 0.2
             }
            },
            "type": "histogram"
           }
          ],
          "histogram2d": [
           {
            "colorbar": {
             "outlinewidth": 0,
             "ticks": ""
            },
            "colorscale": [
             [
              0,
              "#0d0887"
             ],
             [
              0.1111111111111111,
              "#46039f"
             ],
             [
              0.2222222222222222,
              "#7201a8"
             ],
             [
              0.3333333333333333,
              "#9c179e"
             ],
             [
              0.4444444444444444,
              "#bd3786"
             ],
             [
              0.5555555555555556,
              "#d8576b"
             ],
             [
              0.6666666666666666,
              "#ed7953"
             ],
             [
              0.7777777777777778,
              "#fb9f3a"
             ],
             [
              0.8888888888888888,
              "#fdca26"
             ],
             [
              1,
              "#f0f921"
             ]
            ],
            "type": "histogram2d"
           }
          ],
          "histogram2dcontour": [
           {
            "colorbar": {
             "outlinewidth": 0,
             "ticks": ""
            },
            "colorscale": [
             [
              0,
              "#0d0887"
             ],
             [
              0.1111111111111111,
              "#46039f"
             ],
             [
              0.2222222222222222,
              "#7201a8"
             ],
             [
              0.3333333333333333,
              "#9c179e"
             ],
             [
              0.4444444444444444,
              "#bd3786"
             ],
             [
              0.5555555555555556,
              "#d8576b"
             ],
             [
              0.6666666666666666,
              "#ed7953"
             ],
             [
              0.7777777777777778,
              "#fb9f3a"
             ],
             [
              0.8888888888888888,
              "#fdca26"
             ],
             [
              1,
              "#f0f921"
             ]
            ],
            "type": "histogram2dcontour"
           }
          ],
          "mesh3d": [
           {
            "colorbar": {
             "outlinewidth": 0,
             "ticks": ""
            },
            "type": "mesh3d"
           }
          ],
          "parcoords": [
           {
            "line": {
             "colorbar": {
              "outlinewidth": 0,
              "ticks": ""
             }
            },
            "type": "parcoords"
           }
          ],
          "pie": [
           {
            "automargin": true,
            "type": "pie"
           }
          ],
          "scatter": [
           {
            "marker": {
             "colorbar": {
              "outlinewidth": 0,
              "ticks": ""
             }
            },
            "type": "scatter"
           }
          ],
          "scatter3d": [
           {
            "line": {
             "colorbar": {
              "outlinewidth": 0,
              "ticks": ""
             }
            },
            "marker": {
             "colorbar": {
              "outlinewidth": 0,
              "ticks": ""
             }
            },
            "type": "scatter3d"
           }
          ],
          "scattercarpet": [
           {
            "marker": {
             "colorbar": {
              "outlinewidth": 0,
              "ticks": ""
             }
            },
            "type": "scattercarpet"
           }
          ],
          "scattergeo": [
           {
            "marker": {
             "colorbar": {
              "outlinewidth": 0,
              "ticks": ""
             }
            },
            "type": "scattergeo"
           }
          ],
          "scattergl": [
           {
            "marker": {
             "colorbar": {
              "outlinewidth": 0,
              "ticks": ""
             }
            },
            "type": "scattergl"
           }
          ],
          "scattermapbox": [
           {
            "marker": {
             "colorbar": {
              "outlinewidth": 0,
              "ticks": ""
             }
            },
            "type": "scattermapbox"
           }
          ],
          "scatterpolar": [
           {
            "marker": {
             "colorbar": {
              "outlinewidth": 0,
              "ticks": ""
             }
            },
            "type": "scatterpolar"
           }
          ],
          "scatterpolargl": [
           {
            "marker": {
             "colorbar": {
              "outlinewidth": 0,
              "ticks": ""
             }
            },
            "type": "scatterpolargl"
           }
          ],
          "scatterternary": [
           {
            "marker": {
             "colorbar": {
              "outlinewidth": 0,
              "ticks": ""
             }
            },
            "type": "scatterternary"
           }
          ],
          "surface": [
           {
            "colorbar": {
             "outlinewidth": 0,
             "ticks": ""
            },
            "colorscale": [
             [
              0,
              "#0d0887"
             ],
             [
              0.1111111111111111,
              "#46039f"
             ],
             [
              0.2222222222222222,
              "#7201a8"
             ],
             [
              0.3333333333333333,
              "#9c179e"
             ],
             [
              0.4444444444444444,
              "#bd3786"
             ],
             [
              0.5555555555555556,
              "#d8576b"
             ],
             [
              0.6666666666666666,
              "#ed7953"
             ],
             [
              0.7777777777777778,
              "#fb9f3a"
             ],
             [
              0.8888888888888888,
              "#fdca26"
             ],
             [
              1,
              "#f0f921"
             ]
            ],
            "type": "surface"
           }
          ],
          "table": [
           {
            "cells": {
             "fill": {
              "color": "#EBF0F8"
             },
             "line": {
              "color": "white"
             }
            },
            "header": {
             "fill": {
              "color": "#C8D4E3"
             },
             "line": {
              "color": "white"
             }
            },
            "type": "table"
           }
          ]
         },
         "layout": {
          "annotationdefaults": {
           "arrowcolor": "#2a3f5f",
           "arrowhead": 0,
           "arrowwidth": 1
          },
          "autotypenumbers": "strict",
          "coloraxis": {
           "colorbar": {
            "outlinewidth": 0,
            "ticks": ""
           }
          },
          "colorscale": {
           "diverging": [
            [
             0,
             "#8e0152"
            ],
            [
             0.1,
             "#c51b7d"
            ],
            [
             0.2,
             "#de77ae"
            ],
            [
             0.3,
             "#f1b6da"
            ],
            [
             0.4,
             "#fde0ef"
            ],
            [
             0.5,
             "#f7f7f7"
            ],
            [
             0.6,
             "#e6f5d0"
            ],
            [
             0.7,
             "#b8e186"
            ],
            [
             0.8,
             "#7fbc41"
            ],
            [
             0.9,
             "#4d9221"
            ],
            [
             1,
             "#276419"
            ]
           ],
           "sequential": [
            [
             0,
             "#0d0887"
            ],
            [
             0.1111111111111111,
             "#46039f"
            ],
            [
             0.2222222222222222,
             "#7201a8"
            ],
            [
             0.3333333333333333,
             "#9c179e"
            ],
            [
             0.4444444444444444,
             "#bd3786"
            ],
            [
             0.5555555555555556,
             "#d8576b"
            ],
            [
             0.6666666666666666,
             "#ed7953"
            ],
            [
             0.7777777777777778,
             "#fb9f3a"
            ],
            [
             0.8888888888888888,
             "#fdca26"
            ],
            [
             1,
             "#f0f921"
            ]
           ],
           "sequentialminus": [
            [
             0,
             "#0d0887"
            ],
            [
             0.1111111111111111,
             "#46039f"
            ],
            [
             0.2222222222222222,
             "#7201a8"
            ],
            [
             0.3333333333333333,
             "#9c179e"
            ],
            [
             0.4444444444444444,
             "#bd3786"
            ],
            [
             0.5555555555555556,
             "#d8576b"
            ],
            [
             0.6666666666666666,
             "#ed7953"
            ],
            [
             0.7777777777777778,
             "#fb9f3a"
            ],
            [
             0.8888888888888888,
             "#fdca26"
            ],
            [
             1,
             "#f0f921"
            ]
           ]
          },
          "colorway": [
           "#636efa",
           "#EF553B",
           "#00cc96",
           "#ab63fa",
           "#FFA15A",
           "#19d3f3",
           "#FF6692",
           "#B6E880",
           "#FF97FF",
           "#FECB52"
          ],
          "font": {
           "color": "#2a3f5f"
          },
          "geo": {
           "bgcolor": "white",
           "lakecolor": "white",
           "landcolor": "#E5ECF6",
           "showlakes": true,
           "showland": true,
           "subunitcolor": "white"
          },
          "hoverlabel": {
           "align": "left"
          },
          "hovermode": "closest",
          "mapbox": {
           "style": "light"
          },
          "paper_bgcolor": "white",
          "plot_bgcolor": "#E5ECF6",
          "polar": {
           "angularaxis": {
            "gridcolor": "white",
            "linecolor": "white",
            "ticks": ""
           },
           "bgcolor": "#E5ECF6",
           "radialaxis": {
            "gridcolor": "white",
            "linecolor": "white",
            "ticks": ""
           }
          },
          "scene": {
           "xaxis": {
            "backgroundcolor": "#E5ECF6",
            "gridcolor": "white",
            "gridwidth": 2,
            "linecolor": "white",
            "showbackground": true,
            "ticks": "",
            "zerolinecolor": "white"
           },
           "yaxis": {
            "backgroundcolor": "#E5ECF6",
            "gridcolor": "white",
            "gridwidth": 2,
            "linecolor": "white",
            "showbackground": true,
            "ticks": "",
            "zerolinecolor": "white"
           },
           "zaxis": {
            "backgroundcolor": "#E5ECF6",
            "gridcolor": "white",
            "gridwidth": 2,
            "linecolor": "white",
            "showbackground": true,
            "ticks": "",
            "zerolinecolor": "white"
           }
          },
          "shapedefaults": {
           "line": {
            "color": "#2a3f5f"
           }
          },
          "ternary": {
           "aaxis": {
            "gridcolor": "white",
            "linecolor": "white",
            "ticks": ""
           },
           "baxis": {
            "gridcolor": "white",
            "linecolor": "white",
            "ticks": ""
           },
           "bgcolor": "#E5ECF6",
           "caxis": {
            "gridcolor": "white",
            "linecolor": "white",
            "ticks": ""
           }
          },
          "title": {
           "x": 0.05
          },
          "xaxis": {
           "automargin": true,
           "gridcolor": "white",
           "linecolor": "white",
           "ticks": "",
           "title": {
            "standoff": 15
           },
           "zerolinecolor": "white",
           "zerolinewidth": 2
          },
          "yaxis": {
           "automargin": true,
           "gridcolor": "white",
           "linecolor": "white",
           "ticks": "",
           "title": {
            "standoff": 15
           },
           "zerolinecolor": "white",
           "zerolinewidth": 2
          }
         }
        }
       }
      },
      "text/html": [
       "<div>                            <div id=\"440b41c6-017b-4a74-af19-d6ed06ff3d13\" class=\"plotly-graph-div\" style=\"height:525px; width:100%;\"></div>            <script type=\"text/javascript\">                require([\"plotly\"], function(Plotly) {                    window.PLOTLYENV=window.PLOTLYENV || {};                                    if (document.getElementById(\"440b41c6-017b-4a74-af19-d6ed06ff3d13\")) {                    Plotly.newPlot(                        \"440b41c6-017b-4a74-af19-d6ed06ff3d13\",                        [{\"connectgaps\":true,\"name\":\"bitso_ask_bit\",\"x\":[\"2022-04-29T02:27:29.000Z\",\"2022-04-29T02:28:31.000Z\",\"2022-04-29T02:29:34.000Z\",\"2022-04-29T02:30:37.000Z\",\"2022-04-29T02:31:39.000Z\",\"2022-04-29T02:32:42.000Z\",\"2022-04-29T02:33:44.000Z\",\"2022-04-29T02:34:46.000Z\",\"2022-04-29T02:35:48.000Z\",\"2022-04-29T02:36:51.000Z\",\"2022-04-29T02:37:54.000Z\",\"2022-04-29T02:38:57.000Z\",\"2022-04-29T02:40:00.000Z\",\"2022-04-29T02:41:02.000Z\",\"2022-04-29T02:42:04.000Z\",\"2022-04-29T02:43:07.000Z\",\"2022-04-29T02:44:09.000Z\",\"2022-04-29T02:45:11.000Z\",\"2022-04-29T02:46:14.000Z\",\"2022-04-29T02:47:17.000Z\",\"2022-04-29T02:48:19.000Z\",\"2022-04-29T02:49:23.000Z\",\"2022-04-29T02:50:26.000Z\",\"2022-04-29T02:51:30.000Z\",\"2022-04-29T02:52:33.000Z\",\"2022-04-29T02:53:35.000Z\",\"2022-04-29T02:54:38.000Z\",\"2022-04-29T02:55:40.000Z\",\"2022-04-29T02:56:42.000Z\",\"2022-04-29T02:57:45.000Z\",\"2022-04-29T02:58:47.000Z\",\"2022-04-29T02:59:48.000Z\",\"2022-04-29T03:00:51.000Z\",\"2022-04-29T03:01:53.000Z\",\"2022-04-29T03:02:55.000Z\",\"2022-04-29T03:03:56.000Z\",\"2022-04-29T03:04:58.000Z\",\"2022-04-29T03:06:01.000Z\",\"2022-04-29T03:07:03.000Z\",\"2022-04-29T03:08:05.000Z\",\"2022-04-29T03:09:07.000Z\",\"2022-04-29T03:10:09.000Z\",\"2022-04-29T03:11:12.000Z\",\"2022-04-29T03:12:14.000Z\",\"2022-04-29T03:13:16.000Z\",\"2022-04-29T03:14:18.000Z\",\"2022-04-29T03:15:20.000Z\",\"2022-04-29T03:16:22.000Z\",\"2022-04-29T03:17:26.000Z\",\"2022-04-29T03:18:28.000Z\",\"2022-04-29T03:19:30.000Z\",\"2022-04-29T03:20:32.000Z\",\"2022-04-29T03:21:34.000Z\",\"2022-04-29T03:22:36.000Z\",\"2022-04-29T03:23:38.000Z\",\"2022-04-29T03:24:41.000Z\",\"2022-04-29T03:25:43.000Z\",\"2022-04-29T03:26:45.000Z\",\"2022-04-29T03:27:47.000Z\",\"2022-04-29T03:28:50.000Z\"],\"y\":[39688.93,39717.48,39712.22,39687.78,39708.86,39714.1,39695.32,39684.91,39702.41,39700.73,39700.73,39698.92,39698.92,39698.92,39708.98,39702.46,39708.98,39726.34,39732.76,39758.51,39736.53,39723.78,39712.22,39711.7,39712.22,39710.35,39677.35,39636.76,39570.14,39521.89,39544.03,39547.15,39516.71,39514.97,39530.05,39568.71,39567.53,39544.11,39548.42,39542.08,39533.33,39520.91,39503.98,39497.27,39427.4,39407.61,39384.63,39388.67,39448.37,39437.15,39455.54,39455.0,39439.42,39458.32,39468.52,39472.54,39440.32,39439.33,39456.1,39464.48],\"type\":\"scatter\"},{\"name\":\"kraken_ask_bit\",\"x\":[\"2022-04-29T02:27:29.000Z\",\"2022-04-29T02:28:31.000Z\",\"2022-04-29T02:29:34.000Z\",\"2022-04-29T02:30:37.000Z\",\"2022-04-29T02:31:39.000Z\",\"2022-04-29T02:32:42.000Z\",\"2022-04-29T02:33:44.000Z\",\"2022-04-29T02:34:46.000Z\",\"2022-04-29T02:35:48.000Z\",\"2022-04-29T02:36:51.000Z\",\"2022-04-29T02:37:54.000Z\",\"2022-04-29T02:38:57.000Z\",\"2022-04-29T02:40:00.000Z\",\"2022-04-29T02:41:02.000Z\",\"2022-04-29T02:42:04.000Z\",\"2022-04-29T02:43:07.000Z\",\"2022-04-29T02:44:09.000Z\",\"2022-04-29T02:45:11.000Z\",\"2022-04-29T02:46:14.000Z\",\"2022-04-29T02:47:17.000Z\",\"2022-04-29T02:48:19.000Z\",\"2022-04-29T02:49:23.000Z\",\"2022-04-29T02:50:26.000Z\",\"2022-04-29T02:51:30.000Z\",\"2022-04-29T02:52:33.000Z\",\"2022-04-29T02:53:35.000Z\",\"2022-04-29T02:54:38.000Z\",\"2022-04-29T02:55:40.000Z\",\"2022-04-29T02:56:42.000Z\",\"2022-04-29T02:57:45.000Z\",\"2022-04-29T02:58:47.000Z\",\"2022-04-29T02:59:48.000Z\",\"2022-04-29T03:00:51.000Z\",\"2022-04-29T03:01:53.000Z\",\"2022-04-29T03:02:55.000Z\",\"2022-04-29T03:03:56.000Z\",\"2022-04-29T03:04:58.000Z\",\"2022-04-29T03:06:01.000Z\",\"2022-04-29T03:07:03.000Z\",\"2022-04-29T03:08:05.000Z\",\"2022-04-29T03:09:07.000Z\",\"2022-04-29T03:10:09.000Z\",\"2022-04-29T03:11:12.000Z\",\"2022-04-29T03:12:14.000Z\",\"2022-04-29T03:13:16.000Z\",\"2022-04-29T03:14:18.000Z\",\"2022-04-29T03:15:20.000Z\",\"2022-04-29T03:16:22.000Z\",\"2022-04-29T03:17:26.000Z\",\"2022-04-29T03:18:28.000Z\",\"2022-04-29T03:19:30.000Z\",\"2022-04-29T03:20:32.000Z\",\"2022-04-29T03:21:34.000Z\",\"2022-04-29T03:22:36.000Z\",\"2022-04-29T03:23:38.000Z\",\"2022-04-29T03:24:41.000Z\",\"2022-04-29T03:25:43.000Z\",\"2022-04-29T03:26:45.000Z\",\"2022-04-29T03:27:47.000Z\",\"2022-04-29T03:28:50.000Z\"],\"y\":[39664.9,39690.7,39689.0,39672.8,39708.2,39696.2,39675.1,39691.9,39689.7,39681.7,39686.0,39681.3,39683.3,39683.2,39688.5,39675.3,39675.3,39706.5,39706.7,39730.0,39719.1,39698.7,39695.1,39690.2,39692.2,39691.8,39658.0,39561.9,39540.9,39496.5,39528.7,39526.4,39505.0,39520.5,39518.6,39554.6,39539.5,39531.7,39542.1,39535.1,39535.1,39520.1,39517.9,39492.4,39328.7,39392.8,39378.0,39386.8,39449.6,39430.6,39446.4,39454.7,39437.5,39450.1,39461.8,39453.7,39424.7,39432.6,39448.6,39451.6],\"type\":\"scatter\"},{\"name\":\"binance_ask_bit\",\"x\":[\"2022-04-29T02:27:29.000Z\",\"2022-04-29T02:28:31.000Z\",\"2022-04-29T02:29:34.000Z\",\"2022-04-29T02:30:37.000Z\",\"2022-04-29T02:31:39.000Z\",\"2022-04-29T02:32:42.000Z\",\"2022-04-29T02:33:44.000Z\",\"2022-04-29T02:34:46.000Z\",\"2022-04-29T02:35:48.000Z\",\"2022-04-29T02:36:51.000Z\",\"2022-04-29T02:37:54.000Z\",\"2022-04-29T02:38:57.000Z\",\"2022-04-29T02:40:00.000Z\",\"2022-04-29T02:41:02.000Z\",\"2022-04-29T02:42:04.000Z\",\"2022-04-29T02:43:07.000Z\",\"2022-04-29T02:44:09.000Z\",\"2022-04-29T02:45:11.000Z\",\"2022-04-29T02:46:14.000Z\",\"2022-04-29T02:47:17.000Z\",\"2022-04-29T02:48:19.000Z\",\"2022-04-29T02:49:23.000Z\",\"2022-04-29T02:50:26.000Z\",\"2022-04-29T02:51:30.000Z\",\"2022-04-29T02:52:33.000Z\",\"2022-04-29T02:53:35.000Z\",\"2022-04-29T02:54:38.000Z\",\"2022-04-29T02:55:40.000Z\",\"2022-04-29T02:56:42.000Z\",\"2022-04-29T02:57:45.000Z\",\"2022-04-29T02:58:47.000Z\",\"2022-04-29T02:59:48.000Z\",\"2022-04-29T03:00:51.000Z\",\"2022-04-29T03:01:53.000Z\",\"2022-04-29T03:02:55.000Z\",\"2022-04-29T03:03:56.000Z\",\"2022-04-29T03:04:58.000Z\",\"2022-04-29T03:06:01.000Z\",\"2022-04-29T03:07:03.000Z\",\"2022-04-29T03:08:05.000Z\",\"2022-04-29T03:09:07.000Z\",\"2022-04-29T03:10:09.000Z\",\"2022-04-29T03:11:12.000Z\",\"2022-04-29T03:12:14.000Z\",\"2022-04-29T03:13:16.000Z\",\"2022-04-29T03:14:18.000Z\",\"2022-04-29T03:15:20.000Z\",\"2022-04-29T03:16:22.000Z\",\"2022-04-29T03:17:26.000Z\",\"2022-04-29T03:18:28.000Z\",\"2022-04-29T03:19:30.000Z\",\"2022-04-29T03:20:32.000Z\",\"2022-04-29T03:21:34.000Z\",\"2022-04-29T03:22:36.000Z\",\"2022-04-29T03:23:38.000Z\",\"2022-04-29T03:24:41.000Z\",\"2022-04-29T03:25:43.000Z\",\"2022-04-29T03:26:45.000Z\",\"2022-04-29T03:27:47.000Z\",\"2022-04-29T03:28:50.000Z\"],\"y\":[39702.599999,39678.699999,39678.699999,39678.699999,39678.699999,39678.699999,39678.699999,39678.699999,39678.699999,39678.699999,39678.699999,39678.699999,39678.699999,39678.699999,39678.699999,39678.699999,39678.699999,39706.499998,39706.499998,39706.499998,39706.499998,39706.499998,39706.499998,39706.499998,39706.499998,39706.499998,39682.199999,39682.121035,39583.889999,39582.759973,39582.529919,39582.289868,39582.009813,39581.739758,39581.469705,39581.359647,39582.829966,39582.509909,39582.259847,39582.009785,39581.709728,39581.459679,39581.179623,39580.959578,39446.189998,39409.499999,39369.399999,39345.099999,39395.899999,39395.899999,39395.899999,39420.399998,39420.399998,39420.399998,39420.399998,39420.399998,39420.399998,39421.499998,39421.499998,39447.699999],\"type\":\"scatter\"}],                        {\"template\":{\"data\":{\"bar\":[{\"error_x\":{\"color\":\"#2a3f5f\"},\"error_y\":{\"color\":\"#2a3f5f\"},\"marker\":{\"line\":{\"color\":\"#E5ECF6\",\"width\":0.5},\"pattern\":{\"fillmode\":\"overlay\",\"size\":10,\"solidity\":0.2}},\"type\":\"bar\"}],\"barpolar\":[{\"marker\":{\"line\":{\"color\":\"#E5ECF6\",\"width\":0.5},\"pattern\":{\"fillmode\":\"overlay\",\"size\":10,\"solidity\":0.2}},\"type\":\"barpolar\"}],\"carpet\":[{\"aaxis\":{\"endlinecolor\":\"#2a3f5f\",\"gridcolor\":\"white\",\"linecolor\":\"white\",\"minorgridcolor\":\"white\",\"startlinecolor\":\"#2a3f5f\"},\"baxis\":{\"endlinecolor\":\"#2a3f5f\",\"gridcolor\":\"white\",\"linecolor\":\"white\",\"minorgridcolor\":\"white\",\"startlinecolor\":\"#2a3f5f\"},\"type\":\"carpet\"}],\"choropleth\":[{\"colorbar\":{\"outlinewidth\":0,\"ticks\":\"\"},\"type\":\"choropleth\"}],\"contour\":[{\"colorbar\":{\"outlinewidth\":0,\"ticks\":\"\"},\"colorscale\":[[0.0,\"#0d0887\"],[0.1111111111111111,\"#46039f\"],[0.2222222222222222,\"#7201a8\"],[0.3333333333333333,\"#9c179e\"],[0.4444444444444444,\"#bd3786\"],[0.5555555555555556,\"#d8576b\"],[0.6666666666666666,\"#ed7953\"],[0.7777777777777778,\"#fb9f3a\"],[0.8888888888888888,\"#fdca26\"],[1.0,\"#f0f921\"]],\"type\":\"contour\"}],\"contourcarpet\":[{\"colorbar\":{\"outlinewidth\":0,\"ticks\":\"\"},\"type\":\"contourcarpet\"}],\"heatmap\":[{\"colorbar\":{\"outlinewidth\":0,\"ticks\":\"\"},\"colorscale\":[[0.0,\"#0d0887\"],[0.1111111111111111,\"#46039f\"],[0.2222222222222222,\"#7201a8\"],[0.3333333333333333,\"#9c179e\"],[0.4444444444444444,\"#bd3786\"],[0.5555555555555556,\"#d8576b\"],[0.6666666666666666,\"#ed7953\"],[0.7777777777777778,\"#fb9f3a\"],[0.8888888888888888,\"#fdca26\"],[1.0,\"#f0f921\"]],\"type\":\"heatmap\"}],\"heatmapgl\":[{\"colorbar\":{\"outlinewidth\":0,\"ticks\":\"\"},\"colorscale\":[[0.0,\"#0d0887\"],[0.1111111111111111,\"#46039f\"],[0.2222222222222222,\"#7201a8\"],[0.3333333333333333,\"#9c179e\"],[0.4444444444444444,\"#bd3786\"],[0.5555555555555556,\"#d8576b\"],[0.6666666666666666,\"#ed7953\"],[0.7777777777777778,\"#fb9f3a\"],[0.8888888888888888,\"#fdca26\"],[1.0,\"#f0f921\"]],\"type\":\"heatmapgl\"}],\"histogram\":[{\"marker\":{\"pattern\":{\"fillmode\":\"overlay\",\"size\":10,\"solidity\":0.2}},\"type\":\"histogram\"}],\"histogram2d\":[{\"colorbar\":{\"outlinewidth\":0,\"ticks\":\"\"},\"colorscale\":[[0.0,\"#0d0887\"],[0.1111111111111111,\"#46039f\"],[0.2222222222222222,\"#7201a8\"],[0.3333333333333333,\"#9c179e\"],[0.4444444444444444,\"#bd3786\"],[0.5555555555555556,\"#d8576b\"],[0.6666666666666666,\"#ed7953\"],[0.7777777777777778,\"#fb9f3a\"],[0.8888888888888888,\"#fdca26\"],[1.0,\"#f0f921\"]],\"type\":\"histogram2d\"}],\"histogram2dcontour\":[{\"colorbar\":{\"outlinewidth\":0,\"ticks\":\"\"},\"colorscale\":[[0.0,\"#0d0887\"],[0.1111111111111111,\"#46039f\"],[0.2222222222222222,\"#7201a8\"],[0.3333333333333333,\"#9c179e\"],[0.4444444444444444,\"#bd3786\"],[0.5555555555555556,\"#d8576b\"],[0.6666666666666666,\"#ed7953\"],[0.7777777777777778,\"#fb9f3a\"],[0.8888888888888888,\"#fdca26\"],[1.0,\"#f0f921\"]],\"type\":\"histogram2dcontour\"}],\"mesh3d\":[{\"colorbar\":{\"outlinewidth\":0,\"ticks\":\"\"},\"type\":\"mesh3d\"}],\"parcoords\":[{\"line\":{\"colorbar\":{\"outlinewidth\":0,\"ticks\":\"\"}},\"type\":\"parcoords\"}],\"pie\":[{\"automargin\":true,\"type\":\"pie\"}],\"scatter\":[{\"marker\":{\"colorbar\":{\"outlinewidth\":0,\"ticks\":\"\"}},\"type\":\"scatter\"}],\"scatter3d\":[{\"line\":{\"colorbar\":{\"outlinewidth\":0,\"ticks\":\"\"}},\"marker\":{\"colorbar\":{\"outlinewidth\":0,\"ticks\":\"\"}},\"type\":\"scatter3d\"}],\"scattercarpet\":[{\"marker\":{\"colorbar\":{\"outlinewidth\":0,\"ticks\":\"\"}},\"type\":\"scattercarpet\"}],\"scattergeo\":[{\"marker\":{\"colorbar\":{\"outlinewidth\":0,\"ticks\":\"\"}},\"type\":\"scattergeo\"}],\"scattergl\":[{\"marker\":{\"colorbar\":{\"outlinewidth\":0,\"ticks\":\"\"}},\"type\":\"scattergl\"}],\"scattermapbox\":[{\"marker\":{\"colorbar\":{\"outlinewidth\":0,\"ticks\":\"\"}},\"type\":\"scattermapbox\"}],\"scatterpolar\":[{\"marker\":{\"colorbar\":{\"outlinewidth\":0,\"ticks\":\"\"}},\"type\":\"scatterpolar\"}],\"scatterpolargl\":[{\"marker\":{\"colorbar\":{\"outlinewidth\":0,\"ticks\":\"\"}},\"type\":\"scatterpolargl\"}],\"scatterternary\":[{\"marker\":{\"colorbar\":{\"outlinewidth\":0,\"ticks\":\"\"}},\"type\":\"scatterternary\"}],\"surface\":[{\"colorbar\":{\"outlinewidth\":0,\"ticks\":\"\"},\"colorscale\":[[0.0,\"#0d0887\"],[0.1111111111111111,\"#46039f\"],[0.2222222222222222,\"#7201a8\"],[0.3333333333333333,\"#9c179e\"],[0.4444444444444444,\"#bd3786\"],[0.5555555555555556,\"#d8576b\"],[0.6666666666666666,\"#ed7953\"],[0.7777777777777778,\"#fb9f3a\"],[0.8888888888888888,\"#fdca26\"],[1.0,\"#f0f921\"]],\"type\":\"surface\"}],\"table\":[{\"cells\":{\"fill\":{\"color\":\"#EBF0F8\"},\"line\":{\"color\":\"white\"}},\"header\":{\"fill\":{\"color\":\"#C8D4E3\"},\"line\":{\"color\":\"white\"}},\"type\":\"table\"}]},\"layout\":{\"annotationdefaults\":{\"arrowcolor\":\"#2a3f5f\",\"arrowhead\":0,\"arrowwidth\":1},\"autotypenumbers\":\"strict\",\"coloraxis\":{\"colorbar\":{\"outlinewidth\":0,\"ticks\":\"\"}},\"colorscale\":{\"diverging\":[[0,\"#8e0152\"],[0.1,\"#c51b7d\"],[0.2,\"#de77ae\"],[0.3,\"#f1b6da\"],[0.4,\"#fde0ef\"],[0.5,\"#f7f7f7\"],[0.6,\"#e6f5d0\"],[0.7,\"#b8e186\"],[0.8,\"#7fbc41\"],[0.9,\"#4d9221\"],[1,\"#276419\"]],\"sequential\":[[0.0,\"#0d0887\"],[0.1111111111111111,\"#46039f\"],[0.2222222222222222,\"#7201a8\"],[0.3333333333333333,\"#9c179e\"],[0.4444444444444444,\"#bd3786\"],[0.5555555555555556,\"#d8576b\"],[0.6666666666666666,\"#ed7953\"],[0.7777777777777778,\"#fb9f3a\"],[0.8888888888888888,\"#fdca26\"],[1.0,\"#f0f921\"]],\"sequentialminus\":[[0.0,\"#0d0887\"],[0.1111111111111111,\"#46039f\"],[0.2222222222222222,\"#7201a8\"],[0.3333333333333333,\"#9c179e\"],[0.4444444444444444,\"#bd3786\"],[0.5555555555555556,\"#d8576b\"],[0.6666666666666666,\"#ed7953\"],[0.7777777777777778,\"#fb9f3a\"],[0.8888888888888888,\"#fdca26\"],[1.0,\"#f0f921\"]]},\"colorway\":[\"#636efa\",\"#EF553B\",\"#00cc96\",\"#ab63fa\",\"#FFA15A\",\"#19d3f3\",\"#FF6692\",\"#B6E880\",\"#FF97FF\",\"#FECB52\"],\"font\":{\"color\":\"#2a3f5f\"},\"geo\":{\"bgcolor\":\"white\",\"lakecolor\":\"white\",\"landcolor\":\"#E5ECF6\",\"showlakes\":true,\"showland\":true,\"subunitcolor\":\"white\"},\"hoverlabel\":{\"align\":\"left\"},\"hovermode\":\"closest\",\"mapbox\":{\"style\":\"light\"},\"paper_bgcolor\":\"white\",\"plot_bgcolor\":\"#E5ECF6\",\"polar\":{\"angularaxis\":{\"gridcolor\":\"white\",\"linecolor\":\"white\",\"ticks\":\"\"},\"bgcolor\":\"#E5ECF6\",\"radialaxis\":{\"gridcolor\":\"white\",\"linecolor\":\"white\",\"ticks\":\"\"}},\"scene\":{\"xaxis\":{\"backgroundcolor\":\"#E5ECF6\",\"gridcolor\":\"white\",\"gridwidth\":2,\"linecolor\":\"white\",\"showbackground\":true,\"ticks\":\"\",\"zerolinecolor\":\"white\"},\"yaxis\":{\"backgroundcolor\":\"#E5ECF6\",\"gridcolor\":\"white\",\"gridwidth\":2,\"linecolor\":\"white\",\"showbackground\":true,\"ticks\":\"\",\"zerolinecolor\":\"white\"},\"zaxis\":{\"backgroundcolor\":\"#E5ECF6\",\"gridcolor\":\"white\",\"gridwidth\":2,\"linecolor\":\"white\",\"showbackground\":true,\"ticks\":\"\",\"zerolinecolor\":\"white\"}},\"shapedefaults\":{\"line\":{\"color\":\"#2a3f5f\"}},\"ternary\":{\"aaxis\":{\"gridcolor\":\"white\",\"linecolor\":\"white\",\"ticks\":\"\"},\"baxis\":{\"gridcolor\":\"white\",\"linecolor\":\"white\",\"ticks\":\"\"},\"bgcolor\":\"#E5ECF6\",\"caxis\":{\"gridcolor\":\"white\",\"linecolor\":\"white\",\"ticks\":\"\"}},\"title\":{\"x\":0.05},\"xaxis\":{\"automargin\":true,\"gridcolor\":\"white\",\"linecolor\":\"white\",\"ticks\":\"\",\"title\":{\"standoff\":15},\"zerolinecolor\":\"white\",\"zerolinewidth\":2},\"yaxis\":{\"automargin\":true,\"gridcolor\":\"white\",\"linecolor\":\"white\",\"ticks\":\"\",\"title\":{\"standoff\":15},\"zerolinecolor\":\"white\",\"zerolinewidth\":2}}}},                        {\"responsive\": true}                    ).then(function(){\n",
       "                            \n",
       "var gd = document.getElementById('440b41c6-017b-4a74-af19-d6ed06ff3d13');\n",
       "var x = new MutationObserver(function (mutations, observer) {{\n",
       "        var display = window.getComputedStyle(gd).display;\n",
       "        if (!display || display === 'none') {{\n",
       "            console.log([gd, 'removed!']);\n",
       "            Plotly.purge(gd);\n",
       "            observer.disconnect();\n",
       "        }}\n",
       "}});\n",
       "\n",
       "// Listen for the removal of the full notebook cells\n",
       "var notebookContainer = gd.closest('#notebook-container');\n",
       "if (notebookContainer) {{\n",
       "    x.observe(notebookContainer, {childList: true});\n",
       "}}\n",
       "\n",
       "// Listen for the clearing of the current output cell\n",
       "var outputEl = gd.closest('.output');\n",
       "if (outputEl) {{\n",
       "    x.observe(outputEl, {childList: true});\n",
       "}}\n",
       "\n",
       "                        })                };                });            </script>        </div>"
      ]
     },
     "metadata": {},
     "output_type": "display_data"
    }
   ],
   "source": [
    "main.plot_ask_bit_1(data)"
   ]
  },
  {
   "cell_type": "code",
   "execution_count": 11,
   "id": "0c26498d",
   "metadata": {},
   "outputs": [
    {
     "data": {
      "application/vnd.plotly.v1+json": {
       "config": {
        "plotlyServerURL": "https://plot.ly"
       },
       "data": [
        {
         "name": "bitso_ask_bit",
         "type": "scatter",
         "x": [
          "2022-04-29T02:27:29.000Z",
          "2022-04-29T02:28:31.000Z",
          "2022-04-29T02:29:34.000Z",
          "2022-04-29T02:30:37.000Z",
          "2022-04-29T02:31:39.000Z",
          "2022-04-29T02:32:42.000Z",
          "2022-04-29T02:33:44.000Z",
          "2022-04-29T02:34:46.000Z",
          "2022-04-29T02:35:48.000Z",
          "2022-04-29T02:36:51.000Z",
          "2022-04-29T02:37:54.000Z",
          "2022-04-29T02:38:57.000Z",
          "2022-04-29T02:40:00.000Z",
          "2022-04-29T02:41:02.000Z",
          "2022-04-29T02:42:04.000Z",
          "2022-04-29T02:43:07.000Z",
          "2022-04-29T02:44:09.000Z",
          "2022-04-29T02:45:11.000Z",
          "2022-04-29T02:46:14.000Z",
          "2022-04-29T02:47:17.000Z",
          "2022-04-29T02:48:19.000Z",
          "2022-04-29T02:49:23.000Z",
          "2022-04-29T02:50:26.000Z",
          "2022-04-29T02:51:30.000Z",
          "2022-04-29T02:52:33.000Z",
          "2022-04-29T02:53:35.000Z",
          "2022-04-29T02:54:38.000Z",
          "2022-04-29T02:55:40.000Z",
          "2022-04-29T02:56:42.000Z",
          "2022-04-29T02:57:45.000Z",
          "2022-04-29T02:58:47.000Z",
          "2022-04-29T02:59:48.000Z",
          "2022-04-29T03:00:51.000Z",
          "2022-04-29T03:01:53.000Z",
          "2022-04-29T03:02:55.000Z",
          "2022-04-29T03:03:56.000Z",
          "2022-04-29T03:04:58.000Z",
          "2022-04-29T03:06:01.000Z",
          "2022-04-29T03:07:03.000Z",
          "2022-04-29T03:08:05.000Z",
          "2022-04-29T03:09:07.000Z",
          "2022-04-29T03:10:09.000Z",
          "2022-04-29T03:11:12.000Z",
          "2022-04-29T03:12:14.000Z",
          "2022-04-29T03:13:16.000Z",
          "2022-04-29T03:14:18.000Z",
          "2022-04-29T03:15:20.000Z",
          "2022-04-29T03:16:22.000Z",
          "2022-04-29T03:17:26.000Z",
          "2022-04-29T03:18:28.000Z",
          "2022-04-29T03:19:30.000Z",
          "2022-04-29T03:20:32.000Z",
          "2022-04-29T03:21:34.000Z",
          "2022-04-29T03:22:36.000Z",
          "2022-04-29T03:23:38.000Z",
          "2022-04-29T03:24:41.000Z",
          "2022-04-29T03:25:43.000Z",
          "2022-04-29T03:26:45.000Z",
          "2022-04-29T03:27:47.000Z",
          "2022-04-29T03:28:50.000Z"
         ],
         "y": [
          39688.93,
          39717.48,
          39712.22,
          39687.78,
          39708.86,
          39714.1,
          39695.32,
          39684.91,
          39702.41,
          39700.73,
          39700.73,
          39698.92,
          39698.92,
          39698.92,
          39708.98,
          39702.46,
          39708.98,
          39726.34,
          39732.76,
          39758.51,
          39736.53,
          39723.78,
          39712.22,
          39711.7,
          39712.22,
          39710.35,
          39677.35,
          39636.76,
          39570.14,
          39521.89,
          39544.03,
          39547.15,
          39516.71,
          39514.97,
          39530.05,
          39568.71,
          39567.53,
          39544.11,
          39548.42,
          39542.08,
          39533.33,
          39520.91,
          39503.98,
          39497.27,
          39427.4,
          39407.61,
          39384.63,
          39388.67,
          39448.37,
          39437.15,
          39455.54,
          39455,
          39439.42,
          39458.32,
          39468.52,
          39472.54,
          39440.32,
          39439.33,
          39456.1,
          39464.48
         ]
        },
        {
         "name": "kraken_ask_bit",
         "type": "scatter",
         "x": [
          "2022-04-29T02:27:29.000Z",
          "2022-04-29T02:28:31.000Z",
          "2022-04-29T02:29:34.000Z",
          "2022-04-29T02:30:37.000Z",
          "2022-04-29T02:31:39.000Z",
          "2022-04-29T02:32:42.000Z",
          "2022-04-29T02:33:44.000Z",
          "2022-04-29T02:34:46.000Z",
          "2022-04-29T02:35:48.000Z",
          "2022-04-29T02:36:51.000Z",
          "2022-04-29T02:37:54.000Z",
          "2022-04-29T02:38:57.000Z",
          "2022-04-29T02:40:00.000Z",
          "2022-04-29T02:41:02.000Z",
          "2022-04-29T02:42:04.000Z",
          "2022-04-29T02:43:07.000Z",
          "2022-04-29T02:44:09.000Z",
          "2022-04-29T02:45:11.000Z",
          "2022-04-29T02:46:14.000Z",
          "2022-04-29T02:47:17.000Z",
          "2022-04-29T02:48:19.000Z",
          "2022-04-29T02:49:23.000Z",
          "2022-04-29T02:50:26.000Z",
          "2022-04-29T02:51:30.000Z",
          "2022-04-29T02:52:33.000Z",
          "2022-04-29T02:53:35.000Z",
          "2022-04-29T02:54:38.000Z",
          "2022-04-29T02:55:40.000Z",
          "2022-04-29T02:56:42.000Z",
          "2022-04-29T02:57:45.000Z",
          "2022-04-29T02:58:47.000Z",
          "2022-04-29T02:59:48.000Z",
          "2022-04-29T03:00:51.000Z",
          "2022-04-29T03:01:53.000Z",
          "2022-04-29T03:02:55.000Z",
          "2022-04-29T03:03:56.000Z",
          "2022-04-29T03:04:58.000Z",
          "2022-04-29T03:06:01.000Z",
          "2022-04-29T03:07:03.000Z",
          "2022-04-29T03:08:05.000Z",
          "2022-04-29T03:09:07.000Z",
          "2022-04-29T03:10:09.000Z",
          "2022-04-29T03:11:12.000Z",
          "2022-04-29T03:12:14.000Z",
          "2022-04-29T03:13:16.000Z",
          "2022-04-29T03:14:18.000Z",
          "2022-04-29T03:15:20.000Z",
          "2022-04-29T03:16:22.000Z",
          "2022-04-29T03:17:26.000Z",
          "2022-04-29T03:18:28.000Z",
          "2022-04-29T03:19:30.000Z",
          "2022-04-29T03:20:32.000Z",
          "2022-04-29T03:21:34.000Z",
          "2022-04-29T03:22:36.000Z",
          "2022-04-29T03:23:38.000Z",
          "2022-04-29T03:24:41.000Z",
          "2022-04-29T03:25:43.000Z",
          "2022-04-29T03:26:45.000Z",
          "2022-04-29T03:27:47.000Z",
          "2022-04-29T03:28:50.000Z"
         ],
         "y": [
          39664.9,
          39690.7,
          39689,
          39672.8,
          39708.2,
          39696.2,
          39675.1,
          39691.9,
          39689.7,
          39681.7,
          39686,
          39681.3,
          39683.3,
          39683.2,
          39688.5,
          39675.3,
          39675.3,
          39706.5,
          39706.7,
          39730,
          39719.1,
          39698.7,
          39695.1,
          39690.2,
          39692.2,
          39691.8,
          39658,
          39561.9,
          39540.9,
          39496.5,
          39528.7,
          39526.4,
          39505,
          39520.5,
          39518.6,
          39554.6,
          39539.5,
          39531.7,
          39542.1,
          39535.1,
          39535.1,
          39520.1,
          39517.9,
          39492.4,
          39328.7,
          39392.8,
          39378,
          39386.8,
          39449.6,
          39430.6,
          39446.4,
          39454.7,
          39437.5,
          39450.1,
          39461.8,
          39453.7,
          39424.7,
          39432.6,
          39448.6,
          39451.6
         ]
        },
        {
         "name": "binance_ask_bit",
         "type": "scatter",
         "x": [
          "2022-04-29T02:27:29.000Z",
          "2022-04-29T02:28:31.000Z",
          "2022-04-29T02:29:34.000Z",
          "2022-04-29T02:30:37.000Z",
          "2022-04-29T02:31:39.000Z",
          "2022-04-29T02:32:42.000Z",
          "2022-04-29T02:33:44.000Z",
          "2022-04-29T02:34:46.000Z",
          "2022-04-29T02:35:48.000Z",
          "2022-04-29T02:36:51.000Z",
          "2022-04-29T02:37:54.000Z",
          "2022-04-29T02:38:57.000Z",
          "2022-04-29T02:40:00.000Z",
          "2022-04-29T02:41:02.000Z",
          "2022-04-29T02:42:04.000Z",
          "2022-04-29T02:43:07.000Z",
          "2022-04-29T02:44:09.000Z",
          "2022-04-29T02:45:11.000Z",
          "2022-04-29T02:46:14.000Z",
          "2022-04-29T02:47:17.000Z",
          "2022-04-29T02:48:19.000Z",
          "2022-04-29T02:49:23.000Z",
          "2022-04-29T02:50:26.000Z",
          "2022-04-29T02:51:30.000Z",
          "2022-04-29T02:52:33.000Z",
          "2022-04-29T02:53:35.000Z",
          "2022-04-29T02:54:38.000Z",
          "2022-04-29T02:55:40.000Z",
          "2022-04-29T02:56:42.000Z",
          "2022-04-29T02:57:45.000Z",
          "2022-04-29T02:58:47.000Z",
          "2022-04-29T02:59:48.000Z",
          "2022-04-29T03:00:51.000Z",
          "2022-04-29T03:01:53.000Z",
          "2022-04-29T03:02:55.000Z",
          "2022-04-29T03:03:56.000Z",
          "2022-04-29T03:04:58.000Z",
          "2022-04-29T03:06:01.000Z",
          "2022-04-29T03:07:03.000Z",
          "2022-04-29T03:08:05.000Z",
          "2022-04-29T03:09:07.000Z",
          "2022-04-29T03:10:09.000Z",
          "2022-04-29T03:11:12.000Z",
          "2022-04-29T03:12:14.000Z",
          "2022-04-29T03:13:16.000Z",
          "2022-04-29T03:14:18.000Z",
          "2022-04-29T03:15:20.000Z",
          "2022-04-29T03:16:22.000Z",
          "2022-04-29T03:17:26.000Z",
          "2022-04-29T03:18:28.000Z",
          "2022-04-29T03:19:30.000Z",
          "2022-04-29T03:20:32.000Z",
          "2022-04-29T03:21:34.000Z",
          "2022-04-29T03:22:36.000Z",
          "2022-04-29T03:23:38.000Z",
          "2022-04-29T03:24:41.000Z",
          "2022-04-29T03:25:43.000Z",
          "2022-04-29T03:26:45.000Z",
          "2022-04-29T03:27:47.000Z",
          "2022-04-29T03:28:50.000Z"
         ],
         "y": [
          39702.599999,
          39678.699999,
          39678.699999,
          39678.699999,
          39678.699999,
          39678.699999,
          39678.699999,
          39678.699999,
          39678.699999,
          39678.699999,
          39678.699999,
          39678.699999,
          39678.699999,
          39678.699999,
          39678.699999,
          39678.699999,
          39678.699999,
          39706.499998,
          39706.499998,
          39706.499998,
          39706.499998,
          39706.499998,
          39706.499998,
          39706.499998,
          39706.499998,
          39706.499998,
          39682.199999,
          39682.121035,
          39583.889999,
          39582.759973,
          39582.529919,
          39582.289868,
          39582.009813,
          39581.739758,
          39581.469705,
          39581.359647,
          39582.829966,
          39582.509909,
          39582.259847,
          39582.009785,
          39581.709728,
          39581.459679,
          39581.179623,
          39580.959578,
          39446.189998,
          39409.499999,
          39369.399999,
          39345.099999,
          39395.899999,
          39395.899999,
          39395.899999,
          39420.399998,
          39420.399998,
          39420.399998,
          39420.399998,
          39420.399998,
          39420.399998,
          39421.499998,
          39421.499998,
          39447.699999
         ]
        }
       ],
       "layout": {
        "template": {
         "data": {
          "bar": [
           {
            "error_x": {
             "color": "#2a3f5f"
            },
            "error_y": {
             "color": "#2a3f5f"
            },
            "marker": {
             "line": {
              "color": "#E5ECF6",
              "width": 0.5
             },
             "pattern": {
              "fillmode": "overlay",
              "size": 10,
              "solidity": 0.2
             }
            },
            "type": "bar"
           }
          ],
          "barpolar": [
           {
            "marker": {
             "line": {
              "color": "#E5ECF6",
              "width": 0.5
             },
             "pattern": {
              "fillmode": "overlay",
              "size": 10,
              "solidity": 0.2
             }
            },
            "type": "barpolar"
           }
          ],
          "carpet": [
           {
            "aaxis": {
             "endlinecolor": "#2a3f5f",
             "gridcolor": "white",
             "linecolor": "white",
             "minorgridcolor": "white",
             "startlinecolor": "#2a3f5f"
            },
            "baxis": {
             "endlinecolor": "#2a3f5f",
             "gridcolor": "white",
             "linecolor": "white",
             "minorgridcolor": "white",
             "startlinecolor": "#2a3f5f"
            },
            "type": "carpet"
           }
          ],
          "choropleth": [
           {
            "colorbar": {
             "outlinewidth": 0,
             "ticks": ""
            },
            "type": "choropleth"
           }
          ],
          "contour": [
           {
            "colorbar": {
             "outlinewidth": 0,
             "ticks": ""
            },
            "colorscale": [
             [
              0,
              "#0d0887"
             ],
             [
              0.1111111111111111,
              "#46039f"
             ],
             [
              0.2222222222222222,
              "#7201a8"
             ],
             [
              0.3333333333333333,
              "#9c179e"
             ],
             [
              0.4444444444444444,
              "#bd3786"
             ],
             [
              0.5555555555555556,
              "#d8576b"
             ],
             [
              0.6666666666666666,
              "#ed7953"
             ],
             [
              0.7777777777777778,
              "#fb9f3a"
             ],
             [
              0.8888888888888888,
              "#fdca26"
             ],
             [
              1,
              "#f0f921"
             ]
            ],
            "type": "contour"
           }
          ],
          "contourcarpet": [
           {
            "colorbar": {
             "outlinewidth": 0,
             "ticks": ""
            },
            "type": "contourcarpet"
           }
          ],
          "heatmap": [
           {
            "colorbar": {
             "outlinewidth": 0,
             "ticks": ""
            },
            "colorscale": [
             [
              0,
              "#0d0887"
             ],
             [
              0.1111111111111111,
              "#46039f"
             ],
             [
              0.2222222222222222,
              "#7201a8"
             ],
             [
              0.3333333333333333,
              "#9c179e"
             ],
             [
              0.4444444444444444,
              "#bd3786"
             ],
             [
              0.5555555555555556,
              "#d8576b"
             ],
             [
              0.6666666666666666,
              "#ed7953"
             ],
             [
              0.7777777777777778,
              "#fb9f3a"
             ],
             [
              0.8888888888888888,
              "#fdca26"
             ],
             [
              1,
              "#f0f921"
             ]
            ],
            "type": "heatmap"
           }
          ],
          "heatmapgl": [
           {
            "colorbar": {
             "outlinewidth": 0,
             "ticks": ""
            },
            "colorscale": [
             [
              0,
              "#0d0887"
             ],
             [
              0.1111111111111111,
              "#46039f"
             ],
             [
              0.2222222222222222,
              "#7201a8"
             ],
             [
              0.3333333333333333,
              "#9c179e"
             ],
             [
              0.4444444444444444,
              "#bd3786"
             ],
             [
              0.5555555555555556,
              "#d8576b"
             ],
             [
              0.6666666666666666,
              "#ed7953"
             ],
             [
              0.7777777777777778,
              "#fb9f3a"
             ],
             [
              0.8888888888888888,
              "#fdca26"
             ],
             [
              1,
              "#f0f921"
             ]
            ],
            "type": "heatmapgl"
           }
          ],
          "histogram": [
           {
            "marker": {
             "pattern": {
              "fillmode": "overlay",
              "size": 10,
              "solidity": 0.2
             }
            },
            "type": "histogram"
           }
          ],
          "histogram2d": [
           {
            "colorbar": {
             "outlinewidth": 0,
             "ticks": ""
            },
            "colorscale": [
             [
              0,
              "#0d0887"
             ],
             [
              0.1111111111111111,
              "#46039f"
             ],
             [
              0.2222222222222222,
              "#7201a8"
             ],
             [
              0.3333333333333333,
              "#9c179e"
             ],
             [
              0.4444444444444444,
              "#bd3786"
             ],
             [
              0.5555555555555556,
              "#d8576b"
             ],
             [
              0.6666666666666666,
              "#ed7953"
             ],
             [
              0.7777777777777778,
              "#fb9f3a"
             ],
             [
              0.8888888888888888,
              "#fdca26"
             ],
             [
              1,
              "#f0f921"
             ]
            ],
            "type": "histogram2d"
           }
          ],
          "histogram2dcontour": [
           {
            "colorbar": {
             "outlinewidth": 0,
             "ticks": ""
            },
            "colorscale": [
             [
              0,
              "#0d0887"
             ],
             [
              0.1111111111111111,
              "#46039f"
             ],
             [
              0.2222222222222222,
              "#7201a8"
             ],
             [
              0.3333333333333333,
              "#9c179e"
             ],
             [
              0.4444444444444444,
              "#bd3786"
             ],
             [
              0.5555555555555556,
              "#d8576b"
             ],
             [
              0.6666666666666666,
              "#ed7953"
             ],
             [
              0.7777777777777778,
              "#fb9f3a"
             ],
             [
              0.8888888888888888,
              "#fdca26"
             ],
             [
              1,
              "#f0f921"
             ]
            ],
            "type": "histogram2dcontour"
           }
          ],
          "mesh3d": [
           {
            "colorbar": {
             "outlinewidth": 0,
             "ticks": ""
            },
            "type": "mesh3d"
           }
          ],
          "parcoords": [
           {
            "line": {
             "colorbar": {
              "outlinewidth": 0,
              "ticks": ""
             }
            },
            "type": "parcoords"
           }
          ],
          "pie": [
           {
            "automargin": true,
            "type": "pie"
           }
          ],
          "scatter": [
           {
            "marker": {
             "colorbar": {
              "outlinewidth": 0,
              "ticks": ""
             }
            },
            "type": "scatter"
           }
          ],
          "scatter3d": [
           {
            "line": {
             "colorbar": {
              "outlinewidth": 0,
              "ticks": ""
             }
            },
            "marker": {
             "colorbar": {
              "outlinewidth": 0,
              "ticks": ""
             }
            },
            "type": "scatter3d"
           }
          ],
          "scattercarpet": [
           {
            "marker": {
             "colorbar": {
              "outlinewidth": 0,
              "ticks": ""
             }
            },
            "type": "scattercarpet"
           }
          ],
          "scattergeo": [
           {
            "marker": {
             "colorbar": {
              "outlinewidth": 0,
              "ticks": ""
             }
            },
            "type": "scattergeo"
           }
          ],
          "scattergl": [
           {
            "marker": {
             "colorbar": {
              "outlinewidth": 0,
              "ticks": ""
             }
            },
            "type": "scattergl"
           }
          ],
          "scattermapbox": [
           {
            "marker": {
             "colorbar": {
              "outlinewidth": 0,
              "ticks": ""
             }
            },
            "type": "scattermapbox"
           }
          ],
          "scatterpolar": [
           {
            "marker": {
             "colorbar": {
              "outlinewidth": 0,
              "ticks": ""
             }
            },
            "type": "scatterpolar"
           }
          ],
          "scatterpolargl": [
           {
            "marker": {
             "colorbar": {
              "outlinewidth": 0,
              "ticks": ""
             }
            },
            "type": "scatterpolargl"
           }
          ],
          "scatterternary": [
           {
            "marker": {
             "colorbar": {
              "outlinewidth": 0,
              "ticks": ""
             }
            },
            "type": "scatterternary"
           }
          ],
          "surface": [
           {
            "colorbar": {
             "outlinewidth": 0,
             "ticks": ""
            },
            "colorscale": [
             [
              0,
              "#0d0887"
             ],
             [
              0.1111111111111111,
              "#46039f"
             ],
             [
              0.2222222222222222,
              "#7201a8"
             ],
             [
              0.3333333333333333,
              "#9c179e"
             ],
             [
              0.4444444444444444,
              "#bd3786"
             ],
             [
              0.5555555555555556,
              "#d8576b"
             ],
             [
              0.6666666666666666,
              "#ed7953"
             ],
             [
              0.7777777777777778,
              "#fb9f3a"
             ],
             [
              0.8888888888888888,
              "#fdca26"
             ],
             [
              1,
              "#f0f921"
             ]
            ],
            "type": "surface"
           }
          ],
          "table": [
           {
            "cells": {
             "fill": {
              "color": "#EBF0F8"
             },
             "line": {
              "color": "white"
             }
            },
            "header": {
             "fill": {
              "color": "#C8D4E3"
             },
             "line": {
              "color": "white"
             }
            },
            "type": "table"
           }
          ]
         },
         "layout": {
          "annotationdefaults": {
           "arrowcolor": "#2a3f5f",
           "arrowhead": 0,
           "arrowwidth": 1
          },
          "autotypenumbers": "strict",
          "coloraxis": {
           "colorbar": {
            "outlinewidth": 0,
            "ticks": ""
           }
          },
          "colorscale": {
           "diverging": [
            [
             0,
             "#8e0152"
            ],
            [
             0.1,
             "#c51b7d"
            ],
            [
             0.2,
             "#de77ae"
            ],
            [
             0.3,
             "#f1b6da"
            ],
            [
             0.4,
             "#fde0ef"
            ],
            [
             0.5,
             "#f7f7f7"
            ],
            [
             0.6,
             "#e6f5d0"
            ],
            [
             0.7,
             "#b8e186"
            ],
            [
             0.8,
             "#7fbc41"
            ],
            [
             0.9,
             "#4d9221"
            ],
            [
             1,
             "#276419"
            ]
           ],
           "sequential": [
            [
             0,
             "#0d0887"
            ],
            [
             0.1111111111111111,
             "#46039f"
            ],
            [
             0.2222222222222222,
             "#7201a8"
            ],
            [
             0.3333333333333333,
             "#9c179e"
            ],
            [
             0.4444444444444444,
             "#bd3786"
            ],
            [
             0.5555555555555556,
             "#d8576b"
            ],
            [
             0.6666666666666666,
             "#ed7953"
            ],
            [
             0.7777777777777778,
             "#fb9f3a"
            ],
            [
             0.8888888888888888,
             "#fdca26"
            ],
            [
             1,
             "#f0f921"
            ]
           ],
           "sequentialminus": [
            [
             0,
             "#0d0887"
            ],
            [
             0.1111111111111111,
             "#46039f"
            ],
            [
             0.2222222222222222,
             "#7201a8"
            ],
            [
             0.3333333333333333,
             "#9c179e"
            ],
            [
             0.4444444444444444,
             "#bd3786"
            ],
            [
             0.5555555555555556,
             "#d8576b"
            ],
            [
             0.6666666666666666,
             "#ed7953"
            ],
            [
             0.7777777777777778,
             "#fb9f3a"
            ],
            [
             0.8888888888888888,
             "#fdca26"
            ],
            [
             1,
             "#f0f921"
            ]
           ]
          },
          "colorway": [
           "#636efa",
           "#EF553B",
           "#00cc96",
           "#ab63fa",
           "#FFA15A",
           "#19d3f3",
           "#FF6692",
           "#B6E880",
           "#FF97FF",
           "#FECB52"
          ],
          "font": {
           "color": "#2a3f5f"
          },
          "geo": {
           "bgcolor": "white",
           "lakecolor": "white",
           "landcolor": "#E5ECF6",
           "showlakes": true,
           "showland": true,
           "subunitcolor": "white"
          },
          "hoverlabel": {
           "align": "left"
          },
          "hovermode": "closest",
          "mapbox": {
           "style": "light"
          },
          "paper_bgcolor": "white",
          "plot_bgcolor": "#E5ECF6",
          "polar": {
           "angularaxis": {
            "gridcolor": "white",
            "linecolor": "white",
            "ticks": ""
           },
           "bgcolor": "#E5ECF6",
           "radialaxis": {
            "gridcolor": "white",
            "linecolor": "white",
            "ticks": ""
           }
          },
          "scene": {
           "xaxis": {
            "backgroundcolor": "#E5ECF6",
            "gridcolor": "white",
            "gridwidth": 2,
            "linecolor": "white",
            "showbackground": true,
            "ticks": "",
            "zerolinecolor": "white"
           },
           "yaxis": {
            "backgroundcolor": "#E5ECF6",
            "gridcolor": "white",
            "gridwidth": 2,
            "linecolor": "white",
            "showbackground": true,
            "ticks": "",
            "zerolinecolor": "white"
           },
           "zaxis": {
            "backgroundcolor": "#E5ECF6",
            "gridcolor": "white",
            "gridwidth": 2,
            "linecolor": "white",
            "showbackground": true,
            "ticks": "",
            "zerolinecolor": "white"
           }
          },
          "shapedefaults": {
           "line": {
            "color": "#2a3f5f"
           }
          },
          "ternary": {
           "aaxis": {
            "gridcolor": "white",
            "linecolor": "white",
            "ticks": ""
           },
           "baxis": {
            "gridcolor": "white",
            "linecolor": "white",
            "ticks": ""
           },
           "bgcolor": "#E5ECF6",
           "caxis": {
            "gridcolor": "white",
            "linecolor": "white",
            "ticks": ""
           }
          },
          "title": {
           "x": 0.05
          },
          "xaxis": {
           "automargin": true,
           "gridcolor": "white",
           "linecolor": "white",
           "ticks": "",
           "title": {
            "standoff": 15
           },
           "zerolinecolor": "white",
           "zerolinewidth": 2
          },
          "yaxis": {
           "automargin": true,
           "gridcolor": "white",
           "linecolor": "white",
           "ticks": "",
           "title": {
            "standoff": 15
           },
           "zerolinecolor": "white",
           "zerolinewidth": 2
          }
         }
        }
       }
      },
      "text/html": [
       "<div>                            <div id=\"430db7b2-b11f-4c6a-a12b-3359ab317254\" class=\"plotly-graph-div\" style=\"height:525px; width:100%;\"></div>            <script type=\"text/javascript\">                require([\"plotly\"], function(Plotly) {                    window.PLOTLYENV=window.PLOTLYENV || {};                                    if (document.getElementById(\"430db7b2-b11f-4c6a-a12b-3359ab317254\")) {                    Plotly.newPlot(                        \"430db7b2-b11f-4c6a-a12b-3359ab317254\",                        [{\"name\":\"bitso_ask_bit\",\"x\":[\"2022-04-29T02:27:29.000Z\",\"2022-04-29T02:28:31.000Z\",\"2022-04-29T02:29:34.000Z\",\"2022-04-29T02:30:37.000Z\",\"2022-04-29T02:31:39.000Z\",\"2022-04-29T02:32:42.000Z\",\"2022-04-29T02:33:44.000Z\",\"2022-04-29T02:34:46.000Z\",\"2022-04-29T02:35:48.000Z\",\"2022-04-29T02:36:51.000Z\",\"2022-04-29T02:37:54.000Z\",\"2022-04-29T02:38:57.000Z\",\"2022-04-29T02:40:00.000Z\",\"2022-04-29T02:41:02.000Z\",\"2022-04-29T02:42:04.000Z\",\"2022-04-29T02:43:07.000Z\",\"2022-04-29T02:44:09.000Z\",\"2022-04-29T02:45:11.000Z\",\"2022-04-29T02:46:14.000Z\",\"2022-04-29T02:47:17.000Z\",\"2022-04-29T02:48:19.000Z\",\"2022-04-29T02:49:23.000Z\",\"2022-04-29T02:50:26.000Z\",\"2022-04-29T02:51:30.000Z\",\"2022-04-29T02:52:33.000Z\",\"2022-04-29T02:53:35.000Z\",\"2022-04-29T02:54:38.000Z\",\"2022-04-29T02:55:40.000Z\",\"2022-04-29T02:56:42.000Z\",\"2022-04-29T02:57:45.000Z\",\"2022-04-29T02:58:47.000Z\",\"2022-04-29T02:59:48.000Z\",\"2022-04-29T03:00:51.000Z\",\"2022-04-29T03:01:53.000Z\",\"2022-04-29T03:02:55.000Z\",\"2022-04-29T03:03:56.000Z\",\"2022-04-29T03:04:58.000Z\",\"2022-04-29T03:06:01.000Z\",\"2022-04-29T03:07:03.000Z\",\"2022-04-29T03:08:05.000Z\",\"2022-04-29T03:09:07.000Z\",\"2022-04-29T03:10:09.000Z\",\"2022-04-29T03:11:12.000Z\",\"2022-04-29T03:12:14.000Z\",\"2022-04-29T03:13:16.000Z\",\"2022-04-29T03:14:18.000Z\",\"2022-04-29T03:15:20.000Z\",\"2022-04-29T03:16:22.000Z\",\"2022-04-29T03:17:26.000Z\",\"2022-04-29T03:18:28.000Z\",\"2022-04-29T03:19:30.000Z\",\"2022-04-29T03:20:32.000Z\",\"2022-04-29T03:21:34.000Z\",\"2022-04-29T03:22:36.000Z\",\"2022-04-29T03:23:38.000Z\",\"2022-04-29T03:24:41.000Z\",\"2022-04-29T03:25:43.000Z\",\"2022-04-29T03:26:45.000Z\",\"2022-04-29T03:27:47.000Z\",\"2022-04-29T03:28:50.000Z\"],\"y\":[39688.93,39717.48,39712.22,39687.78,39708.86,39714.1,39695.32,39684.91,39702.41,39700.73,39700.73,39698.92,39698.92,39698.92,39708.98,39702.46,39708.98,39726.34,39732.76,39758.51,39736.53,39723.78,39712.22,39711.7,39712.22,39710.35,39677.35,39636.76,39570.14,39521.89,39544.03,39547.15,39516.71,39514.97,39530.05,39568.71,39567.53,39544.11,39548.42,39542.08,39533.33,39520.91,39503.98,39497.27,39427.4,39407.61,39384.63,39388.67,39448.37,39437.15,39455.54,39455.0,39439.42,39458.32,39468.52,39472.54,39440.32,39439.33,39456.1,39464.48],\"type\":\"scatter\"},{\"name\":\"kraken_ask_bit\",\"x\":[\"2022-04-29T02:27:29.000Z\",\"2022-04-29T02:28:31.000Z\",\"2022-04-29T02:29:34.000Z\",\"2022-04-29T02:30:37.000Z\",\"2022-04-29T02:31:39.000Z\",\"2022-04-29T02:32:42.000Z\",\"2022-04-29T02:33:44.000Z\",\"2022-04-29T02:34:46.000Z\",\"2022-04-29T02:35:48.000Z\",\"2022-04-29T02:36:51.000Z\",\"2022-04-29T02:37:54.000Z\",\"2022-04-29T02:38:57.000Z\",\"2022-04-29T02:40:00.000Z\",\"2022-04-29T02:41:02.000Z\",\"2022-04-29T02:42:04.000Z\",\"2022-04-29T02:43:07.000Z\",\"2022-04-29T02:44:09.000Z\",\"2022-04-29T02:45:11.000Z\",\"2022-04-29T02:46:14.000Z\",\"2022-04-29T02:47:17.000Z\",\"2022-04-29T02:48:19.000Z\",\"2022-04-29T02:49:23.000Z\",\"2022-04-29T02:50:26.000Z\",\"2022-04-29T02:51:30.000Z\",\"2022-04-29T02:52:33.000Z\",\"2022-04-29T02:53:35.000Z\",\"2022-04-29T02:54:38.000Z\",\"2022-04-29T02:55:40.000Z\",\"2022-04-29T02:56:42.000Z\",\"2022-04-29T02:57:45.000Z\",\"2022-04-29T02:58:47.000Z\",\"2022-04-29T02:59:48.000Z\",\"2022-04-29T03:00:51.000Z\",\"2022-04-29T03:01:53.000Z\",\"2022-04-29T03:02:55.000Z\",\"2022-04-29T03:03:56.000Z\",\"2022-04-29T03:04:58.000Z\",\"2022-04-29T03:06:01.000Z\",\"2022-04-29T03:07:03.000Z\",\"2022-04-29T03:08:05.000Z\",\"2022-04-29T03:09:07.000Z\",\"2022-04-29T03:10:09.000Z\",\"2022-04-29T03:11:12.000Z\",\"2022-04-29T03:12:14.000Z\",\"2022-04-29T03:13:16.000Z\",\"2022-04-29T03:14:18.000Z\",\"2022-04-29T03:15:20.000Z\",\"2022-04-29T03:16:22.000Z\",\"2022-04-29T03:17:26.000Z\",\"2022-04-29T03:18:28.000Z\",\"2022-04-29T03:19:30.000Z\",\"2022-04-29T03:20:32.000Z\",\"2022-04-29T03:21:34.000Z\",\"2022-04-29T03:22:36.000Z\",\"2022-04-29T03:23:38.000Z\",\"2022-04-29T03:24:41.000Z\",\"2022-04-29T03:25:43.000Z\",\"2022-04-29T03:26:45.000Z\",\"2022-04-29T03:27:47.000Z\",\"2022-04-29T03:28:50.000Z\"],\"y\":[39664.9,39690.7,39689.0,39672.8,39708.2,39696.2,39675.1,39691.9,39689.7,39681.7,39686.0,39681.3,39683.3,39683.2,39688.5,39675.3,39675.3,39706.5,39706.7,39730.0,39719.1,39698.7,39695.1,39690.2,39692.2,39691.8,39658.0,39561.9,39540.9,39496.5,39528.7,39526.4,39505.0,39520.5,39518.6,39554.6,39539.5,39531.7,39542.1,39535.1,39535.1,39520.1,39517.9,39492.4,39328.7,39392.8,39378.0,39386.8,39449.6,39430.6,39446.4,39454.7,39437.5,39450.1,39461.8,39453.7,39424.7,39432.6,39448.6,39451.6],\"type\":\"scatter\"},{\"name\":\"binance_ask_bit\",\"x\":[\"2022-04-29T02:27:29.000Z\",\"2022-04-29T02:28:31.000Z\",\"2022-04-29T02:29:34.000Z\",\"2022-04-29T02:30:37.000Z\",\"2022-04-29T02:31:39.000Z\",\"2022-04-29T02:32:42.000Z\",\"2022-04-29T02:33:44.000Z\",\"2022-04-29T02:34:46.000Z\",\"2022-04-29T02:35:48.000Z\",\"2022-04-29T02:36:51.000Z\",\"2022-04-29T02:37:54.000Z\",\"2022-04-29T02:38:57.000Z\",\"2022-04-29T02:40:00.000Z\",\"2022-04-29T02:41:02.000Z\",\"2022-04-29T02:42:04.000Z\",\"2022-04-29T02:43:07.000Z\",\"2022-04-29T02:44:09.000Z\",\"2022-04-29T02:45:11.000Z\",\"2022-04-29T02:46:14.000Z\",\"2022-04-29T02:47:17.000Z\",\"2022-04-29T02:48:19.000Z\",\"2022-04-29T02:49:23.000Z\",\"2022-04-29T02:50:26.000Z\",\"2022-04-29T02:51:30.000Z\",\"2022-04-29T02:52:33.000Z\",\"2022-04-29T02:53:35.000Z\",\"2022-04-29T02:54:38.000Z\",\"2022-04-29T02:55:40.000Z\",\"2022-04-29T02:56:42.000Z\",\"2022-04-29T02:57:45.000Z\",\"2022-04-29T02:58:47.000Z\",\"2022-04-29T02:59:48.000Z\",\"2022-04-29T03:00:51.000Z\",\"2022-04-29T03:01:53.000Z\",\"2022-04-29T03:02:55.000Z\",\"2022-04-29T03:03:56.000Z\",\"2022-04-29T03:04:58.000Z\",\"2022-04-29T03:06:01.000Z\",\"2022-04-29T03:07:03.000Z\",\"2022-04-29T03:08:05.000Z\",\"2022-04-29T03:09:07.000Z\",\"2022-04-29T03:10:09.000Z\",\"2022-04-29T03:11:12.000Z\",\"2022-04-29T03:12:14.000Z\",\"2022-04-29T03:13:16.000Z\",\"2022-04-29T03:14:18.000Z\",\"2022-04-29T03:15:20.000Z\",\"2022-04-29T03:16:22.000Z\",\"2022-04-29T03:17:26.000Z\",\"2022-04-29T03:18:28.000Z\",\"2022-04-29T03:19:30.000Z\",\"2022-04-29T03:20:32.000Z\",\"2022-04-29T03:21:34.000Z\",\"2022-04-29T03:22:36.000Z\",\"2022-04-29T03:23:38.000Z\",\"2022-04-29T03:24:41.000Z\",\"2022-04-29T03:25:43.000Z\",\"2022-04-29T03:26:45.000Z\",\"2022-04-29T03:27:47.000Z\",\"2022-04-29T03:28:50.000Z\"],\"y\":[39702.599999,39678.699999,39678.699999,39678.699999,39678.699999,39678.699999,39678.699999,39678.699999,39678.699999,39678.699999,39678.699999,39678.699999,39678.699999,39678.699999,39678.699999,39678.699999,39678.699999,39706.499998,39706.499998,39706.499998,39706.499998,39706.499998,39706.499998,39706.499998,39706.499998,39706.499998,39682.199999,39682.121035,39583.889999,39582.759973,39582.529919,39582.289868,39582.009813,39581.739758,39581.469705,39581.359647,39582.829966,39582.509909,39582.259847,39582.009785,39581.709728,39581.459679,39581.179623,39580.959578,39446.189998,39409.499999,39369.399999,39345.099999,39395.899999,39395.899999,39395.899999,39420.399998,39420.399998,39420.399998,39420.399998,39420.399998,39420.399998,39421.499998,39421.499998,39447.699999],\"type\":\"scatter\"}],                        {\"template\":{\"data\":{\"bar\":[{\"error_x\":{\"color\":\"#2a3f5f\"},\"error_y\":{\"color\":\"#2a3f5f\"},\"marker\":{\"line\":{\"color\":\"#E5ECF6\",\"width\":0.5},\"pattern\":{\"fillmode\":\"overlay\",\"size\":10,\"solidity\":0.2}},\"type\":\"bar\"}],\"barpolar\":[{\"marker\":{\"line\":{\"color\":\"#E5ECF6\",\"width\":0.5},\"pattern\":{\"fillmode\":\"overlay\",\"size\":10,\"solidity\":0.2}},\"type\":\"barpolar\"}],\"carpet\":[{\"aaxis\":{\"endlinecolor\":\"#2a3f5f\",\"gridcolor\":\"white\",\"linecolor\":\"white\",\"minorgridcolor\":\"white\",\"startlinecolor\":\"#2a3f5f\"},\"baxis\":{\"endlinecolor\":\"#2a3f5f\",\"gridcolor\":\"white\",\"linecolor\":\"white\",\"minorgridcolor\":\"white\",\"startlinecolor\":\"#2a3f5f\"},\"type\":\"carpet\"}],\"choropleth\":[{\"colorbar\":{\"outlinewidth\":0,\"ticks\":\"\"},\"type\":\"choropleth\"}],\"contour\":[{\"colorbar\":{\"outlinewidth\":0,\"ticks\":\"\"},\"colorscale\":[[0.0,\"#0d0887\"],[0.1111111111111111,\"#46039f\"],[0.2222222222222222,\"#7201a8\"],[0.3333333333333333,\"#9c179e\"],[0.4444444444444444,\"#bd3786\"],[0.5555555555555556,\"#d8576b\"],[0.6666666666666666,\"#ed7953\"],[0.7777777777777778,\"#fb9f3a\"],[0.8888888888888888,\"#fdca26\"],[1.0,\"#f0f921\"]],\"type\":\"contour\"}],\"contourcarpet\":[{\"colorbar\":{\"outlinewidth\":0,\"ticks\":\"\"},\"type\":\"contourcarpet\"}],\"heatmap\":[{\"colorbar\":{\"outlinewidth\":0,\"ticks\":\"\"},\"colorscale\":[[0.0,\"#0d0887\"],[0.1111111111111111,\"#46039f\"],[0.2222222222222222,\"#7201a8\"],[0.3333333333333333,\"#9c179e\"],[0.4444444444444444,\"#bd3786\"],[0.5555555555555556,\"#d8576b\"],[0.6666666666666666,\"#ed7953\"],[0.7777777777777778,\"#fb9f3a\"],[0.8888888888888888,\"#fdca26\"],[1.0,\"#f0f921\"]],\"type\":\"heatmap\"}],\"heatmapgl\":[{\"colorbar\":{\"outlinewidth\":0,\"ticks\":\"\"},\"colorscale\":[[0.0,\"#0d0887\"],[0.1111111111111111,\"#46039f\"],[0.2222222222222222,\"#7201a8\"],[0.3333333333333333,\"#9c179e\"],[0.4444444444444444,\"#bd3786\"],[0.5555555555555556,\"#d8576b\"],[0.6666666666666666,\"#ed7953\"],[0.7777777777777778,\"#fb9f3a\"],[0.8888888888888888,\"#fdca26\"],[1.0,\"#f0f921\"]],\"type\":\"heatmapgl\"}],\"histogram\":[{\"marker\":{\"pattern\":{\"fillmode\":\"overlay\",\"size\":10,\"solidity\":0.2}},\"type\":\"histogram\"}],\"histogram2d\":[{\"colorbar\":{\"outlinewidth\":0,\"ticks\":\"\"},\"colorscale\":[[0.0,\"#0d0887\"],[0.1111111111111111,\"#46039f\"],[0.2222222222222222,\"#7201a8\"],[0.3333333333333333,\"#9c179e\"],[0.4444444444444444,\"#bd3786\"],[0.5555555555555556,\"#d8576b\"],[0.6666666666666666,\"#ed7953\"],[0.7777777777777778,\"#fb9f3a\"],[0.8888888888888888,\"#fdca26\"],[1.0,\"#f0f921\"]],\"type\":\"histogram2d\"}],\"histogram2dcontour\":[{\"colorbar\":{\"outlinewidth\":0,\"ticks\":\"\"},\"colorscale\":[[0.0,\"#0d0887\"],[0.1111111111111111,\"#46039f\"],[0.2222222222222222,\"#7201a8\"],[0.3333333333333333,\"#9c179e\"],[0.4444444444444444,\"#bd3786\"],[0.5555555555555556,\"#d8576b\"],[0.6666666666666666,\"#ed7953\"],[0.7777777777777778,\"#fb9f3a\"],[0.8888888888888888,\"#fdca26\"],[1.0,\"#f0f921\"]],\"type\":\"histogram2dcontour\"}],\"mesh3d\":[{\"colorbar\":{\"outlinewidth\":0,\"ticks\":\"\"},\"type\":\"mesh3d\"}],\"parcoords\":[{\"line\":{\"colorbar\":{\"outlinewidth\":0,\"ticks\":\"\"}},\"type\":\"parcoords\"}],\"pie\":[{\"automargin\":true,\"type\":\"pie\"}],\"scatter\":[{\"marker\":{\"colorbar\":{\"outlinewidth\":0,\"ticks\":\"\"}},\"type\":\"scatter\"}],\"scatter3d\":[{\"line\":{\"colorbar\":{\"outlinewidth\":0,\"ticks\":\"\"}},\"marker\":{\"colorbar\":{\"outlinewidth\":0,\"ticks\":\"\"}},\"type\":\"scatter3d\"}],\"scattercarpet\":[{\"marker\":{\"colorbar\":{\"outlinewidth\":0,\"ticks\":\"\"}},\"type\":\"scattercarpet\"}],\"scattergeo\":[{\"marker\":{\"colorbar\":{\"outlinewidth\":0,\"ticks\":\"\"}},\"type\":\"scattergeo\"}],\"scattergl\":[{\"marker\":{\"colorbar\":{\"outlinewidth\":0,\"ticks\":\"\"}},\"type\":\"scattergl\"}],\"scattermapbox\":[{\"marker\":{\"colorbar\":{\"outlinewidth\":0,\"ticks\":\"\"}},\"type\":\"scattermapbox\"}],\"scatterpolar\":[{\"marker\":{\"colorbar\":{\"outlinewidth\":0,\"ticks\":\"\"}},\"type\":\"scatterpolar\"}],\"scatterpolargl\":[{\"marker\":{\"colorbar\":{\"outlinewidth\":0,\"ticks\":\"\"}},\"type\":\"scatterpolargl\"}],\"scatterternary\":[{\"marker\":{\"colorbar\":{\"outlinewidth\":0,\"ticks\":\"\"}},\"type\":\"scatterternary\"}],\"surface\":[{\"colorbar\":{\"outlinewidth\":0,\"ticks\":\"\"},\"colorscale\":[[0.0,\"#0d0887\"],[0.1111111111111111,\"#46039f\"],[0.2222222222222222,\"#7201a8\"],[0.3333333333333333,\"#9c179e\"],[0.4444444444444444,\"#bd3786\"],[0.5555555555555556,\"#d8576b\"],[0.6666666666666666,\"#ed7953\"],[0.7777777777777778,\"#fb9f3a\"],[0.8888888888888888,\"#fdca26\"],[1.0,\"#f0f921\"]],\"type\":\"surface\"}],\"table\":[{\"cells\":{\"fill\":{\"color\":\"#EBF0F8\"},\"line\":{\"color\":\"white\"}},\"header\":{\"fill\":{\"color\":\"#C8D4E3\"},\"line\":{\"color\":\"white\"}},\"type\":\"table\"}]},\"layout\":{\"annotationdefaults\":{\"arrowcolor\":\"#2a3f5f\",\"arrowhead\":0,\"arrowwidth\":1},\"autotypenumbers\":\"strict\",\"coloraxis\":{\"colorbar\":{\"outlinewidth\":0,\"ticks\":\"\"}},\"colorscale\":{\"diverging\":[[0,\"#8e0152\"],[0.1,\"#c51b7d\"],[0.2,\"#de77ae\"],[0.3,\"#f1b6da\"],[0.4,\"#fde0ef\"],[0.5,\"#f7f7f7\"],[0.6,\"#e6f5d0\"],[0.7,\"#b8e186\"],[0.8,\"#7fbc41\"],[0.9,\"#4d9221\"],[1,\"#276419\"]],\"sequential\":[[0.0,\"#0d0887\"],[0.1111111111111111,\"#46039f\"],[0.2222222222222222,\"#7201a8\"],[0.3333333333333333,\"#9c179e\"],[0.4444444444444444,\"#bd3786\"],[0.5555555555555556,\"#d8576b\"],[0.6666666666666666,\"#ed7953\"],[0.7777777777777778,\"#fb9f3a\"],[0.8888888888888888,\"#fdca26\"],[1.0,\"#f0f921\"]],\"sequentialminus\":[[0.0,\"#0d0887\"],[0.1111111111111111,\"#46039f\"],[0.2222222222222222,\"#7201a8\"],[0.3333333333333333,\"#9c179e\"],[0.4444444444444444,\"#bd3786\"],[0.5555555555555556,\"#d8576b\"],[0.6666666666666666,\"#ed7953\"],[0.7777777777777778,\"#fb9f3a\"],[0.8888888888888888,\"#fdca26\"],[1.0,\"#f0f921\"]]},\"colorway\":[\"#636efa\",\"#EF553B\",\"#00cc96\",\"#ab63fa\",\"#FFA15A\",\"#19d3f3\",\"#FF6692\",\"#B6E880\",\"#FF97FF\",\"#FECB52\"],\"font\":{\"color\":\"#2a3f5f\"},\"geo\":{\"bgcolor\":\"white\",\"lakecolor\":\"white\",\"landcolor\":\"#E5ECF6\",\"showlakes\":true,\"showland\":true,\"subunitcolor\":\"white\"},\"hoverlabel\":{\"align\":\"left\"},\"hovermode\":\"closest\",\"mapbox\":{\"style\":\"light\"},\"paper_bgcolor\":\"white\",\"plot_bgcolor\":\"#E5ECF6\",\"polar\":{\"angularaxis\":{\"gridcolor\":\"white\",\"linecolor\":\"white\",\"ticks\":\"\"},\"bgcolor\":\"#E5ECF6\",\"radialaxis\":{\"gridcolor\":\"white\",\"linecolor\":\"white\",\"ticks\":\"\"}},\"scene\":{\"xaxis\":{\"backgroundcolor\":\"#E5ECF6\",\"gridcolor\":\"white\",\"gridwidth\":2,\"linecolor\":\"white\",\"showbackground\":true,\"ticks\":\"\",\"zerolinecolor\":\"white\"},\"yaxis\":{\"backgroundcolor\":\"#E5ECF6\",\"gridcolor\":\"white\",\"gridwidth\":2,\"linecolor\":\"white\",\"showbackground\":true,\"ticks\":\"\",\"zerolinecolor\":\"white\"},\"zaxis\":{\"backgroundcolor\":\"#E5ECF6\",\"gridcolor\":\"white\",\"gridwidth\":2,\"linecolor\":\"white\",\"showbackground\":true,\"ticks\":\"\",\"zerolinecolor\":\"white\"}},\"shapedefaults\":{\"line\":{\"color\":\"#2a3f5f\"}},\"ternary\":{\"aaxis\":{\"gridcolor\":\"white\",\"linecolor\":\"white\",\"ticks\":\"\"},\"baxis\":{\"gridcolor\":\"white\",\"linecolor\":\"white\",\"ticks\":\"\"},\"bgcolor\":\"#E5ECF6\",\"caxis\":{\"gridcolor\":\"white\",\"linecolor\":\"white\",\"ticks\":\"\"}},\"title\":{\"x\":0.05},\"xaxis\":{\"automargin\":true,\"gridcolor\":\"white\",\"linecolor\":\"white\",\"ticks\":\"\",\"title\":{\"standoff\":15},\"zerolinecolor\":\"white\",\"zerolinewidth\":2},\"yaxis\":{\"automargin\":true,\"gridcolor\":\"white\",\"linecolor\":\"white\",\"ticks\":\"\",\"title\":{\"standoff\":15},\"zerolinecolor\":\"white\",\"zerolinewidth\":2}}}},                        {\"responsive\": true}                    ).then(function(){\n",
       "                            \n",
       "var gd = document.getElementById('430db7b2-b11f-4c6a-a12b-3359ab317254');\n",
       "var x = new MutationObserver(function (mutations, observer) {{\n",
       "        var display = window.getComputedStyle(gd).display;\n",
       "        if (!display || display === 'none') {{\n",
       "            console.log([gd, 'removed!']);\n",
       "            Plotly.purge(gd);\n",
       "            observer.disconnect();\n",
       "        }}\n",
       "}});\n",
       "\n",
       "// Listen for the removal of the full notebook cells\n",
       "var notebookContainer = gd.closest('#notebook-container');\n",
       "if (notebookContainer) {{\n",
       "    x.observe(notebookContainer, {childList: true});\n",
       "}}\n",
       "\n",
       "// Listen for the clearing of the current output cell\n",
       "var outputEl = gd.closest('.output');\n",
       "if (outputEl) {{\n",
       "    x.observe(outputEl, {childList: true});\n",
       "}}\n",
       "\n",
       "                        })                };                });            </script>        </div>"
      ]
     },
     "metadata": {},
     "output_type": "display_data"
    }
   ],
   "source": [
    "main.plot_spread_bit_1(data)"
   ]
  },
  {
   "cell_type": "markdown",
   "id": "48913f0d",
   "metadata": {},
   "source": [
    "### <font color= #6B6B6B> 4.2 Visualización de graficas bid, ask y spread con diferentes exchanges para la el ETH/USDT</font> <font color= #555555>"
   ]
  },
  {
   "cell_type": "code",
   "execution_count": 12,
   "id": "9ad0932f",
   "metadata": {},
   "outputs": [
    {
     "data": {
      "application/vnd.plotly.v1+json": {
       "config": {
        "plotlyServerURL": "https://plot.ly"
       },
       "data": [
        {
         "connectgaps": true,
         "name": "bitso_bid_eth",
         "type": "scatter",
         "x": [
          "2022-04-29T02:27:29.000Z",
          "2022-04-29T02:28:31.000Z",
          "2022-04-29T02:29:34.000Z",
          "2022-04-29T02:30:37.000Z",
          "2022-04-29T02:31:39.000Z",
          "2022-04-29T02:32:42.000Z",
          "2022-04-29T02:33:44.000Z",
          "2022-04-29T02:34:46.000Z",
          "2022-04-29T02:35:48.000Z",
          "2022-04-29T02:36:51.000Z",
          "2022-04-29T02:37:54.000Z",
          "2022-04-29T02:38:57.000Z",
          "2022-04-29T02:40:00.000Z",
          "2022-04-29T02:41:02.000Z",
          "2022-04-29T02:42:04.000Z",
          "2022-04-29T02:43:07.000Z",
          "2022-04-29T02:44:09.000Z",
          "2022-04-29T02:45:11.000Z",
          "2022-04-29T02:46:14.000Z",
          "2022-04-29T02:47:17.000Z",
          "2022-04-29T02:48:19.000Z",
          "2022-04-29T02:49:23.000Z",
          "2022-04-29T02:50:26.000Z",
          "2022-04-29T02:51:30.000Z",
          "2022-04-29T02:52:33.000Z",
          "2022-04-29T02:53:35.000Z",
          "2022-04-29T02:54:38.000Z",
          "2022-04-29T02:55:40.000Z",
          "2022-04-29T02:56:42.000Z",
          "2022-04-29T02:57:45.000Z",
          "2022-04-29T02:58:47.000Z",
          "2022-04-29T02:59:48.000Z",
          "2022-04-29T03:00:51.000Z",
          "2022-04-29T03:01:53.000Z",
          "2022-04-29T03:02:55.000Z",
          "2022-04-29T03:03:56.000Z",
          "2022-04-29T03:04:58.000Z",
          "2022-04-29T03:06:01.000Z",
          "2022-04-29T03:07:03.000Z",
          "2022-04-29T03:08:05.000Z",
          "2022-04-29T03:09:07.000Z",
          "2022-04-29T03:10:09.000Z",
          "2022-04-29T03:11:12.000Z",
          "2022-04-29T03:12:14.000Z",
          "2022-04-29T03:13:16.000Z",
          "2022-04-29T03:14:18.000Z",
          "2022-04-29T03:15:20.000Z",
          "2022-04-29T03:16:22.000Z",
          "2022-04-29T03:17:26.000Z",
          "2022-04-29T03:18:28.000Z",
          "2022-04-29T03:19:30.000Z",
          "2022-04-29T03:20:32.000Z",
          "2022-04-29T03:21:34.000Z",
          "2022-04-29T03:22:36.000Z",
          "2022-04-29T03:23:38.000Z",
          "2022-04-29T03:24:41.000Z",
          "2022-04-29T03:25:43.000Z",
          "2022-04-29T03:26:45.000Z",
          "2022-04-29T03:27:47.000Z",
          "2022-04-29T03:28:50.000Z"
         ],
         "y": [
          2919.57,
          2918.98,
          2917.92,
          2914.18,
          2916.94,
          2916.86,
          2915.16,
          2913.87,
          2915.73,
          2915.7,
          2915.17,
          2916.01,
          2916.01,
          2915.88,
          2916.48,
          2916.49,
          2917.1,
          2918.73,
          2920.44,
          2921.81,
          2921.18,
          2920.37,
          2919.37,
          2918.68,
          2918.45,
          2917.3,
          2914.92,
          2912.22,
          2909.8,
          2906.34,
          2908.48,
          2908.33,
          2908.25,
          2907.62,
          2907.95,
          2912.06,
          2912.17,
          2910.71,
          2911.63,
          2910.97,
          2911.01,
          2910.79,
          2910.19,
          2909.8,
          2905.13,
          2906.5,
          2906.14,
          2903.96,
          2907.83,
          2907.72,
          2908.4,
          2910.4,
          2910.52,
          2912.39,
          2915.47,
          2914.99,
          2914.26,
          2914.2,
          2915.51,
          2916.14
         ]
        },
        {
         "name": "kraken_bid_eth",
         "type": "scatter",
         "x": [
          "2022-04-29T02:27:29.000Z",
          "2022-04-29T02:28:31.000Z",
          "2022-04-29T02:29:34.000Z",
          "2022-04-29T02:30:37.000Z",
          "2022-04-29T02:31:39.000Z",
          "2022-04-29T02:32:42.000Z",
          "2022-04-29T02:33:44.000Z",
          "2022-04-29T02:34:46.000Z",
          "2022-04-29T02:35:48.000Z",
          "2022-04-29T02:36:51.000Z",
          "2022-04-29T02:37:54.000Z",
          "2022-04-29T02:38:57.000Z",
          "2022-04-29T02:40:00.000Z",
          "2022-04-29T02:41:02.000Z",
          "2022-04-29T02:42:04.000Z",
          "2022-04-29T02:43:07.000Z",
          "2022-04-29T02:44:09.000Z",
          "2022-04-29T02:45:11.000Z",
          "2022-04-29T02:46:14.000Z",
          "2022-04-29T02:47:17.000Z",
          "2022-04-29T02:48:19.000Z",
          "2022-04-29T02:49:23.000Z",
          "2022-04-29T02:50:26.000Z",
          "2022-04-29T02:51:30.000Z",
          "2022-04-29T02:52:33.000Z",
          "2022-04-29T02:53:35.000Z",
          "2022-04-29T02:54:38.000Z",
          "2022-04-29T02:55:40.000Z",
          "2022-04-29T02:56:42.000Z",
          "2022-04-29T02:57:45.000Z",
          "2022-04-29T02:58:47.000Z",
          "2022-04-29T02:59:48.000Z",
          "2022-04-29T03:00:51.000Z",
          "2022-04-29T03:01:53.000Z",
          "2022-04-29T03:02:55.000Z",
          "2022-04-29T03:03:56.000Z",
          "2022-04-29T03:04:58.000Z",
          "2022-04-29T03:06:01.000Z",
          "2022-04-29T03:07:03.000Z",
          "2022-04-29T03:08:05.000Z",
          "2022-04-29T03:09:07.000Z",
          "2022-04-29T03:10:09.000Z",
          "2022-04-29T03:11:12.000Z",
          "2022-04-29T03:12:14.000Z",
          "2022-04-29T03:13:16.000Z",
          "2022-04-29T03:14:18.000Z",
          "2022-04-29T03:15:20.000Z",
          "2022-04-29T03:16:22.000Z",
          "2022-04-29T03:17:26.000Z",
          "2022-04-29T03:18:28.000Z",
          "2022-04-29T03:19:30.000Z",
          "2022-04-29T03:20:32.000Z",
          "2022-04-29T03:21:34.000Z",
          "2022-04-29T03:22:36.000Z",
          "2022-04-29T03:23:38.000Z",
          "2022-04-29T03:24:41.000Z",
          "2022-04-29T03:25:43.000Z",
          "2022-04-29T03:26:45.000Z",
          "2022-04-29T03:27:47.000Z",
          "2022-04-29T03:28:50.000Z"
         ],
         "y": [
          2917.69,
          2918.63,
          2918.63,
          2917.52,
          2918.09,
          2918.41,
          2918.41,
          2917.5,
          2917.79,
          2917.79,
          2917.79,
          2918.09,
          2918.09,
          2918.09,
          2918.09,
          2918.09,
          2918.09,
          2920.29,
          2921.67,
          2922.05,
          2922.05,
          2922.05,
          2921.52,
          2920.5,
          2920.62,
          2918.58,
          2916.32,
          2913.3,
          2910,
          2907.89,
          2909.25,
          2908.64,
          2908.94,
          2909.38,
          2909.38,
          2912.09,
          2912.03,
          2912.02,
          2913.09,
          2912.2,
          2912.35,
          2911.8,
          2912.92,
          2911.01,
          2903.65,
          2908.13,
          2906.2,
          2904.6,
          2907.98,
          2909.26,
          2909.32,
          2910.42,
          2911.79,
          2912.99,
          2915.42,
          2915.42,
          2915.69,
          2915.7,
          2915.7,
          2916.88
         ]
        },
        {
         "name": "binance_bid_eth",
         "type": "scatter",
         "x": [
          "2022-04-29T02:27:29.000Z",
          "2022-04-29T02:28:31.000Z",
          "2022-04-29T02:29:34.000Z",
          "2022-04-29T02:30:37.000Z",
          "2022-04-29T02:31:39.000Z",
          "2022-04-29T02:32:42.000Z",
          "2022-04-29T02:33:44.000Z",
          "2022-04-29T02:34:46.000Z",
          "2022-04-29T02:35:48.000Z",
          "2022-04-29T02:36:51.000Z",
          "2022-04-29T02:37:54.000Z",
          "2022-04-29T02:38:57.000Z",
          "2022-04-29T02:40:00.000Z",
          "2022-04-29T02:41:02.000Z",
          "2022-04-29T02:42:04.000Z",
          "2022-04-29T02:43:07.000Z",
          "2022-04-29T02:44:09.000Z",
          "2022-04-29T02:45:11.000Z",
          "2022-04-29T02:46:14.000Z",
          "2022-04-29T02:47:17.000Z",
          "2022-04-29T02:48:19.000Z",
          "2022-04-29T02:49:23.000Z",
          "2022-04-29T02:50:26.000Z",
          "2022-04-29T02:51:30.000Z",
          "2022-04-29T02:52:33.000Z",
          "2022-04-29T02:53:35.000Z",
          "2022-04-29T02:54:38.000Z",
          "2022-04-29T02:55:40.000Z",
          "2022-04-29T02:56:42.000Z",
          "2022-04-29T02:57:45.000Z",
          "2022-04-29T02:58:47.000Z",
          "2022-04-29T02:59:48.000Z",
          "2022-04-29T03:00:51.000Z",
          "2022-04-29T03:01:53.000Z",
          "2022-04-29T03:02:55.000Z",
          "2022-04-29T03:03:56.000Z",
          "2022-04-29T03:04:58.000Z",
          "2022-04-29T03:06:01.000Z",
          "2022-04-29T03:07:03.000Z",
          "2022-04-29T03:08:05.000Z",
          "2022-04-29T03:09:07.000Z",
          "2022-04-29T03:10:09.000Z",
          "2022-04-29T03:11:12.000Z",
          "2022-04-29T03:12:14.000Z",
          "2022-04-29T03:13:16.000Z",
          "2022-04-29T03:14:18.000Z",
          "2022-04-29T03:15:20.000Z",
          "2022-04-29T03:16:22.000Z",
          "2022-04-29T03:17:26.000Z",
          "2022-04-29T03:18:28.000Z",
          "2022-04-29T03:19:30.000Z",
          "2022-04-29T03:20:32.000Z",
          "2022-04-29T03:21:34.000Z",
          "2022-04-29T03:22:36.000Z",
          "2022-04-29T03:23:38.000Z",
          "2022-04-29T03:24:41.000Z",
          "2022-04-29T03:25:43.000Z",
          "2022-04-29T03:26:45.000Z",
          "2022-04-29T03:27:47.000Z",
          "2022-04-29T03:28:50.000Z"
         ],
         "y": [
          2909.060001,
          2909.060001,
          2905.460001,
          2905.460001,
          2905.460001,
          2905.460001,
          2905.460001,
          2905.460001,
          2905.460001,
          2905.460001,
          2905.460001,
          2905.460001,
          2905.460001,
          2905.460001,
          2905.460001,
          2905.460001,
          2905.460001,
          2905.460001,
          2905.460001,
          2905.460001,
          2903.51,
          2905.270001,
          2905.270001,
          2905.270001,
          2905.270001,
          2905.270001,
          2905.270001,
          2885.14848,
          2885.14848,
          2885.148479,
          2876.562519,
          2876.562519,
          2876.862581,
          2880.810002,
          2884.520002,
          2886.230003,
          2887.400006,
          2887.400006,
          2887.980002,
          2888.360002,
          2888.560002,
          2888.560002,
          2888.560002,
          2889.900004,
          2875.335233,
          2875.845343,
          2876.315443,
          2876.685519,
          2877.175622,
          2877.695737,
          2878.230004,
          2879.08,
          2883.791235,
          2884.610001,
          2885.470001,
          2886.390001,
          2887.21,
          2888.100001,
          2889.04,
          2889.98
         ]
        }
       ],
       "layout": {
        "template": {
         "data": {
          "bar": [
           {
            "error_x": {
             "color": "#2a3f5f"
            },
            "error_y": {
             "color": "#2a3f5f"
            },
            "marker": {
             "line": {
              "color": "#E5ECF6",
              "width": 0.5
             },
             "pattern": {
              "fillmode": "overlay",
              "size": 10,
              "solidity": 0.2
             }
            },
            "type": "bar"
           }
          ],
          "barpolar": [
           {
            "marker": {
             "line": {
              "color": "#E5ECF6",
              "width": 0.5
             },
             "pattern": {
              "fillmode": "overlay",
              "size": 10,
              "solidity": 0.2
             }
            },
            "type": "barpolar"
           }
          ],
          "carpet": [
           {
            "aaxis": {
             "endlinecolor": "#2a3f5f",
             "gridcolor": "white",
             "linecolor": "white",
             "minorgridcolor": "white",
             "startlinecolor": "#2a3f5f"
            },
            "baxis": {
             "endlinecolor": "#2a3f5f",
             "gridcolor": "white",
             "linecolor": "white",
             "minorgridcolor": "white",
             "startlinecolor": "#2a3f5f"
            },
            "type": "carpet"
           }
          ],
          "choropleth": [
           {
            "colorbar": {
             "outlinewidth": 0,
             "ticks": ""
            },
            "type": "choropleth"
           }
          ],
          "contour": [
           {
            "colorbar": {
             "outlinewidth": 0,
             "ticks": ""
            },
            "colorscale": [
             [
              0,
              "#0d0887"
             ],
             [
              0.1111111111111111,
              "#46039f"
             ],
             [
              0.2222222222222222,
              "#7201a8"
             ],
             [
              0.3333333333333333,
              "#9c179e"
             ],
             [
              0.4444444444444444,
              "#bd3786"
             ],
             [
              0.5555555555555556,
              "#d8576b"
             ],
             [
              0.6666666666666666,
              "#ed7953"
             ],
             [
              0.7777777777777778,
              "#fb9f3a"
             ],
             [
              0.8888888888888888,
              "#fdca26"
             ],
             [
              1,
              "#f0f921"
             ]
            ],
            "type": "contour"
           }
          ],
          "contourcarpet": [
           {
            "colorbar": {
             "outlinewidth": 0,
             "ticks": ""
            },
            "type": "contourcarpet"
           }
          ],
          "heatmap": [
           {
            "colorbar": {
             "outlinewidth": 0,
             "ticks": ""
            },
            "colorscale": [
             [
              0,
              "#0d0887"
             ],
             [
              0.1111111111111111,
              "#46039f"
             ],
             [
              0.2222222222222222,
              "#7201a8"
             ],
             [
              0.3333333333333333,
              "#9c179e"
             ],
             [
              0.4444444444444444,
              "#bd3786"
             ],
             [
              0.5555555555555556,
              "#d8576b"
             ],
             [
              0.6666666666666666,
              "#ed7953"
             ],
             [
              0.7777777777777778,
              "#fb9f3a"
             ],
             [
              0.8888888888888888,
              "#fdca26"
             ],
             [
              1,
              "#f0f921"
             ]
            ],
            "type": "heatmap"
           }
          ],
          "heatmapgl": [
           {
            "colorbar": {
             "outlinewidth": 0,
             "ticks": ""
            },
            "colorscale": [
             [
              0,
              "#0d0887"
             ],
             [
              0.1111111111111111,
              "#46039f"
             ],
             [
              0.2222222222222222,
              "#7201a8"
             ],
             [
              0.3333333333333333,
              "#9c179e"
             ],
             [
              0.4444444444444444,
              "#bd3786"
             ],
             [
              0.5555555555555556,
              "#d8576b"
             ],
             [
              0.6666666666666666,
              "#ed7953"
             ],
             [
              0.7777777777777778,
              "#fb9f3a"
             ],
             [
              0.8888888888888888,
              "#fdca26"
             ],
             [
              1,
              "#f0f921"
             ]
            ],
            "type": "heatmapgl"
           }
          ],
          "histogram": [
           {
            "marker": {
             "pattern": {
              "fillmode": "overlay",
              "size": 10,
              "solidity": 0.2
             }
            },
            "type": "histogram"
           }
          ],
          "histogram2d": [
           {
            "colorbar": {
             "outlinewidth": 0,
             "ticks": ""
            },
            "colorscale": [
             [
              0,
              "#0d0887"
             ],
             [
              0.1111111111111111,
              "#46039f"
             ],
             [
              0.2222222222222222,
              "#7201a8"
             ],
             [
              0.3333333333333333,
              "#9c179e"
             ],
             [
              0.4444444444444444,
              "#bd3786"
             ],
             [
              0.5555555555555556,
              "#d8576b"
             ],
             [
              0.6666666666666666,
              "#ed7953"
             ],
             [
              0.7777777777777778,
              "#fb9f3a"
             ],
             [
              0.8888888888888888,
              "#fdca26"
             ],
             [
              1,
              "#f0f921"
             ]
            ],
            "type": "histogram2d"
           }
          ],
          "histogram2dcontour": [
           {
            "colorbar": {
             "outlinewidth": 0,
             "ticks": ""
            },
            "colorscale": [
             [
              0,
              "#0d0887"
             ],
             [
              0.1111111111111111,
              "#46039f"
             ],
             [
              0.2222222222222222,
              "#7201a8"
             ],
             [
              0.3333333333333333,
              "#9c179e"
             ],
             [
              0.4444444444444444,
              "#bd3786"
             ],
             [
              0.5555555555555556,
              "#d8576b"
             ],
             [
              0.6666666666666666,
              "#ed7953"
             ],
             [
              0.7777777777777778,
              "#fb9f3a"
             ],
             [
              0.8888888888888888,
              "#fdca26"
             ],
             [
              1,
              "#f0f921"
             ]
            ],
            "type": "histogram2dcontour"
           }
          ],
          "mesh3d": [
           {
            "colorbar": {
             "outlinewidth": 0,
             "ticks": ""
            },
            "type": "mesh3d"
           }
          ],
          "parcoords": [
           {
            "line": {
             "colorbar": {
              "outlinewidth": 0,
              "ticks": ""
             }
            },
            "type": "parcoords"
           }
          ],
          "pie": [
           {
            "automargin": true,
            "type": "pie"
           }
          ],
          "scatter": [
           {
            "marker": {
             "colorbar": {
              "outlinewidth": 0,
              "ticks": ""
             }
            },
            "type": "scatter"
           }
          ],
          "scatter3d": [
           {
            "line": {
             "colorbar": {
              "outlinewidth": 0,
              "ticks": ""
             }
            },
            "marker": {
             "colorbar": {
              "outlinewidth": 0,
              "ticks": ""
             }
            },
            "type": "scatter3d"
           }
          ],
          "scattercarpet": [
           {
            "marker": {
             "colorbar": {
              "outlinewidth": 0,
              "ticks": ""
             }
            },
            "type": "scattercarpet"
           }
          ],
          "scattergeo": [
           {
            "marker": {
             "colorbar": {
              "outlinewidth": 0,
              "ticks": ""
             }
            },
            "type": "scattergeo"
           }
          ],
          "scattergl": [
           {
            "marker": {
             "colorbar": {
              "outlinewidth": 0,
              "ticks": ""
             }
            },
            "type": "scattergl"
           }
          ],
          "scattermapbox": [
           {
            "marker": {
             "colorbar": {
              "outlinewidth": 0,
              "ticks": ""
             }
            },
            "type": "scattermapbox"
           }
          ],
          "scatterpolar": [
           {
            "marker": {
             "colorbar": {
              "outlinewidth": 0,
              "ticks": ""
             }
            },
            "type": "scatterpolar"
           }
          ],
          "scatterpolargl": [
           {
            "marker": {
             "colorbar": {
              "outlinewidth": 0,
              "ticks": ""
             }
            },
            "type": "scatterpolargl"
           }
          ],
          "scatterternary": [
           {
            "marker": {
             "colorbar": {
              "outlinewidth": 0,
              "ticks": ""
             }
            },
            "type": "scatterternary"
           }
          ],
          "surface": [
           {
            "colorbar": {
             "outlinewidth": 0,
             "ticks": ""
            },
            "colorscale": [
             [
              0,
              "#0d0887"
             ],
             [
              0.1111111111111111,
              "#46039f"
             ],
             [
              0.2222222222222222,
              "#7201a8"
             ],
             [
              0.3333333333333333,
              "#9c179e"
             ],
             [
              0.4444444444444444,
              "#bd3786"
             ],
             [
              0.5555555555555556,
              "#d8576b"
             ],
             [
              0.6666666666666666,
              "#ed7953"
             ],
             [
              0.7777777777777778,
              "#fb9f3a"
             ],
             [
              0.8888888888888888,
              "#fdca26"
             ],
             [
              1,
              "#f0f921"
             ]
            ],
            "type": "surface"
           }
          ],
          "table": [
           {
            "cells": {
             "fill": {
              "color": "#EBF0F8"
             },
             "line": {
              "color": "white"
             }
            },
            "header": {
             "fill": {
              "color": "#C8D4E3"
             },
             "line": {
              "color": "white"
             }
            },
            "type": "table"
           }
          ]
         },
         "layout": {
          "annotationdefaults": {
           "arrowcolor": "#2a3f5f",
           "arrowhead": 0,
           "arrowwidth": 1
          },
          "autotypenumbers": "strict",
          "coloraxis": {
           "colorbar": {
            "outlinewidth": 0,
            "ticks": ""
           }
          },
          "colorscale": {
           "diverging": [
            [
             0,
             "#8e0152"
            ],
            [
             0.1,
             "#c51b7d"
            ],
            [
             0.2,
             "#de77ae"
            ],
            [
             0.3,
             "#f1b6da"
            ],
            [
             0.4,
             "#fde0ef"
            ],
            [
             0.5,
             "#f7f7f7"
            ],
            [
             0.6,
             "#e6f5d0"
            ],
            [
             0.7,
             "#b8e186"
            ],
            [
             0.8,
             "#7fbc41"
            ],
            [
             0.9,
             "#4d9221"
            ],
            [
             1,
             "#276419"
            ]
           ],
           "sequential": [
            [
             0,
             "#0d0887"
            ],
            [
             0.1111111111111111,
             "#46039f"
            ],
            [
             0.2222222222222222,
             "#7201a8"
            ],
            [
             0.3333333333333333,
             "#9c179e"
            ],
            [
             0.4444444444444444,
             "#bd3786"
            ],
            [
             0.5555555555555556,
             "#d8576b"
            ],
            [
             0.6666666666666666,
             "#ed7953"
            ],
            [
             0.7777777777777778,
             "#fb9f3a"
            ],
            [
             0.8888888888888888,
             "#fdca26"
            ],
            [
             1,
             "#f0f921"
            ]
           ],
           "sequentialminus": [
            [
             0,
             "#0d0887"
            ],
            [
             0.1111111111111111,
             "#46039f"
            ],
            [
             0.2222222222222222,
             "#7201a8"
            ],
            [
             0.3333333333333333,
             "#9c179e"
            ],
            [
             0.4444444444444444,
             "#bd3786"
            ],
            [
             0.5555555555555556,
             "#d8576b"
            ],
            [
             0.6666666666666666,
             "#ed7953"
            ],
            [
             0.7777777777777778,
             "#fb9f3a"
            ],
            [
             0.8888888888888888,
             "#fdca26"
            ],
            [
             1,
             "#f0f921"
            ]
           ]
          },
          "colorway": [
           "#636efa",
           "#EF553B",
           "#00cc96",
           "#ab63fa",
           "#FFA15A",
           "#19d3f3",
           "#FF6692",
           "#B6E880",
           "#FF97FF",
           "#FECB52"
          ],
          "font": {
           "color": "#2a3f5f"
          },
          "geo": {
           "bgcolor": "white",
           "lakecolor": "white",
           "landcolor": "#E5ECF6",
           "showlakes": true,
           "showland": true,
           "subunitcolor": "white"
          },
          "hoverlabel": {
           "align": "left"
          },
          "hovermode": "closest",
          "mapbox": {
           "style": "light"
          },
          "paper_bgcolor": "white",
          "plot_bgcolor": "#E5ECF6",
          "polar": {
           "angularaxis": {
            "gridcolor": "white",
            "linecolor": "white",
            "ticks": ""
           },
           "bgcolor": "#E5ECF6",
           "radialaxis": {
            "gridcolor": "white",
            "linecolor": "white",
            "ticks": ""
           }
          },
          "scene": {
           "xaxis": {
            "backgroundcolor": "#E5ECF6",
            "gridcolor": "white",
            "gridwidth": 2,
            "linecolor": "white",
            "showbackground": true,
            "ticks": "",
            "zerolinecolor": "white"
           },
           "yaxis": {
            "backgroundcolor": "#E5ECF6",
            "gridcolor": "white",
            "gridwidth": 2,
            "linecolor": "white",
            "showbackground": true,
            "ticks": "",
            "zerolinecolor": "white"
           },
           "zaxis": {
            "backgroundcolor": "#E5ECF6",
            "gridcolor": "white",
            "gridwidth": 2,
            "linecolor": "white",
            "showbackground": true,
            "ticks": "",
            "zerolinecolor": "white"
           }
          },
          "shapedefaults": {
           "line": {
            "color": "#2a3f5f"
           }
          },
          "ternary": {
           "aaxis": {
            "gridcolor": "white",
            "linecolor": "white",
            "ticks": ""
           },
           "baxis": {
            "gridcolor": "white",
            "linecolor": "white",
            "ticks": ""
           },
           "bgcolor": "#E5ECF6",
           "caxis": {
            "gridcolor": "white",
            "linecolor": "white",
            "ticks": ""
           }
          },
          "title": {
           "x": 0.05
          },
          "xaxis": {
           "automargin": true,
           "gridcolor": "white",
           "linecolor": "white",
           "ticks": "",
           "title": {
            "standoff": 15
           },
           "zerolinecolor": "white",
           "zerolinewidth": 2
          },
          "yaxis": {
           "automargin": true,
           "gridcolor": "white",
           "linecolor": "white",
           "ticks": "",
           "title": {
            "standoff": 15
           },
           "zerolinecolor": "white",
           "zerolinewidth": 2
          }
         }
        }
       }
      },
      "text/html": [
       "<div>                            <div id=\"aea9011b-5e23-4b79-9daf-8a1b64379b68\" class=\"plotly-graph-div\" style=\"height:525px; width:100%;\"></div>            <script type=\"text/javascript\">                require([\"plotly\"], function(Plotly) {                    window.PLOTLYENV=window.PLOTLYENV || {};                                    if (document.getElementById(\"aea9011b-5e23-4b79-9daf-8a1b64379b68\")) {                    Plotly.newPlot(                        \"aea9011b-5e23-4b79-9daf-8a1b64379b68\",                        [{\"connectgaps\":true,\"name\":\"bitso_bid_eth\",\"x\":[\"2022-04-29T02:27:29.000Z\",\"2022-04-29T02:28:31.000Z\",\"2022-04-29T02:29:34.000Z\",\"2022-04-29T02:30:37.000Z\",\"2022-04-29T02:31:39.000Z\",\"2022-04-29T02:32:42.000Z\",\"2022-04-29T02:33:44.000Z\",\"2022-04-29T02:34:46.000Z\",\"2022-04-29T02:35:48.000Z\",\"2022-04-29T02:36:51.000Z\",\"2022-04-29T02:37:54.000Z\",\"2022-04-29T02:38:57.000Z\",\"2022-04-29T02:40:00.000Z\",\"2022-04-29T02:41:02.000Z\",\"2022-04-29T02:42:04.000Z\",\"2022-04-29T02:43:07.000Z\",\"2022-04-29T02:44:09.000Z\",\"2022-04-29T02:45:11.000Z\",\"2022-04-29T02:46:14.000Z\",\"2022-04-29T02:47:17.000Z\",\"2022-04-29T02:48:19.000Z\",\"2022-04-29T02:49:23.000Z\",\"2022-04-29T02:50:26.000Z\",\"2022-04-29T02:51:30.000Z\",\"2022-04-29T02:52:33.000Z\",\"2022-04-29T02:53:35.000Z\",\"2022-04-29T02:54:38.000Z\",\"2022-04-29T02:55:40.000Z\",\"2022-04-29T02:56:42.000Z\",\"2022-04-29T02:57:45.000Z\",\"2022-04-29T02:58:47.000Z\",\"2022-04-29T02:59:48.000Z\",\"2022-04-29T03:00:51.000Z\",\"2022-04-29T03:01:53.000Z\",\"2022-04-29T03:02:55.000Z\",\"2022-04-29T03:03:56.000Z\",\"2022-04-29T03:04:58.000Z\",\"2022-04-29T03:06:01.000Z\",\"2022-04-29T03:07:03.000Z\",\"2022-04-29T03:08:05.000Z\",\"2022-04-29T03:09:07.000Z\",\"2022-04-29T03:10:09.000Z\",\"2022-04-29T03:11:12.000Z\",\"2022-04-29T03:12:14.000Z\",\"2022-04-29T03:13:16.000Z\",\"2022-04-29T03:14:18.000Z\",\"2022-04-29T03:15:20.000Z\",\"2022-04-29T03:16:22.000Z\",\"2022-04-29T03:17:26.000Z\",\"2022-04-29T03:18:28.000Z\",\"2022-04-29T03:19:30.000Z\",\"2022-04-29T03:20:32.000Z\",\"2022-04-29T03:21:34.000Z\",\"2022-04-29T03:22:36.000Z\",\"2022-04-29T03:23:38.000Z\",\"2022-04-29T03:24:41.000Z\",\"2022-04-29T03:25:43.000Z\",\"2022-04-29T03:26:45.000Z\",\"2022-04-29T03:27:47.000Z\",\"2022-04-29T03:28:50.000Z\"],\"y\":[2919.57,2918.98,2917.92,2914.18,2916.94,2916.86,2915.16,2913.87,2915.73,2915.7,2915.17,2916.01,2916.01,2915.88,2916.48,2916.49,2917.1,2918.73,2920.44,2921.81,2921.18,2920.37,2919.37,2918.68,2918.45,2917.3,2914.92,2912.22,2909.8,2906.34,2908.48,2908.33,2908.25,2907.62,2907.95,2912.06,2912.17,2910.71,2911.63,2910.97,2911.01,2910.79,2910.19,2909.8,2905.13,2906.5,2906.14,2903.96,2907.83,2907.72,2908.4,2910.4,2910.52,2912.39,2915.47,2914.99,2914.26,2914.2,2915.51,2916.14],\"type\":\"scatter\"},{\"name\":\"kraken_bid_eth\",\"x\":[\"2022-04-29T02:27:29.000Z\",\"2022-04-29T02:28:31.000Z\",\"2022-04-29T02:29:34.000Z\",\"2022-04-29T02:30:37.000Z\",\"2022-04-29T02:31:39.000Z\",\"2022-04-29T02:32:42.000Z\",\"2022-04-29T02:33:44.000Z\",\"2022-04-29T02:34:46.000Z\",\"2022-04-29T02:35:48.000Z\",\"2022-04-29T02:36:51.000Z\",\"2022-04-29T02:37:54.000Z\",\"2022-04-29T02:38:57.000Z\",\"2022-04-29T02:40:00.000Z\",\"2022-04-29T02:41:02.000Z\",\"2022-04-29T02:42:04.000Z\",\"2022-04-29T02:43:07.000Z\",\"2022-04-29T02:44:09.000Z\",\"2022-04-29T02:45:11.000Z\",\"2022-04-29T02:46:14.000Z\",\"2022-04-29T02:47:17.000Z\",\"2022-04-29T02:48:19.000Z\",\"2022-04-29T02:49:23.000Z\",\"2022-04-29T02:50:26.000Z\",\"2022-04-29T02:51:30.000Z\",\"2022-04-29T02:52:33.000Z\",\"2022-04-29T02:53:35.000Z\",\"2022-04-29T02:54:38.000Z\",\"2022-04-29T02:55:40.000Z\",\"2022-04-29T02:56:42.000Z\",\"2022-04-29T02:57:45.000Z\",\"2022-04-29T02:58:47.000Z\",\"2022-04-29T02:59:48.000Z\",\"2022-04-29T03:00:51.000Z\",\"2022-04-29T03:01:53.000Z\",\"2022-04-29T03:02:55.000Z\",\"2022-04-29T03:03:56.000Z\",\"2022-04-29T03:04:58.000Z\",\"2022-04-29T03:06:01.000Z\",\"2022-04-29T03:07:03.000Z\",\"2022-04-29T03:08:05.000Z\",\"2022-04-29T03:09:07.000Z\",\"2022-04-29T03:10:09.000Z\",\"2022-04-29T03:11:12.000Z\",\"2022-04-29T03:12:14.000Z\",\"2022-04-29T03:13:16.000Z\",\"2022-04-29T03:14:18.000Z\",\"2022-04-29T03:15:20.000Z\",\"2022-04-29T03:16:22.000Z\",\"2022-04-29T03:17:26.000Z\",\"2022-04-29T03:18:28.000Z\",\"2022-04-29T03:19:30.000Z\",\"2022-04-29T03:20:32.000Z\",\"2022-04-29T03:21:34.000Z\",\"2022-04-29T03:22:36.000Z\",\"2022-04-29T03:23:38.000Z\",\"2022-04-29T03:24:41.000Z\",\"2022-04-29T03:25:43.000Z\",\"2022-04-29T03:26:45.000Z\",\"2022-04-29T03:27:47.000Z\",\"2022-04-29T03:28:50.000Z\"],\"y\":[2917.69,2918.63,2918.63,2917.52,2918.09,2918.41,2918.41,2917.5,2917.79,2917.79,2917.79,2918.09,2918.09,2918.09,2918.09,2918.09,2918.09,2920.29,2921.67,2922.05,2922.05,2922.05,2921.52,2920.5,2920.62,2918.58,2916.32,2913.3,2910.0,2907.89,2909.25,2908.64,2908.94,2909.38,2909.38,2912.09,2912.03,2912.02,2913.09,2912.2,2912.35,2911.8,2912.92,2911.01,2903.65,2908.13,2906.2,2904.6,2907.98,2909.26,2909.32,2910.42,2911.79,2912.99,2915.42,2915.42,2915.69,2915.7,2915.7,2916.88],\"type\":\"scatter\"},{\"name\":\"binance_bid_eth\",\"x\":[\"2022-04-29T02:27:29.000Z\",\"2022-04-29T02:28:31.000Z\",\"2022-04-29T02:29:34.000Z\",\"2022-04-29T02:30:37.000Z\",\"2022-04-29T02:31:39.000Z\",\"2022-04-29T02:32:42.000Z\",\"2022-04-29T02:33:44.000Z\",\"2022-04-29T02:34:46.000Z\",\"2022-04-29T02:35:48.000Z\",\"2022-04-29T02:36:51.000Z\",\"2022-04-29T02:37:54.000Z\",\"2022-04-29T02:38:57.000Z\",\"2022-04-29T02:40:00.000Z\",\"2022-04-29T02:41:02.000Z\",\"2022-04-29T02:42:04.000Z\",\"2022-04-29T02:43:07.000Z\",\"2022-04-29T02:44:09.000Z\",\"2022-04-29T02:45:11.000Z\",\"2022-04-29T02:46:14.000Z\",\"2022-04-29T02:47:17.000Z\",\"2022-04-29T02:48:19.000Z\",\"2022-04-29T02:49:23.000Z\",\"2022-04-29T02:50:26.000Z\",\"2022-04-29T02:51:30.000Z\",\"2022-04-29T02:52:33.000Z\",\"2022-04-29T02:53:35.000Z\",\"2022-04-29T02:54:38.000Z\",\"2022-04-29T02:55:40.000Z\",\"2022-04-29T02:56:42.000Z\",\"2022-04-29T02:57:45.000Z\",\"2022-04-29T02:58:47.000Z\",\"2022-04-29T02:59:48.000Z\",\"2022-04-29T03:00:51.000Z\",\"2022-04-29T03:01:53.000Z\",\"2022-04-29T03:02:55.000Z\",\"2022-04-29T03:03:56.000Z\",\"2022-04-29T03:04:58.000Z\",\"2022-04-29T03:06:01.000Z\",\"2022-04-29T03:07:03.000Z\",\"2022-04-29T03:08:05.000Z\",\"2022-04-29T03:09:07.000Z\",\"2022-04-29T03:10:09.000Z\",\"2022-04-29T03:11:12.000Z\",\"2022-04-29T03:12:14.000Z\",\"2022-04-29T03:13:16.000Z\",\"2022-04-29T03:14:18.000Z\",\"2022-04-29T03:15:20.000Z\",\"2022-04-29T03:16:22.000Z\",\"2022-04-29T03:17:26.000Z\",\"2022-04-29T03:18:28.000Z\",\"2022-04-29T03:19:30.000Z\",\"2022-04-29T03:20:32.000Z\",\"2022-04-29T03:21:34.000Z\",\"2022-04-29T03:22:36.000Z\",\"2022-04-29T03:23:38.000Z\",\"2022-04-29T03:24:41.000Z\",\"2022-04-29T03:25:43.000Z\",\"2022-04-29T03:26:45.000Z\",\"2022-04-29T03:27:47.000Z\",\"2022-04-29T03:28:50.000Z\"],\"y\":[2909.060001,2909.060001,2905.460001,2905.460001,2905.460001,2905.460001,2905.460001,2905.460001,2905.460001,2905.460001,2905.460001,2905.460001,2905.460001,2905.460001,2905.460001,2905.460001,2905.460001,2905.460001,2905.460001,2905.460001,2903.51,2905.270001,2905.270001,2905.270001,2905.270001,2905.270001,2905.270001,2885.14848,2885.14848,2885.148479,2876.562519,2876.562519,2876.862581,2880.810002,2884.520002,2886.230003,2887.400006,2887.400006,2887.980002,2888.360002,2888.560002,2888.560002,2888.560002,2889.900004,2875.335233,2875.845343,2876.315443,2876.685519,2877.175622,2877.695737,2878.230004,2879.08,2883.791235,2884.610001,2885.470001,2886.390001,2887.21,2888.100001,2889.04,2889.98],\"type\":\"scatter\"}],                        {\"template\":{\"data\":{\"bar\":[{\"error_x\":{\"color\":\"#2a3f5f\"},\"error_y\":{\"color\":\"#2a3f5f\"},\"marker\":{\"line\":{\"color\":\"#E5ECF6\",\"width\":0.5},\"pattern\":{\"fillmode\":\"overlay\",\"size\":10,\"solidity\":0.2}},\"type\":\"bar\"}],\"barpolar\":[{\"marker\":{\"line\":{\"color\":\"#E5ECF6\",\"width\":0.5},\"pattern\":{\"fillmode\":\"overlay\",\"size\":10,\"solidity\":0.2}},\"type\":\"barpolar\"}],\"carpet\":[{\"aaxis\":{\"endlinecolor\":\"#2a3f5f\",\"gridcolor\":\"white\",\"linecolor\":\"white\",\"minorgridcolor\":\"white\",\"startlinecolor\":\"#2a3f5f\"},\"baxis\":{\"endlinecolor\":\"#2a3f5f\",\"gridcolor\":\"white\",\"linecolor\":\"white\",\"minorgridcolor\":\"white\",\"startlinecolor\":\"#2a3f5f\"},\"type\":\"carpet\"}],\"choropleth\":[{\"colorbar\":{\"outlinewidth\":0,\"ticks\":\"\"},\"type\":\"choropleth\"}],\"contour\":[{\"colorbar\":{\"outlinewidth\":0,\"ticks\":\"\"},\"colorscale\":[[0.0,\"#0d0887\"],[0.1111111111111111,\"#46039f\"],[0.2222222222222222,\"#7201a8\"],[0.3333333333333333,\"#9c179e\"],[0.4444444444444444,\"#bd3786\"],[0.5555555555555556,\"#d8576b\"],[0.6666666666666666,\"#ed7953\"],[0.7777777777777778,\"#fb9f3a\"],[0.8888888888888888,\"#fdca26\"],[1.0,\"#f0f921\"]],\"type\":\"contour\"}],\"contourcarpet\":[{\"colorbar\":{\"outlinewidth\":0,\"ticks\":\"\"},\"type\":\"contourcarpet\"}],\"heatmap\":[{\"colorbar\":{\"outlinewidth\":0,\"ticks\":\"\"},\"colorscale\":[[0.0,\"#0d0887\"],[0.1111111111111111,\"#46039f\"],[0.2222222222222222,\"#7201a8\"],[0.3333333333333333,\"#9c179e\"],[0.4444444444444444,\"#bd3786\"],[0.5555555555555556,\"#d8576b\"],[0.6666666666666666,\"#ed7953\"],[0.7777777777777778,\"#fb9f3a\"],[0.8888888888888888,\"#fdca26\"],[1.0,\"#f0f921\"]],\"type\":\"heatmap\"}],\"heatmapgl\":[{\"colorbar\":{\"outlinewidth\":0,\"ticks\":\"\"},\"colorscale\":[[0.0,\"#0d0887\"],[0.1111111111111111,\"#46039f\"],[0.2222222222222222,\"#7201a8\"],[0.3333333333333333,\"#9c179e\"],[0.4444444444444444,\"#bd3786\"],[0.5555555555555556,\"#d8576b\"],[0.6666666666666666,\"#ed7953\"],[0.7777777777777778,\"#fb9f3a\"],[0.8888888888888888,\"#fdca26\"],[1.0,\"#f0f921\"]],\"type\":\"heatmapgl\"}],\"histogram\":[{\"marker\":{\"pattern\":{\"fillmode\":\"overlay\",\"size\":10,\"solidity\":0.2}},\"type\":\"histogram\"}],\"histogram2d\":[{\"colorbar\":{\"outlinewidth\":0,\"ticks\":\"\"},\"colorscale\":[[0.0,\"#0d0887\"],[0.1111111111111111,\"#46039f\"],[0.2222222222222222,\"#7201a8\"],[0.3333333333333333,\"#9c179e\"],[0.4444444444444444,\"#bd3786\"],[0.5555555555555556,\"#d8576b\"],[0.6666666666666666,\"#ed7953\"],[0.7777777777777778,\"#fb9f3a\"],[0.8888888888888888,\"#fdca26\"],[1.0,\"#f0f921\"]],\"type\":\"histogram2d\"}],\"histogram2dcontour\":[{\"colorbar\":{\"outlinewidth\":0,\"ticks\":\"\"},\"colorscale\":[[0.0,\"#0d0887\"],[0.1111111111111111,\"#46039f\"],[0.2222222222222222,\"#7201a8\"],[0.3333333333333333,\"#9c179e\"],[0.4444444444444444,\"#bd3786\"],[0.5555555555555556,\"#d8576b\"],[0.6666666666666666,\"#ed7953\"],[0.7777777777777778,\"#fb9f3a\"],[0.8888888888888888,\"#fdca26\"],[1.0,\"#f0f921\"]],\"type\":\"histogram2dcontour\"}],\"mesh3d\":[{\"colorbar\":{\"outlinewidth\":0,\"ticks\":\"\"},\"type\":\"mesh3d\"}],\"parcoords\":[{\"line\":{\"colorbar\":{\"outlinewidth\":0,\"ticks\":\"\"}},\"type\":\"parcoords\"}],\"pie\":[{\"automargin\":true,\"type\":\"pie\"}],\"scatter\":[{\"marker\":{\"colorbar\":{\"outlinewidth\":0,\"ticks\":\"\"}},\"type\":\"scatter\"}],\"scatter3d\":[{\"line\":{\"colorbar\":{\"outlinewidth\":0,\"ticks\":\"\"}},\"marker\":{\"colorbar\":{\"outlinewidth\":0,\"ticks\":\"\"}},\"type\":\"scatter3d\"}],\"scattercarpet\":[{\"marker\":{\"colorbar\":{\"outlinewidth\":0,\"ticks\":\"\"}},\"type\":\"scattercarpet\"}],\"scattergeo\":[{\"marker\":{\"colorbar\":{\"outlinewidth\":0,\"ticks\":\"\"}},\"type\":\"scattergeo\"}],\"scattergl\":[{\"marker\":{\"colorbar\":{\"outlinewidth\":0,\"ticks\":\"\"}},\"type\":\"scattergl\"}],\"scattermapbox\":[{\"marker\":{\"colorbar\":{\"outlinewidth\":0,\"ticks\":\"\"}},\"type\":\"scattermapbox\"}],\"scatterpolar\":[{\"marker\":{\"colorbar\":{\"outlinewidth\":0,\"ticks\":\"\"}},\"type\":\"scatterpolar\"}],\"scatterpolargl\":[{\"marker\":{\"colorbar\":{\"outlinewidth\":0,\"ticks\":\"\"}},\"type\":\"scatterpolargl\"}],\"scatterternary\":[{\"marker\":{\"colorbar\":{\"outlinewidth\":0,\"ticks\":\"\"}},\"type\":\"scatterternary\"}],\"surface\":[{\"colorbar\":{\"outlinewidth\":0,\"ticks\":\"\"},\"colorscale\":[[0.0,\"#0d0887\"],[0.1111111111111111,\"#46039f\"],[0.2222222222222222,\"#7201a8\"],[0.3333333333333333,\"#9c179e\"],[0.4444444444444444,\"#bd3786\"],[0.5555555555555556,\"#d8576b\"],[0.6666666666666666,\"#ed7953\"],[0.7777777777777778,\"#fb9f3a\"],[0.8888888888888888,\"#fdca26\"],[1.0,\"#f0f921\"]],\"type\":\"surface\"}],\"table\":[{\"cells\":{\"fill\":{\"color\":\"#EBF0F8\"},\"line\":{\"color\":\"white\"}},\"header\":{\"fill\":{\"color\":\"#C8D4E3\"},\"line\":{\"color\":\"white\"}},\"type\":\"table\"}]},\"layout\":{\"annotationdefaults\":{\"arrowcolor\":\"#2a3f5f\",\"arrowhead\":0,\"arrowwidth\":1},\"autotypenumbers\":\"strict\",\"coloraxis\":{\"colorbar\":{\"outlinewidth\":0,\"ticks\":\"\"}},\"colorscale\":{\"diverging\":[[0,\"#8e0152\"],[0.1,\"#c51b7d\"],[0.2,\"#de77ae\"],[0.3,\"#f1b6da\"],[0.4,\"#fde0ef\"],[0.5,\"#f7f7f7\"],[0.6,\"#e6f5d0\"],[0.7,\"#b8e186\"],[0.8,\"#7fbc41\"],[0.9,\"#4d9221\"],[1,\"#276419\"]],\"sequential\":[[0.0,\"#0d0887\"],[0.1111111111111111,\"#46039f\"],[0.2222222222222222,\"#7201a8\"],[0.3333333333333333,\"#9c179e\"],[0.4444444444444444,\"#bd3786\"],[0.5555555555555556,\"#d8576b\"],[0.6666666666666666,\"#ed7953\"],[0.7777777777777778,\"#fb9f3a\"],[0.8888888888888888,\"#fdca26\"],[1.0,\"#f0f921\"]],\"sequentialminus\":[[0.0,\"#0d0887\"],[0.1111111111111111,\"#46039f\"],[0.2222222222222222,\"#7201a8\"],[0.3333333333333333,\"#9c179e\"],[0.4444444444444444,\"#bd3786\"],[0.5555555555555556,\"#d8576b\"],[0.6666666666666666,\"#ed7953\"],[0.7777777777777778,\"#fb9f3a\"],[0.8888888888888888,\"#fdca26\"],[1.0,\"#f0f921\"]]},\"colorway\":[\"#636efa\",\"#EF553B\",\"#00cc96\",\"#ab63fa\",\"#FFA15A\",\"#19d3f3\",\"#FF6692\",\"#B6E880\",\"#FF97FF\",\"#FECB52\"],\"font\":{\"color\":\"#2a3f5f\"},\"geo\":{\"bgcolor\":\"white\",\"lakecolor\":\"white\",\"landcolor\":\"#E5ECF6\",\"showlakes\":true,\"showland\":true,\"subunitcolor\":\"white\"},\"hoverlabel\":{\"align\":\"left\"},\"hovermode\":\"closest\",\"mapbox\":{\"style\":\"light\"},\"paper_bgcolor\":\"white\",\"plot_bgcolor\":\"#E5ECF6\",\"polar\":{\"angularaxis\":{\"gridcolor\":\"white\",\"linecolor\":\"white\",\"ticks\":\"\"},\"bgcolor\":\"#E5ECF6\",\"radialaxis\":{\"gridcolor\":\"white\",\"linecolor\":\"white\",\"ticks\":\"\"}},\"scene\":{\"xaxis\":{\"backgroundcolor\":\"#E5ECF6\",\"gridcolor\":\"white\",\"gridwidth\":2,\"linecolor\":\"white\",\"showbackground\":true,\"ticks\":\"\",\"zerolinecolor\":\"white\"},\"yaxis\":{\"backgroundcolor\":\"#E5ECF6\",\"gridcolor\":\"white\",\"gridwidth\":2,\"linecolor\":\"white\",\"showbackground\":true,\"ticks\":\"\",\"zerolinecolor\":\"white\"},\"zaxis\":{\"backgroundcolor\":\"#E5ECF6\",\"gridcolor\":\"white\",\"gridwidth\":2,\"linecolor\":\"white\",\"showbackground\":true,\"ticks\":\"\",\"zerolinecolor\":\"white\"}},\"shapedefaults\":{\"line\":{\"color\":\"#2a3f5f\"}},\"ternary\":{\"aaxis\":{\"gridcolor\":\"white\",\"linecolor\":\"white\",\"ticks\":\"\"},\"baxis\":{\"gridcolor\":\"white\",\"linecolor\":\"white\",\"ticks\":\"\"},\"bgcolor\":\"#E5ECF6\",\"caxis\":{\"gridcolor\":\"white\",\"linecolor\":\"white\",\"ticks\":\"\"}},\"title\":{\"x\":0.05},\"xaxis\":{\"automargin\":true,\"gridcolor\":\"white\",\"linecolor\":\"white\",\"ticks\":\"\",\"title\":{\"standoff\":15},\"zerolinecolor\":\"white\",\"zerolinewidth\":2},\"yaxis\":{\"automargin\":true,\"gridcolor\":\"white\",\"linecolor\":\"white\",\"ticks\":\"\",\"title\":{\"standoff\":15},\"zerolinecolor\":\"white\",\"zerolinewidth\":2}}}},                        {\"responsive\": true}                    ).then(function(){\n",
       "                            \n",
       "var gd = document.getElementById('aea9011b-5e23-4b79-9daf-8a1b64379b68');\n",
       "var x = new MutationObserver(function (mutations, observer) {{\n",
       "        var display = window.getComputedStyle(gd).display;\n",
       "        if (!display || display === 'none') {{\n",
       "            console.log([gd, 'removed!']);\n",
       "            Plotly.purge(gd);\n",
       "            observer.disconnect();\n",
       "        }}\n",
       "}});\n",
       "\n",
       "// Listen for the removal of the full notebook cells\n",
       "var notebookContainer = gd.closest('#notebook-container');\n",
       "if (notebookContainer) {{\n",
       "    x.observe(notebookContainer, {childList: true});\n",
       "}}\n",
       "\n",
       "// Listen for the clearing of the current output cell\n",
       "var outputEl = gd.closest('.output');\n",
       "if (outputEl) {{\n",
       "    x.observe(outputEl, {childList: true});\n",
       "}}\n",
       "\n",
       "                        })                };                });            </script>        </div>"
      ]
     },
     "metadata": {},
     "output_type": "display_data"
    }
   ],
   "source": [
    "main.plot_bid_eth_1(data)"
   ]
  },
  {
   "cell_type": "code",
   "execution_count": 13,
   "id": "fd79c9a7",
   "metadata": {},
   "outputs": [
    {
     "data": {
      "application/vnd.plotly.v1+json": {
       "config": {
        "plotlyServerURL": "https://plot.ly"
       },
       "data": [
        {
         "connectgaps": true,
         "name": "bitso_ask_eth",
         "type": "scatter",
         "x": [
          "2022-04-29T02:27:29.000Z",
          "2022-04-29T02:28:31.000Z",
          "2022-04-29T02:29:34.000Z",
          "2022-04-29T02:30:37.000Z",
          "2022-04-29T02:31:39.000Z",
          "2022-04-29T02:32:42.000Z",
          "2022-04-29T02:33:44.000Z",
          "2022-04-29T02:34:46.000Z",
          "2022-04-29T02:35:48.000Z",
          "2022-04-29T02:36:51.000Z",
          "2022-04-29T02:37:54.000Z",
          "2022-04-29T02:38:57.000Z",
          "2022-04-29T02:40:00.000Z",
          "2022-04-29T02:41:02.000Z",
          "2022-04-29T02:42:04.000Z",
          "2022-04-29T02:43:07.000Z",
          "2022-04-29T02:44:09.000Z",
          "2022-04-29T02:45:11.000Z",
          "2022-04-29T02:46:14.000Z",
          "2022-04-29T02:47:17.000Z",
          "2022-04-29T02:48:19.000Z",
          "2022-04-29T02:49:23.000Z",
          "2022-04-29T02:50:26.000Z",
          "2022-04-29T02:51:30.000Z",
          "2022-04-29T02:52:33.000Z",
          "2022-04-29T02:53:35.000Z",
          "2022-04-29T02:54:38.000Z",
          "2022-04-29T02:55:40.000Z",
          "2022-04-29T02:56:42.000Z",
          "2022-04-29T02:57:45.000Z",
          "2022-04-29T02:58:47.000Z",
          "2022-04-29T02:59:48.000Z",
          "2022-04-29T03:00:51.000Z",
          "2022-04-29T03:01:53.000Z",
          "2022-04-29T03:02:55.000Z",
          "2022-04-29T03:03:56.000Z",
          "2022-04-29T03:04:58.000Z",
          "2022-04-29T03:06:01.000Z",
          "2022-04-29T03:07:03.000Z",
          "2022-04-29T03:08:05.000Z",
          "2022-04-29T03:09:07.000Z",
          "2022-04-29T03:10:09.000Z",
          "2022-04-29T03:11:12.000Z",
          "2022-04-29T03:12:14.000Z",
          "2022-04-29T03:13:16.000Z",
          "2022-04-29T03:14:18.000Z",
          "2022-04-29T03:15:20.000Z",
          "2022-04-29T03:16:22.000Z",
          "2022-04-29T03:17:26.000Z",
          "2022-04-29T03:18:28.000Z",
          "2022-04-29T03:19:30.000Z",
          "2022-04-29T03:20:32.000Z",
          "2022-04-29T03:21:34.000Z",
          "2022-04-29T03:22:36.000Z",
          "2022-04-29T03:23:38.000Z",
          "2022-04-29T03:24:41.000Z",
          "2022-04-29T03:25:43.000Z",
          "2022-04-29T03:26:45.000Z",
          "2022-04-29T03:27:47.000Z",
          "2022-04-29T03:28:50.000Z"
         ],
         "y": [
          2919.68,
          2922.12,
          2921.68,
          2918.37,
          2920.77,
          2920.64,
          2918.77,
          2917.7,
          2919.78,
          2919,
          2918.16,
          2919.37,
          2918.77,
          2918.96,
          2919.55,
          2920.53,
          2920.53,
          2922.26,
          2924.18,
          2925.56,
          2924.1,
          2923.36,
          2923.14,
          2922.43,
          2921.81,
          2920.07,
          2917.65,
          2915.39,
          2913.47,
          2909.38,
          2911.53,
          2911.64,
          2911.15,
          2911.82,
          2911.69,
          2914.9,
          2915.45,
          2914.48,
          2915,
          2914.76,
          2914.62,
          2913.4,
          2913.44,
          2913.43,
          2909.74,
          2910.99,
          2908.3,
          2909.9,
          2911.21,
          2910.74,
          2911.93,
          2915.02,
          2914,
          2915.4,
          2919.17,
          2917.65,
          2917.5,
          2917.49,
          2919.5,
          2919.59
         ]
        },
        {
         "name": "kraken_ask_eth",
         "type": "scatter",
         "x": [
          "2022-04-29T02:27:29.000Z",
          "2022-04-29T02:28:31.000Z",
          "2022-04-29T02:29:34.000Z",
          "2022-04-29T02:30:37.000Z",
          "2022-04-29T02:31:39.000Z",
          "2022-04-29T02:32:42.000Z",
          "2022-04-29T02:33:44.000Z",
          "2022-04-29T02:34:46.000Z",
          "2022-04-29T02:35:48.000Z",
          "2022-04-29T02:36:51.000Z",
          "2022-04-29T02:37:54.000Z",
          "2022-04-29T02:38:57.000Z",
          "2022-04-29T02:40:00.000Z",
          "2022-04-29T02:41:02.000Z",
          "2022-04-29T02:42:04.000Z",
          "2022-04-29T02:43:07.000Z",
          "2022-04-29T02:44:09.000Z",
          "2022-04-29T02:45:11.000Z",
          "2022-04-29T02:46:14.000Z",
          "2022-04-29T02:47:17.000Z",
          "2022-04-29T02:48:19.000Z",
          "2022-04-29T02:49:23.000Z",
          "2022-04-29T02:50:26.000Z",
          "2022-04-29T02:51:30.000Z",
          "2022-04-29T02:52:33.000Z",
          "2022-04-29T02:53:35.000Z",
          "2022-04-29T02:54:38.000Z",
          "2022-04-29T02:55:40.000Z",
          "2022-04-29T02:56:42.000Z",
          "2022-04-29T02:57:45.000Z",
          "2022-04-29T02:58:47.000Z",
          "2022-04-29T02:59:48.000Z",
          "2022-04-29T03:00:51.000Z",
          "2022-04-29T03:01:53.000Z",
          "2022-04-29T03:02:55.000Z",
          "2022-04-29T03:03:56.000Z",
          "2022-04-29T03:04:58.000Z",
          "2022-04-29T03:06:01.000Z",
          "2022-04-29T03:07:03.000Z",
          "2022-04-29T03:08:05.000Z",
          "2022-04-29T03:09:07.000Z",
          "2022-04-29T03:10:09.000Z",
          "2022-04-29T03:11:12.000Z",
          "2022-04-29T03:12:14.000Z",
          "2022-04-29T03:13:16.000Z",
          "2022-04-29T03:14:18.000Z",
          "2022-04-29T03:15:20.000Z",
          "2022-04-29T03:16:22.000Z",
          "2022-04-29T03:17:26.000Z",
          "2022-04-29T03:18:28.000Z",
          "2022-04-29T03:19:30.000Z",
          "2022-04-29T03:20:32.000Z",
          "2022-04-29T03:21:34.000Z",
          "2022-04-29T03:22:36.000Z",
          "2022-04-29T03:23:38.000Z",
          "2022-04-29T03:24:41.000Z",
          "2022-04-29T03:25:43.000Z",
          "2022-04-29T03:26:45.000Z",
          "2022-04-29T03:27:47.000Z",
          "2022-04-29T03:28:50.000Z"
         ],
         "y": [
          2917.7,
          2918.64,
          2918.64,
          2917.53,
          2918.1,
          2918.42,
          2918.42,
          2917.51,
          2917.8,
          2917.8,
          2917.8,
          2918.1,
          2918.1,
          2918.1,
          2918.1,
          2918.1,
          2918.1,
          2920.3,
          2921.69,
          2922.06,
          2922.06,
          2922.06,
          2921.53,
          2920.51,
          2920.63,
          2918.59,
          2916.33,
          2913.31,
          2910.01,
          2907.9,
          2909.52,
          2909.16,
          2909.34,
          2909.39,
          2909.39,
          2912.1,
          2912.1,
          2912.03,
          2913.1,
          2912.21,
          2912.49,
          2911.81,
          2912.93,
          2911.02,
          2905,
          2908.27,
          2906.33,
          2904.66,
          2907.99,
          2909.33,
          2909.33,
          2910.43,
          2911.8,
          2913,
          2915.43,
          2915.43,
          2915.7,
          2915.71,
          2915.71,
          2917.1
         ]
        },
        {
         "name": "binance_ask_eth",
         "type": "scatter",
         "x": [
          "2022-04-29T02:27:29.000Z",
          "2022-04-29T02:28:31.000Z",
          "2022-04-29T02:29:34.000Z",
          "2022-04-29T02:30:37.000Z",
          "2022-04-29T02:31:39.000Z",
          "2022-04-29T02:32:42.000Z",
          "2022-04-29T02:33:44.000Z",
          "2022-04-29T02:34:46.000Z",
          "2022-04-29T02:35:48.000Z",
          "2022-04-29T02:36:51.000Z",
          "2022-04-29T02:37:54.000Z",
          "2022-04-29T02:38:57.000Z",
          "2022-04-29T02:40:00.000Z",
          "2022-04-29T02:41:02.000Z",
          "2022-04-29T02:42:04.000Z",
          "2022-04-29T02:43:07.000Z",
          "2022-04-29T02:44:09.000Z",
          "2022-04-29T02:45:11.000Z",
          "2022-04-29T02:46:14.000Z",
          "2022-04-29T02:47:17.000Z",
          "2022-04-29T02:48:19.000Z",
          "2022-04-29T02:49:23.000Z",
          "2022-04-29T02:50:26.000Z",
          "2022-04-29T02:51:30.000Z",
          "2022-04-29T02:52:33.000Z",
          "2022-04-29T02:53:35.000Z",
          "2022-04-29T02:54:38.000Z",
          "2022-04-29T02:55:40.000Z",
          "2022-04-29T02:56:42.000Z",
          "2022-04-29T02:57:45.000Z",
          "2022-04-29T02:58:47.000Z",
          "2022-04-29T02:59:48.000Z",
          "2022-04-29T03:00:51.000Z",
          "2022-04-29T03:01:53.000Z",
          "2022-04-29T03:02:55.000Z",
          "2022-04-29T03:03:56.000Z",
          "2022-04-29T03:04:58.000Z",
          "2022-04-29T03:06:01.000Z",
          "2022-04-29T03:07:03.000Z",
          "2022-04-29T03:08:05.000Z",
          "2022-04-29T03:09:07.000Z",
          "2022-04-29T03:10:09.000Z",
          "2022-04-29T03:11:12.000Z",
          "2022-04-29T03:12:14.000Z",
          "2022-04-29T03:13:16.000Z",
          "2022-04-29T03:14:18.000Z",
          "2022-04-29T03:15:20.000Z",
          "2022-04-29T03:16:22.000Z",
          "2022-04-29T03:17:26.000Z",
          "2022-04-29T03:18:28.000Z",
          "2022-04-29T03:19:30.000Z",
          "2022-04-29T03:20:32.000Z",
          "2022-04-29T03:21:34.000Z",
          "2022-04-29T03:22:36.000Z",
          "2022-04-29T03:23:38.000Z",
          "2022-04-29T03:24:41.000Z",
          "2022-04-29T03:25:43.000Z",
          "2022-04-29T03:26:45.000Z",
          "2022-04-29T03:27:47.000Z",
          "2022-04-29T03:28:50.000Z"
         ],
         "y": [
          2922.519995,
          2922.389969,
          2920.769999,
          2920.769999,
          2920.769999,
          2919.009999,
          2919.009999,
          2919.009999,
          2919.009999,
          2919.009999,
          2919.009999,
          2919.009999,
          2919.009999,
          2919.009999,
          2919.009999,
          2919.009999,
          2919.009999,
          2919.009999,
          2919.009999,
          2921.35,
          2921.35,
          2921.35,
          2921.35,
          2921.35,
          2921.35,
          2921.349999,
          2921.13996,
          2920.73999,
          2906.65,
          2900.449995,
          2897.25,
          2900.53,
          2900.8,
          2901.35,
          2903.17,
          2902.94,
          2902.67,
          2902.29,
          2903.73,
          2903.72,
          2903.7,
          2903.7,
          2905.51,
          2910.109999,
          2910.209996,
          2910.039962,
          2900.589984,
          2900.58993,
          2893.769998,
          2897.84,
          2895.15,
          2897.07,
          2901.54,
          2903.44,
          2903.49,
          2903.8,
          2904.49,
          2904.49,
          2905.85,
          2907.79
         ]
        }
       ],
       "layout": {
        "template": {
         "data": {
          "bar": [
           {
            "error_x": {
             "color": "#2a3f5f"
            },
            "error_y": {
             "color": "#2a3f5f"
            },
            "marker": {
             "line": {
              "color": "#E5ECF6",
              "width": 0.5
             },
             "pattern": {
              "fillmode": "overlay",
              "size": 10,
              "solidity": 0.2
             }
            },
            "type": "bar"
           }
          ],
          "barpolar": [
           {
            "marker": {
             "line": {
              "color": "#E5ECF6",
              "width": 0.5
             },
             "pattern": {
              "fillmode": "overlay",
              "size": 10,
              "solidity": 0.2
             }
            },
            "type": "barpolar"
           }
          ],
          "carpet": [
           {
            "aaxis": {
             "endlinecolor": "#2a3f5f",
             "gridcolor": "white",
             "linecolor": "white",
             "minorgridcolor": "white",
             "startlinecolor": "#2a3f5f"
            },
            "baxis": {
             "endlinecolor": "#2a3f5f",
             "gridcolor": "white",
             "linecolor": "white",
             "minorgridcolor": "white",
             "startlinecolor": "#2a3f5f"
            },
            "type": "carpet"
           }
          ],
          "choropleth": [
           {
            "colorbar": {
             "outlinewidth": 0,
             "ticks": ""
            },
            "type": "choropleth"
           }
          ],
          "contour": [
           {
            "colorbar": {
             "outlinewidth": 0,
             "ticks": ""
            },
            "colorscale": [
             [
              0,
              "#0d0887"
             ],
             [
              0.1111111111111111,
              "#46039f"
             ],
             [
              0.2222222222222222,
              "#7201a8"
             ],
             [
              0.3333333333333333,
              "#9c179e"
             ],
             [
              0.4444444444444444,
              "#bd3786"
             ],
             [
              0.5555555555555556,
              "#d8576b"
             ],
             [
              0.6666666666666666,
              "#ed7953"
             ],
             [
              0.7777777777777778,
              "#fb9f3a"
             ],
             [
              0.8888888888888888,
              "#fdca26"
             ],
             [
              1,
              "#f0f921"
             ]
            ],
            "type": "contour"
           }
          ],
          "contourcarpet": [
           {
            "colorbar": {
             "outlinewidth": 0,
             "ticks": ""
            },
            "type": "contourcarpet"
           }
          ],
          "heatmap": [
           {
            "colorbar": {
             "outlinewidth": 0,
             "ticks": ""
            },
            "colorscale": [
             [
              0,
              "#0d0887"
             ],
             [
              0.1111111111111111,
              "#46039f"
             ],
             [
              0.2222222222222222,
              "#7201a8"
             ],
             [
              0.3333333333333333,
              "#9c179e"
             ],
             [
              0.4444444444444444,
              "#bd3786"
             ],
             [
              0.5555555555555556,
              "#d8576b"
             ],
             [
              0.6666666666666666,
              "#ed7953"
             ],
             [
              0.7777777777777778,
              "#fb9f3a"
             ],
             [
              0.8888888888888888,
              "#fdca26"
             ],
             [
              1,
              "#f0f921"
             ]
            ],
            "type": "heatmap"
           }
          ],
          "heatmapgl": [
           {
            "colorbar": {
             "outlinewidth": 0,
             "ticks": ""
            },
            "colorscale": [
             [
              0,
              "#0d0887"
             ],
             [
              0.1111111111111111,
              "#46039f"
             ],
             [
              0.2222222222222222,
              "#7201a8"
             ],
             [
              0.3333333333333333,
              "#9c179e"
             ],
             [
              0.4444444444444444,
              "#bd3786"
             ],
             [
              0.5555555555555556,
              "#d8576b"
             ],
             [
              0.6666666666666666,
              "#ed7953"
             ],
             [
              0.7777777777777778,
              "#fb9f3a"
             ],
             [
              0.8888888888888888,
              "#fdca26"
             ],
             [
              1,
              "#f0f921"
             ]
            ],
            "type": "heatmapgl"
           }
          ],
          "histogram": [
           {
            "marker": {
             "pattern": {
              "fillmode": "overlay",
              "size": 10,
              "solidity": 0.2
             }
            },
            "type": "histogram"
           }
          ],
          "histogram2d": [
           {
            "colorbar": {
             "outlinewidth": 0,
             "ticks": ""
            },
            "colorscale": [
             [
              0,
              "#0d0887"
             ],
             [
              0.1111111111111111,
              "#46039f"
             ],
             [
              0.2222222222222222,
              "#7201a8"
             ],
             [
              0.3333333333333333,
              "#9c179e"
             ],
             [
              0.4444444444444444,
              "#bd3786"
             ],
             [
              0.5555555555555556,
              "#d8576b"
             ],
             [
              0.6666666666666666,
              "#ed7953"
             ],
             [
              0.7777777777777778,
              "#fb9f3a"
             ],
             [
              0.8888888888888888,
              "#fdca26"
             ],
             [
              1,
              "#f0f921"
             ]
            ],
            "type": "histogram2d"
           }
          ],
          "histogram2dcontour": [
           {
            "colorbar": {
             "outlinewidth": 0,
             "ticks": ""
            },
            "colorscale": [
             [
              0,
              "#0d0887"
             ],
             [
              0.1111111111111111,
              "#46039f"
             ],
             [
              0.2222222222222222,
              "#7201a8"
             ],
             [
              0.3333333333333333,
              "#9c179e"
             ],
             [
              0.4444444444444444,
              "#bd3786"
             ],
             [
              0.5555555555555556,
              "#d8576b"
             ],
             [
              0.6666666666666666,
              "#ed7953"
             ],
             [
              0.7777777777777778,
              "#fb9f3a"
             ],
             [
              0.8888888888888888,
              "#fdca26"
             ],
             [
              1,
              "#f0f921"
             ]
            ],
            "type": "histogram2dcontour"
           }
          ],
          "mesh3d": [
           {
            "colorbar": {
             "outlinewidth": 0,
             "ticks": ""
            },
            "type": "mesh3d"
           }
          ],
          "parcoords": [
           {
            "line": {
             "colorbar": {
              "outlinewidth": 0,
              "ticks": ""
             }
            },
            "type": "parcoords"
           }
          ],
          "pie": [
           {
            "automargin": true,
            "type": "pie"
           }
          ],
          "scatter": [
           {
            "marker": {
             "colorbar": {
              "outlinewidth": 0,
              "ticks": ""
             }
            },
            "type": "scatter"
           }
          ],
          "scatter3d": [
           {
            "line": {
             "colorbar": {
              "outlinewidth": 0,
              "ticks": ""
             }
            },
            "marker": {
             "colorbar": {
              "outlinewidth": 0,
              "ticks": ""
             }
            },
            "type": "scatter3d"
           }
          ],
          "scattercarpet": [
           {
            "marker": {
             "colorbar": {
              "outlinewidth": 0,
              "ticks": ""
             }
            },
            "type": "scattercarpet"
           }
          ],
          "scattergeo": [
           {
            "marker": {
             "colorbar": {
              "outlinewidth": 0,
              "ticks": ""
             }
            },
            "type": "scattergeo"
           }
          ],
          "scattergl": [
           {
            "marker": {
             "colorbar": {
              "outlinewidth": 0,
              "ticks": ""
             }
            },
            "type": "scattergl"
           }
          ],
          "scattermapbox": [
           {
            "marker": {
             "colorbar": {
              "outlinewidth": 0,
              "ticks": ""
             }
            },
            "type": "scattermapbox"
           }
          ],
          "scatterpolar": [
           {
            "marker": {
             "colorbar": {
              "outlinewidth": 0,
              "ticks": ""
             }
            },
            "type": "scatterpolar"
           }
          ],
          "scatterpolargl": [
           {
            "marker": {
             "colorbar": {
              "outlinewidth": 0,
              "ticks": ""
             }
            },
            "type": "scatterpolargl"
           }
          ],
          "scatterternary": [
           {
            "marker": {
             "colorbar": {
              "outlinewidth": 0,
              "ticks": ""
             }
            },
            "type": "scatterternary"
           }
          ],
          "surface": [
           {
            "colorbar": {
             "outlinewidth": 0,
             "ticks": ""
            },
            "colorscale": [
             [
              0,
              "#0d0887"
             ],
             [
              0.1111111111111111,
              "#46039f"
             ],
             [
              0.2222222222222222,
              "#7201a8"
             ],
             [
              0.3333333333333333,
              "#9c179e"
             ],
             [
              0.4444444444444444,
              "#bd3786"
             ],
             [
              0.5555555555555556,
              "#d8576b"
             ],
             [
              0.6666666666666666,
              "#ed7953"
             ],
             [
              0.7777777777777778,
              "#fb9f3a"
             ],
             [
              0.8888888888888888,
              "#fdca26"
             ],
             [
              1,
              "#f0f921"
             ]
            ],
            "type": "surface"
           }
          ],
          "table": [
           {
            "cells": {
             "fill": {
              "color": "#EBF0F8"
             },
             "line": {
              "color": "white"
             }
            },
            "header": {
             "fill": {
              "color": "#C8D4E3"
             },
             "line": {
              "color": "white"
             }
            },
            "type": "table"
           }
          ]
         },
         "layout": {
          "annotationdefaults": {
           "arrowcolor": "#2a3f5f",
           "arrowhead": 0,
           "arrowwidth": 1
          },
          "autotypenumbers": "strict",
          "coloraxis": {
           "colorbar": {
            "outlinewidth": 0,
            "ticks": ""
           }
          },
          "colorscale": {
           "diverging": [
            [
             0,
             "#8e0152"
            ],
            [
             0.1,
             "#c51b7d"
            ],
            [
             0.2,
             "#de77ae"
            ],
            [
             0.3,
             "#f1b6da"
            ],
            [
             0.4,
             "#fde0ef"
            ],
            [
             0.5,
             "#f7f7f7"
            ],
            [
             0.6,
             "#e6f5d0"
            ],
            [
             0.7,
             "#b8e186"
            ],
            [
             0.8,
             "#7fbc41"
            ],
            [
             0.9,
             "#4d9221"
            ],
            [
             1,
             "#276419"
            ]
           ],
           "sequential": [
            [
             0,
             "#0d0887"
            ],
            [
             0.1111111111111111,
             "#46039f"
            ],
            [
             0.2222222222222222,
             "#7201a8"
            ],
            [
             0.3333333333333333,
             "#9c179e"
            ],
            [
             0.4444444444444444,
             "#bd3786"
            ],
            [
             0.5555555555555556,
             "#d8576b"
            ],
            [
             0.6666666666666666,
             "#ed7953"
            ],
            [
             0.7777777777777778,
             "#fb9f3a"
            ],
            [
             0.8888888888888888,
             "#fdca26"
            ],
            [
             1,
             "#f0f921"
            ]
           ],
           "sequentialminus": [
            [
             0,
             "#0d0887"
            ],
            [
             0.1111111111111111,
             "#46039f"
            ],
            [
             0.2222222222222222,
             "#7201a8"
            ],
            [
             0.3333333333333333,
             "#9c179e"
            ],
            [
             0.4444444444444444,
             "#bd3786"
            ],
            [
             0.5555555555555556,
             "#d8576b"
            ],
            [
             0.6666666666666666,
             "#ed7953"
            ],
            [
             0.7777777777777778,
             "#fb9f3a"
            ],
            [
             0.8888888888888888,
             "#fdca26"
            ],
            [
             1,
             "#f0f921"
            ]
           ]
          },
          "colorway": [
           "#636efa",
           "#EF553B",
           "#00cc96",
           "#ab63fa",
           "#FFA15A",
           "#19d3f3",
           "#FF6692",
           "#B6E880",
           "#FF97FF",
           "#FECB52"
          ],
          "font": {
           "color": "#2a3f5f"
          },
          "geo": {
           "bgcolor": "white",
           "lakecolor": "white",
           "landcolor": "#E5ECF6",
           "showlakes": true,
           "showland": true,
           "subunitcolor": "white"
          },
          "hoverlabel": {
           "align": "left"
          },
          "hovermode": "closest",
          "mapbox": {
           "style": "light"
          },
          "paper_bgcolor": "white",
          "plot_bgcolor": "#E5ECF6",
          "polar": {
           "angularaxis": {
            "gridcolor": "white",
            "linecolor": "white",
            "ticks": ""
           },
           "bgcolor": "#E5ECF6",
           "radialaxis": {
            "gridcolor": "white",
            "linecolor": "white",
            "ticks": ""
           }
          },
          "scene": {
           "xaxis": {
            "backgroundcolor": "#E5ECF6",
            "gridcolor": "white",
            "gridwidth": 2,
            "linecolor": "white",
            "showbackground": true,
            "ticks": "",
            "zerolinecolor": "white"
           },
           "yaxis": {
            "backgroundcolor": "#E5ECF6",
            "gridcolor": "white",
            "gridwidth": 2,
            "linecolor": "white",
            "showbackground": true,
            "ticks": "",
            "zerolinecolor": "white"
           },
           "zaxis": {
            "backgroundcolor": "#E5ECF6",
            "gridcolor": "white",
            "gridwidth": 2,
            "linecolor": "white",
            "showbackground": true,
            "ticks": "",
            "zerolinecolor": "white"
           }
          },
          "shapedefaults": {
           "line": {
            "color": "#2a3f5f"
           }
          },
          "ternary": {
           "aaxis": {
            "gridcolor": "white",
            "linecolor": "white",
            "ticks": ""
           },
           "baxis": {
            "gridcolor": "white",
            "linecolor": "white",
            "ticks": ""
           },
           "bgcolor": "#E5ECF6",
           "caxis": {
            "gridcolor": "white",
            "linecolor": "white",
            "ticks": ""
           }
          },
          "title": {
           "x": 0.05
          },
          "xaxis": {
           "automargin": true,
           "gridcolor": "white",
           "linecolor": "white",
           "ticks": "",
           "title": {
            "standoff": 15
           },
           "zerolinecolor": "white",
           "zerolinewidth": 2
          },
          "yaxis": {
           "automargin": true,
           "gridcolor": "white",
           "linecolor": "white",
           "ticks": "",
           "title": {
            "standoff": 15
           },
           "zerolinecolor": "white",
           "zerolinewidth": 2
          }
         }
        }
       }
      },
      "text/html": [
       "<div>                            <div id=\"1824c85e-884d-4f2d-a2ee-61b95b80fa77\" class=\"plotly-graph-div\" style=\"height:525px; width:100%;\"></div>            <script type=\"text/javascript\">                require([\"plotly\"], function(Plotly) {                    window.PLOTLYENV=window.PLOTLYENV || {};                                    if (document.getElementById(\"1824c85e-884d-4f2d-a2ee-61b95b80fa77\")) {                    Plotly.newPlot(                        \"1824c85e-884d-4f2d-a2ee-61b95b80fa77\",                        [{\"connectgaps\":true,\"name\":\"bitso_ask_eth\",\"x\":[\"2022-04-29T02:27:29.000Z\",\"2022-04-29T02:28:31.000Z\",\"2022-04-29T02:29:34.000Z\",\"2022-04-29T02:30:37.000Z\",\"2022-04-29T02:31:39.000Z\",\"2022-04-29T02:32:42.000Z\",\"2022-04-29T02:33:44.000Z\",\"2022-04-29T02:34:46.000Z\",\"2022-04-29T02:35:48.000Z\",\"2022-04-29T02:36:51.000Z\",\"2022-04-29T02:37:54.000Z\",\"2022-04-29T02:38:57.000Z\",\"2022-04-29T02:40:00.000Z\",\"2022-04-29T02:41:02.000Z\",\"2022-04-29T02:42:04.000Z\",\"2022-04-29T02:43:07.000Z\",\"2022-04-29T02:44:09.000Z\",\"2022-04-29T02:45:11.000Z\",\"2022-04-29T02:46:14.000Z\",\"2022-04-29T02:47:17.000Z\",\"2022-04-29T02:48:19.000Z\",\"2022-04-29T02:49:23.000Z\",\"2022-04-29T02:50:26.000Z\",\"2022-04-29T02:51:30.000Z\",\"2022-04-29T02:52:33.000Z\",\"2022-04-29T02:53:35.000Z\",\"2022-04-29T02:54:38.000Z\",\"2022-04-29T02:55:40.000Z\",\"2022-04-29T02:56:42.000Z\",\"2022-04-29T02:57:45.000Z\",\"2022-04-29T02:58:47.000Z\",\"2022-04-29T02:59:48.000Z\",\"2022-04-29T03:00:51.000Z\",\"2022-04-29T03:01:53.000Z\",\"2022-04-29T03:02:55.000Z\",\"2022-04-29T03:03:56.000Z\",\"2022-04-29T03:04:58.000Z\",\"2022-04-29T03:06:01.000Z\",\"2022-04-29T03:07:03.000Z\",\"2022-04-29T03:08:05.000Z\",\"2022-04-29T03:09:07.000Z\",\"2022-04-29T03:10:09.000Z\",\"2022-04-29T03:11:12.000Z\",\"2022-04-29T03:12:14.000Z\",\"2022-04-29T03:13:16.000Z\",\"2022-04-29T03:14:18.000Z\",\"2022-04-29T03:15:20.000Z\",\"2022-04-29T03:16:22.000Z\",\"2022-04-29T03:17:26.000Z\",\"2022-04-29T03:18:28.000Z\",\"2022-04-29T03:19:30.000Z\",\"2022-04-29T03:20:32.000Z\",\"2022-04-29T03:21:34.000Z\",\"2022-04-29T03:22:36.000Z\",\"2022-04-29T03:23:38.000Z\",\"2022-04-29T03:24:41.000Z\",\"2022-04-29T03:25:43.000Z\",\"2022-04-29T03:26:45.000Z\",\"2022-04-29T03:27:47.000Z\",\"2022-04-29T03:28:50.000Z\"],\"y\":[2919.68,2922.12,2921.68,2918.37,2920.77,2920.64,2918.77,2917.7,2919.78,2919.0,2918.16,2919.37,2918.77,2918.96,2919.55,2920.53,2920.53,2922.26,2924.18,2925.56,2924.1,2923.36,2923.14,2922.43,2921.81,2920.07,2917.65,2915.39,2913.47,2909.38,2911.53,2911.64,2911.15,2911.82,2911.69,2914.9,2915.45,2914.48,2915.0,2914.76,2914.62,2913.4,2913.44,2913.43,2909.74,2910.99,2908.3,2909.9,2911.21,2910.74,2911.93,2915.02,2914.0,2915.4,2919.17,2917.65,2917.5,2917.49,2919.5,2919.59],\"type\":\"scatter\"},{\"name\":\"kraken_ask_eth\",\"x\":[\"2022-04-29T02:27:29.000Z\",\"2022-04-29T02:28:31.000Z\",\"2022-04-29T02:29:34.000Z\",\"2022-04-29T02:30:37.000Z\",\"2022-04-29T02:31:39.000Z\",\"2022-04-29T02:32:42.000Z\",\"2022-04-29T02:33:44.000Z\",\"2022-04-29T02:34:46.000Z\",\"2022-04-29T02:35:48.000Z\",\"2022-04-29T02:36:51.000Z\",\"2022-04-29T02:37:54.000Z\",\"2022-04-29T02:38:57.000Z\",\"2022-04-29T02:40:00.000Z\",\"2022-04-29T02:41:02.000Z\",\"2022-04-29T02:42:04.000Z\",\"2022-04-29T02:43:07.000Z\",\"2022-04-29T02:44:09.000Z\",\"2022-04-29T02:45:11.000Z\",\"2022-04-29T02:46:14.000Z\",\"2022-04-29T02:47:17.000Z\",\"2022-04-29T02:48:19.000Z\",\"2022-04-29T02:49:23.000Z\",\"2022-04-29T02:50:26.000Z\",\"2022-04-29T02:51:30.000Z\",\"2022-04-29T02:52:33.000Z\",\"2022-04-29T02:53:35.000Z\",\"2022-04-29T02:54:38.000Z\",\"2022-04-29T02:55:40.000Z\",\"2022-04-29T02:56:42.000Z\",\"2022-04-29T02:57:45.000Z\",\"2022-04-29T02:58:47.000Z\",\"2022-04-29T02:59:48.000Z\",\"2022-04-29T03:00:51.000Z\",\"2022-04-29T03:01:53.000Z\",\"2022-04-29T03:02:55.000Z\",\"2022-04-29T03:03:56.000Z\",\"2022-04-29T03:04:58.000Z\",\"2022-04-29T03:06:01.000Z\",\"2022-04-29T03:07:03.000Z\",\"2022-04-29T03:08:05.000Z\",\"2022-04-29T03:09:07.000Z\",\"2022-04-29T03:10:09.000Z\",\"2022-04-29T03:11:12.000Z\",\"2022-04-29T03:12:14.000Z\",\"2022-04-29T03:13:16.000Z\",\"2022-04-29T03:14:18.000Z\",\"2022-04-29T03:15:20.000Z\",\"2022-04-29T03:16:22.000Z\",\"2022-04-29T03:17:26.000Z\",\"2022-04-29T03:18:28.000Z\",\"2022-04-29T03:19:30.000Z\",\"2022-04-29T03:20:32.000Z\",\"2022-04-29T03:21:34.000Z\",\"2022-04-29T03:22:36.000Z\",\"2022-04-29T03:23:38.000Z\",\"2022-04-29T03:24:41.000Z\",\"2022-04-29T03:25:43.000Z\",\"2022-04-29T03:26:45.000Z\",\"2022-04-29T03:27:47.000Z\",\"2022-04-29T03:28:50.000Z\"],\"y\":[2917.7,2918.64,2918.64,2917.53,2918.1,2918.42,2918.42,2917.51,2917.8,2917.8,2917.8,2918.1,2918.1,2918.1,2918.1,2918.1,2918.1,2920.3,2921.69,2922.06,2922.06,2922.06,2921.53,2920.51,2920.63,2918.59,2916.33,2913.31,2910.01,2907.9,2909.52,2909.16,2909.34,2909.39,2909.39,2912.1,2912.1,2912.03,2913.1,2912.21,2912.49,2911.81,2912.93,2911.02,2905.0,2908.27,2906.33,2904.66,2907.99,2909.33,2909.33,2910.43,2911.8,2913.0,2915.43,2915.43,2915.7,2915.71,2915.71,2917.1],\"type\":\"scatter\"},{\"name\":\"binance_ask_eth\",\"x\":[\"2022-04-29T02:27:29.000Z\",\"2022-04-29T02:28:31.000Z\",\"2022-04-29T02:29:34.000Z\",\"2022-04-29T02:30:37.000Z\",\"2022-04-29T02:31:39.000Z\",\"2022-04-29T02:32:42.000Z\",\"2022-04-29T02:33:44.000Z\",\"2022-04-29T02:34:46.000Z\",\"2022-04-29T02:35:48.000Z\",\"2022-04-29T02:36:51.000Z\",\"2022-04-29T02:37:54.000Z\",\"2022-04-29T02:38:57.000Z\",\"2022-04-29T02:40:00.000Z\",\"2022-04-29T02:41:02.000Z\",\"2022-04-29T02:42:04.000Z\",\"2022-04-29T02:43:07.000Z\",\"2022-04-29T02:44:09.000Z\",\"2022-04-29T02:45:11.000Z\",\"2022-04-29T02:46:14.000Z\",\"2022-04-29T02:47:17.000Z\",\"2022-04-29T02:48:19.000Z\",\"2022-04-29T02:49:23.000Z\",\"2022-04-29T02:50:26.000Z\",\"2022-04-29T02:51:30.000Z\",\"2022-04-29T02:52:33.000Z\",\"2022-04-29T02:53:35.000Z\",\"2022-04-29T02:54:38.000Z\",\"2022-04-29T02:55:40.000Z\",\"2022-04-29T02:56:42.000Z\",\"2022-04-29T02:57:45.000Z\",\"2022-04-29T02:58:47.000Z\",\"2022-04-29T02:59:48.000Z\",\"2022-04-29T03:00:51.000Z\",\"2022-04-29T03:01:53.000Z\",\"2022-04-29T03:02:55.000Z\",\"2022-04-29T03:03:56.000Z\",\"2022-04-29T03:04:58.000Z\",\"2022-04-29T03:06:01.000Z\",\"2022-04-29T03:07:03.000Z\",\"2022-04-29T03:08:05.000Z\",\"2022-04-29T03:09:07.000Z\",\"2022-04-29T03:10:09.000Z\",\"2022-04-29T03:11:12.000Z\",\"2022-04-29T03:12:14.000Z\",\"2022-04-29T03:13:16.000Z\",\"2022-04-29T03:14:18.000Z\",\"2022-04-29T03:15:20.000Z\",\"2022-04-29T03:16:22.000Z\",\"2022-04-29T03:17:26.000Z\",\"2022-04-29T03:18:28.000Z\",\"2022-04-29T03:19:30.000Z\",\"2022-04-29T03:20:32.000Z\",\"2022-04-29T03:21:34.000Z\",\"2022-04-29T03:22:36.000Z\",\"2022-04-29T03:23:38.000Z\",\"2022-04-29T03:24:41.000Z\",\"2022-04-29T03:25:43.000Z\",\"2022-04-29T03:26:45.000Z\",\"2022-04-29T03:27:47.000Z\",\"2022-04-29T03:28:50.000Z\"],\"y\":[2922.519995,2922.389969,2920.769999,2920.769999,2920.769999,2919.009999,2919.009999,2919.009999,2919.009999,2919.009999,2919.009999,2919.009999,2919.009999,2919.009999,2919.009999,2919.009999,2919.009999,2919.009999,2919.009999,2921.35,2921.35,2921.35,2921.35,2921.35,2921.35,2921.349999,2921.13996,2920.73999,2906.65,2900.449995,2897.25,2900.53,2900.8,2901.35,2903.17,2902.94,2902.67,2902.29,2903.73,2903.72,2903.7,2903.7,2905.51,2910.109999,2910.209996,2910.039962,2900.589984,2900.58993,2893.769998,2897.84,2895.15,2897.07,2901.54,2903.44,2903.49,2903.8,2904.49,2904.49,2905.85,2907.79],\"type\":\"scatter\"}],                        {\"template\":{\"data\":{\"bar\":[{\"error_x\":{\"color\":\"#2a3f5f\"},\"error_y\":{\"color\":\"#2a3f5f\"},\"marker\":{\"line\":{\"color\":\"#E5ECF6\",\"width\":0.5},\"pattern\":{\"fillmode\":\"overlay\",\"size\":10,\"solidity\":0.2}},\"type\":\"bar\"}],\"barpolar\":[{\"marker\":{\"line\":{\"color\":\"#E5ECF6\",\"width\":0.5},\"pattern\":{\"fillmode\":\"overlay\",\"size\":10,\"solidity\":0.2}},\"type\":\"barpolar\"}],\"carpet\":[{\"aaxis\":{\"endlinecolor\":\"#2a3f5f\",\"gridcolor\":\"white\",\"linecolor\":\"white\",\"minorgridcolor\":\"white\",\"startlinecolor\":\"#2a3f5f\"},\"baxis\":{\"endlinecolor\":\"#2a3f5f\",\"gridcolor\":\"white\",\"linecolor\":\"white\",\"minorgridcolor\":\"white\",\"startlinecolor\":\"#2a3f5f\"},\"type\":\"carpet\"}],\"choropleth\":[{\"colorbar\":{\"outlinewidth\":0,\"ticks\":\"\"},\"type\":\"choropleth\"}],\"contour\":[{\"colorbar\":{\"outlinewidth\":0,\"ticks\":\"\"},\"colorscale\":[[0.0,\"#0d0887\"],[0.1111111111111111,\"#46039f\"],[0.2222222222222222,\"#7201a8\"],[0.3333333333333333,\"#9c179e\"],[0.4444444444444444,\"#bd3786\"],[0.5555555555555556,\"#d8576b\"],[0.6666666666666666,\"#ed7953\"],[0.7777777777777778,\"#fb9f3a\"],[0.8888888888888888,\"#fdca26\"],[1.0,\"#f0f921\"]],\"type\":\"contour\"}],\"contourcarpet\":[{\"colorbar\":{\"outlinewidth\":0,\"ticks\":\"\"},\"type\":\"contourcarpet\"}],\"heatmap\":[{\"colorbar\":{\"outlinewidth\":0,\"ticks\":\"\"},\"colorscale\":[[0.0,\"#0d0887\"],[0.1111111111111111,\"#46039f\"],[0.2222222222222222,\"#7201a8\"],[0.3333333333333333,\"#9c179e\"],[0.4444444444444444,\"#bd3786\"],[0.5555555555555556,\"#d8576b\"],[0.6666666666666666,\"#ed7953\"],[0.7777777777777778,\"#fb9f3a\"],[0.8888888888888888,\"#fdca26\"],[1.0,\"#f0f921\"]],\"type\":\"heatmap\"}],\"heatmapgl\":[{\"colorbar\":{\"outlinewidth\":0,\"ticks\":\"\"},\"colorscale\":[[0.0,\"#0d0887\"],[0.1111111111111111,\"#46039f\"],[0.2222222222222222,\"#7201a8\"],[0.3333333333333333,\"#9c179e\"],[0.4444444444444444,\"#bd3786\"],[0.5555555555555556,\"#d8576b\"],[0.6666666666666666,\"#ed7953\"],[0.7777777777777778,\"#fb9f3a\"],[0.8888888888888888,\"#fdca26\"],[1.0,\"#f0f921\"]],\"type\":\"heatmapgl\"}],\"histogram\":[{\"marker\":{\"pattern\":{\"fillmode\":\"overlay\",\"size\":10,\"solidity\":0.2}},\"type\":\"histogram\"}],\"histogram2d\":[{\"colorbar\":{\"outlinewidth\":0,\"ticks\":\"\"},\"colorscale\":[[0.0,\"#0d0887\"],[0.1111111111111111,\"#46039f\"],[0.2222222222222222,\"#7201a8\"],[0.3333333333333333,\"#9c179e\"],[0.4444444444444444,\"#bd3786\"],[0.5555555555555556,\"#d8576b\"],[0.6666666666666666,\"#ed7953\"],[0.7777777777777778,\"#fb9f3a\"],[0.8888888888888888,\"#fdca26\"],[1.0,\"#f0f921\"]],\"type\":\"histogram2d\"}],\"histogram2dcontour\":[{\"colorbar\":{\"outlinewidth\":0,\"ticks\":\"\"},\"colorscale\":[[0.0,\"#0d0887\"],[0.1111111111111111,\"#46039f\"],[0.2222222222222222,\"#7201a8\"],[0.3333333333333333,\"#9c179e\"],[0.4444444444444444,\"#bd3786\"],[0.5555555555555556,\"#d8576b\"],[0.6666666666666666,\"#ed7953\"],[0.7777777777777778,\"#fb9f3a\"],[0.8888888888888888,\"#fdca26\"],[1.0,\"#f0f921\"]],\"type\":\"histogram2dcontour\"}],\"mesh3d\":[{\"colorbar\":{\"outlinewidth\":0,\"ticks\":\"\"},\"type\":\"mesh3d\"}],\"parcoords\":[{\"line\":{\"colorbar\":{\"outlinewidth\":0,\"ticks\":\"\"}},\"type\":\"parcoords\"}],\"pie\":[{\"automargin\":true,\"type\":\"pie\"}],\"scatter\":[{\"marker\":{\"colorbar\":{\"outlinewidth\":0,\"ticks\":\"\"}},\"type\":\"scatter\"}],\"scatter3d\":[{\"line\":{\"colorbar\":{\"outlinewidth\":0,\"ticks\":\"\"}},\"marker\":{\"colorbar\":{\"outlinewidth\":0,\"ticks\":\"\"}},\"type\":\"scatter3d\"}],\"scattercarpet\":[{\"marker\":{\"colorbar\":{\"outlinewidth\":0,\"ticks\":\"\"}},\"type\":\"scattercarpet\"}],\"scattergeo\":[{\"marker\":{\"colorbar\":{\"outlinewidth\":0,\"ticks\":\"\"}},\"type\":\"scattergeo\"}],\"scattergl\":[{\"marker\":{\"colorbar\":{\"outlinewidth\":0,\"ticks\":\"\"}},\"type\":\"scattergl\"}],\"scattermapbox\":[{\"marker\":{\"colorbar\":{\"outlinewidth\":0,\"ticks\":\"\"}},\"type\":\"scattermapbox\"}],\"scatterpolar\":[{\"marker\":{\"colorbar\":{\"outlinewidth\":0,\"ticks\":\"\"}},\"type\":\"scatterpolar\"}],\"scatterpolargl\":[{\"marker\":{\"colorbar\":{\"outlinewidth\":0,\"ticks\":\"\"}},\"type\":\"scatterpolargl\"}],\"scatterternary\":[{\"marker\":{\"colorbar\":{\"outlinewidth\":0,\"ticks\":\"\"}},\"type\":\"scatterternary\"}],\"surface\":[{\"colorbar\":{\"outlinewidth\":0,\"ticks\":\"\"},\"colorscale\":[[0.0,\"#0d0887\"],[0.1111111111111111,\"#46039f\"],[0.2222222222222222,\"#7201a8\"],[0.3333333333333333,\"#9c179e\"],[0.4444444444444444,\"#bd3786\"],[0.5555555555555556,\"#d8576b\"],[0.6666666666666666,\"#ed7953\"],[0.7777777777777778,\"#fb9f3a\"],[0.8888888888888888,\"#fdca26\"],[1.0,\"#f0f921\"]],\"type\":\"surface\"}],\"table\":[{\"cells\":{\"fill\":{\"color\":\"#EBF0F8\"},\"line\":{\"color\":\"white\"}},\"header\":{\"fill\":{\"color\":\"#C8D4E3\"},\"line\":{\"color\":\"white\"}},\"type\":\"table\"}]},\"layout\":{\"annotationdefaults\":{\"arrowcolor\":\"#2a3f5f\",\"arrowhead\":0,\"arrowwidth\":1},\"autotypenumbers\":\"strict\",\"coloraxis\":{\"colorbar\":{\"outlinewidth\":0,\"ticks\":\"\"}},\"colorscale\":{\"diverging\":[[0,\"#8e0152\"],[0.1,\"#c51b7d\"],[0.2,\"#de77ae\"],[0.3,\"#f1b6da\"],[0.4,\"#fde0ef\"],[0.5,\"#f7f7f7\"],[0.6,\"#e6f5d0\"],[0.7,\"#b8e186\"],[0.8,\"#7fbc41\"],[0.9,\"#4d9221\"],[1,\"#276419\"]],\"sequential\":[[0.0,\"#0d0887\"],[0.1111111111111111,\"#46039f\"],[0.2222222222222222,\"#7201a8\"],[0.3333333333333333,\"#9c179e\"],[0.4444444444444444,\"#bd3786\"],[0.5555555555555556,\"#d8576b\"],[0.6666666666666666,\"#ed7953\"],[0.7777777777777778,\"#fb9f3a\"],[0.8888888888888888,\"#fdca26\"],[1.0,\"#f0f921\"]],\"sequentialminus\":[[0.0,\"#0d0887\"],[0.1111111111111111,\"#46039f\"],[0.2222222222222222,\"#7201a8\"],[0.3333333333333333,\"#9c179e\"],[0.4444444444444444,\"#bd3786\"],[0.5555555555555556,\"#d8576b\"],[0.6666666666666666,\"#ed7953\"],[0.7777777777777778,\"#fb9f3a\"],[0.8888888888888888,\"#fdca26\"],[1.0,\"#f0f921\"]]},\"colorway\":[\"#636efa\",\"#EF553B\",\"#00cc96\",\"#ab63fa\",\"#FFA15A\",\"#19d3f3\",\"#FF6692\",\"#B6E880\",\"#FF97FF\",\"#FECB52\"],\"font\":{\"color\":\"#2a3f5f\"},\"geo\":{\"bgcolor\":\"white\",\"lakecolor\":\"white\",\"landcolor\":\"#E5ECF6\",\"showlakes\":true,\"showland\":true,\"subunitcolor\":\"white\"},\"hoverlabel\":{\"align\":\"left\"},\"hovermode\":\"closest\",\"mapbox\":{\"style\":\"light\"},\"paper_bgcolor\":\"white\",\"plot_bgcolor\":\"#E5ECF6\",\"polar\":{\"angularaxis\":{\"gridcolor\":\"white\",\"linecolor\":\"white\",\"ticks\":\"\"},\"bgcolor\":\"#E5ECF6\",\"radialaxis\":{\"gridcolor\":\"white\",\"linecolor\":\"white\",\"ticks\":\"\"}},\"scene\":{\"xaxis\":{\"backgroundcolor\":\"#E5ECF6\",\"gridcolor\":\"white\",\"gridwidth\":2,\"linecolor\":\"white\",\"showbackground\":true,\"ticks\":\"\",\"zerolinecolor\":\"white\"},\"yaxis\":{\"backgroundcolor\":\"#E5ECF6\",\"gridcolor\":\"white\",\"gridwidth\":2,\"linecolor\":\"white\",\"showbackground\":true,\"ticks\":\"\",\"zerolinecolor\":\"white\"},\"zaxis\":{\"backgroundcolor\":\"#E5ECF6\",\"gridcolor\":\"white\",\"gridwidth\":2,\"linecolor\":\"white\",\"showbackground\":true,\"ticks\":\"\",\"zerolinecolor\":\"white\"}},\"shapedefaults\":{\"line\":{\"color\":\"#2a3f5f\"}},\"ternary\":{\"aaxis\":{\"gridcolor\":\"white\",\"linecolor\":\"white\",\"ticks\":\"\"},\"baxis\":{\"gridcolor\":\"white\",\"linecolor\":\"white\",\"ticks\":\"\"},\"bgcolor\":\"#E5ECF6\",\"caxis\":{\"gridcolor\":\"white\",\"linecolor\":\"white\",\"ticks\":\"\"}},\"title\":{\"x\":0.05},\"xaxis\":{\"automargin\":true,\"gridcolor\":\"white\",\"linecolor\":\"white\",\"ticks\":\"\",\"title\":{\"standoff\":15},\"zerolinecolor\":\"white\",\"zerolinewidth\":2},\"yaxis\":{\"automargin\":true,\"gridcolor\":\"white\",\"linecolor\":\"white\",\"ticks\":\"\",\"title\":{\"standoff\":15},\"zerolinecolor\":\"white\",\"zerolinewidth\":2}}}},                        {\"responsive\": true}                    ).then(function(){\n",
       "                            \n",
       "var gd = document.getElementById('1824c85e-884d-4f2d-a2ee-61b95b80fa77');\n",
       "var x = new MutationObserver(function (mutations, observer) {{\n",
       "        var display = window.getComputedStyle(gd).display;\n",
       "        if (!display || display === 'none') {{\n",
       "            console.log([gd, 'removed!']);\n",
       "            Plotly.purge(gd);\n",
       "            observer.disconnect();\n",
       "        }}\n",
       "}});\n",
       "\n",
       "// Listen for the removal of the full notebook cells\n",
       "var notebookContainer = gd.closest('#notebook-container');\n",
       "if (notebookContainer) {{\n",
       "    x.observe(notebookContainer, {childList: true});\n",
       "}}\n",
       "\n",
       "// Listen for the clearing of the current output cell\n",
       "var outputEl = gd.closest('.output');\n",
       "if (outputEl) {{\n",
       "    x.observe(outputEl, {childList: true});\n",
       "}}\n",
       "\n",
       "                        })                };                });            </script>        </div>"
      ]
     },
     "metadata": {},
     "output_type": "display_data"
    }
   ],
   "source": [
    "main.plot_ask_eth_1(data)"
   ]
  },
  {
   "cell_type": "code",
   "execution_count": 14,
   "id": "644df492",
   "metadata": {},
   "outputs": [
    {
     "data": {
      "application/vnd.plotly.v1+json": {
       "config": {
        "plotlyServerURL": "https://plot.ly"
       },
       "data": [
        {
         "name": "bitso_ask_eth",
         "type": "scatter",
         "x": [
          "2022-04-29T02:27:29.000Z",
          "2022-04-29T02:28:31.000Z",
          "2022-04-29T02:29:34.000Z",
          "2022-04-29T02:30:37.000Z",
          "2022-04-29T02:31:39.000Z",
          "2022-04-29T02:32:42.000Z",
          "2022-04-29T02:33:44.000Z",
          "2022-04-29T02:34:46.000Z",
          "2022-04-29T02:35:48.000Z",
          "2022-04-29T02:36:51.000Z",
          "2022-04-29T02:37:54.000Z",
          "2022-04-29T02:38:57.000Z",
          "2022-04-29T02:40:00.000Z",
          "2022-04-29T02:41:02.000Z",
          "2022-04-29T02:42:04.000Z",
          "2022-04-29T02:43:07.000Z",
          "2022-04-29T02:44:09.000Z",
          "2022-04-29T02:45:11.000Z",
          "2022-04-29T02:46:14.000Z",
          "2022-04-29T02:47:17.000Z",
          "2022-04-29T02:48:19.000Z",
          "2022-04-29T02:49:23.000Z",
          "2022-04-29T02:50:26.000Z",
          "2022-04-29T02:51:30.000Z",
          "2022-04-29T02:52:33.000Z",
          "2022-04-29T02:53:35.000Z",
          "2022-04-29T02:54:38.000Z",
          "2022-04-29T02:55:40.000Z",
          "2022-04-29T02:56:42.000Z",
          "2022-04-29T02:57:45.000Z",
          "2022-04-29T02:58:47.000Z",
          "2022-04-29T02:59:48.000Z",
          "2022-04-29T03:00:51.000Z",
          "2022-04-29T03:01:53.000Z",
          "2022-04-29T03:02:55.000Z",
          "2022-04-29T03:03:56.000Z",
          "2022-04-29T03:04:58.000Z",
          "2022-04-29T03:06:01.000Z",
          "2022-04-29T03:07:03.000Z",
          "2022-04-29T03:08:05.000Z",
          "2022-04-29T03:09:07.000Z",
          "2022-04-29T03:10:09.000Z",
          "2022-04-29T03:11:12.000Z",
          "2022-04-29T03:12:14.000Z",
          "2022-04-29T03:13:16.000Z",
          "2022-04-29T03:14:18.000Z",
          "2022-04-29T03:15:20.000Z",
          "2022-04-29T03:16:22.000Z",
          "2022-04-29T03:17:26.000Z",
          "2022-04-29T03:18:28.000Z",
          "2022-04-29T03:19:30.000Z",
          "2022-04-29T03:20:32.000Z",
          "2022-04-29T03:21:34.000Z",
          "2022-04-29T03:22:36.000Z",
          "2022-04-29T03:23:38.000Z",
          "2022-04-29T03:24:41.000Z",
          "2022-04-29T03:25:43.000Z",
          "2022-04-29T03:26:45.000Z",
          "2022-04-29T03:27:47.000Z",
          "2022-04-29T03:28:50.000Z"
         ],
         "y": [
          2919.68,
          2922.12,
          2921.68,
          2918.37,
          2920.77,
          2920.64,
          2918.77,
          2917.7,
          2919.78,
          2919,
          2918.16,
          2919.37,
          2918.77,
          2918.96,
          2919.55,
          2920.53,
          2920.53,
          2922.26,
          2924.18,
          2925.56,
          2924.1,
          2923.36,
          2923.14,
          2922.43,
          2921.81,
          2920.07,
          2917.65,
          2915.39,
          2913.47,
          2909.38,
          2911.53,
          2911.64,
          2911.15,
          2911.82,
          2911.69,
          2914.9,
          2915.45,
          2914.48,
          2915,
          2914.76,
          2914.62,
          2913.4,
          2913.44,
          2913.43,
          2909.74,
          2910.99,
          2908.3,
          2909.9,
          2911.21,
          2910.74,
          2911.93,
          2915.02,
          2914,
          2915.4,
          2919.17,
          2917.65,
          2917.5,
          2917.49,
          2919.5,
          2919.59
         ]
        },
        {
         "name": "kraken_ask_eth",
         "type": "scatter",
         "x": [
          "2022-04-29T02:27:29.000Z",
          "2022-04-29T02:28:31.000Z",
          "2022-04-29T02:29:34.000Z",
          "2022-04-29T02:30:37.000Z",
          "2022-04-29T02:31:39.000Z",
          "2022-04-29T02:32:42.000Z",
          "2022-04-29T02:33:44.000Z",
          "2022-04-29T02:34:46.000Z",
          "2022-04-29T02:35:48.000Z",
          "2022-04-29T02:36:51.000Z",
          "2022-04-29T02:37:54.000Z",
          "2022-04-29T02:38:57.000Z",
          "2022-04-29T02:40:00.000Z",
          "2022-04-29T02:41:02.000Z",
          "2022-04-29T02:42:04.000Z",
          "2022-04-29T02:43:07.000Z",
          "2022-04-29T02:44:09.000Z",
          "2022-04-29T02:45:11.000Z",
          "2022-04-29T02:46:14.000Z",
          "2022-04-29T02:47:17.000Z",
          "2022-04-29T02:48:19.000Z",
          "2022-04-29T02:49:23.000Z",
          "2022-04-29T02:50:26.000Z",
          "2022-04-29T02:51:30.000Z",
          "2022-04-29T02:52:33.000Z",
          "2022-04-29T02:53:35.000Z",
          "2022-04-29T02:54:38.000Z",
          "2022-04-29T02:55:40.000Z",
          "2022-04-29T02:56:42.000Z",
          "2022-04-29T02:57:45.000Z",
          "2022-04-29T02:58:47.000Z",
          "2022-04-29T02:59:48.000Z",
          "2022-04-29T03:00:51.000Z",
          "2022-04-29T03:01:53.000Z",
          "2022-04-29T03:02:55.000Z",
          "2022-04-29T03:03:56.000Z",
          "2022-04-29T03:04:58.000Z",
          "2022-04-29T03:06:01.000Z",
          "2022-04-29T03:07:03.000Z",
          "2022-04-29T03:08:05.000Z",
          "2022-04-29T03:09:07.000Z",
          "2022-04-29T03:10:09.000Z",
          "2022-04-29T03:11:12.000Z",
          "2022-04-29T03:12:14.000Z",
          "2022-04-29T03:13:16.000Z",
          "2022-04-29T03:14:18.000Z",
          "2022-04-29T03:15:20.000Z",
          "2022-04-29T03:16:22.000Z",
          "2022-04-29T03:17:26.000Z",
          "2022-04-29T03:18:28.000Z",
          "2022-04-29T03:19:30.000Z",
          "2022-04-29T03:20:32.000Z",
          "2022-04-29T03:21:34.000Z",
          "2022-04-29T03:22:36.000Z",
          "2022-04-29T03:23:38.000Z",
          "2022-04-29T03:24:41.000Z",
          "2022-04-29T03:25:43.000Z",
          "2022-04-29T03:26:45.000Z",
          "2022-04-29T03:27:47.000Z",
          "2022-04-29T03:28:50.000Z"
         ],
         "y": [
          2917.7,
          2918.64,
          2918.64,
          2917.53,
          2918.1,
          2918.42,
          2918.42,
          2917.51,
          2917.8,
          2917.8,
          2917.8,
          2918.1,
          2918.1,
          2918.1,
          2918.1,
          2918.1,
          2918.1,
          2920.3,
          2921.69,
          2922.06,
          2922.06,
          2922.06,
          2921.53,
          2920.51,
          2920.63,
          2918.59,
          2916.33,
          2913.31,
          2910.01,
          2907.9,
          2909.52,
          2909.16,
          2909.34,
          2909.39,
          2909.39,
          2912.1,
          2912.1,
          2912.03,
          2913.1,
          2912.21,
          2912.49,
          2911.81,
          2912.93,
          2911.02,
          2905,
          2908.27,
          2906.33,
          2904.66,
          2907.99,
          2909.33,
          2909.33,
          2910.43,
          2911.8,
          2913,
          2915.43,
          2915.43,
          2915.7,
          2915.71,
          2915.71,
          2917.1
         ]
        },
        {
         "name": "binance_ask_eth",
         "type": "scatter",
         "x": [
          "2022-04-29T02:27:29.000Z",
          "2022-04-29T02:28:31.000Z",
          "2022-04-29T02:29:34.000Z",
          "2022-04-29T02:30:37.000Z",
          "2022-04-29T02:31:39.000Z",
          "2022-04-29T02:32:42.000Z",
          "2022-04-29T02:33:44.000Z",
          "2022-04-29T02:34:46.000Z",
          "2022-04-29T02:35:48.000Z",
          "2022-04-29T02:36:51.000Z",
          "2022-04-29T02:37:54.000Z",
          "2022-04-29T02:38:57.000Z",
          "2022-04-29T02:40:00.000Z",
          "2022-04-29T02:41:02.000Z",
          "2022-04-29T02:42:04.000Z",
          "2022-04-29T02:43:07.000Z",
          "2022-04-29T02:44:09.000Z",
          "2022-04-29T02:45:11.000Z",
          "2022-04-29T02:46:14.000Z",
          "2022-04-29T02:47:17.000Z",
          "2022-04-29T02:48:19.000Z",
          "2022-04-29T02:49:23.000Z",
          "2022-04-29T02:50:26.000Z",
          "2022-04-29T02:51:30.000Z",
          "2022-04-29T02:52:33.000Z",
          "2022-04-29T02:53:35.000Z",
          "2022-04-29T02:54:38.000Z",
          "2022-04-29T02:55:40.000Z",
          "2022-04-29T02:56:42.000Z",
          "2022-04-29T02:57:45.000Z",
          "2022-04-29T02:58:47.000Z",
          "2022-04-29T02:59:48.000Z",
          "2022-04-29T03:00:51.000Z",
          "2022-04-29T03:01:53.000Z",
          "2022-04-29T03:02:55.000Z",
          "2022-04-29T03:03:56.000Z",
          "2022-04-29T03:04:58.000Z",
          "2022-04-29T03:06:01.000Z",
          "2022-04-29T03:07:03.000Z",
          "2022-04-29T03:08:05.000Z",
          "2022-04-29T03:09:07.000Z",
          "2022-04-29T03:10:09.000Z",
          "2022-04-29T03:11:12.000Z",
          "2022-04-29T03:12:14.000Z",
          "2022-04-29T03:13:16.000Z",
          "2022-04-29T03:14:18.000Z",
          "2022-04-29T03:15:20.000Z",
          "2022-04-29T03:16:22.000Z",
          "2022-04-29T03:17:26.000Z",
          "2022-04-29T03:18:28.000Z",
          "2022-04-29T03:19:30.000Z",
          "2022-04-29T03:20:32.000Z",
          "2022-04-29T03:21:34.000Z",
          "2022-04-29T03:22:36.000Z",
          "2022-04-29T03:23:38.000Z",
          "2022-04-29T03:24:41.000Z",
          "2022-04-29T03:25:43.000Z",
          "2022-04-29T03:26:45.000Z",
          "2022-04-29T03:27:47.000Z",
          "2022-04-29T03:28:50.000Z"
         ],
         "y": [
          2922.519995,
          2922.389969,
          2920.769999,
          2920.769999,
          2920.769999,
          2919.009999,
          2919.009999,
          2919.009999,
          2919.009999,
          2919.009999,
          2919.009999,
          2919.009999,
          2919.009999,
          2919.009999,
          2919.009999,
          2919.009999,
          2919.009999,
          2919.009999,
          2919.009999,
          2921.35,
          2921.35,
          2921.35,
          2921.35,
          2921.35,
          2921.35,
          2921.349999,
          2921.13996,
          2920.73999,
          2906.65,
          2900.449995,
          2897.25,
          2900.53,
          2900.8,
          2901.35,
          2903.17,
          2902.94,
          2902.67,
          2902.29,
          2903.73,
          2903.72,
          2903.7,
          2903.7,
          2905.51,
          2910.109999,
          2910.209996,
          2910.039962,
          2900.589984,
          2900.58993,
          2893.769998,
          2897.84,
          2895.15,
          2897.07,
          2901.54,
          2903.44,
          2903.49,
          2903.8,
          2904.49,
          2904.49,
          2905.85,
          2907.79
         ]
        }
       ],
       "layout": {
        "template": {
         "data": {
          "bar": [
           {
            "error_x": {
             "color": "#2a3f5f"
            },
            "error_y": {
             "color": "#2a3f5f"
            },
            "marker": {
             "line": {
              "color": "#E5ECF6",
              "width": 0.5
             },
             "pattern": {
              "fillmode": "overlay",
              "size": 10,
              "solidity": 0.2
             }
            },
            "type": "bar"
           }
          ],
          "barpolar": [
           {
            "marker": {
             "line": {
              "color": "#E5ECF6",
              "width": 0.5
             },
             "pattern": {
              "fillmode": "overlay",
              "size": 10,
              "solidity": 0.2
             }
            },
            "type": "barpolar"
           }
          ],
          "carpet": [
           {
            "aaxis": {
             "endlinecolor": "#2a3f5f",
             "gridcolor": "white",
             "linecolor": "white",
             "minorgridcolor": "white",
             "startlinecolor": "#2a3f5f"
            },
            "baxis": {
             "endlinecolor": "#2a3f5f",
             "gridcolor": "white",
             "linecolor": "white",
             "minorgridcolor": "white",
             "startlinecolor": "#2a3f5f"
            },
            "type": "carpet"
           }
          ],
          "choropleth": [
           {
            "colorbar": {
             "outlinewidth": 0,
             "ticks": ""
            },
            "type": "choropleth"
           }
          ],
          "contour": [
           {
            "colorbar": {
             "outlinewidth": 0,
             "ticks": ""
            },
            "colorscale": [
             [
              0,
              "#0d0887"
             ],
             [
              0.1111111111111111,
              "#46039f"
             ],
             [
              0.2222222222222222,
              "#7201a8"
             ],
             [
              0.3333333333333333,
              "#9c179e"
             ],
             [
              0.4444444444444444,
              "#bd3786"
             ],
             [
              0.5555555555555556,
              "#d8576b"
             ],
             [
              0.6666666666666666,
              "#ed7953"
             ],
             [
              0.7777777777777778,
              "#fb9f3a"
             ],
             [
              0.8888888888888888,
              "#fdca26"
             ],
             [
              1,
              "#f0f921"
             ]
            ],
            "type": "contour"
           }
          ],
          "contourcarpet": [
           {
            "colorbar": {
             "outlinewidth": 0,
             "ticks": ""
            },
            "type": "contourcarpet"
           }
          ],
          "heatmap": [
           {
            "colorbar": {
             "outlinewidth": 0,
             "ticks": ""
            },
            "colorscale": [
             [
              0,
              "#0d0887"
             ],
             [
              0.1111111111111111,
              "#46039f"
             ],
             [
              0.2222222222222222,
              "#7201a8"
             ],
             [
              0.3333333333333333,
              "#9c179e"
             ],
             [
              0.4444444444444444,
              "#bd3786"
             ],
             [
              0.5555555555555556,
              "#d8576b"
             ],
             [
              0.6666666666666666,
              "#ed7953"
             ],
             [
              0.7777777777777778,
              "#fb9f3a"
             ],
             [
              0.8888888888888888,
              "#fdca26"
             ],
             [
              1,
              "#f0f921"
             ]
            ],
            "type": "heatmap"
           }
          ],
          "heatmapgl": [
           {
            "colorbar": {
             "outlinewidth": 0,
             "ticks": ""
            },
            "colorscale": [
             [
              0,
              "#0d0887"
             ],
             [
              0.1111111111111111,
              "#46039f"
             ],
             [
              0.2222222222222222,
              "#7201a8"
             ],
             [
              0.3333333333333333,
              "#9c179e"
             ],
             [
              0.4444444444444444,
              "#bd3786"
             ],
             [
              0.5555555555555556,
              "#d8576b"
             ],
             [
              0.6666666666666666,
              "#ed7953"
             ],
             [
              0.7777777777777778,
              "#fb9f3a"
             ],
             [
              0.8888888888888888,
              "#fdca26"
             ],
             [
              1,
              "#f0f921"
             ]
            ],
            "type": "heatmapgl"
           }
          ],
          "histogram": [
           {
            "marker": {
             "pattern": {
              "fillmode": "overlay",
              "size": 10,
              "solidity": 0.2
             }
            },
            "type": "histogram"
           }
          ],
          "histogram2d": [
           {
            "colorbar": {
             "outlinewidth": 0,
             "ticks": ""
            },
            "colorscale": [
             [
              0,
              "#0d0887"
             ],
             [
              0.1111111111111111,
              "#46039f"
             ],
             [
              0.2222222222222222,
              "#7201a8"
             ],
             [
              0.3333333333333333,
              "#9c179e"
             ],
             [
              0.4444444444444444,
              "#bd3786"
             ],
             [
              0.5555555555555556,
              "#d8576b"
             ],
             [
              0.6666666666666666,
              "#ed7953"
             ],
             [
              0.7777777777777778,
              "#fb9f3a"
             ],
             [
              0.8888888888888888,
              "#fdca26"
             ],
             [
              1,
              "#f0f921"
             ]
            ],
            "type": "histogram2d"
           }
          ],
          "histogram2dcontour": [
           {
            "colorbar": {
             "outlinewidth": 0,
             "ticks": ""
            },
            "colorscale": [
             [
              0,
              "#0d0887"
             ],
             [
              0.1111111111111111,
              "#46039f"
             ],
             [
              0.2222222222222222,
              "#7201a8"
             ],
             [
              0.3333333333333333,
              "#9c179e"
             ],
             [
              0.4444444444444444,
              "#bd3786"
             ],
             [
              0.5555555555555556,
              "#d8576b"
             ],
             [
              0.6666666666666666,
              "#ed7953"
             ],
             [
              0.7777777777777778,
              "#fb9f3a"
             ],
             [
              0.8888888888888888,
              "#fdca26"
             ],
             [
              1,
              "#f0f921"
             ]
            ],
            "type": "histogram2dcontour"
           }
          ],
          "mesh3d": [
           {
            "colorbar": {
             "outlinewidth": 0,
             "ticks": ""
            },
            "type": "mesh3d"
           }
          ],
          "parcoords": [
           {
            "line": {
             "colorbar": {
              "outlinewidth": 0,
              "ticks": ""
             }
            },
            "type": "parcoords"
           }
          ],
          "pie": [
           {
            "automargin": true,
            "type": "pie"
           }
          ],
          "scatter": [
           {
            "marker": {
             "colorbar": {
              "outlinewidth": 0,
              "ticks": ""
             }
            },
            "type": "scatter"
           }
          ],
          "scatter3d": [
           {
            "line": {
             "colorbar": {
              "outlinewidth": 0,
              "ticks": ""
             }
            },
            "marker": {
             "colorbar": {
              "outlinewidth": 0,
              "ticks": ""
             }
            },
            "type": "scatter3d"
           }
          ],
          "scattercarpet": [
           {
            "marker": {
             "colorbar": {
              "outlinewidth": 0,
              "ticks": ""
             }
            },
            "type": "scattercarpet"
           }
          ],
          "scattergeo": [
           {
            "marker": {
             "colorbar": {
              "outlinewidth": 0,
              "ticks": ""
             }
            },
            "type": "scattergeo"
           }
          ],
          "scattergl": [
           {
            "marker": {
             "colorbar": {
              "outlinewidth": 0,
              "ticks": ""
             }
            },
            "type": "scattergl"
           }
          ],
          "scattermapbox": [
           {
            "marker": {
             "colorbar": {
              "outlinewidth": 0,
              "ticks": ""
             }
            },
            "type": "scattermapbox"
           }
          ],
          "scatterpolar": [
           {
            "marker": {
             "colorbar": {
              "outlinewidth": 0,
              "ticks": ""
             }
            },
            "type": "scatterpolar"
           }
          ],
          "scatterpolargl": [
           {
            "marker": {
             "colorbar": {
              "outlinewidth": 0,
              "ticks": ""
             }
            },
            "type": "scatterpolargl"
           }
          ],
          "scatterternary": [
           {
            "marker": {
             "colorbar": {
              "outlinewidth": 0,
              "ticks": ""
             }
            },
            "type": "scatterternary"
           }
          ],
          "surface": [
           {
            "colorbar": {
             "outlinewidth": 0,
             "ticks": ""
            },
            "colorscale": [
             [
              0,
              "#0d0887"
             ],
             [
              0.1111111111111111,
              "#46039f"
             ],
             [
              0.2222222222222222,
              "#7201a8"
             ],
             [
              0.3333333333333333,
              "#9c179e"
             ],
             [
              0.4444444444444444,
              "#bd3786"
             ],
             [
              0.5555555555555556,
              "#d8576b"
             ],
             [
              0.6666666666666666,
              "#ed7953"
             ],
             [
              0.7777777777777778,
              "#fb9f3a"
             ],
             [
              0.8888888888888888,
              "#fdca26"
             ],
             [
              1,
              "#f0f921"
             ]
            ],
            "type": "surface"
           }
          ],
          "table": [
           {
            "cells": {
             "fill": {
              "color": "#EBF0F8"
             },
             "line": {
              "color": "white"
             }
            },
            "header": {
             "fill": {
              "color": "#C8D4E3"
             },
             "line": {
              "color": "white"
             }
            },
            "type": "table"
           }
          ]
         },
         "layout": {
          "annotationdefaults": {
           "arrowcolor": "#2a3f5f",
           "arrowhead": 0,
           "arrowwidth": 1
          },
          "autotypenumbers": "strict",
          "coloraxis": {
           "colorbar": {
            "outlinewidth": 0,
            "ticks": ""
           }
          },
          "colorscale": {
           "diverging": [
            [
             0,
             "#8e0152"
            ],
            [
             0.1,
             "#c51b7d"
            ],
            [
             0.2,
             "#de77ae"
            ],
            [
             0.3,
             "#f1b6da"
            ],
            [
             0.4,
             "#fde0ef"
            ],
            [
             0.5,
             "#f7f7f7"
            ],
            [
             0.6,
             "#e6f5d0"
            ],
            [
             0.7,
             "#b8e186"
            ],
            [
             0.8,
             "#7fbc41"
            ],
            [
             0.9,
             "#4d9221"
            ],
            [
             1,
             "#276419"
            ]
           ],
           "sequential": [
            [
             0,
             "#0d0887"
            ],
            [
             0.1111111111111111,
             "#46039f"
            ],
            [
             0.2222222222222222,
             "#7201a8"
            ],
            [
             0.3333333333333333,
             "#9c179e"
            ],
            [
             0.4444444444444444,
             "#bd3786"
            ],
            [
             0.5555555555555556,
             "#d8576b"
            ],
            [
             0.6666666666666666,
             "#ed7953"
            ],
            [
             0.7777777777777778,
             "#fb9f3a"
            ],
            [
             0.8888888888888888,
             "#fdca26"
            ],
            [
             1,
             "#f0f921"
            ]
           ],
           "sequentialminus": [
            [
             0,
             "#0d0887"
            ],
            [
             0.1111111111111111,
             "#46039f"
            ],
            [
             0.2222222222222222,
             "#7201a8"
            ],
            [
             0.3333333333333333,
             "#9c179e"
            ],
            [
             0.4444444444444444,
             "#bd3786"
            ],
            [
             0.5555555555555556,
             "#d8576b"
            ],
            [
             0.6666666666666666,
             "#ed7953"
            ],
            [
             0.7777777777777778,
             "#fb9f3a"
            ],
            [
             0.8888888888888888,
             "#fdca26"
            ],
            [
             1,
             "#f0f921"
            ]
           ]
          },
          "colorway": [
           "#636efa",
           "#EF553B",
           "#00cc96",
           "#ab63fa",
           "#FFA15A",
           "#19d3f3",
           "#FF6692",
           "#B6E880",
           "#FF97FF",
           "#FECB52"
          ],
          "font": {
           "color": "#2a3f5f"
          },
          "geo": {
           "bgcolor": "white",
           "lakecolor": "white",
           "landcolor": "#E5ECF6",
           "showlakes": true,
           "showland": true,
           "subunitcolor": "white"
          },
          "hoverlabel": {
           "align": "left"
          },
          "hovermode": "closest",
          "mapbox": {
           "style": "light"
          },
          "paper_bgcolor": "white",
          "plot_bgcolor": "#E5ECF6",
          "polar": {
           "angularaxis": {
            "gridcolor": "white",
            "linecolor": "white",
            "ticks": ""
           },
           "bgcolor": "#E5ECF6",
           "radialaxis": {
            "gridcolor": "white",
            "linecolor": "white",
            "ticks": ""
           }
          },
          "scene": {
           "xaxis": {
            "backgroundcolor": "#E5ECF6",
            "gridcolor": "white",
            "gridwidth": 2,
            "linecolor": "white",
            "showbackground": true,
            "ticks": "",
            "zerolinecolor": "white"
           },
           "yaxis": {
            "backgroundcolor": "#E5ECF6",
            "gridcolor": "white",
            "gridwidth": 2,
            "linecolor": "white",
            "showbackground": true,
            "ticks": "",
            "zerolinecolor": "white"
           },
           "zaxis": {
            "backgroundcolor": "#E5ECF6",
            "gridcolor": "white",
            "gridwidth": 2,
            "linecolor": "white",
            "showbackground": true,
            "ticks": "",
            "zerolinecolor": "white"
           }
          },
          "shapedefaults": {
           "line": {
            "color": "#2a3f5f"
           }
          },
          "ternary": {
           "aaxis": {
            "gridcolor": "white",
            "linecolor": "white",
            "ticks": ""
           },
           "baxis": {
            "gridcolor": "white",
            "linecolor": "white",
            "ticks": ""
           },
           "bgcolor": "#E5ECF6",
           "caxis": {
            "gridcolor": "white",
            "linecolor": "white",
            "ticks": ""
           }
          },
          "title": {
           "x": 0.05
          },
          "xaxis": {
           "automargin": true,
           "gridcolor": "white",
           "linecolor": "white",
           "ticks": "",
           "title": {
            "standoff": 15
           },
           "zerolinecolor": "white",
           "zerolinewidth": 2
          },
          "yaxis": {
           "automargin": true,
           "gridcolor": "white",
           "linecolor": "white",
           "ticks": "",
           "title": {
            "standoff": 15
           },
           "zerolinecolor": "white",
           "zerolinewidth": 2
          }
         }
        }
       }
      },
      "text/html": [
       "<div>                            <div id=\"c072ef63-45d8-4580-8bd5-dda21023d9e2\" class=\"plotly-graph-div\" style=\"height:525px; width:100%;\"></div>            <script type=\"text/javascript\">                require([\"plotly\"], function(Plotly) {                    window.PLOTLYENV=window.PLOTLYENV || {};                                    if (document.getElementById(\"c072ef63-45d8-4580-8bd5-dda21023d9e2\")) {                    Plotly.newPlot(                        \"c072ef63-45d8-4580-8bd5-dda21023d9e2\",                        [{\"name\":\"bitso_ask_eth\",\"x\":[\"2022-04-29T02:27:29.000Z\",\"2022-04-29T02:28:31.000Z\",\"2022-04-29T02:29:34.000Z\",\"2022-04-29T02:30:37.000Z\",\"2022-04-29T02:31:39.000Z\",\"2022-04-29T02:32:42.000Z\",\"2022-04-29T02:33:44.000Z\",\"2022-04-29T02:34:46.000Z\",\"2022-04-29T02:35:48.000Z\",\"2022-04-29T02:36:51.000Z\",\"2022-04-29T02:37:54.000Z\",\"2022-04-29T02:38:57.000Z\",\"2022-04-29T02:40:00.000Z\",\"2022-04-29T02:41:02.000Z\",\"2022-04-29T02:42:04.000Z\",\"2022-04-29T02:43:07.000Z\",\"2022-04-29T02:44:09.000Z\",\"2022-04-29T02:45:11.000Z\",\"2022-04-29T02:46:14.000Z\",\"2022-04-29T02:47:17.000Z\",\"2022-04-29T02:48:19.000Z\",\"2022-04-29T02:49:23.000Z\",\"2022-04-29T02:50:26.000Z\",\"2022-04-29T02:51:30.000Z\",\"2022-04-29T02:52:33.000Z\",\"2022-04-29T02:53:35.000Z\",\"2022-04-29T02:54:38.000Z\",\"2022-04-29T02:55:40.000Z\",\"2022-04-29T02:56:42.000Z\",\"2022-04-29T02:57:45.000Z\",\"2022-04-29T02:58:47.000Z\",\"2022-04-29T02:59:48.000Z\",\"2022-04-29T03:00:51.000Z\",\"2022-04-29T03:01:53.000Z\",\"2022-04-29T03:02:55.000Z\",\"2022-04-29T03:03:56.000Z\",\"2022-04-29T03:04:58.000Z\",\"2022-04-29T03:06:01.000Z\",\"2022-04-29T03:07:03.000Z\",\"2022-04-29T03:08:05.000Z\",\"2022-04-29T03:09:07.000Z\",\"2022-04-29T03:10:09.000Z\",\"2022-04-29T03:11:12.000Z\",\"2022-04-29T03:12:14.000Z\",\"2022-04-29T03:13:16.000Z\",\"2022-04-29T03:14:18.000Z\",\"2022-04-29T03:15:20.000Z\",\"2022-04-29T03:16:22.000Z\",\"2022-04-29T03:17:26.000Z\",\"2022-04-29T03:18:28.000Z\",\"2022-04-29T03:19:30.000Z\",\"2022-04-29T03:20:32.000Z\",\"2022-04-29T03:21:34.000Z\",\"2022-04-29T03:22:36.000Z\",\"2022-04-29T03:23:38.000Z\",\"2022-04-29T03:24:41.000Z\",\"2022-04-29T03:25:43.000Z\",\"2022-04-29T03:26:45.000Z\",\"2022-04-29T03:27:47.000Z\",\"2022-04-29T03:28:50.000Z\"],\"y\":[2919.68,2922.12,2921.68,2918.37,2920.77,2920.64,2918.77,2917.7,2919.78,2919.0,2918.16,2919.37,2918.77,2918.96,2919.55,2920.53,2920.53,2922.26,2924.18,2925.56,2924.1,2923.36,2923.14,2922.43,2921.81,2920.07,2917.65,2915.39,2913.47,2909.38,2911.53,2911.64,2911.15,2911.82,2911.69,2914.9,2915.45,2914.48,2915.0,2914.76,2914.62,2913.4,2913.44,2913.43,2909.74,2910.99,2908.3,2909.9,2911.21,2910.74,2911.93,2915.02,2914.0,2915.4,2919.17,2917.65,2917.5,2917.49,2919.5,2919.59],\"type\":\"scatter\"},{\"name\":\"kraken_ask_eth\",\"x\":[\"2022-04-29T02:27:29.000Z\",\"2022-04-29T02:28:31.000Z\",\"2022-04-29T02:29:34.000Z\",\"2022-04-29T02:30:37.000Z\",\"2022-04-29T02:31:39.000Z\",\"2022-04-29T02:32:42.000Z\",\"2022-04-29T02:33:44.000Z\",\"2022-04-29T02:34:46.000Z\",\"2022-04-29T02:35:48.000Z\",\"2022-04-29T02:36:51.000Z\",\"2022-04-29T02:37:54.000Z\",\"2022-04-29T02:38:57.000Z\",\"2022-04-29T02:40:00.000Z\",\"2022-04-29T02:41:02.000Z\",\"2022-04-29T02:42:04.000Z\",\"2022-04-29T02:43:07.000Z\",\"2022-04-29T02:44:09.000Z\",\"2022-04-29T02:45:11.000Z\",\"2022-04-29T02:46:14.000Z\",\"2022-04-29T02:47:17.000Z\",\"2022-04-29T02:48:19.000Z\",\"2022-04-29T02:49:23.000Z\",\"2022-04-29T02:50:26.000Z\",\"2022-04-29T02:51:30.000Z\",\"2022-04-29T02:52:33.000Z\",\"2022-04-29T02:53:35.000Z\",\"2022-04-29T02:54:38.000Z\",\"2022-04-29T02:55:40.000Z\",\"2022-04-29T02:56:42.000Z\",\"2022-04-29T02:57:45.000Z\",\"2022-04-29T02:58:47.000Z\",\"2022-04-29T02:59:48.000Z\",\"2022-04-29T03:00:51.000Z\",\"2022-04-29T03:01:53.000Z\",\"2022-04-29T03:02:55.000Z\",\"2022-04-29T03:03:56.000Z\",\"2022-04-29T03:04:58.000Z\",\"2022-04-29T03:06:01.000Z\",\"2022-04-29T03:07:03.000Z\",\"2022-04-29T03:08:05.000Z\",\"2022-04-29T03:09:07.000Z\",\"2022-04-29T03:10:09.000Z\",\"2022-04-29T03:11:12.000Z\",\"2022-04-29T03:12:14.000Z\",\"2022-04-29T03:13:16.000Z\",\"2022-04-29T03:14:18.000Z\",\"2022-04-29T03:15:20.000Z\",\"2022-04-29T03:16:22.000Z\",\"2022-04-29T03:17:26.000Z\",\"2022-04-29T03:18:28.000Z\",\"2022-04-29T03:19:30.000Z\",\"2022-04-29T03:20:32.000Z\",\"2022-04-29T03:21:34.000Z\",\"2022-04-29T03:22:36.000Z\",\"2022-04-29T03:23:38.000Z\",\"2022-04-29T03:24:41.000Z\",\"2022-04-29T03:25:43.000Z\",\"2022-04-29T03:26:45.000Z\",\"2022-04-29T03:27:47.000Z\",\"2022-04-29T03:28:50.000Z\"],\"y\":[2917.7,2918.64,2918.64,2917.53,2918.1,2918.42,2918.42,2917.51,2917.8,2917.8,2917.8,2918.1,2918.1,2918.1,2918.1,2918.1,2918.1,2920.3,2921.69,2922.06,2922.06,2922.06,2921.53,2920.51,2920.63,2918.59,2916.33,2913.31,2910.01,2907.9,2909.52,2909.16,2909.34,2909.39,2909.39,2912.1,2912.1,2912.03,2913.1,2912.21,2912.49,2911.81,2912.93,2911.02,2905.0,2908.27,2906.33,2904.66,2907.99,2909.33,2909.33,2910.43,2911.8,2913.0,2915.43,2915.43,2915.7,2915.71,2915.71,2917.1],\"type\":\"scatter\"},{\"name\":\"binance_ask_eth\",\"x\":[\"2022-04-29T02:27:29.000Z\",\"2022-04-29T02:28:31.000Z\",\"2022-04-29T02:29:34.000Z\",\"2022-04-29T02:30:37.000Z\",\"2022-04-29T02:31:39.000Z\",\"2022-04-29T02:32:42.000Z\",\"2022-04-29T02:33:44.000Z\",\"2022-04-29T02:34:46.000Z\",\"2022-04-29T02:35:48.000Z\",\"2022-04-29T02:36:51.000Z\",\"2022-04-29T02:37:54.000Z\",\"2022-04-29T02:38:57.000Z\",\"2022-04-29T02:40:00.000Z\",\"2022-04-29T02:41:02.000Z\",\"2022-04-29T02:42:04.000Z\",\"2022-04-29T02:43:07.000Z\",\"2022-04-29T02:44:09.000Z\",\"2022-04-29T02:45:11.000Z\",\"2022-04-29T02:46:14.000Z\",\"2022-04-29T02:47:17.000Z\",\"2022-04-29T02:48:19.000Z\",\"2022-04-29T02:49:23.000Z\",\"2022-04-29T02:50:26.000Z\",\"2022-04-29T02:51:30.000Z\",\"2022-04-29T02:52:33.000Z\",\"2022-04-29T02:53:35.000Z\",\"2022-04-29T02:54:38.000Z\",\"2022-04-29T02:55:40.000Z\",\"2022-04-29T02:56:42.000Z\",\"2022-04-29T02:57:45.000Z\",\"2022-04-29T02:58:47.000Z\",\"2022-04-29T02:59:48.000Z\",\"2022-04-29T03:00:51.000Z\",\"2022-04-29T03:01:53.000Z\",\"2022-04-29T03:02:55.000Z\",\"2022-04-29T03:03:56.000Z\",\"2022-04-29T03:04:58.000Z\",\"2022-04-29T03:06:01.000Z\",\"2022-04-29T03:07:03.000Z\",\"2022-04-29T03:08:05.000Z\",\"2022-04-29T03:09:07.000Z\",\"2022-04-29T03:10:09.000Z\",\"2022-04-29T03:11:12.000Z\",\"2022-04-29T03:12:14.000Z\",\"2022-04-29T03:13:16.000Z\",\"2022-04-29T03:14:18.000Z\",\"2022-04-29T03:15:20.000Z\",\"2022-04-29T03:16:22.000Z\",\"2022-04-29T03:17:26.000Z\",\"2022-04-29T03:18:28.000Z\",\"2022-04-29T03:19:30.000Z\",\"2022-04-29T03:20:32.000Z\",\"2022-04-29T03:21:34.000Z\",\"2022-04-29T03:22:36.000Z\",\"2022-04-29T03:23:38.000Z\",\"2022-04-29T03:24:41.000Z\",\"2022-04-29T03:25:43.000Z\",\"2022-04-29T03:26:45.000Z\",\"2022-04-29T03:27:47.000Z\",\"2022-04-29T03:28:50.000Z\"],\"y\":[2922.519995,2922.389969,2920.769999,2920.769999,2920.769999,2919.009999,2919.009999,2919.009999,2919.009999,2919.009999,2919.009999,2919.009999,2919.009999,2919.009999,2919.009999,2919.009999,2919.009999,2919.009999,2919.009999,2921.35,2921.35,2921.35,2921.35,2921.35,2921.35,2921.349999,2921.13996,2920.73999,2906.65,2900.449995,2897.25,2900.53,2900.8,2901.35,2903.17,2902.94,2902.67,2902.29,2903.73,2903.72,2903.7,2903.7,2905.51,2910.109999,2910.209996,2910.039962,2900.589984,2900.58993,2893.769998,2897.84,2895.15,2897.07,2901.54,2903.44,2903.49,2903.8,2904.49,2904.49,2905.85,2907.79],\"type\":\"scatter\"}],                        {\"template\":{\"data\":{\"bar\":[{\"error_x\":{\"color\":\"#2a3f5f\"},\"error_y\":{\"color\":\"#2a3f5f\"},\"marker\":{\"line\":{\"color\":\"#E5ECF6\",\"width\":0.5},\"pattern\":{\"fillmode\":\"overlay\",\"size\":10,\"solidity\":0.2}},\"type\":\"bar\"}],\"barpolar\":[{\"marker\":{\"line\":{\"color\":\"#E5ECF6\",\"width\":0.5},\"pattern\":{\"fillmode\":\"overlay\",\"size\":10,\"solidity\":0.2}},\"type\":\"barpolar\"}],\"carpet\":[{\"aaxis\":{\"endlinecolor\":\"#2a3f5f\",\"gridcolor\":\"white\",\"linecolor\":\"white\",\"minorgridcolor\":\"white\",\"startlinecolor\":\"#2a3f5f\"},\"baxis\":{\"endlinecolor\":\"#2a3f5f\",\"gridcolor\":\"white\",\"linecolor\":\"white\",\"minorgridcolor\":\"white\",\"startlinecolor\":\"#2a3f5f\"},\"type\":\"carpet\"}],\"choropleth\":[{\"colorbar\":{\"outlinewidth\":0,\"ticks\":\"\"},\"type\":\"choropleth\"}],\"contour\":[{\"colorbar\":{\"outlinewidth\":0,\"ticks\":\"\"},\"colorscale\":[[0.0,\"#0d0887\"],[0.1111111111111111,\"#46039f\"],[0.2222222222222222,\"#7201a8\"],[0.3333333333333333,\"#9c179e\"],[0.4444444444444444,\"#bd3786\"],[0.5555555555555556,\"#d8576b\"],[0.6666666666666666,\"#ed7953\"],[0.7777777777777778,\"#fb9f3a\"],[0.8888888888888888,\"#fdca26\"],[1.0,\"#f0f921\"]],\"type\":\"contour\"}],\"contourcarpet\":[{\"colorbar\":{\"outlinewidth\":0,\"ticks\":\"\"},\"type\":\"contourcarpet\"}],\"heatmap\":[{\"colorbar\":{\"outlinewidth\":0,\"ticks\":\"\"},\"colorscale\":[[0.0,\"#0d0887\"],[0.1111111111111111,\"#46039f\"],[0.2222222222222222,\"#7201a8\"],[0.3333333333333333,\"#9c179e\"],[0.4444444444444444,\"#bd3786\"],[0.5555555555555556,\"#d8576b\"],[0.6666666666666666,\"#ed7953\"],[0.7777777777777778,\"#fb9f3a\"],[0.8888888888888888,\"#fdca26\"],[1.0,\"#f0f921\"]],\"type\":\"heatmap\"}],\"heatmapgl\":[{\"colorbar\":{\"outlinewidth\":0,\"ticks\":\"\"},\"colorscale\":[[0.0,\"#0d0887\"],[0.1111111111111111,\"#46039f\"],[0.2222222222222222,\"#7201a8\"],[0.3333333333333333,\"#9c179e\"],[0.4444444444444444,\"#bd3786\"],[0.5555555555555556,\"#d8576b\"],[0.6666666666666666,\"#ed7953\"],[0.7777777777777778,\"#fb9f3a\"],[0.8888888888888888,\"#fdca26\"],[1.0,\"#f0f921\"]],\"type\":\"heatmapgl\"}],\"histogram\":[{\"marker\":{\"pattern\":{\"fillmode\":\"overlay\",\"size\":10,\"solidity\":0.2}},\"type\":\"histogram\"}],\"histogram2d\":[{\"colorbar\":{\"outlinewidth\":0,\"ticks\":\"\"},\"colorscale\":[[0.0,\"#0d0887\"],[0.1111111111111111,\"#46039f\"],[0.2222222222222222,\"#7201a8\"],[0.3333333333333333,\"#9c179e\"],[0.4444444444444444,\"#bd3786\"],[0.5555555555555556,\"#d8576b\"],[0.6666666666666666,\"#ed7953\"],[0.7777777777777778,\"#fb9f3a\"],[0.8888888888888888,\"#fdca26\"],[1.0,\"#f0f921\"]],\"type\":\"histogram2d\"}],\"histogram2dcontour\":[{\"colorbar\":{\"outlinewidth\":0,\"ticks\":\"\"},\"colorscale\":[[0.0,\"#0d0887\"],[0.1111111111111111,\"#46039f\"],[0.2222222222222222,\"#7201a8\"],[0.3333333333333333,\"#9c179e\"],[0.4444444444444444,\"#bd3786\"],[0.5555555555555556,\"#d8576b\"],[0.6666666666666666,\"#ed7953\"],[0.7777777777777778,\"#fb9f3a\"],[0.8888888888888888,\"#fdca26\"],[1.0,\"#f0f921\"]],\"type\":\"histogram2dcontour\"}],\"mesh3d\":[{\"colorbar\":{\"outlinewidth\":0,\"ticks\":\"\"},\"type\":\"mesh3d\"}],\"parcoords\":[{\"line\":{\"colorbar\":{\"outlinewidth\":0,\"ticks\":\"\"}},\"type\":\"parcoords\"}],\"pie\":[{\"automargin\":true,\"type\":\"pie\"}],\"scatter\":[{\"marker\":{\"colorbar\":{\"outlinewidth\":0,\"ticks\":\"\"}},\"type\":\"scatter\"}],\"scatter3d\":[{\"line\":{\"colorbar\":{\"outlinewidth\":0,\"ticks\":\"\"}},\"marker\":{\"colorbar\":{\"outlinewidth\":0,\"ticks\":\"\"}},\"type\":\"scatter3d\"}],\"scattercarpet\":[{\"marker\":{\"colorbar\":{\"outlinewidth\":0,\"ticks\":\"\"}},\"type\":\"scattercarpet\"}],\"scattergeo\":[{\"marker\":{\"colorbar\":{\"outlinewidth\":0,\"ticks\":\"\"}},\"type\":\"scattergeo\"}],\"scattergl\":[{\"marker\":{\"colorbar\":{\"outlinewidth\":0,\"ticks\":\"\"}},\"type\":\"scattergl\"}],\"scattermapbox\":[{\"marker\":{\"colorbar\":{\"outlinewidth\":0,\"ticks\":\"\"}},\"type\":\"scattermapbox\"}],\"scatterpolar\":[{\"marker\":{\"colorbar\":{\"outlinewidth\":0,\"ticks\":\"\"}},\"type\":\"scatterpolar\"}],\"scatterpolargl\":[{\"marker\":{\"colorbar\":{\"outlinewidth\":0,\"ticks\":\"\"}},\"type\":\"scatterpolargl\"}],\"scatterternary\":[{\"marker\":{\"colorbar\":{\"outlinewidth\":0,\"ticks\":\"\"}},\"type\":\"scatterternary\"}],\"surface\":[{\"colorbar\":{\"outlinewidth\":0,\"ticks\":\"\"},\"colorscale\":[[0.0,\"#0d0887\"],[0.1111111111111111,\"#46039f\"],[0.2222222222222222,\"#7201a8\"],[0.3333333333333333,\"#9c179e\"],[0.4444444444444444,\"#bd3786\"],[0.5555555555555556,\"#d8576b\"],[0.6666666666666666,\"#ed7953\"],[0.7777777777777778,\"#fb9f3a\"],[0.8888888888888888,\"#fdca26\"],[1.0,\"#f0f921\"]],\"type\":\"surface\"}],\"table\":[{\"cells\":{\"fill\":{\"color\":\"#EBF0F8\"},\"line\":{\"color\":\"white\"}},\"header\":{\"fill\":{\"color\":\"#C8D4E3\"},\"line\":{\"color\":\"white\"}},\"type\":\"table\"}]},\"layout\":{\"annotationdefaults\":{\"arrowcolor\":\"#2a3f5f\",\"arrowhead\":0,\"arrowwidth\":1},\"autotypenumbers\":\"strict\",\"coloraxis\":{\"colorbar\":{\"outlinewidth\":0,\"ticks\":\"\"}},\"colorscale\":{\"diverging\":[[0,\"#8e0152\"],[0.1,\"#c51b7d\"],[0.2,\"#de77ae\"],[0.3,\"#f1b6da\"],[0.4,\"#fde0ef\"],[0.5,\"#f7f7f7\"],[0.6,\"#e6f5d0\"],[0.7,\"#b8e186\"],[0.8,\"#7fbc41\"],[0.9,\"#4d9221\"],[1,\"#276419\"]],\"sequential\":[[0.0,\"#0d0887\"],[0.1111111111111111,\"#46039f\"],[0.2222222222222222,\"#7201a8\"],[0.3333333333333333,\"#9c179e\"],[0.4444444444444444,\"#bd3786\"],[0.5555555555555556,\"#d8576b\"],[0.6666666666666666,\"#ed7953\"],[0.7777777777777778,\"#fb9f3a\"],[0.8888888888888888,\"#fdca26\"],[1.0,\"#f0f921\"]],\"sequentialminus\":[[0.0,\"#0d0887\"],[0.1111111111111111,\"#46039f\"],[0.2222222222222222,\"#7201a8\"],[0.3333333333333333,\"#9c179e\"],[0.4444444444444444,\"#bd3786\"],[0.5555555555555556,\"#d8576b\"],[0.6666666666666666,\"#ed7953\"],[0.7777777777777778,\"#fb9f3a\"],[0.8888888888888888,\"#fdca26\"],[1.0,\"#f0f921\"]]},\"colorway\":[\"#636efa\",\"#EF553B\",\"#00cc96\",\"#ab63fa\",\"#FFA15A\",\"#19d3f3\",\"#FF6692\",\"#B6E880\",\"#FF97FF\",\"#FECB52\"],\"font\":{\"color\":\"#2a3f5f\"},\"geo\":{\"bgcolor\":\"white\",\"lakecolor\":\"white\",\"landcolor\":\"#E5ECF6\",\"showlakes\":true,\"showland\":true,\"subunitcolor\":\"white\"},\"hoverlabel\":{\"align\":\"left\"},\"hovermode\":\"closest\",\"mapbox\":{\"style\":\"light\"},\"paper_bgcolor\":\"white\",\"plot_bgcolor\":\"#E5ECF6\",\"polar\":{\"angularaxis\":{\"gridcolor\":\"white\",\"linecolor\":\"white\",\"ticks\":\"\"},\"bgcolor\":\"#E5ECF6\",\"radialaxis\":{\"gridcolor\":\"white\",\"linecolor\":\"white\",\"ticks\":\"\"}},\"scene\":{\"xaxis\":{\"backgroundcolor\":\"#E5ECF6\",\"gridcolor\":\"white\",\"gridwidth\":2,\"linecolor\":\"white\",\"showbackground\":true,\"ticks\":\"\",\"zerolinecolor\":\"white\"},\"yaxis\":{\"backgroundcolor\":\"#E5ECF6\",\"gridcolor\":\"white\",\"gridwidth\":2,\"linecolor\":\"white\",\"showbackground\":true,\"ticks\":\"\",\"zerolinecolor\":\"white\"},\"zaxis\":{\"backgroundcolor\":\"#E5ECF6\",\"gridcolor\":\"white\",\"gridwidth\":2,\"linecolor\":\"white\",\"showbackground\":true,\"ticks\":\"\",\"zerolinecolor\":\"white\"}},\"shapedefaults\":{\"line\":{\"color\":\"#2a3f5f\"}},\"ternary\":{\"aaxis\":{\"gridcolor\":\"white\",\"linecolor\":\"white\",\"ticks\":\"\"},\"baxis\":{\"gridcolor\":\"white\",\"linecolor\":\"white\",\"ticks\":\"\"},\"bgcolor\":\"#E5ECF6\",\"caxis\":{\"gridcolor\":\"white\",\"linecolor\":\"white\",\"ticks\":\"\"}},\"title\":{\"x\":0.05},\"xaxis\":{\"automargin\":true,\"gridcolor\":\"white\",\"linecolor\":\"white\",\"ticks\":\"\",\"title\":{\"standoff\":15},\"zerolinecolor\":\"white\",\"zerolinewidth\":2},\"yaxis\":{\"automargin\":true,\"gridcolor\":\"white\",\"linecolor\":\"white\",\"ticks\":\"\",\"title\":{\"standoff\":15},\"zerolinecolor\":\"white\",\"zerolinewidth\":2}}}},                        {\"responsive\": true}                    ).then(function(){\n",
       "                            \n",
       "var gd = document.getElementById('c072ef63-45d8-4580-8bd5-dda21023d9e2');\n",
       "var x = new MutationObserver(function (mutations, observer) {{\n",
       "        var display = window.getComputedStyle(gd).display;\n",
       "        if (!display || display === 'none') {{\n",
       "            console.log([gd, 'removed!']);\n",
       "            Plotly.purge(gd);\n",
       "            observer.disconnect();\n",
       "        }}\n",
       "}});\n",
       "\n",
       "// Listen for the removal of the full notebook cells\n",
       "var notebookContainer = gd.closest('#notebook-container');\n",
       "if (notebookContainer) {{\n",
       "    x.observe(notebookContainer, {childList: true});\n",
       "}}\n",
       "\n",
       "// Listen for the clearing of the current output cell\n",
       "var outputEl = gd.closest('.output');\n",
       "if (outputEl) {{\n",
       "    x.observe(outputEl, {childList: true});\n",
       "}}\n",
       "\n",
       "                        })                };                });            </script>        </div>"
      ]
     },
     "metadata": {},
     "output_type": "display_data"
    }
   ],
   "source": [
    "main.plot_spread_eth_1(data)"
   ]
  },
  {
   "cell_type": "markdown",
   "id": "5dba0c75",
   "metadata": {},
   "source": [
    "### <font color= #6B6B6B> 4.3 Visualización de graficas bid, ask y spread con diferentes exchanges para la el LTC/USDT</font> <font color= #555555>"
   ]
  },
  {
   "cell_type": "code",
   "execution_count": 15,
   "id": "9e107c3f",
   "metadata": {},
   "outputs": [
    {
     "data": {
      "application/vnd.plotly.v1+json": {
       "config": {
        "plotlyServerURL": "https://plot.ly"
       },
       "data": [
        {
         "connectgaps": true,
         "name": "bitso_bid_ltc",
         "type": "scatter",
         "x": [
          "2022-04-29T02:27:29.000Z",
          "2022-04-29T02:28:31.000Z",
          "2022-04-29T02:29:34.000Z",
          "2022-04-29T02:30:37.000Z",
          "2022-04-29T02:31:39.000Z",
          "2022-04-29T02:32:42.000Z",
          "2022-04-29T02:33:44.000Z",
          "2022-04-29T02:34:46.000Z",
          "2022-04-29T02:35:48.000Z",
          "2022-04-29T02:36:51.000Z",
          "2022-04-29T02:37:54.000Z",
          "2022-04-29T02:38:57.000Z",
          "2022-04-29T02:40:00.000Z",
          "2022-04-29T02:41:02.000Z",
          "2022-04-29T02:42:04.000Z",
          "2022-04-29T02:43:07.000Z",
          "2022-04-29T02:44:09.000Z",
          "2022-04-29T02:45:11.000Z",
          "2022-04-29T02:46:14.000Z",
          "2022-04-29T02:47:17.000Z",
          "2022-04-29T02:48:19.000Z",
          "2022-04-29T02:49:23.000Z",
          "2022-04-29T02:50:26.000Z",
          "2022-04-29T02:51:30.000Z",
          "2022-04-29T02:52:33.000Z",
          "2022-04-29T02:53:35.000Z",
          "2022-04-29T02:54:38.000Z",
          "2022-04-29T02:55:40.000Z",
          "2022-04-29T02:56:42.000Z",
          "2022-04-29T02:57:45.000Z",
          "2022-04-29T02:58:47.000Z",
          "2022-04-29T02:59:48.000Z",
          "2022-04-29T03:00:51.000Z",
          "2022-04-29T03:01:53.000Z",
          "2022-04-29T03:02:55.000Z",
          "2022-04-29T03:03:56.000Z",
          "2022-04-29T03:04:58.000Z",
          "2022-04-29T03:06:01.000Z",
          "2022-04-29T03:07:03.000Z",
          "2022-04-29T03:08:05.000Z",
          "2022-04-29T03:09:07.000Z",
          "2022-04-29T03:10:09.000Z",
          "2022-04-29T03:11:12.000Z",
          "2022-04-29T03:12:14.000Z",
          "2022-04-29T03:13:16.000Z",
          "2022-04-29T03:14:18.000Z",
          "2022-04-29T03:15:20.000Z",
          "2022-04-29T03:16:22.000Z",
          "2022-04-29T03:17:26.000Z",
          "2022-04-29T03:18:28.000Z",
          "2022-04-29T03:19:30.000Z",
          "2022-04-29T03:20:32.000Z",
          "2022-04-29T03:21:34.000Z",
          "2022-04-29T03:22:36.000Z",
          "2022-04-29T03:23:38.000Z",
          "2022-04-29T03:24:41.000Z",
          "2022-04-29T03:25:43.000Z",
          "2022-04-29T03:26:45.000Z",
          "2022-04-29T03:27:47.000Z",
          "2022-04-29T03:28:50.000Z"
         ],
         "y": [
          2108.9,
          2112.2,
          2115,
          2115.31,
          2115.6,
          2117.9,
          2118.1,
          2117.9,
          2117.9,
          2117.9,
          2117.9,
          2117.9,
          2108.54,
          2111.31,
          2117.9,
          2114.31,
          2114.77,
          2116.3,
          2116.3,
          2117.61,
          2116.3,
          2120.2,
          2120.2,
          2120.2,
          2120.2,
          2116.3,
          2113.18,
          2111.6,
          2108.4,
          2108.21,
          2111.5,
          2110.61,
          2107.8,
          2107.8,
          2107.54,
          2107.83,
          2108.01,
          2107.51,
          2107.51,
          2112,
          2112,
          2107.7,
          2108.16,
          2108.17,
          2104.1,
          2101.81,
          2100.92,
          2097.81,
          2098.5,
          2099.8,
          2099.8,
          2100.5,
          2094.1,
          2099.7,
          2100.41,
          2101.91,
          2102.5,
          2105.99,
          2106.2,
          2106.8
         ]
        },
        {
         "name": "kraken_bid_ltc",
         "type": "scatter",
         "x": [
          "2022-04-29T02:27:29.000Z",
          "2022-04-29T02:28:31.000Z",
          "2022-04-29T02:29:34.000Z",
          "2022-04-29T02:30:37.000Z",
          "2022-04-29T02:31:39.000Z",
          "2022-04-29T02:32:42.000Z",
          "2022-04-29T02:33:44.000Z",
          "2022-04-29T02:34:46.000Z",
          "2022-04-29T02:35:48.000Z",
          "2022-04-29T02:36:51.000Z",
          "2022-04-29T02:37:54.000Z",
          "2022-04-29T02:38:57.000Z",
          "2022-04-29T02:40:00.000Z",
          "2022-04-29T02:41:02.000Z",
          "2022-04-29T02:42:04.000Z",
          "2022-04-29T02:43:07.000Z",
          "2022-04-29T02:44:09.000Z",
          "2022-04-29T02:45:11.000Z",
          "2022-04-29T02:46:14.000Z",
          "2022-04-29T02:47:17.000Z",
          "2022-04-29T02:48:19.000Z",
          "2022-04-29T02:49:23.000Z",
          "2022-04-29T02:50:26.000Z",
          "2022-04-29T02:51:30.000Z",
          "2022-04-29T02:52:33.000Z",
          "2022-04-29T02:53:35.000Z",
          "2022-04-29T02:54:38.000Z",
          "2022-04-29T02:55:40.000Z",
          "2022-04-29T02:56:42.000Z",
          "2022-04-29T02:57:45.000Z",
          "2022-04-29T02:58:47.000Z",
          "2022-04-29T02:59:48.000Z",
          "2022-04-29T03:00:51.000Z",
          "2022-04-29T03:01:53.000Z",
          "2022-04-29T03:02:55.000Z",
          "2022-04-29T03:03:56.000Z",
          "2022-04-29T03:04:58.000Z",
          "2022-04-29T03:06:01.000Z",
          "2022-04-29T03:07:03.000Z",
          "2022-04-29T03:08:05.000Z",
          "2022-04-29T03:09:07.000Z",
          "2022-04-29T03:10:09.000Z",
          "2022-04-29T03:11:12.000Z",
          "2022-04-29T03:12:14.000Z",
          "2022-04-29T03:13:16.000Z",
          "2022-04-29T03:14:18.000Z",
          "2022-04-29T03:15:20.000Z",
          "2022-04-29T03:16:22.000Z",
          "2022-04-29T03:17:26.000Z",
          "2022-04-29T03:18:28.000Z",
          "2022-04-29T03:19:30.000Z",
          "2022-04-29T03:20:32.000Z",
          "2022-04-29T03:21:34.000Z",
          "2022-04-29T03:22:36.000Z",
          "2022-04-29T03:23:38.000Z",
          "2022-04-29T03:24:41.000Z",
          "2022-04-29T03:25:43.000Z",
          "2022-04-29T03:26:45.000Z",
          "2022-04-29T03:27:47.000Z",
          "2022-04-29T03:28:50.000Z"
         ],
         "y": [
          103.29,
          103.45,
          103.62,
          103.66,
          103.67,
          103.67,
          103.84,
          103.88,
          103.73,
          103.63,
          103.56,
          103.36,
          103.34,
          103.61,
          103.61,
          103.62,
          103.62,
          103.62,
          103.71,
          103.75,
          103.72,
          103.7,
          103.71,
          103.67,
          103.65,
          103.63,
          103.53,
          103.34,
          103.34,
          103.34,
          103.45,
          103.46,
          103.37,
          103.35,
          103.34,
          103.39,
          103.34,
          103.34,
          103.43,
          103.43,
          103.34,
          103.34,
          103.42,
          103.3,
          103.01,
          103.08,
          103.01,
          102.84,
          102.94,
          102.94,
          102.94,
          102.93,
          102.8,
          103.03,
          103.02,
          103.14,
          103.15,
          103.27,
          103.29,
          103.28
         ]
        },
        {
         "name": "binance_bid_ltc",
         "type": "scatter",
         "x": [
          "2022-04-29T02:27:29.000Z",
          "2022-04-29T02:28:31.000Z",
          "2022-04-29T02:29:34.000Z",
          "2022-04-29T02:30:37.000Z",
          "2022-04-29T02:31:39.000Z",
          "2022-04-29T02:32:42.000Z",
          "2022-04-29T02:33:44.000Z",
          "2022-04-29T02:34:46.000Z",
          "2022-04-29T02:35:48.000Z",
          "2022-04-29T02:36:51.000Z",
          "2022-04-29T02:37:54.000Z",
          "2022-04-29T02:38:57.000Z",
          "2022-04-29T02:40:00.000Z",
          "2022-04-29T02:41:02.000Z",
          "2022-04-29T02:42:04.000Z",
          "2022-04-29T02:43:07.000Z",
          "2022-04-29T02:44:09.000Z",
          "2022-04-29T02:45:11.000Z",
          "2022-04-29T02:46:14.000Z",
          "2022-04-29T02:47:17.000Z",
          "2022-04-29T02:48:19.000Z",
          "2022-04-29T02:49:23.000Z",
          "2022-04-29T02:50:26.000Z",
          "2022-04-29T02:51:30.000Z",
          "2022-04-29T02:52:33.000Z",
          "2022-04-29T02:53:35.000Z",
          "2022-04-29T02:54:38.000Z",
          "2022-04-29T02:55:40.000Z",
          "2022-04-29T02:56:42.000Z",
          "2022-04-29T02:57:45.000Z",
          "2022-04-29T02:58:47.000Z",
          "2022-04-29T02:59:48.000Z",
          "2022-04-29T03:00:51.000Z",
          "2022-04-29T03:01:53.000Z",
          "2022-04-29T03:02:55.000Z",
          "2022-04-29T03:03:56.000Z",
          "2022-04-29T03:04:58.000Z",
          "2022-04-29T03:06:01.000Z",
          "2022-04-29T03:07:03.000Z",
          "2022-04-29T03:08:05.000Z",
          "2022-04-29T03:09:07.000Z",
          "2022-04-29T03:10:09.000Z",
          "2022-04-29T03:11:12.000Z",
          "2022-04-29T03:12:14.000Z",
          "2022-04-29T03:13:16.000Z",
          "2022-04-29T03:14:18.000Z",
          "2022-04-29T03:15:20.000Z",
          "2022-04-29T03:16:22.000Z",
          "2022-04-29T03:17:26.000Z",
          "2022-04-29T03:18:28.000Z",
          "2022-04-29T03:19:30.000Z",
          "2022-04-29T03:20:32.000Z",
          "2022-04-29T03:21:34.000Z",
          "2022-04-29T03:22:36.000Z",
          "2022-04-29T03:23:38.000Z",
          "2022-04-29T03:24:41.000Z",
          "2022-04-29T03:25:43.000Z",
          "2022-04-29T03:26:45.000Z",
          "2022-04-29T03:27:47.000Z",
          "2022-04-29T03:28:50.000Z"
         ],
         "y": [
          102.890003,
          103.05,
          103.17,
          103.25,
          103.170001,
          103.21,
          103.390001,
          103.19,
          103.39,
          103.25,
          103.11,
          102.95,
          102.81,
          103.13,
          103.190007,
          103.250003,
          103.21,
          103.290003,
          103.31,
          103.33,
          103.270003,
          103.290003,
          103.290003,
          103.290003,
          103.290003,
          103.290003,
          102.810001,
          102.670001,
          102.57,
          102.930003,
          102.99,
          103.05,
          102.85,
          102.79,
          102.890003,
          102.97,
          102.51,
          102.890003,
          102.91,
          102.990003,
          102.55,
          102.890003,
          102.930003,
          102.83,
          102.49,
          102.56,
          102.26,
          102.440003,
          102.5,
          102.32,
          102.5,
          102.140001,
          102.1,
          102.54,
          102.6,
          102.66,
          102.7,
          102.86,
          102.92,
          102.77
         ]
        }
       ],
       "layout": {
        "template": {
         "data": {
          "bar": [
           {
            "error_x": {
             "color": "#2a3f5f"
            },
            "error_y": {
             "color": "#2a3f5f"
            },
            "marker": {
             "line": {
              "color": "#E5ECF6",
              "width": 0.5
             },
             "pattern": {
              "fillmode": "overlay",
              "size": 10,
              "solidity": 0.2
             }
            },
            "type": "bar"
           }
          ],
          "barpolar": [
           {
            "marker": {
             "line": {
              "color": "#E5ECF6",
              "width": 0.5
             },
             "pattern": {
              "fillmode": "overlay",
              "size": 10,
              "solidity": 0.2
             }
            },
            "type": "barpolar"
           }
          ],
          "carpet": [
           {
            "aaxis": {
             "endlinecolor": "#2a3f5f",
             "gridcolor": "white",
             "linecolor": "white",
             "minorgridcolor": "white",
             "startlinecolor": "#2a3f5f"
            },
            "baxis": {
             "endlinecolor": "#2a3f5f",
             "gridcolor": "white",
             "linecolor": "white",
             "minorgridcolor": "white",
             "startlinecolor": "#2a3f5f"
            },
            "type": "carpet"
           }
          ],
          "choropleth": [
           {
            "colorbar": {
             "outlinewidth": 0,
             "ticks": ""
            },
            "type": "choropleth"
           }
          ],
          "contour": [
           {
            "colorbar": {
             "outlinewidth": 0,
             "ticks": ""
            },
            "colorscale": [
             [
              0,
              "#0d0887"
             ],
             [
              0.1111111111111111,
              "#46039f"
             ],
             [
              0.2222222222222222,
              "#7201a8"
             ],
             [
              0.3333333333333333,
              "#9c179e"
             ],
             [
              0.4444444444444444,
              "#bd3786"
             ],
             [
              0.5555555555555556,
              "#d8576b"
             ],
             [
              0.6666666666666666,
              "#ed7953"
             ],
             [
              0.7777777777777778,
              "#fb9f3a"
             ],
             [
              0.8888888888888888,
              "#fdca26"
             ],
             [
              1,
              "#f0f921"
             ]
            ],
            "type": "contour"
           }
          ],
          "contourcarpet": [
           {
            "colorbar": {
             "outlinewidth": 0,
             "ticks": ""
            },
            "type": "contourcarpet"
           }
          ],
          "heatmap": [
           {
            "colorbar": {
             "outlinewidth": 0,
             "ticks": ""
            },
            "colorscale": [
             [
              0,
              "#0d0887"
             ],
             [
              0.1111111111111111,
              "#46039f"
             ],
             [
              0.2222222222222222,
              "#7201a8"
             ],
             [
              0.3333333333333333,
              "#9c179e"
             ],
             [
              0.4444444444444444,
              "#bd3786"
             ],
             [
              0.5555555555555556,
              "#d8576b"
             ],
             [
              0.6666666666666666,
              "#ed7953"
             ],
             [
              0.7777777777777778,
              "#fb9f3a"
             ],
             [
              0.8888888888888888,
              "#fdca26"
             ],
             [
              1,
              "#f0f921"
             ]
            ],
            "type": "heatmap"
           }
          ],
          "heatmapgl": [
           {
            "colorbar": {
             "outlinewidth": 0,
             "ticks": ""
            },
            "colorscale": [
             [
              0,
              "#0d0887"
             ],
             [
              0.1111111111111111,
              "#46039f"
             ],
             [
              0.2222222222222222,
              "#7201a8"
             ],
             [
              0.3333333333333333,
              "#9c179e"
             ],
             [
              0.4444444444444444,
              "#bd3786"
             ],
             [
              0.5555555555555556,
              "#d8576b"
             ],
             [
              0.6666666666666666,
              "#ed7953"
             ],
             [
              0.7777777777777778,
              "#fb9f3a"
             ],
             [
              0.8888888888888888,
              "#fdca26"
             ],
             [
              1,
              "#f0f921"
             ]
            ],
            "type": "heatmapgl"
           }
          ],
          "histogram": [
           {
            "marker": {
             "pattern": {
              "fillmode": "overlay",
              "size": 10,
              "solidity": 0.2
             }
            },
            "type": "histogram"
           }
          ],
          "histogram2d": [
           {
            "colorbar": {
             "outlinewidth": 0,
             "ticks": ""
            },
            "colorscale": [
             [
              0,
              "#0d0887"
             ],
             [
              0.1111111111111111,
              "#46039f"
             ],
             [
              0.2222222222222222,
              "#7201a8"
             ],
             [
              0.3333333333333333,
              "#9c179e"
             ],
             [
              0.4444444444444444,
              "#bd3786"
             ],
             [
              0.5555555555555556,
              "#d8576b"
             ],
             [
              0.6666666666666666,
              "#ed7953"
             ],
             [
              0.7777777777777778,
              "#fb9f3a"
             ],
             [
              0.8888888888888888,
              "#fdca26"
             ],
             [
              1,
              "#f0f921"
             ]
            ],
            "type": "histogram2d"
           }
          ],
          "histogram2dcontour": [
           {
            "colorbar": {
             "outlinewidth": 0,
             "ticks": ""
            },
            "colorscale": [
             [
              0,
              "#0d0887"
             ],
             [
              0.1111111111111111,
              "#46039f"
             ],
             [
              0.2222222222222222,
              "#7201a8"
             ],
             [
              0.3333333333333333,
              "#9c179e"
             ],
             [
              0.4444444444444444,
              "#bd3786"
             ],
             [
              0.5555555555555556,
              "#d8576b"
             ],
             [
              0.6666666666666666,
              "#ed7953"
             ],
             [
              0.7777777777777778,
              "#fb9f3a"
             ],
             [
              0.8888888888888888,
              "#fdca26"
             ],
             [
              1,
              "#f0f921"
             ]
            ],
            "type": "histogram2dcontour"
           }
          ],
          "mesh3d": [
           {
            "colorbar": {
             "outlinewidth": 0,
             "ticks": ""
            },
            "type": "mesh3d"
           }
          ],
          "parcoords": [
           {
            "line": {
             "colorbar": {
              "outlinewidth": 0,
              "ticks": ""
             }
            },
            "type": "parcoords"
           }
          ],
          "pie": [
           {
            "automargin": true,
            "type": "pie"
           }
          ],
          "scatter": [
           {
            "marker": {
             "colorbar": {
              "outlinewidth": 0,
              "ticks": ""
             }
            },
            "type": "scatter"
           }
          ],
          "scatter3d": [
           {
            "line": {
             "colorbar": {
              "outlinewidth": 0,
              "ticks": ""
             }
            },
            "marker": {
             "colorbar": {
              "outlinewidth": 0,
              "ticks": ""
             }
            },
            "type": "scatter3d"
           }
          ],
          "scattercarpet": [
           {
            "marker": {
             "colorbar": {
              "outlinewidth": 0,
              "ticks": ""
             }
            },
            "type": "scattercarpet"
           }
          ],
          "scattergeo": [
           {
            "marker": {
             "colorbar": {
              "outlinewidth": 0,
              "ticks": ""
             }
            },
            "type": "scattergeo"
           }
          ],
          "scattergl": [
           {
            "marker": {
             "colorbar": {
              "outlinewidth": 0,
              "ticks": ""
             }
            },
            "type": "scattergl"
           }
          ],
          "scattermapbox": [
           {
            "marker": {
             "colorbar": {
              "outlinewidth": 0,
              "ticks": ""
             }
            },
            "type": "scattermapbox"
           }
          ],
          "scatterpolar": [
           {
            "marker": {
             "colorbar": {
              "outlinewidth": 0,
              "ticks": ""
             }
            },
            "type": "scatterpolar"
           }
          ],
          "scatterpolargl": [
           {
            "marker": {
             "colorbar": {
              "outlinewidth": 0,
              "ticks": ""
             }
            },
            "type": "scatterpolargl"
           }
          ],
          "scatterternary": [
           {
            "marker": {
             "colorbar": {
              "outlinewidth": 0,
              "ticks": ""
             }
            },
            "type": "scatterternary"
           }
          ],
          "surface": [
           {
            "colorbar": {
             "outlinewidth": 0,
             "ticks": ""
            },
            "colorscale": [
             [
              0,
              "#0d0887"
             ],
             [
              0.1111111111111111,
              "#46039f"
             ],
             [
              0.2222222222222222,
              "#7201a8"
             ],
             [
              0.3333333333333333,
              "#9c179e"
             ],
             [
              0.4444444444444444,
              "#bd3786"
             ],
             [
              0.5555555555555556,
              "#d8576b"
             ],
             [
              0.6666666666666666,
              "#ed7953"
             ],
             [
              0.7777777777777778,
              "#fb9f3a"
             ],
             [
              0.8888888888888888,
              "#fdca26"
             ],
             [
              1,
              "#f0f921"
             ]
            ],
            "type": "surface"
           }
          ],
          "table": [
           {
            "cells": {
             "fill": {
              "color": "#EBF0F8"
             },
             "line": {
              "color": "white"
             }
            },
            "header": {
             "fill": {
              "color": "#C8D4E3"
             },
             "line": {
              "color": "white"
             }
            },
            "type": "table"
           }
          ]
         },
         "layout": {
          "annotationdefaults": {
           "arrowcolor": "#2a3f5f",
           "arrowhead": 0,
           "arrowwidth": 1
          },
          "autotypenumbers": "strict",
          "coloraxis": {
           "colorbar": {
            "outlinewidth": 0,
            "ticks": ""
           }
          },
          "colorscale": {
           "diverging": [
            [
             0,
             "#8e0152"
            ],
            [
             0.1,
             "#c51b7d"
            ],
            [
             0.2,
             "#de77ae"
            ],
            [
             0.3,
             "#f1b6da"
            ],
            [
             0.4,
             "#fde0ef"
            ],
            [
             0.5,
             "#f7f7f7"
            ],
            [
             0.6,
             "#e6f5d0"
            ],
            [
             0.7,
             "#b8e186"
            ],
            [
             0.8,
             "#7fbc41"
            ],
            [
             0.9,
             "#4d9221"
            ],
            [
             1,
             "#276419"
            ]
           ],
           "sequential": [
            [
             0,
             "#0d0887"
            ],
            [
             0.1111111111111111,
             "#46039f"
            ],
            [
             0.2222222222222222,
             "#7201a8"
            ],
            [
             0.3333333333333333,
             "#9c179e"
            ],
            [
             0.4444444444444444,
             "#bd3786"
            ],
            [
             0.5555555555555556,
             "#d8576b"
            ],
            [
             0.6666666666666666,
             "#ed7953"
            ],
            [
             0.7777777777777778,
             "#fb9f3a"
            ],
            [
             0.8888888888888888,
             "#fdca26"
            ],
            [
             1,
             "#f0f921"
            ]
           ],
           "sequentialminus": [
            [
             0,
             "#0d0887"
            ],
            [
             0.1111111111111111,
             "#46039f"
            ],
            [
             0.2222222222222222,
             "#7201a8"
            ],
            [
             0.3333333333333333,
             "#9c179e"
            ],
            [
             0.4444444444444444,
             "#bd3786"
            ],
            [
             0.5555555555555556,
             "#d8576b"
            ],
            [
             0.6666666666666666,
             "#ed7953"
            ],
            [
             0.7777777777777778,
             "#fb9f3a"
            ],
            [
             0.8888888888888888,
             "#fdca26"
            ],
            [
             1,
             "#f0f921"
            ]
           ]
          },
          "colorway": [
           "#636efa",
           "#EF553B",
           "#00cc96",
           "#ab63fa",
           "#FFA15A",
           "#19d3f3",
           "#FF6692",
           "#B6E880",
           "#FF97FF",
           "#FECB52"
          ],
          "font": {
           "color": "#2a3f5f"
          },
          "geo": {
           "bgcolor": "white",
           "lakecolor": "white",
           "landcolor": "#E5ECF6",
           "showlakes": true,
           "showland": true,
           "subunitcolor": "white"
          },
          "hoverlabel": {
           "align": "left"
          },
          "hovermode": "closest",
          "mapbox": {
           "style": "light"
          },
          "paper_bgcolor": "white",
          "plot_bgcolor": "#E5ECF6",
          "polar": {
           "angularaxis": {
            "gridcolor": "white",
            "linecolor": "white",
            "ticks": ""
           },
           "bgcolor": "#E5ECF6",
           "radialaxis": {
            "gridcolor": "white",
            "linecolor": "white",
            "ticks": ""
           }
          },
          "scene": {
           "xaxis": {
            "backgroundcolor": "#E5ECF6",
            "gridcolor": "white",
            "gridwidth": 2,
            "linecolor": "white",
            "showbackground": true,
            "ticks": "",
            "zerolinecolor": "white"
           },
           "yaxis": {
            "backgroundcolor": "#E5ECF6",
            "gridcolor": "white",
            "gridwidth": 2,
            "linecolor": "white",
            "showbackground": true,
            "ticks": "",
            "zerolinecolor": "white"
           },
           "zaxis": {
            "backgroundcolor": "#E5ECF6",
            "gridcolor": "white",
            "gridwidth": 2,
            "linecolor": "white",
            "showbackground": true,
            "ticks": "",
            "zerolinecolor": "white"
           }
          },
          "shapedefaults": {
           "line": {
            "color": "#2a3f5f"
           }
          },
          "ternary": {
           "aaxis": {
            "gridcolor": "white",
            "linecolor": "white",
            "ticks": ""
           },
           "baxis": {
            "gridcolor": "white",
            "linecolor": "white",
            "ticks": ""
           },
           "bgcolor": "#E5ECF6",
           "caxis": {
            "gridcolor": "white",
            "linecolor": "white",
            "ticks": ""
           }
          },
          "title": {
           "x": 0.05
          },
          "xaxis": {
           "automargin": true,
           "gridcolor": "white",
           "linecolor": "white",
           "ticks": "",
           "title": {
            "standoff": 15
           },
           "zerolinecolor": "white",
           "zerolinewidth": 2
          },
          "yaxis": {
           "automargin": true,
           "gridcolor": "white",
           "linecolor": "white",
           "ticks": "",
           "title": {
            "standoff": 15
           },
           "zerolinecolor": "white",
           "zerolinewidth": 2
          }
         }
        }
       }
      },
      "text/html": [
       "<div>                            <div id=\"a6c41cea-02db-423e-a3d2-550225711507\" class=\"plotly-graph-div\" style=\"height:525px; width:100%;\"></div>            <script type=\"text/javascript\">                require([\"plotly\"], function(Plotly) {                    window.PLOTLYENV=window.PLOTLYENV || {};                                    if (document.getElementById(\"a6c41cea-02db-423e-a3d2-550225711507\")) {                    Plotly.newPlot(                        \"a6c41cea-02db-423e-a3d2-550225711507\",                        [{\"connectgaps\":true,\"name\":\"bitso_bid_ltc\",\"x\":[\"2022-04-29T02:27:29.000Z\",\"2022-04-29T02:28:31.000Z\",\"2022-04-29T02:29:34.000Z\",\"2022-04-29T02:30:37.000Z\",\"2022-04-29T02:31:39.000Z\",\"2022-04-29T02:32:42.000Z\",\"2022-04-29T02:33:44.000Z\",\"2022-04-29T02:34:46.000Z\",\"2022-04-29T02:35:48.000Z\",\"2022-04-29T02:36:51.000Z\",\"2022-04-29T02:37:54.000Z\",\"2022-04-29T02:38:57.000Z\",\"2022-04-29T02:40:00.000Z\",\"2022-04-29T02:41:02.000Z\",\"2022-04-29T02:42:04.000Z\",\"2022-04-29T02:43:07.000Z\",\"2022-04-29T02:44:09.000Z\",\"2022-04-29T02:45:11.000Z\",\"2022-04-29T02:46:14.000Z\",\"2022-04-29T02:47:17.000Z\",\"2022-04-29T02:48:19.000Z\",\"2022-04-29T02:49:23.000Z\",\"2022-04-29T02:50:26.000Z\",\"2022-04-29T02:51:30.000Z\",\"2022-04-29T02:52:33.000Z\",\"2022-04-29T02:53:35.000Z\",\"2022-04-29T02:54:38.000Z\",\"2022-04-29T02:55:40.000Z\",\"2022-04-29T02:56:42.000Z\",\"2022-04-29T02:57:45.000Z\",\"2022-04-29T02:58:47.000Z\",\"2022-04-29T02:59:48.000Z\",\"2022-04-29T03:00:51.000Z\",\"2022-04-29T03:01:53.000Z\",\"2022-04-29T03:02:55.000Z\",\"2022-04-29T03:03:56.000Z\",\"2022-04-29T03:04:58.000Z\",\"2022-04-29T03:06:01.000Z\",\"2022-04-29T03:07:03.000Z\",\"2022-04-29T03:08:05.000Z\",\"2022-04-29T03:09:07.000Z\",\"2022-04-29T03:10:09.000Z\",\"2022-04-29T03:11:12.000Z\",\"2022-04-29T03:12:14.000Z\",\"2022-04-29T03:13:16.000Z\",\"2022-04-29T03:14:18.000Z\",\"2022-04-29T03:15:20.000Z\",\"2022-04-29T03:16:22.000Z\",\"2022-04-29T03:17:26.000Z\",\"2022-04-29T03:18:28.000Z\",\"2022-04-29T03:19:30.000Z\",\"2022-04-29T03:20:32.000Z\",\"2022-04-29T03:21:34.000Z\",\"2022-04-29T03:22:36.000Z\",\"2022-04-29T03:23:38.000Z\",\"2022-04-29T03:24:41.000Z\",\"2022-04-29T03:25:43.000Z\",\"2022-04-29T03:26:45.000Z\",\"2022-04-29T03:27:47.000Z\",\"2022-04-29T03:28:50.000Z\"],\"y\":[2108.9,2112.2,2115.0,2115.31,2115.6,2117.9,2118.1,2117.9,2117.9,2117.9,2117.9,2117.9,2108.54,2111.31,2117.9,2114.31,2114.77,2116.3,2116.3,2117.61,2116.3,2120.2,2120.2,2120.2,2120.2,2116.3,2113.18,2111.6,2108.4,2108.21,2111.5,2110.61,2107.8,2107.8,2107.54,2107.83,2108.01,2107.51,2107.51,2112.0,2112.0,2107.7,2108.16,2108.17,2104.1,2101.81,2100.92,2097.81,2098.5,2099.8,2099.8,2100.5,2094.1,2099.7,2100.41,2101.91,2102.5,2105.99,2106.2,2106.8],\"type\":\"scatter\"},{\"name\":\"kraken_bid_ltc\",\"x\":[\"2022-04-29T02:27:29.000Z\",\"2022-04-29T02:28:31.000Z\",\"2022-04-29T02:29:34.000Z\",\"2022-04-29T02:30:37.000Z\",\"2022-04-29T02:31:39.000Z\",\"2022-04-29T02:32:42.000Z\",\"2022-04-29T02:33:44.000Z\",\"2022-04-29T02:34:46.000Z\",\"2022-04-29T02:35:48.000Z\",\"2022-04-29T02:36:51.000Z\",\"2022-04-29T02:37:54.000Z\",\"2022-04-29T02:38:57.000Z\",\"2022-04-29T02:40:00.000Z\",\"2022-04-29T02:41:02.000Z\",\"2022-04-29T02:42:04.000Z\",\"2022-04-29T02:43:07.000Z\",\"2022-04-29T02:44:09.000Z\",\"2022-04-29T02:45:11.000Z\",\"2022-04-29T02:46:14.000Z\",\"2022-04-29T02:47:17.000Z\",\"2022-04-29T02:48:19.000Z\",\"2022-04-29T02:49:23.000Z\",\"2022-04-29T02:50:26.000Z\",\"2022-04-29T02:51:30.000Z\",\"2022-04-29T02:52:33.000Z\",\"2022-04-29T02:53:35.000Z\",\"2022-04-29T02:54:38.000Z\",\"2022-04-29T02:55:40.000Z\",\"2022-04-29T02:56:42.000Z\",\"2022-04-29T02:57:45.000Z\",\"2022-04-29T02:58:47.000Z\",\"2022-04-29T02:59:48.000Z\",\"2022-04-29T03:00:51.000Z\",\"2022-04-29T03:01:53.000Z\",\"2022-04-29T03:02:55.000Z\",\"2022-04-29T03:03:56.000Z\",\"2022-04-29T03:04:58.000Z\",\"2022-04-29T03:06:01.000Z\",\"2022-04-29T03:07:03.000Z\",\"2022-04-29T03:08:05.000Z\",\"2022-04-29T03:09:07.000Z\",\"2022-04-29T03:10:09.000Z\",\"2022-04-29T03:11:12.000Z\",\"2022-04-29T03:12:14.000Z\",\"2022-04-29T03:13:16.000Z\",\"2022-04-29T03:14:18.000Z\",\"2022-04-29T03:15:20.000Z\",\"2022-04-29T03:16:22.000Z\",\"2022-04-29T03:17:26.000Z\",\"2022-04-29T03:18:28.000Z\",\"2022-04-29T03:19:30.000Z\",\"2022-04-29T03:20:32.000Z\",\"2022-04-29T03:21:34.000Z\",\"2022-04-29T03:22:36.000Z\",\"2022-04-29T03:23:38.000Z\",\"2022-04-29T03:24:41.000Z\",\"2022-04-29T03:25:43.000Z\",\"2022-04-29T03:26:45.000Z\",\"2022-04-29T03:27:47.000Z\",\"2022-04-29T03:28:50.000Z\"],\"y\":[103.29,103.45,103.62,103.66,103.67,103.67,103.84,103.88,103.73,103.63,103.56,103.36,103.34,103.61,103.61,103.62,103.62,103.62,103.71,103.75,103.72,103.7,103.71,103.67,103.65,103.63,103.53,103.34,103.34,103.34,103.45,103.46,103.37,103.35,103.34,103.39,103.34,103.34,103.43,103.43,103.34,103.34,103.42,103.3,103.01,103.08,103.01,102.84,102.94,102.94,102.94,102.93,102.8,103.03,103.02,103.14,103.15,103.27,103.29,103.28],\"type\":\"scatter\"},{\"name\":\"binance_bid_ltc\",\"x\":[\"2022-04-29T02:27:29.000Z\",\"2022-04-29T02:28:31.000Z\",\"2022-04-29T02:29:34.000Z\",\"2022-04-29T02:30:37.000Z\",\"2022-04-29T02:31:39.000Z\",\"2022-04-29T02:32:42.000Z\",\"2022-04-29T02:33:44.000Z\",\"2022-04-29T02:34:46.000Z\",\"2022-04-29T02:35:48.000Z\",\"2022-04-29T02:36:51.000Z\",\"2022-04-29T02:37:54.000Z\",\"2022-04-29T02:38:57.000Z\",\"2022-04-29T02:40:00.000Z\",\"2022-04-29T02:41:02.000Z\",\"2022-04-29T02:42:04.000Z\",\"2022-04-29T02:43:07.000Z\",\"2022-04-29T02:44:09.000Z\",\"2022-04-29T02:45:11.000Z\",\"2022-04-29T02:46:14.000Z\",\"2022-04-29T02:47:17.000Z\",\"2022-04-29T02:48:19.000Z\",\"2022-04-29T02:49:23.000Z\",\"2022-04-29T02:50:26.000Z\",\"2022-04-29T02:51:30.000Z\",\"2022-04-29T02:52:33.000Z\",\"2022-04-29T02:53:35.000Z\",\"2022-04-29T02:54:38.000Z\",\"2022-04-29T02:55:40.000Z\",\"2022-04-29T02:56:42.000Z\",\"2022-04-29T02:57:45.000Z\",\"2022-04-29T02:58:47.000Z\",\"2022-04-29T02:59:48.000Z\",\"2022-04-29T03:00:51.000Z\",\"2022-04-29T03:01:53.000Z\",\"2022-04-29T03:02:55.000Z\",\"2022-04-29T03:03:56.000Z\",\"2022-04-29T03:04:58.000Z\",\"2022-04-29T03:06:01.000Z\",\"2022-04-29T03:07:03.000Z\",\"2022-04-29T03:08:05.000Z\",\"2022-04-29T03:09:07.000Z\",\"2022-04-29T03:10:09.000Z\",\"2022-04-29T03:11:12.000Z\",\"2022-04-29T03:12:14.000Z\",\"2022-04-29T03:13:16.000Z\",\"2022-04-29T03:14:18.000Z\",\"2022-04-29T03:15:20.000Z\",\"2022-04-29T03:16:22.000Z\",\"2022-04-29T03:17:26.000Z\",\"2022-04-29T03:18:28.000Z\",\"2022-04-29T03:19:30.000Z\",\"2022-04-29T03:20:32.000Z\",\"2022-04-29T03:21:34.000Z\",\"2022-04-29T03:22:36.000Z\",\"2022-04-29T03:23:38.000Z\",\"2022-04-29T03:24:41.000Z\",\"2022-04-29T03:25:43.000Z\",\"2022-04-29T03:26:45.000Z\",\"2022-04-29T03:27:47.000Z\",\"2022-04-29T03:28:50.000Z\"],\"y\":[102.890003,103.05,103.17,103.25,103.170001,103.21,103.390001,103.19,103.39,103.25,103.11,102.95,102.81,103.13,103.190007,103.250003,103.21,103.290003,103.31,103.33,103.270003,103.290003,103.290003,103.290003,103.290003,103.290003,102.810001,102.670001,102.57,102.930003,102.99,103.05,102.85,102.79,102.890003,102.97,102.51,102.890003,102.91,102.990003,102.55,102.890003,102.930003,102.83,102.49,102.56,102.26,102.440003,102.5,102.32,102.5,102.140001,102.1,102.54,102.6,102.66,102.7,102.86,102.92,102.77],\"type\":\"scatter\"}],                        {\"template\":{\"data\":{\"bar\":[{\"error_x\":{\"color\":\"#2a3f5f\"},\"error_y\":{\"color\":\"#2a3f5f\"},\"marker\":{\"line\":{\"color\":\"#E5ECF6\",\"width\":0.5},\"pattern\":{\"fillmode\":\"overlay\",\"size\":10,\"solidity\":0.2}},\"type\":\"bar\"}],\"barpolar\":[{\"marker\":{\"line\":{\"color\":\"#E5ECF6\",\"width\":0.5},\"pattern\":{\"fillmode\":\"overlay\",\"size\":10,\"solidity\":0.2}},\"type\":\"barpolar\"}],\"carpet\":[{\"aaxis\":{\"endlinecolor\":\"#2a3f5f\",\"gridcolor\":\"white\",\"linecolor\":\"white\",\"minorgridcolor\":\"white\",\"startlinecolor\":\"#2a3f5f\"},\"baxis\":{\"endlinecolor\":\"#2a3f5f\",\"gridcolor\":\"white\",\"linecolor\":\"white\",\"minorgridcolor\":\"white\",\"startlinecolor\":\"#2a3f5f\"},\"type\":\"carpet\"}],\"choropleth\":[{\"colorbar\":{\"outlinewidth\":0,\"ticks\":\"\"},\"type\":\"choropleth\"}],\"contour\":[{\"colorbar\":{\"outlinewidth\":0,\"ticks\":\"\"},\"colorscale\":[[0.0,\"#0d0887\"],[0.1111111111111111,\"#46039f\"],[0.2222222222222222,\"#7201a8\"],[0.3333333333333333,\"#9c179e\"],[0.4444444444444444,\"#bd3786\"],[0.5555555555555556,\"#d8576b\"],[0.6666666666666666,\"#ed7953\"],[0.7777777777777778,\"#fb9f3a\"],[0.8888888888888888,\"#fdca26\"],[1.0,\"#f0f921\"]],\"type\":\"contour\"}],\"contourcarpet\":[{\"colorbar\":{\"outlinewidth\":0,\"ticks\":\"\"},\"type\":\"contourcarpet\"}],\"heatmap\":[{\"colorbar\":{\"outlinewidth\":0,\"ticks\":\"\"},\"colorscale\":[[0.0,\"#0d0887\"],[0.1111111111111111,\"#46039f\"],[0.2222222222222222,\"#7201a8\"],[0.3333333333333333,\"#9c179e\"],[0.4444444444444444,\"#bd3786\"],[0.5555555555555556,\"#d8576b\"],[0.6666666666666666,\"#ed7953\"],[0.7777777777777778,\"#fb9f3a\"],[0.8888888888888888,\"#fdca26\"],[1.0,\"#f0f921\"]],\"type\":\"heatmap\"}],\"heatmapgl\":[{\"colorbar\":{\"outlinewidth\":0,\"ticks\":\"\"},\"colorscale\":[[0.0,\"#0d0887\"],[0.1111111111111111,\"#46039f\"],[0.2222222222222222,\"#7201a8\"],[0.3333333333333333,\"#9c179e\"],[0.4444444444444444,\"#bd3786\"],[0.5555555555555556,\"#d8576b\"],[0.6666666666666666,\"#ed7953\"],[0.7777777777777778,\"#fb9f3a\"],[0.8888888888888888,\"#fdca26\"],[1.0,\"#f0f921\"]],\"type\":\"heatmapgl\"}],\"histogram\":[{\"marker\":{\"pattern\":{\"fillmode\":\"overlay\",\"size\":10,\"solidity\":0.2}},\"type\":\"histogram\"}],\"histogram2d\":[{\"colorbar\":{\"outlinewidth\":0,\"ticks\":\"\"},\"colorscale\":[[0.0,\"#0d0887\"],[0.1111111111111111,\"#46039f\"],[0.2222222222222222,\"#7201a8\"],[0.3333333333333333,\"#9c179e\"],[0.4444444444444444,\"#bd3786\"],[0.5555555555555556,\"#d8576b\"],[0.6666666666666666,\"#ed7953\"],[0.7777777777777778,\"#fb9f3a\"],[0.8888888888888888,\"#fdca26\"],[1.0,\"#f0f921\"]],\"type\":\"histogram2d\"}],\"histogram2dcontour\":[{\"colorbar\":{\"outlinewidth\":0,\"ticks\":\"\"},\"colorscale\":[[0.0,\"#0d0887\"],[0.1111111111111111,\"#46039f\"],[0.2222222222222222,\"#7201a8\"],[0.3333333333333333,\"#9c179e\"],[0.4444444444444444,\"#bd3786\"],[0.5555555555555556,\"#d8576b\"],[0.6666666666666666,\"#ed7953\"],[0.7777777777777778,\"#fb9f3a\"],[0.8888888888888888,\"#fdca26\"],[1.0,\"#f0f921\"]],\"type\":\"histogram2dcontour\"}],\"mesh3d\":[{\"colorbar\":{\"outlinewidth\":0,\"ticks\":\"\"},\"type\":\"mesh3d\"}],\"parcoords\":[{\"line\":{\"colorbar\":{\"outlinewidth\":0,\"ticks\":\"\"}},\"type\":\"parcoords\"}],\"pie\":[{\"automargin\":true,\"type\":\"pie\"}],\"scatter\":[{\"marker\":{\"colorbar\":{\"outlinewidth\":0,\"ticks\":\"\"}},\"type\":\"scatter\"}],\"scatter3d\":[{\"line\":{\"colorbar\":{\"outlinewidth\":0,\"ticks\":\"\"}},\"marker\":{\"colorbar\":{\"outlinewidth\":0,\"ticks\":\"\"}},\"type\":\"scatter3d\"}],\"scattercarpet\":[{\"marker\":{\"colorbar\":{\"outlinewidth\":0,\"ticks\":\"\"}},\"type\":\"scattercarpet\"}],\"scattergeo\":[{\"marker\":{\"colorbar\":{\"outlinewidth\":0,\"ticks\":\"\"}},\"type\":\"scattergeo\"}],\"scattergl\":[{\"marker\":{\"colorbar\":{\"outlinewidth\":0,\"ticks\":\"\"}},\"type\":\"scattergl\"}],\"scattermapbox\":[{\"marker\":{\"colorbar\":{\"outlinewidth\":0,\"ticks\":\"\"}},\"type\":\"scattermapbox\"}],\"scatterpolar\":[{\"marker\":{\"colorbar\":{\"outlinewidth\":0,\"ticks\":\"\"}},\"type\":\"scatterpolar\"}],\"scatterpolargl\":[{\"marker\":{\"colorbar\":{\"outlinewidth\":0,\"ticks\":\"\"}},\"type\":\"scatterpolargl\"}],\"scatterternary\":[{\"marker\":{\"colorbar\":{\"outlinewidth\":0,\"ticks\":\"\"}},\"type\":\"scatterternary\"}],\"surface\":[{\"colorbar\":{\"outlinewidth\":0,\"ticks\":\"\"},\"colorscale\":[[0.0,\"#0d0887\"],[0.1111111111111111,\"#46039f\"],[0.2222222222222222,\"#7201a8\"],[0.3333333333333333,\"#9c179e\"],[0.4444444444444444,\"#bd3786\"],[0.5555555555555556,\"#d8576b\"],[0.6666666666666666,\"#ed7953\"],[0.7777777777777778,\"#fb9f3a\"],[0.8888888888888888,\"#fdca26\"],[1.0,\"#f0f921\"]],\"type\":\"surface\"}],\"table\":[{\"cells\":{\"fill\":{\"color\":\"#EBF0F8\"},\"line\":{\"color\":\"white\"}},\"header\":{\"fill\":{\"color\":\"#C8D4E3\"},\"line\":{\"color\":\"white\"}},\"type\":\"table\"}]},\"layout\":{\"annotationdefaults\":{\"arrowcolor\":\"#2a3f5f\",\"arrowhead\":0,\"arrowwidth\":1},\"autotypenumbers\":\"strict\",\"coloraxis\":{\"colorbar\":{\"outlinewidth\":0,\"ticks\":\"\"}},\"colorscale\":{\"diverging\":[[0,\"#8e0152\"],[0.1,\"#c51b7d\"],[0.2,\"#de77ae\"],[0.3,\"#f1b6da\"],[0.4,\"#fde0ef\"],[0.5,\"#f7f7f7\"],[0.6,\"#e6f5d0\"],[0.7,\"#b8e186\"],[0.8,\"#7fbc41\"],[0.9,\"#4d9221\"],[1,\"#276419\"]],\"sequential\":[[0.0,\"#0d0887\"],[0.1111111111111111,\"#46039f\"],[0.2222222222222222,\"#7201a8\"],[0.3333333333333333,\"#9c179e\"],[0.4444444444444444,\"#bd3786\"],[0.5555555555555556,\"#d8576b\"],[0.6666666666666666,\"#ed7953\"],[0.7777777777777778,\"#fb9f3a\"],[0.8888888888888888,\"#fdca26\"],[1.0,\"#f0f921\"]],\"sequentialminus\":[[0.0,\"#0d0887\"],[0.1111111111111111,\"#46039f\"],[0.2222222222222222,\"#7201a8\"],[0.3333333333333333,\"#9c179e\"],[0.4444444444444444,\"#bd3786\"],[0.5555555555555556,\"#d8576b\"],[0.6666666666666666,\"#ed7953\"],[0.7777777777777778,\"#fb9f3a\"],[0.8888888888888888,\"#fdca26\"],[1.0,\"#f0f921\"]]},\"colorway\":[\"#636efa\",\"#EF553B\",\"#00cc96\",\"#ab63fa\",\"#FFA15A\",\"#19d3f3\",\"#FF6692\",\"#B6E880\",\"#FF97FF\",\"#FECB52\"],\"font\":{\"color\":\"#2a3f5f\"},\"geo\":{\"bgcolor\":\"white\",\"lakecolor\":\"white\",\"landcolor\":\"#E5ECF6\",\"showlakes\":true,\"showland\":true,\"subunitcolor\":\"white\"},\"hoverlabel\":{\"align\":\"left\"},\"hovermode\":\"closest\",\"mapbox\":{\"style\":\"light\"},\"paper_bgcolor\":\"white\",\"plot_bgcolor\":\"#E5ECF6\",\"polar\":{\"angularaxis\":{\"gridcolor\":\"white\",\"linecolor\":\"white\",\"ticks\":\"\"},\"bgcolor\":\"#E5ECF6\",\"radialaxis\":{\"gridcolor\":\"white\",\"linecolor\":\"white\",\"ticks\":\"\"}},\"scene\":{\"xaxis\":{\"backgroundcolor\":\"#E5ECF6\",\"gridcolor\":\"white\",\"gridwidth\":2,\"linecolor\":\"white\",\"showbackground\":true,\"ticks\":\"\",\"zerolinecolor\":\"white\"},\"yaxis\":{\"backgroundcolor\":\"#E5ECF6\",\"gridcolor\":\"white\",\"gridwidth\":2,\"linecolor\":\"white\",\"showbackground\":true,\"ticks\":\"\",\"zerolinecolor\":\"white\"},\"zaxis\":{\"backgroundcolor\":\"#E5ECF6\",\"gridcolor\":\"white\",\"gridwidth\":2,\"linecolor\":\"white\",\"showbackground\":true,\"ticks\":\"\",\"zerolinecolor\":\"white\"}},\"shapedefaults\":{\"line\":{\"color\":\"#2a3f5f\"}},\"ternary\":{\"aaxis\":{\"gridcolor\":\"white\",\"linecolor\":\"white\",\"ticks\":\"\"},\"baxis\":{\"gridcolor\":\"white\",\"linecolor\":\"white\",\"ticks\":\"\"},\"bgcolor\":\"#E5ECF6\",\"caxis\":{\"gridcolor\":\"white\",\"linecolor\":\"white\",\"ticks\":\"\"}},\"title\":{\"x\":0.05},\"xaxis\":{\"automargin\":true,\"gridcolor\":\"white\",\"linecolor\":\"white\",\"ticks\":\"\",\"title\":{\"standoff\":15},\"zerolinecolor\":\"white\",\"zerolinewidth\":2},\"yaxis\":{\"automargin\":true,\"gridcolor\":\"white\",\"linecolor\":\"white\",\"ticks\":\"\",\"title\":{\"standoff\":15},\"zerolinecolor\":\"white\",\"zerolinewidth\":2}}}},                        {\"responsive\": true}                    ).then(function(){\n",
       "                            \n",
       "var gd = document.getElementById('a6c41cea-02db-423e-a3d2-550225711507');\n",
       "var x = new MutationObserver(function (mutations, observer) {{\n",
       "        var display = window.getComputedStyle(gd).display;\n",
       "        if (!display || display === 'none') {{\n",
       "            console.log([gd, 'removed!']);\n",
       "            Plotly.purge(gd);\n",
       "            observer.disconnect();\n",
       "        }}\n",
       "}});\n",
       "\n",
       "// Listen for the removal of the full notebook cells\n",
       "var notebookContainer = gd.closest('#notebook-container');\n",
       "if (notebookContainer) {{\n",
       "    x.observe(notebookContainer, {childList: true});\n",
       "}}\n",
       "\n",
       "// Listen for the clearing of the current output cell\n",
       "var outputEl = gd.closest('.output');\n",
       "if (outputEl) {{\n",
       "    x.observe(outputEl, {childList: true});\n",
       "}}\n",
       "\n",
       "                        })                };                });            </script>        </div>"
      ]
     },
     "metadata": {},
     "output_type": "display_data"
    }
   ],
   "source": [
    "main.plot_bid_ltc_1(data)"
   ]
  },
  {
   "cell_type": "code",
   "execution_count": 16,
   "id": "4b171717",
   "metadata": {},
   "outputs": [
    {
     "data": {
      "application/vnd.plotly.v1+json": {
       "config": {
        "plotlyServerURL": "https://plot.ly"
       },
       "data": [
        {
         "connectgaps": true,
         "name": "bitso_ask_ltc",
         "type": "scatter",
         "x": [
          "2022-04-29T02:27:29.000Z",
          "2022-04-29T02:28:31.000Z",
          "2022-04-29T02:29:34.000Z",
          "2022-04-29T02:30:37.000Z",
          "2022-04-29T02:31:39.000Z",
          "2022-04-29T02:32:42.000Z",
          "2022-04-29T02:33:44.000Z",
          "2022-04-29T02:34:46.000Z",
          "2022-04-29T02:35:48.000Z",
          "2022-04-29T02:36:51.000Z",
          "2022-04-29T02:37:54.000Z",
          "2022-04-29T02:38:57.000Z",
          "2022-04-29T02:40:00.000Z",
          "2022-04-29T02:41:02.000Z",
          "2022-04-29T02:42:04.000Z",
          "2022-04-29T02:43:07.000Z",
          "2022-04-29T02:44:09.000Z",
          "2022-04-29T02:45:11.000Z",
          "2022-04-29T02:46:14.000Z",
          "2022-04-29T02:47:17.000Z",
          "2022-04-29T02:48:19.000Z",
          "2022-04-29T02:49:23.000Z",
          "2022-04-29T02:50:26.000Z",
          "2022-04-29T02:51:30.000Z",
          "2022-04-29T02:52:33.000Z",
          "2022-04-29T02:53:35.000Z",
          "2022-04-29T02:54:38.000Z",
          "2022-04-29T02:55:40.000Z",
          "2022-04-29T02:56:42.000Z",
          "2022-04-29T02:57:45.000Z",
          "2022-04-29T02:58:47.000Z",
          "2022-04-29T02:59:48.000Z",
          "2022-04-29T03:00:51.000Z",
          "2022-04-29T03:01:53.000Z",
          "2022-04-29T03:02:55.000Z",
          "2022-04-29T03:03:56.000Z",
          "2022-04-29T03:04:58.000Z",
          "2022-04-29T03:06:01.000Z",
          "2022-04-29T03:07:03.000Z",
          "2022-04-29T03:08:05.000Z",
          "2022-04-29T03:09:07.000Z",
          "2022-04-29T03:10:09.000Z",
          "2022-04-29T03:11:12.000Z",
          "2022-04-29T03:12:14.000Z",
          "2022-04-29T03:13:16.000Z",
          "2022-04-29T03:14:18.000Z",
          "2022-04-29T03:15:20.000Z",
          "2022-04-29T03:16:22.000Z",
          "2022-04-29T03:17:26.000Z",
          "2022-04-29T03:18:28.000Z",
          "2022-04-29T03:19:30.000Z",
          "2022-04-29T03:20:32.000Z",
          "2022-04-29T03:21:34.000Z",
          "2022-04-29T03:22:36.000Z",
          "2022-04-29T03:23:38.000Z",
          "2022-04-29T03:24:41.000Z",
          "2022-04-29T03:25:43.000Z",
          "2022-04-29T03:26:45.000Z",
          "2022-04-29T03:27:47.000Z",
          "2022-04-29T03:28:50.000Z"
         ],
         "y": [
          2112.9,
          2117.63,
          2118,
          2118,
          2121,
          2121.42,
          2123,
          2123,
          2123,
          2122.67,
          2122.42,
          2119.92,
          2117.08,
          2119.92,
          2120.77,
          2114.79,
          2114.79,
          2120.86,
          2120.8,
          2122.58,
          2121.2,
          2120.5,
          2120.5,
          2120.5,
          2120.5,
          2120.5,
          2122.18,
          2119.48,
          2117.69,
          2116.62,
          2115,
          2115,
          2112,
          2112,
          2112,
          2112,
          2112,
          2112,
          2112,
          2114,
          2114,
          2114.54,
          2114.06,
          2114.85,
          2117.84,
          2110.71,
          2108.18,
          2100.92,
          2104.77,
          2104.72,
          2105.39,
          2105.8,
          2099.4,
          2107.92,
          2106.09,
          2108.59,
          2110.17,
          2108,
          2108,
          2108
         ]
        },
        {
         "name": "kraken_ask_ltc",
         "type": "scatter",
         "x": [
          "2022-04-29T02:27:29.000Z",
          "2022-04-29T02:28:31.000Z",
          "2022-04-29T02:29:34.000Z",
          "2022-04-29T02:30:37.000Z",
          "2022-04-29T02:31:39.000Z",
          "2022-04-29T02:32:42.000Z",
          "2022-04-29T02:33:44.000Z",
          "2022-04-29T02:34:46.000Z",
          "2022-04-29T02:35:48.000Z",
          "2022-04-29T02:36:51.000Z",
          "2022-04-29T02:37:54.000Z",
          "2022-04-29T02:38:57.000Z",
          "2022-04-29T02:40:00.000Z",
          "2022-04-29T02:41:02.000Z",
          "2022-04-29T02:42:04.000Z",
          "2022-04-29T02:43:07.000Z",
          "2022-04-29T02:44:09.000Z",
          "2022-04-29T02:45:11.000Z",
          "2022-04-29T02:46:14.000Z",
          "2022-04-29T02:47:17.000Z",
          "2022-04-29T02:48:19.000Z",
          "2022-04-29T02:49:23.000Z",
          "2022-04-29T02:50:26.000Z",
          "2022-04-29T02:51:30.000Z",
          "2022-04-29T02:52:33.000Z",
          "2022-04-29T02:53:35.000Z",
          "2022-04-29T02:54:38.000Z",
          "2022-04-29T02:55:40.000Z",
          "2022-04-29T02:56:42.000Z",
          "2022-04-29T02:57:45.000Z",
          "2022-04-29T02:58:47.000Z",
          "2022-04-29T02:59:48.000Z",
          "2022-04-29T03:00:51.000Z",
          "2022-04-29T03:01:53.000Z",
          "2022-04-29T03:02:55.000Z",
          "2022-04-29T03:03:56.000Z",
          "2022-04-29T03:04:58.000Z",
          "2022-04-29T03:06:01.000Z",
          "2022-04-29T03:07:03.000Z",
          "2022-04-29T03:08:05.000Z",
          "2022-04-29T03:09:07.000Z",
          "2022-04-29T03:10:09.000Z",
          "2022-04-29T03:11:12.000Z",
          "2022-04-29T03:12:14.000Z",
          "2022-04-29T03:13:16.000Z",
          "2022-04-29T03:14:18.000Z",
          "2022-04-29T03:15:20.000Z",
          "2022-04-29T03:16:22.000Z",
          "2022-04-29T03:17:26.000Z",
          "2022-04-29T03:18:28.000Z",
          "2022-04-29T03:19:30.000Z",
          "2022-04-29T03:20:32.000Z",
          "2022-04-29T03:21:34.000Z",
          "2022-04-29T03:22:36.000Z",
          "2022-04-29T03:23:38.000Z",
          "2022-04-29T03:24:41.000Z",
          "2022-04-29T03:25:43.000Z",
          "2022-04-29T03:26:45.000Z",
          "2022-04-29T03:27:47.000Z",
          "2022-04-29T03:28:50.000Z"
         ],
         "y": [
          103.3,
          103.46,
          103.63,
          103.67,
          103.72,
          103.68,
          103.85,
          103.89,
          103.79,
          103.66,
          103.59,
          103.4,
          103.35,
          103.64,
          103.63,
          103.63,
          103.63,
          103.63,
          103.74,
          103.76,
          103.74,
          103.74,
          103.74,
          103.71,
          103.69,
          103.68,
          103.56,
          103.4,
          103.35,
          103.35,
          103.46,
          103.49,
          103.38,
          103.38,
          103.35,
          103.44,
          103.35,
          103.38,
          103.49,
          103.47,
          103.38,
          103.35,
          103.48,
          103.33,
          103.02,
          103.13,
          103.02,
          102.85,
          102.95,
          102.95,
          102.95,
          102.96,
          102.88,
          103.08,
          103.07,
          103.19,
          103.19,
          103.28,
          103.3,
          103.31
         ]
        },
        {
         "name": "binance_ask_ltc",
         "type": "scatter",
         "x": [
          "2022-04-29T02:27:29.000Z",
          "2022-04-29T02:28:31.000Z",
          "2022-04-29T02:29:34.000Z",
          "2022-04-29T02:30:37.000Z",
          "2022-04-29T02:31:39.000Z",
          "2022-04-29T02:32:42.000Z",
          "2022-04-29T02:33:44.000Z",
          "2022-04-29T02:34:46.000Z",
          "2022-04-29T02:35:48.000Z",
          "2022-04-29T02:36:51.000Z",
          "2022-04-29T02:37:54.000Z",
          "2022-04-29T02:38:57.000Z",
          "2022-04-29T02:40:00.000Z",
          "2022-04-29T02:41:02.000Z",
          "2022-04-29T02:42:04.000Z",
          "2022-04-29T02:43:07.000Z",
          "2022-04-29T02:44:09.000Z",
          "2022-04-29T02:45:11.000Z",
          "2022-04-29T02:46:14.000Z",
          "2022-04-29T02:47:17.000Z",
          "2022-04-29T02:48:19.000Z",
          "2022-04-29T02:49:23.000Z",
          "2022-04-29T02:50:26.000Z",
          "2022-04-29T02:51:30.000Z",
          "2022-04-29T02:52:33.000Z",
          "2022-04-29T02:53:35.000Z",
          "2022-04-29T02:54:38.000Z",
          "2022-04-29T02:55:40.000Z",
          "2022-04-29T02:56:42.000Z",
          "2022-04-29T02:57:45.000Z",
          "2022-04-29T02:58:47.000Z",
          "2022-04-29T02:59:48.000Z",
          "2022-04-29T03:00:51.000Z",
          "2022-04-29T03:01:53.000Z",
          "2022-04-29T03:02:55.000Z",
          "2022-04-29T03:03:56.000Z",
          "2022-04-29T03:04:58.000Z",
          "2022-04-29T03:06:01.000Z",
          "2022-04-29T03:07:03.000Z",
          "2022-04-29T03:08:05.000Z",
          "2022-04-29T03:09:07.000Z",
          "2022-04-29T03:10:09.000Z",
          "2022-04-29T03:11:12.000Z",
          "2022-04-29T03:12:14.000Z",
          "2022-04-29T03:13:16.000Z",
          "2022-04-29T03:14:18.000Z",
          "2022-04-29T03:15:20.000Z",
          "2022-04-29T03:16:22.000Z",
          "2022-04-29T03:17:26.000Z",
          "2022-04-29T03:18:28.000Z",
          "2022-04-29T03:19:30.000Z",
          "2022-04-29T03:20:32.000Z",
          "2022-04-29T03:21:34.000Z",
          "2022-04-29T03:22:36.000Z",
          "2022-04-29T03:23:38.000Z",
          "2022-04-29T03:24:41.000Z",
          "2022-04-29T03:25:43.000Z",
          "2022-04-29T03:26:45.000Z",
          "2022-04-29T03:27:47.000Z",
          "2022-04-29T03:28:50.000Z"
         ],
         "y": [
          103.9,
          104.259999,
          104.299999,
          104.34,
          104.38,
          104.4,
          104.48,
          104.5,
          104.36,
          104.32,
          104.48,
          104.079999,
          103.9,
          104.44,
          104.2,
          104.319999,
          104.4,
          104.359999,
          104.3,
          104.44,
          104.3,
          104.3,
          104.48,
          104.2,
          104.419999,
          104.44,
          104.2,
          103.999999,
          103.9,
          103.9,
          104.12,
          104,
          103.9,
          103.9,
          103.9,
          103.9,
          103.9,
          103.9,
          103.9,
          103.9,
          103.9,
          103.9,
          104.36,
          103.9,
          103.699999,
          104.2,
          103.7,
          103.4,
          104.2,
          103.84,
          103.559999,
          103.5,
          103.3,
          103.76,
          103.6,
          103.6,
          103.96,
          103.8,
          104.16,
          103.9
         ]
        }
       ],
       "layout": {
        "template": {
         "data": {
          "bar": [
           {
            "error_x": {
             "color": "#2a3f5f"
            },
            "error_y": {
             "color": "#2a3f5f"
            },
            "marker": {
             "line": {
              "color": "#E5ECF6",
              "width": 0.5
             },
             "pattern": {
              "fillmode": "overlay",
              "size": 10,
              "solidity": 0.2
             }
            },
            "type": "bar"
           }
          ],
          "barpolar": [
           {
            "marker": {
             "line": {
              "color": "#E5ECF6",
              "width": 0.5
             },
             "pattern": {
              "fillmode": "overlay",
              "size": 10,
              "solidity": 0.2
             }
            },
            "type": "barpolar"
           }
          ],
          "carpet": [
           {
            "aaxis": {
             "endlinecolor": "#2a3f5f",
             "gridcolor": "white",
             "linecolor": "white",
             "minorgridcolor": "white",
             "startlinecolor": "#2a3f5f"
            },
            "baxis": {
             "endlinecolor": "#2a3f5f",
             "gridcolor": "white",
             "linecolor": "white",
             "minorgridcolor": "white",
             "startlinecolor": "#2a3f5f"
            },
            "type": "carpet"
           }
          ],
          "choropleth": [
           {
            "colorbar": {
             "outlinewidth": 0,
             "ticks": ""
            },
            "type": "choropleth"
           }
          ],
          "contour": [
           {
            "colorbar": {
             "outlinewidth": 0,
             "ticks": ""
            },
            "colorscale": [
             [
              0,
              "#0d0887"
             ],
             [
              0.1111111111111111,
              "#46039f"
             ],
             [
              0.2222222222222222,
              "#7201a8"
             ],
             [
              0.3333333333333333,
              "#9c179e"
             ],
             [
              0.4444444444444444,
              "#bd3786"
             ],
             [
              0.5555555555555556,
              "#d8576b"
             ],
             [
              0.6666666666666666,
              "#ed7953"
             ],
             [
              0.7777777777777778,
              "#fb9f3a"
             ],
             [
              0.8888888888888888,
              "#fdca26"
             ],
             [
              1,
              "#f0f921"
             ]
            ],
            "type": "contour"
           }
          ],
          "contourcarpet": [
           {
            "colorbar": {
             "outlinewidth": 0,
             "ticks": ""
            },
            "type": "contourcarpet"
           }
          ],
          "heatmap": [
           {
            "colorbar": {
             "outlinewidth": 0,
             "ticks": ""
            },
            "colorscale": [
             [
              0,
              "#0d0887"
             ],
             [
              0.1111111111111111,
              "#46039f"
             ],
             [
              0.2222222222222222,
              "#7201a8"
             ],
             [
              0.3333333333333333,
              "#9c179e"
             ],
             [
              0.4444444444444444,
              "#bd3786"
             ],
             [
              0.5555555555555556,
              "#d8576b"
             ],
             [
              0.6666666666666666,
              "#ed7953"
             ],
             [
              0.7777777777777778,
              "#fb9f3a"
             ],
             [
              0.8888888888888888,
              "#fdca26"
             ],
             [
              1,
              "#f0f921"
             ]
            ],
            "type": "heatmap"
           }
          ],
          "heatmapgl": [
           {
            "colorbar": {
             "outlinewidth": 0,
             "ticks": ""
            },
            "colorscale": [
             [
              0,
              "#0d0887"
             ],
             [
              0.1111111111111111,
              "#46039f"
             ],
             [
              0.2222222222222222,
              "#7201a8"
             ],
             [
              0.3333333333333333,
              "#9c179e"
             ],
             [
              0.4444444444444444,
              "#bd3786"
             ],
             [
              0.5555555555555556,
              "#d8576b"
             ],
             [
              0.6666666666666666,
              "#ed7953"
             ],
             [
              0.7777777777777778,
              "#fb9f3a"
             ],
             [
              0.8888888888888888,
              "#fdca26"
             ],
             [
              1,
              "#f0f921"
             ]
            ],
            "type": "heatmapgl"
           }
          ],
          "histogram": [
           {
            "marker": {
             "pattern": {
              "fillmode": "overlay",
              "size": 10,
              "solidity": 0.2
             }
            },
            "type": "histogram"
           }
          ],
          "histogram2d": [
           {
            "colorbar": {
             "outlinewidth": 0,
             "ticks": ""
            },
            "colorscale": [
             [
              0,
              "#0d0887"
             ],
             [
              0.1111111111111111,
              "#46039f"
             ],
             [
              0.2222222222222222,
              "#7201a8"
             ],
             [
              0.3333333333333333,
              "#9c179e"
             ],
             [
              0.4444444444444444,
              "#bd3786"
             ],
             [
              0.5555555555555556,
              "#d8576b"
             ],
             [
              0.6666666666666666,
              "#ed7953"
             ],
             [
              0.7777777777777778,
              "#fb9f3a"
             ],
             [
              0.8888888888888888,
              "#fdca26"
             ],
             [
              1,
              "#f0f921"
             ]
            ],
            "type": "histogram2d"
           }
          ],
          "histogram2dcontour": [
           {
            "colorbar": {
             "outlinewidth": 0,
             "ticks": ""
            },
            "colorscale": [
             [
              0,
              "#0d0887"
             ],
             [
              0.1111111111111111,
              "#46039f"
             ],
             [
              0.2222222222222222,
              "#7201a8"
             ],
             [
              0.3333333333333333,
              "#9c179e"
             ],
             [
              0.4444444444444444,
              "#bd3786"
             ],
             [
              0.5555555555555556,
              "#d8576b"
             ],
             [
              0.6666666666666666,
              "#ed7953"
             ],
             [
              0.7777777777777778,
              "#fb9f3a"
             ],
             [
              0.8888888888888888,
              "#fdca26"
             ],
             [
              1,
              "#f0f921"
             ]
            ],
            "type": "histogram2dcontour"
           }
          ],
          "mesh3d": [
           {
            "colorbar": {
             "outlinewidth": 0,
             "ticks": ""
            },
            "type": "mesh3d"
           }
          ],
          "parcoords": [
           {
            "line": {
             "colorbar": {
              "outlinewidth": 0,
              "ticks": ""
             }
            },
            "type": "parcoords"
           }
          ],
          "pie": [
           {
            "automargin": true,
            "type": "pie"
           }
          ],
          "scatter": [
           {
            "marker": {
             "colorbar": {
              "outlinewidth": 0,
              "ticks": ""
             }
            },
            "type": "scatter"
           }
          ],
          "scatter3d": [
           {
            "line": {
             "colorbar": {
              "outlinewidth": 0,
              "ticks": ""
             }
            },
            "marker": {
             "colorbar": {
              "outlinewidth": 0,
              "ticks": ""
             }
            },
            "type": "scatter3d"
           }
          ],
          "scattercarpet": [
           {
            "marker": {
             "colorbar": {
              "outlinewidth": 0,
              "ticks": ""
             }
            },
            "type": "scattercarpet"
           }
          ],
          "scattergeo": [
           {
            "marker": {
             "colorbar": {
              "outlinewidth": 0,
              "ticks": ""
             }
            },
            "type": "scattergeo"
           }
          ],
          "scattergl": [
           {
            "marker": {
             "colorbar": {
              "outlinewidth": 0,
              "ticks": ""
             }
            },
            "type": "scattergl"
           }
          ],
          "scattermapbox": [
           {
            "marker": {
             "colorbar": {
              "outlinewidth": 0,
              "ticks": ""
             }
            },
            "type": "scattermapbox"
           }
          ],
          "scatterpolar": [
           {
            "marker": {
             "colorbar": {
              "outlinewidth": 0,
              "ticks": ""
             }
            },
            "type": "scatterpolar"
           }
          ],
          "scatterpolargl": [
           {
            "marker": {
             "colorbar": {
              "outlinewidth": 0,
              "ticks": ""
             }
            },
            "type": "scatterpolargl"
           }
          ],
          "scatterternary": [
           {
            "marker": {
             "colorbar": {
              "outlinewidth": 0,
              "ticks": ""
             }
            },
            "type": "scatterternary"
           }
          ],
          "surface": [
           {
            "colorbar": {
             "outlinewidth": 0,
             "ticks": ""
            },
            "colorscale": [
             [
              0,
              "#0d0887"
             ],
             [
              0.1111111111111111,
              "#46039f"
             ],
             [
              0.2222222222222222,
              "#7201a8"
             ],
             [
              0.3333333333333333,
              "#9c179e"
             ],
             [
              0.4444444444444444,
              "#bd3786"
             ],
             [
              0.5555555555555556,
              "#d8576b"
             ],
             [
              0.6666666666666666,
              "#ed7953"
             ],
             [
              0.7777777777777778,
              "#fb9f3a"
             ],
             [
              0.8888888888888888,
              "#fdca26"
             ],
             [
              1,
              "#f0f921"
             ]
            ],
            "type": "surface"
           }
          ],
          "table": [
           {
            "cells": {
             "fill": {
              "color": "#EBF0F8"
             },
             "line": {
              "color": "white"
             }
            },
            "header": {
             "fill": {
              "color": "#C8D4E3"
             },
             "line": {
              "color": "white"
             }
            },
            "type": "table"
           }
          ]
         },
         "layout": {
          "annotationdefaults": {
           "arrowcolor": "#2a3f5f",
           "arrowhead": 0,
           "arrowwidth": 1
          },
          "autotypenumbers": "strict",
          "coloraxis": {
           "colorbar": {
            "outlinewidth": 0,
            "ticks": ""
           }
          },
          "colorscale": {
           "diverging": [
            [
             0,
             "#8e0152"
            ],
            [
             0.1,
             "#c51b7d"
            ],
            [
             0.2,
             "#de77ae"
            ],
            [
             0.3,
             "#f1b6da"
            ],
            [
             0.4,
             "#fde0ef"
            ],
            [
             0.5,
             "#f7f7f7"
            ],
            [
             0.6,
             "#e6f5d0"
            ],
            [
             0.7,
             "#b8e186"
            ],
            [
             0.8,
             "#7fbc41"
            ],
            [
             0.9,
             "#4d9221"
            ],
            [
             1,
             "#276419"
            ]
           ],
           "sequential": [
            [
             0,
             "#0d0887"
            ],
            [
             0.1111111111111111,
             "#46039f"
            ],
            [
             0.2222222222222222,
             "#7201a8"
            ],
            [
             0.3333333333333333,
             "#9c179e"
            ],
            [
             0.4444444444444444,
             "#bd3786"
            ],
            [
             0.5555555555555556,
             "#d8576b"
            ],
            [
             0.6666666666666666,
             "#ed7953"
            ],
            [
             0.7777777777777778,
             "#fb9f3a"
            ],
            [
             0.8888888888888888,
             "#fdca26"
            ],
            [
             1,
             "#f0f921"
            ]
           ],
           "sequentialminus": [
            [
             0,
             "#0d0887"
            ],
            [
             0.1111111111111111,
             "#46039f"
            ],
            [
             0.2222222222222222,
             "#7201a8"
            ],
            [
             0.3333333333333333,
             "#9c179e"
            ],
            [
             0.4444444444444444,
             "#bd3786"
            ],
            [
             0.5555555555555556,
             "#d8576b"
            ],
            [
             0.6666666666666666,
             "#ed7953"
            ],
            [
             0.7777777777777778,
             "#fb9f3a"
            ],
            [
             0.8888888888888888,
             "#fdca26"
            ],
            [
             1,
             "#f0f921"
            ]
           ]
          },
          "colorway": [
           "#636efa",
           "#EF553B",
           "#00cc96",
           "#ab63fa",
           "#FFA15A",
           "#19d3f3",
           "#FF6692",
           "#B6E880",
           "#FF97FF",
           "#FECB52"
          ],
          "font": {
           "color": "#2a3f5f"
          },
          "geo": {
           "bgcolor": "white",
           "lakecolor": "white",
           "landcolor": "#E5ECF6",
           "showlakes": true,
           "showland": true,
           "subunitcolor": "white"
          },
          "hoverlabel": {
           "align": "left"
          },
          "hovermode": "closest",
          "mapbox": {
           "style": "light"
          },
          "paper_bgcolor": "white",
          "plot_bgcolor": "#E5ECF6",
          "polar": {
           "angularaxis": {
            "gridcolor": "white",
            "linecolor": "white",
            "ticks": ""
           },
           "bgcolor": "#E5ECF6",
           "radialaxis": {
            "gridcolor": "white",
            "linecolor": "white",
            "ticks": ""
           }
          },
          "scene": {
           "xaxis": {
            "backgroundcolor": "#E5ECF6",
            "gridcolor": "white",
            "gridwidth": 2,
            "linecolor": "white",
            "showbackground": true,
            "ticks": "",
            "zerolinecolor": "white"
           },
           "yaxis": {
            "backgroundcolor": "#E5ECF6",
            "gridcolor": "white",
            "gridwidth": 2,
            "linecolor": "white",
            "showbackground": true,
            "ticks": "",
            "zerolinecolor": "white"
           },
           "zaxis": {
            "backgroundcolor": "#E5ECF6",
            "gridcolor": "white",
            "gridwidth": 2,
            "linecolor": "white",
            "showbackground": true,
            "ticks": "",
            "zerolinecolor": "white"
           }
          },
          "shapedefaults": {
           "line": {
            "color": "#2a3f5f"
           }
          },
          "ternary": {
           "aaxis": {
            "gridcolor": "white",
            "linecolor": "white",
            "ticks": ""
           },
           "baxis": {
            "gridcolor": "white",
            "linecolor": "white",
            "ticks": ""
           },
           "bgcolor": "#E5ECF6",
           "caxis": {
            "gridcolor": "white",
            "linecolor": "white",
            "ticks": ""
           }
          },
          "title": {
           "x": 0.05
          },
          "xaxis": {
           "automargin": true,
           "gridcolor": "white",
           "linecolor": "white",
           "ticks": "",
           "title": {
            "standoff": 15
           },
           "zerolinecolor": "white",
           "zerolinewidth": 2
          },
          "yaxis": {
           "automargin": true,
           "gridcolor": "white",
           "linecolor": "white",
           "ticks": "",
           "title": {
            "standoff": 15
           },
           "zerolinecolor": "white",
           "zerolinewidth": 2
          }
         }
        }
       }
      },
      "text/html": [
       "<div>                            <div id=\"dc62cf2b-df61-4204-b4c6-56e3afa9e1ce\" class=\"plotly-graph-div\" style=\"height:525px; width:100%;\"></div>            <script type=\"text/javascript\">                require([\"plotly\"], function(Plotly) {                    window.PLOTLYENV=window.PLOTLYENV || {};                                    if (document.getElementById(\"dc62cf2b-df61-4204-b4c6-56e3afa9e1ce\")) {                    Plotly.newPlot(                        \"dc62cf2b-df61-4204-b4c6-56e3afa9e1ce\",                        [{\"connectgaps\":true,\"name\":\"bitso_ask_ltc\",\"x\":[\"2022-04-29T02:27:29.000Z\",\"2022-04-29T02:28:31.000Z\",\"2022-04-29T02:29:34.000Z\",\"2022-04-29T02:30:37.000Z\",\"2022-04-29T02:31:39.000Z\",\"2022-04-29T02:32:42.000Z\",\"2022-04-29T02:33:44.000Z\",\"2022-04-29T02:34:46.000Z\",\"2022-04-29T02:35:48.000Z\",\"2022-04-29T02:36:51.000Z\",\"2022-04-29T02:37:54.000Z\",\"2022-04-29T02:38:57.000Z\",\"2022-04-29T02:40:00.000Z\",\"2022-04-29T02:41:02.000Z\",\"2022-04-29T02:42:04.000Z\",\"2022-04-29T02:43:07.000Z\",\"2022-04-29T02:44:09.000Z\",\"2022-04-29T02:45:11.000Z\",\"2022-04-29T02:46:14.000Z\",\"2022-04-29T02:47:17.000Z\",\"2022-04-29T02:48:19.000Z\",\"2022-04-29T02:49:23.000Z\",\"2022-04-29T02:50:26.000Z\",\"2022-04-29T02:51:30.000Z\",\"2022-04-29T02:52:33.000Z\",\"2022-04-29T02:53:35.000Z\",\"2022-04-29T02:54:38.000Z\",\"2022-04-29T02:55:40.000Z\",\"2022-04-29T02:56:42.000Z\",\"2022-04-29T02:57:45.000Z\",\"2022-04-29T02:58:47.000Z\",\"2022-04-29T02:59:48.000Z\",\"2022-04-29T03:00:51.000Z\",\"2022-04-29T03:01:53.000Z\",\"2022-04-29T03:02:55.000Z\",\"2022-04-29T03:03:56.000Z\",\"2022-04-29T03:04:58.000Z\",\"2022-04-29T03:06:01.000Z\",\"2022-04-29T03:07:03.000Z\",\"2022-04-29T03:08:05.000Z\",\"2022-04-29T03:09:07.000Z\",\"2022-04-29T03:10:09.000Z\",\"2022-04-29T03:11:12.000Z\",\"2022-04-29T03:12:14.000Z\",\"2022-04-29T03:13:16.000Z\",\"2022-04-29T03:14:18.000Z\",\"2022-04-29T03:15:20.000Z\",\"2022-04-29T03:16:22.000Z\",\"2022-04-29T03:17:26.000Z\",\"2022-04-29T03:18:28.000Z\",\"2022-04-29T03:19:30.000Z\",\"2022-04-29T03:20:32.000Z\",\"2022-04-29T03:21:34.000Z\",\"2022-04-29T03:22:36.000Z\",\"2022-04-29T03:23:38.000Z\",\"2022-04-29T03:24:41.000Z\",\"2022-04-29T03:25:43.000Z\",\"2022-04-29T03:26:45.000Z\",\"2022-04-29T03:27:47.000Z\",\"2022-04-29T03:28:50.000Z\"],\"y\":[2112.9,2117.63,2118.0,2118.0,2121.0,2121.42,2123.0,2123.0,2123.0,2122.67,2122.42,2119.92,2117.08,2119.92,2120.77,2114.79,2114.79,2120.86,2120.8,2122.58,2121.2,2120.5,2120.5,2120.5,2120.5,2120.5,2122.18,2119.48,2117.69,2116.62,2115.0,2115.0,2112.0,2112.0,2112.0,2112.0,2112.0,2112.0,2112.0,2114.0,2114.0,2114.54,2114.06,2114.85,2117.84,2110.71,2108.18,2100.92,2104.77,2104.72,2105.39,2105.8,2099.4,2107.92,2106.09,2108.59,2110.17,2108.0,2108.0,2108.0],\"type\":\"scatter\"},{\"name\":\"kraken_ask_ltc\",\"x\":[\"2022-04-29T02:27:29.000Z\",\"2022-04-29T02:28:31.000Z\",\"2022-04-29T02:29:34.000Z\",\"2022-04-29T02:30:37.000Z\",\"2022-04-29T02:31:39.000Z\",\"2022-04-29T02:32:42.000Z\",\"2022-04-29T02:33:44.000Z\",\"2022-04-29T02:34:46.000Z\",\"2022-04-29T02:35:48.000Z\",\"2022-04-29T02:36:51.000Z\",\"2022-04-29T02:37:54.000Z\",\"2022-04-29T02:38:57.000Z\",\"2022-04-29T02:40:00.000Z\",\"2022-04-29T02:41:02.000Z\",\"2022-04-29T02:42:04.000Z\",\"2022-04-29T02:43:07.000Z\",\"2022-04-29T02:44:09.000Z\",\"2022-04-29T02:45:11.000Z\",\"2022-04-29T02:46:14.000Z\",\"2022-04-29T02:47:17.000Z\",\"2022-04-29T02:48:19.000Z\",\"2022-04-29T02:49:23.000Z\",\"2022-04-29T02:50:26.000Z\",\"2022-04-29T02:51:30.000Z\",\"2022-04-29T02:52:33.000Z\",\"2022-04-29T02:53:35.000Z\",\"2022-04-29T02:54:38.000Z\",\"2022-04-29T02:55:40.000Z\",\"2022-04-29T02:56:42.000Z\",\"2022-04-29T02:57:45.000Z\",\"2022-04-29T02:58:47.000Z\",\"2022-04-29T02:59:48.000Z\",\"2022-04-29T03:00:51.000Z\",\"2022-04-29T03:01:53.000Z\",\"2022-04-29T03:02:55.000Z\",\"2022-04-29T03:03:56.000Z\",\"2022-04-29T03:04:58.000Z\",\"2022-04-29T03:06:01.000Z\",\"2022-04-29T03:07:03.000Z\",\"2022-04-29T03:08:05.000Z\",\"2022-04-29T03:09:07.000Z\",\"2022-04-29T03:10:09.000Z\",\"2022-04-29T03:11:12.000Z\",\"2022-04-29T03:12:14.000Z\",\"2022-04-29T03:13:16.000Z\",\"2022-04-29T03:14:18.000Z\",\"2022-04-29T03:15:20.000Z\",\"2022-04-29T03:16:22.000Z\",\"2022-04-29T03:17:26.000Z\",\"2022-04-29T03:18:28.000Z\",\"2022-04-29T03:19:30.000Z\",\"2022-04-29T03:20:32.000Z\",\"2022-04-29T03:21:34.000Z\",\"2022-04-29T03:22:36.000Z\",\"2022-04-29T03:23:38.000Z\",\"2022-04-29T03:24:41.000Z\",\"2022-04-29T03:25:43.000Z\",\"2022-04-29T03:26:45.000Z\",\"2022-04-29T03:27:47.000Z\",\"2022-04-29T03:28:50.000Z\"],\"y\":[103.3,103.46,103.63,103.67,103.72,103.68,103.85,103.89,103.79,103.66,103.59,103.4,103.35,103.64,103.63,103.63,103.63,103.63,103.74,103.76,103.74,103.74,103.74,103.71,103.69,103.68,103.56,103.4,103.35,103.35,103.46,103.49,103.38,103.38,103.35,103.44,103.35,103.38,103.49,103.47,103.38,103.35,103.48,103.33,103.02,103.13,103.02,102.85,102.95,102.95,102.95,102.96,102.88,103.08,103.07,103.19,103.19,103.28,103.3,103.31],\"type\":\"scatter\"},{\"name\":\"binance_ask_ltc\",\"x\":[\"2022-04-29T02:27:29.000Z\",\"2022-04-29T02:28:31.000Z\",\"2022-04-29T02:29:34.000Z\",\"2022-04-29T02:30:37.000Z\",\"2022-04-29T02:31:39.000Z\",\"2022-04-29T02:32:42.000Z\",\"2022-04-29T02:33:44.000Z\",\"2022-04-29T02:34:46.000Z\",\"2022-04-29T02:35:48.000Z\",\"2022-04-29T02:36:51.000Z\",\"2022-04-29T02:37:54.000Z\",\"2022-04-29T02:38:57.000Z\",\"2022-04-29T02:40:00.000Z\",\"2022-04-29T02:41:02.000Z\",\"2022-04-29T02:42:04.000Z\",\"2022-04-29T02:43:07.000Z\",\"2022-04-29T02:44:09.000Z\",\"2022-04-29T02:45:11.000Z\",\"2022-04-29T02:46:14.000Z\",\"2022-04-29T02:47:17.000Z\",\"2022-04-29T02:48:19.000Z\",\"2022-04-29T02:49:23.000Z\",\"2022-04-29T02:50:26.000Z\",\"2022-04-29T02:51:30.000Z\",\"2022-04-29T02:52:33.000Z\",\"2022-04-29T02:53:35.000Z\",\"2022-04-29T02:54:38.000Z\",\"2022-04-29T02:55:40.000Z\",\"2022-04-29T02:56:42.000Z\",\"2022-04-29T02:57:45.000Z\",\"2022-04-29T02:58:47.000Z\",\"2022-04-29T02:59:48.000Z\",\"2022-04-29T03:00:51.000Z\",\"2022-04-29T03:01:53.000Z\",\"2022-04-29T03:02:55.000Z\",\"2022-04-29T03:03:56.000Z\",\"2022-04-29T03:04:58.000Z\",\"2022-04-29T03:06:01.000Z\",\"2022-04-29T03:07:03.000Z\",\"2022-04-29T03:08:05.000Z\",\"2022-04-29T03:09:07.000Z\",\"2022-04-29T03:10:09.000Z\",\"2022-04-29T03:11:12.000Z\",\"2022-04-29T03:12:14.000Z\",\"2022-04-29T03:13:16.000Z\",\"2022-04-29T03:14:18.000Z\",\"2022-04-29T03:15:20.000Z\",\"2022-04-29T03:16:22.000Z\",\"2022-04-29T03:17:26.000Z\",\"2022-04-29T03:18:28.000Z\",\"2022-04-29T03:19:30.000Z\",\"2022-04-29T03:20:32.000Z\",\"2022-04-29T03:21:34.000Z\",\"2022-04-29T03:22:36.000Z\",\"2022-04-29T03:23:38.000Z\",\"2022-04-29T03:24:41.000Z\",\"2022-04-29T03:25:43.000Z\",\"2022-04-29T03:26:45.000Z\",\"2022-04-29T03:27:47.000Z\",\"2022-04-29T03:28:50.000Z\"],\"y\":[103.9,104.259999,104.299999,104.34,104.38,104.4,104.48,104.5,104.36,104.32,104.48,104.079999,103.9,104.44,104.2,104.319999,104.4,104.359999,104.3,104.44,104.3,104.3,104.48,104.2,104.419999,104.44,104.2,103.999999,103.9,103.9,104.12,104.0,103.9,103.9,103.9,103.9,103.9,103.9,103.9,103.9,103.9,103.9,104.36,103.9,103.699999,104.2,103.7,103.4,104.2,103.84,103.559999,103.5,103.3,103.76,103.6,103.6,103.96,103.8,104.16,103.9],\"type\":\"scatter\"}],                        {\"template\":{\"data\":{\"bar\":[{\"error_x\":{\"color\":\"#2a3f5f\"},\"error_y\":{\"color\":\"#2a3f5f\"},\"marker\":{\"line\":{\"color\":\"#E5ECF6\",\"width\":0.5},\"pattern\":{\"fillmode\":\"overlay\",\"size\":10,\"solidity\":0.2}},\"type\":\"bar\"}],\"barpolar\":[{\"marker\":{\"line\":{\"color\":\"#E5ECF6\",\"width\":0.5},\"pattern\":{\"fillmode\":\"overlay\",\"size\":10,\"solidity\":0.2}},\"type\":\"barpolar\"}],\"carpet\":[{\"aaxis\":{\"endlinecolor\":\"#2a3f5f\",\"gridcolor\":\"white\",\"linecolor\":\"white\",\"minorgridcolor\":\"white\",\"startlinecolor\":\"#2a3f5f\"},\"baxis\":{\"endlinecolor\":\"#2a3f5f\",\"gridcolor\":\"white\",\"linecolor\":\"white\",\"minorgridcolor\":\"white\",\"startlinecolor\":\"#2a3f5f\"},\"type\":\"carpet\"}],\"choropleth\":[{\"colorbar\":{\"outlinewidth\":0,\"ticks\":\"\"},\"type\":\"choropleth\"}],\"contour\":[{\"colorbar\":{\"outlinewidth\":0,\"ticks\":\"\"},\"colorscale\":[[0.0,\"#0d0887\"],[0.1111111111111111,\"#46039f\"],[0.2222222222222222,\"#7201a8\"],[0.3333333333333333,\"#9c179e\"],[0.4444444444444444,\"#bd3786\"],[0.5555555555555556,\"#d8576b\"],[0.6666666666666666,\"#ed7953\"],[0.7777777777777778,\"#fb9f3a\"],[0.8888888888888888,\"#fdca26\"],[1.0,\"#f0f921\"]],\"type\":\"contour\"}],\"contourcarpet\":[{\"colorbar\":{\"outlinewidth\":0,\"ticks\":\"\"},\"type\":\"contourcarpet\"}],\"heatmap\":[{\"colorbar\":{\"outlinewidth\":0,\"ticks\":\"\"},\"colorscale\":[[0.0,\"#0d0887\"],[0.1111111111111111,\"#46039f\"],[0.2222222222222222,\"#7201a8\"],[0.3333333333333333,\"#9c179e\"],[0.4444444444444444,\"#bd3786\"],[0.5555555555555556,\"#d8576b\"],[0.6666666666666666,\"#ed7953\"],[0.7777777777777778,\"#fb9f3a\"],[0.8888888888888888,\"#fdca26\"],[1.0,\"#f0f921\"]],\"type\":\"heatmap\"}],\"heatmapgl\":[{\"colorbar\":{\"outlinewidth\":0,\"ticks\":\"\"},\"colorscale\":[[0.0,\"#0d0887\"],[0.1111111111111111,\"#46039f\"],[0.2222222222222222,\"#7201a8\"],[0.3333333333333333,\"#9c179e\"],[0.4444444444444444,\"#bd3786\"],[0.5555555555555556,\"#d8576b\"],[0.6666666666666666,\"#ed7953\"],[0.7777777777777778,\"#fb9f3a\"],[0.8888888888888888,\"#fdca26\"],[1.0,\"#f0f921\"]],\"type\":\"heatmapgl\"}],\"histogram\":[{\"marker\":{\"pattern\":{\"fillmode\":\"overlay\",\"size\":10,\"solidity\":0.2}},\"type\":\"histogram\"}],\"histogram2d\":[{\"colorbar\":{\"outlinewidth\":0,\"ticks\":\"\"},\"colorscale\":[[0.0,\"#0d0887\"],[0.1111111111111111,\"#46039f\"],[0.2222222222222222,\"#7201a8\"],[0.3333333333333333,\"#9c179e\"],[0.4444444444444444,\"#bd3786\"],[0.5555555555555556,\"#d8576b\"],[0.6666666666666666,\"#ed7953\"],[0.7777777777777778,\"#fb9f3a\"],[0.8888888888888888,\"#fdca26\"],[1.0,\"#f0f921\"]],\"type\":\"histogram2d\"}],\"histogram2dcontour\":[{\"colorbar\":{\"outlinewidth\":0,\"ticks\":\"\"},\"colorscale\":[[0.0,\"#0d0887\"],[0.1111111111111111,\"#46039f\"],[0.2222222222222222,\"#7201a8\"],[0.3333333333333333,\"#9c179e\"],[0.4444444444444444,\"#bd3786\"],[0.5555555555555556,\"#d8576b\"],[0.6666666666666666,\"#ed7953\"],[0.7777777777777778,\"#fb9f3a\"],[0.8888888888888888,\"#fdca26\"],[1.0,\"#f0f921\"]],\"type\":\"histogram2dcontour\"}],\"mesh3d\":[{\"colorbar\":{\"outlinewidth\":0,\"ticks\":\"\"},\"type\":\"mesh3d\"}],\"parcoords\":[{\"line\":{\"colorbar\":{\"outlinewidth\":0,\"ticks\":\"\"}},\"type\":\"parcoords\"}],\"pie\":[{\"automargin\":true,\"type\":\"pie\"}],\"scatter\":[{\"marker\":{\"colorbar\":{\"outlinewidth\":0,\"ticks\":\"\"}},\"type\":\"scatter\"}],\"scatter3d\":[{\"line\":{\"colorbar\":{\"outlinewidth\":0,\"ticks\":\"\"}},\"marker\":{\"colorbar\":{\"outlinewidth\":0,\"ticks\":\"\"}},\"type\":\"scatter3d\"}],\"scattercarpet\":[{\"marker\":{\"colorbar\":{\"outlinewidth\":0,\"ticks\":\"\"}},\"type\":\"scattercarpet\"}],\"scattergeo\":[{\"marker\":{\"colorbar\":{\"outlinewidth\":0,\"ticks\":\"\"}},\"type\":\"scattergeo\"}],\"scattergl\":[{\"marker\":{\"colorbar\":{\"outlinewidth\":0,\"ticks\":\"\"}},\"type\":\"scattergl\"}],\"scattermapbox\":[{\"marker\":{\"colorbar\":{\"outlinewidth\":0,\"ticks\":\"\"}},\"type\":\"scattermapbox\"}],\"scatterpolar\":[{\"marker\":{\"colorbar\":{\"outlinewidth\":0,\"ticks\":\"\"}},\"type\":\"scatterpolar\"}],\"scatterpolargl\":[{\"marker\":{\"colorbar\":{\"outlinewidth\":0,\"ticks\":\"\"}},\"type\":\"scatterpolargl\"}],\"scatterternary\":[{\"marker\":{\"colorbar\":{\"outlinewidth\":0,\"ticks\":\"\"}},\"type\":\"scatterternary\"}],\"surface\":[{\"colorbar\":{\"outlinewidth\":0,\"ticks\":\"\"},\"colorscale\":[[0.0,\"#0d0887\"],[0.1111111111111111,\"#46039f\"],[0.2222222222222222,\"#7201a8\"],[0.3333333333333333,\"#9c179e\"],[0.4444444444444444,\"#bd3786\"],[0.5555555555555556,\"#d8576b\"],[0.6666666666666666,\"#ed7953\"],[0.7777777777777778,\"#fb9f3a\"],[0.8888888888888888,\"#fdca26\"],[1.0,\"#f0f921\"]],\"type\":\"surface\"}],\"table\":[{\"cells\":{\"fill\":{\"color\":\"#EBF0F8\"},\"line\":{\"color\":\"white\"}},\"header\":{\"fill\":{\"color\":\"#C8D4E3\"},\"line\":{\"color\":\"white\"}},\"type\":\"table\"}]},\"layout\":{\"annotationdefaults\":{\"arrowcolor\":\"#2a3f5f\",\"arrowhead\":0,\"arrowwidth\":1},\"autotypenumbers\":\"strict\",\"coloraxis\":{\"colorbar\":{\"outlinewidth\":0,\"ticks\":\"\"}},\"colorscale\":{\"diverging\":[[0,\"#8e0152\"],[0.1,\"#c51b7d\"],[0.2,\"#de77ae\"],[0.3,\"#f1b6da\"],[0.4,\"#fde0ef\"],[0.5,\"#f7f7f7\"],[0.6,\"#e6f5d0\"],[0.7,\"#b8e186\"],[0.8,\"#7fbc41\"],[0.9,\"#4d9221\"],[1,\"#276419\"]],\"sequential\":[[0.0,\"#0d0887\"],[0.1111111111111111,\"#46039f\"],[0.2222222222222222,\"#7201a8\"],[0.3333333333333333,\"#9c179e\"],[0.4444444444444444,\"#bd3786\"],[0.5555555555555556,\"#d8576b\"],[0.6666666666666666,\"#ed7953\"],[0.7777777777777778,\"#fb9f3a\"],[0.8888888888888888,\"#fdca26\"],[1.0,\"#f0f921\"]],\"sequentialminus\":[[0.0,\"#0d0887\"],[0.1111111111111111,\"#46039f\"],[0.2222222222222222,\"#7201a8\"],[0.3333333333333333,\"#9c179e\"],[0.4444444444444444,\"#bd3786\"],[0.5555555555555556,\"#d8576b\"],[0.6666666666666666,\"#ed7953\"],[0.7777777777777778,\"#fb9f3a\"],[0.8888888888888888,\"#fdca26\"],[1.0,\"#f0f921\"]]},\"colorway\":[\"#636efa\",\"#EF553B\",\"#00cc96\",\"#ab63fa\",\"#FFA15A\",\"#19d3f3\",\"#FF6692\",\"#B6E880\",\"#FF97FF\",\"#FECB52\"],\"font\":{\"color\":\"#2a3f5f\"},\"geo\":{\"bgcolor\":\"white\",\"lakecolor\":\"white\",\"landcolor\":\"#E5ECF6\",\"showlakes\":true,\"showland\":true,\"subunitcolor\":\"white\"},\"hoverlabel\":{\"align\":\"left\"},\"hovermode\":\"closest\",\"mapbox\":{\"style\":\"light\"},\"paper_bgcolor\":\"white\",\"plot_bgcolor\":\"#E5ECF6\",\"polar\":{\"angularaxis\":{\"gridcolor\":\"white\",\"linecolor\":\"white\",\"ticks\":\"\"},\"bgcolor\":\"#E5ECF6\",\"radialaxis\":{\"gridcolor\":\"white\",\"linecolor\":\"white\",\"ticks\":\"\"}},\"scene\":{\"xaxis\":{\"backgroundcolor\":\"#E5ECF6\",\"gridcolor\":\"white\",\"gridwidth\":2,\"linecolor\":\"white\",\"showbackground\":true,\"ticks\":\"\",\"zerolinecolor\":\"white\"},\"yaxis\":{\"backgroundcolor\":\"#E5ECF6\",\"gridcolor\":\"white\",\"gridwidth\":2,\"linecolor\":\"white\",\"showbackground\":true,\"ticks\":\"\",\"zerolinecolor\":\"white\"},\"zaxis\":{\"backgroundcolor\":\"#E5ECF6\",\"gridcolor\":\"white\",\"gridwidth\":2,\"linecolor\":\"white\",\"showbackground\":true,\"ticks\":\"\",\"zerolinecolor\":\"white\"}},\"shapedefaults\":{\"line\":{\"color\":\"#2a3f5f\"}},\"ternary\":{\"aaxis\":{\"gridcolor\":\"white\",\"linecolor\":\"white\",\"ticks\":\"\"},\"baxis\":{\"gridcolor\":\"white\",\"linecolor\":\"white\",\"ticks\":\"\"},\"bgcolor\":\"#E5ECF6\",\"caxis\":{\"gridcolor\":\"white\",\"linecolor\":\"white\",\"ticks\":\"\"}},\"title\":{\"x\":0.05},\"xaxis\":{\"automargin\":true,\"gridcolor\":\"white\",\"linecolor\":\"white\",\"ticks\":\"\",\"title\":{\"standoff\":15},\"zerolinecolor\":\"white\",\"zerolinewidth\":2},\"yaxis\":{\"automargin\":true,\"gridcolor\":\"white\",\"linecolor\":\"white\",\"ticks\":\"\",\"title\":{\"standoff\":15},\"zerolinecolor\":\"white\",\"zerolinewidth\":2}}}},                        {\"responsive\": true}                    ).then(function(){\n",
       "                            \n",
       "var gd = document.getElementById('dc62cf2b-df61-4204-b4c6-56e3afa9e1ce');\n",
       "var x = new MutationObserver(function (mutations, observer) {{\n",
       "        var display = window.getComputedStyle(gd).display;\n",
       "        if (!display || display === 'none') {{\n",
       "            console.log([gd, 'removed!']);\n",
       "            Plotly.purge(gd);\n",
       "            observer.disconnect();\n",
       "        }}\n",
       "}});\n",
       "\n",
       "// Listen for the removal of the full notebook cells\n",
       "var notebookContainer = gd.closest('#notebook-container');\n",
       "if (notebookContainer) {{\n",
       "    x.observe(notebookContainer, {childList: true});\n",
       "}}\n",
       "\n",
       "// Listen for the clearing of the current output cell\n",
       "var outputEl = gd.closest('.output');\n",
       "if (outputEl) {{\n",
       "    x.observe(outputEl, {childList: true});\n",
       "}}\n",
       "\n",
       "                        })                };                });            </script>        </div>"
      ]
     },
     "metadata": {},
     "output_type": "display_data"
    }
   ],
   "source": [
    "main.plot_ask_ltc_1(data)"
   ]
  },
  {
   "cell_type": "code",
   "execution_count": 17,
   "id": "1003eed7",
   "metadata": {},
   "outputs": [
    {
     "data": {
      "application/vnd.plotly.v1+json": {
       "config": {
        "plotlyServerURL": "https://plot.ly"
       },
       "data": [
        {
         "name": "bitso_ask_ltc",
         "type": "scatter",
         "x": [
          "2022-04-29T02:27:29.000Z",
          "2022-04-29T02:28:31.000Z",
          "2022-04-29T02:29:34.000Z",
          "2022-04-29T02:30:37.000Z",
          "2022-04-29T02:31:39.000Z",
          "2022-04-29T02:32:42.000Z",
          "2022-04-29T02:33:44.000Z",
          "2022-04-29T02:34:46.000Z",
          "2022-04-29T02:35:48.000Z",
          "2022-04-29T02:36:51.000Z",
          "2022-04-29T02:37:54.000Z",
          "2022-04-29T02:38:57.000Z",
          "2022-04-29T02:40:00.000Z",
          "2022-04-29T02:41:02.000Z",
          "2022-04-29T02:42:04.000Z",
          "2022-04-29T02:43:07.000Z",
          "2022-04-29T02:44:09.000Z",
          "2022-04-29T02:45:11.000Z",
          "2022-04-29T02:46:14.000Z",
          "2022-04-29T02:47:17.000Z",
          "2022-04-29T02:48:19.000Z",
          "2022-04-29T02:49:23.000Z",
          "2022-04-29T02:50:26.000Z",
          "2022-04-29T02:51:30.000Z",
          "2022-04-29T02:52:33.000Z",
          "2022-04-29T02:53:35.000Z",
          "2022-04-29T02:54:38.000Z",
          "2022-04-29T02:55:40.000Z",
          "2022-04-29T02:56:42.000Z",
          "2022-04-29T02:57:45.000Z",
          "2022-04-29T02:58:47.000Z",
          "2022-04-29T02:59:48.000Z",
          "2022-04-29T03:00:51.000Z",
          "2022-04-29T03:01:53.000Z",
          "2022-04-29T03:02:55.000Z",
          "2022-04-29T03:03:56.000Z",
          "2022-04-29T03:04:58.000Z",
          "2022-04-29T03:06:01.000Z",
          "2022-04-29T03:07:03.000Z",
          "2022-04-29T03:08:05.000Z",
          "2022-04-29T03:09:07.000Z",
          "2022-04-29T03:10:09.000Z",
          "2022-04-29T03:11:12.000Z",
          "2022-04-29T03:12:14.000Z",
          "2022-04-29T03:13:16.000Z",
          "2022-04-29T03:14:18.000Z",
          "2022-04-29T03:15:20.000Z",
          "2022-04-29T03:16:22.000Z",
          "2022-04-29T03:17:26.000Z",
          "2022-04-29T03:18:28.000Z",
          "2022-04-29T03:19:30.000Z",
          "2022-04-29T03:20:32.000Z",
          "2022-04-29T03:21:34.000Z",
          "2022-04-29T03:22:36.000Z",
          "2022-04-29T03:23:38.000Z",
          "2022-04-29T03:24:41.000Z",
          "2022-04-29T03:25:43.000Z",
          "2022-04-29T03:26:45.000Z",
          "2022-04-29T03:27:47.000Z",
          "2022-04-29T03:28:50.000Z"
         ],
         "y": [
          2112.9,
          2117.63,
          2118,
          2118,
          2121,
          2121.42,
          2123,
          2123,
          2123,
          2122.67,
          2122.42,
          2119.92,
          2117.08,
          2119.92,
          2120.77,
          2114.79,
          2114.79,
          2120.86,
          2120.8,
          2122.58,
          2121.2,
          2120.5,
          2120.5,
          2120.5,
          2120.5,
          2120.5,
          2122.18,
          2119.48,
          2117.69,
          2116.62,
          2115,
          2115,
          2112,
          2112,
          2112,
          2112,
          2112,
          2112,
          2112,
          2114,
          2114,
          2114.54,
          2114.06,
          2114.85,
          2117.84,
          2110.71,
          2108.18,
          2100.92,
          2104.77,
          2104.72,
          2105.39,
          2105.8,
          2099.4,
          2107.92,
          2106.09,
          2108.59,
          2110.17,
          2108,
          2108,
          2108
         ]
        },
        {
         "name": "kraken_ask_ltc",
         "type": "scatter",
         "x": [
          "2022-04-29T02:27:29.000Z",
          "2022-04-29T02:28:31.000Z",
          "2022-04-29T02:29:34.000Z",
          "2022-04-29T02:30:37.000Z",
          "2022-04-29T02:31:39.000Z",
          "2022-04-29T02:32:42.000Z",
          "2022-04-29T02:33:44.000Z",
          "2022-04-29T02:34:46.000Z",
          "2022-04-29T02:35:48.000Z",
          "2022-04-29T02:36:51.000Z",
          "2022-04-29T02:37:54.000Z",
          "2022-04-29T02:38:57.000Z",
          "2022-04-29T02:40:00.000Z",
          "2022-04-29T02:41:02.000Z",
          "2022-04-29T02:42:04.000Z",
          "2022-04-29T02:43:07.000Z",
          "2022-04-29T02:44:09.000Z",
          "2022-04-29T02:45:11.000Z",
          "2022-04-29T02:46:14.000Z",
          "2022-04-29T02:47:17.000Z",
          "2022-04-29T02:48:19.000Z",
          "2022-04-29T02:49:23.000Z",
          "2022-04-29T02:50:26.000Z",
          "2022-04-29T02:51:30.000Z",
          "2022-04-29T02:52:33.000Z",
          "2022-04-29T02:53:35.000Z",
          "2022-04-29T02:54:38.000Z",
          "2022-04-29T02:55:40.000Z",
          "2022-04-29T02:56:42.000Z",
          "2022-04-29T02:57:45.000Z",
          "2022-04-29T02:58:47.000Z",
          "2022-04-29T02:59:48.000Z",
          "2022-04-29T03:00:51.000Z",
          "2022-04-29T03:01:53.000Z",
          "2022-04-29T03:02:55.000Z",
          "2022-04-29T03:03:56.000Z",
          "2022-04-29T03:04:58.000Z",
          "2022-04-29T03:06:01.000Z",
          "2022-04-29T03:07:03.000Z",
          "2022-04-29T03:08:05.000Z",
          "2022-04-29T03:09:07.000Z",
          "2022-04-29T03:10:09.000Z",
          "2022-04-29T03:11:12.000Z",
          "2022-04-29T03:12:14.000Z",
          "2022-04-29T03:13:16.000Z",
          "2022-04-29T03:14:18.000Z",
          "2022-04-29T03:15:20.000Z",
          "2022-04-29T03:16:22.000Z",
          "2022-04-29T03:17:26.000Z",
          "2022-04-29T03:18:28.000Z",
          "2022-04-29T03:19:30.000Z",
          "2022-04-29T03:20:32.000Z",
          "2022-04-29T03:21:34.000Z",
          "2022-04-29T03:22:36.000Z",
          "2022-04-29T03:23:38.000Z",
          "2022-04-29T03:24:41.000Z",
          "2022-04-29T03:25:43.000Z",
          "2022-04-29T03:26:45.000Z",
          "2022-04-29T03:27:47.000Z",
          "2022-04-29T03:28:50.000Z"
         ],
         "y": [
          103.3,
          103.46,
          103.63,
          103.67,
          103.72,
          103.68,
          103.85,
          103.89,
          103.79,
          103.66,
          103.59,
          103.4,
          103.35,
          103.64,
          103.63,
          103.63,
          103.63,
          103.63,
          103.74,
          103.76,
          103.74,
          103.74,
          103.74,
          103.71,
          103.69,
          103.68,
          103.56,
          103.4,
          103.35,
          103.35,
          103.46,
          103.49,
          103.38,
          103.38,
          103.35,
          103.44,
          103.35,
          103.38,
          103.49,
          103.47,
          103.38,
          103.35,
          103.48,
          103.33,
          103.02,
          103.13,
          103.02,
          102.85,
          102.95,
          102.95,
          102.95,
          102.96,
          102.88,
          103.08,
          103.07,
          103.19,
          103.19,
          103.28,
          103.3,
          103.31
         ]
        },
        {
         "name": "binance_ask_ltc",
         "type": "scatter",
         "x": [
          "2022-04-29T02:27:29.000Z",
          "2022-04-29T02:28:31.000Z",
          "2022-04-29T02:29:34.000Z",
          "2022-04-29T02:30:37.000Z",
          "2022-04-29T02:31:39.000Z",
          "2022-04-29T02:32:42.000Z",
          "2022-04-29T02:33:44.000Z",
          "2022-04-29T02:34:46.000Z",
          "2022-04-29T02:35:48.000Z",
          "2022-04-29T02:36:51.000Z",
          "2022-04-29T02:37:54.000Z",
          "2022-04-29T02:38:57.000Z",
          "2022-04-29T02:40:00.000Z",
          "2022-04-29T02:41:02.000Z",
          "2022-04-29T02:42:04.000Z",
          "2022-04-29T02:43:07.000Z",
          "2022-04-29T02:44:09.000Z",
          "2022-04-29T02:45:11.000Z",
          "2022-04-29T02:46:14.000Z",
          "2022-04-29T02:47:17.000Z",
          "2022-04-29T02:48:19.000Z",
          "2022-04-29T02:49:23.000Z",
          "2022-04-29T02:50:26.000Z",
          "2022-04-29T02:51:30.000Z",
          "2022-04-29T02:52:33.000Z",
          "2022-04-29T02:53:35.000Z",
          "2022-04-29T02:54:38.000Z",
          "2022-04-29T02:55:40.000Z",
          "2022-04-29T02:56:42.000Z",
          "2022-04-29T02:57:45.000Z",
          "2022-04-29T02:58:47.000Z",
          "2022-04-29T02:59:48.000Z",
          "2022-04-29T03:00:51.000Z",
          "2022-04-29T03:01:53.000Z",
          "2022-04-29T03:02:55.000Z",
          "2022-04-29T03:03:56.000Z",
          "2022-04-29T03:04:58.000Z",
          "2022-04-29T03:06:01.000Z",
          "2022-04-29T03:07:03.000Z",
          "2022-04-29T03:08:05.000Z",
          "2022-04-29T03:09:07.000Z",
          "2022-04-29T03:10:09.000Z",
          "2022-04-29T03:11:12.000Z",
          "2022-04-29T03:12:14.000Z",
          "2022-04-29T03:13:16.000Z",
          "2022-04-29T03:14:18.000Z",
          "2022-04-29T03:15:20.000Z",
          "2022-04-29T03:16:22.000Z",
          "2022-04-29T03:17:26.000Z",
          "2022-04-29T03:18:28.000Z",
          "2022-04-29T03:19:30.000Z",
          "2022-04-29T03:20:32.000Z",
          "2022-04-29T03:21:34.000Z",
          "2022-04-29T03:22:36.000Z",
          "2022-04-29T03:23:38.000Z",
          "2022-04-29T03:24:41.000Z",
          "2022-04-29T03:25:43.000Z",
          "2022-04-29T03:26:45.000Z",
          "2022-04-29T03:27:47.000Z",
          "2022-04-29T03:28:50.000Z"
         ],
         "y": [
          103.9,
          104.259999,
          104.299999,
          104.34,
          104.38,
          104.4,
          104.48,
          104.5,
          104.36,
          104.32,
          104.48,
          104.079999,
          103.9,
          104.44,
          104.2,
          104.319999,
          104.4,
          104.359999,
          104.3,
          104.44,
          104.3,
          104.3,
          104.48,
          104.2,
          104.419999,
          104.44,
          104.2,
          103.999999,
          103.9,
          103.9,
          104.12,
          104,
          103.9,
          103.9,
          103.9,
          103.9,
          103.9,
          103.9,
          103.9,
          103.9,
          103.9,
          103.9,
          104.36,
          103.9,
          103.699999,
          104.2,
          103.7,
          103.4,
          104.2,
          103.84,
          103.559999,
          103.5,
          103.3,
          103.76,
          103.6,
          103.6,
          103.96,
          103.8,
          104.16,
          103.9
         ]
        }
       ],
       "layout": {
        "template": {
         "data": {
          "bar": [
           {
            "error_x": {
             "color": "#2a3f5f"
            },
            "error_y": {
             "color": "#2a3f5f"
            },
            "marker": {
             "line": {
              "color": "#E5ECF6",
              "width": 0.5
             },
             "pattern": {
              "fillmode": "overlay",
              "size": 10,
              "solidity": 0.2
             }
            },
            "type": "bar"
           }
          ],
          "barpolar": [
           {
            "marker": {
             "line": {
              "color": "#E5ECF6",
              "width": 0.5
             },
             "pattern": {
              "fillmode": "overlay",
              "size": 10,
              "solidity": 0.2
             }
            },
            "type": "barpolar"
           }
          ],
          "carpet": [
           {
            "aaxis": {
             "endlinecolor": "#2a3f5f",
             "gridcolor": "white",
             "linecolor": "white",
             "minorgridcolor": "white",
             "startlinecolor": "#2a3f5f"
            },
            "baxis": {
             "endlinecolor": "#2a3f5f",
             "gridcolor": "white",
             "linecolor": "white",
             "minorgridcolor": "white",
             "startlinecolor": "#2a3f5f"
            },
            "type": "carpet"
           }
          ],
          "choropleth": [
           {
            "colorbar": {
             "outlinewidth": 0,
             "ticks": ""
            },
            "type": "choropleth"
           }
          ],
          "contour": [
           {
            "colorbar": {
             "outlinewidth": 0,
             "ticks": ""
            },
            "colorscale": [
             [
              0,
              "#0d0887"
             ],
             [
              0.1111111111111111,
              "#46039f"
             ],
             [
              0.2222222222222222,
              "#7201a8"
             ],
             [
              0.3333333333333333,
              "#9c179e"
             ],
             [
              0.4444444444444444,
              "#bd3786"
             ],
             [
              0.5555555555555556,
              "#d8576b"
             ],
             [
              0.6666666666666666,
              "#ed7953"
             ],
             [
              0.7777777777777778,
              "#fb9f3a"
             ],
             [
              0.8888888888888888,
              "#fdca26"
             ],
             [
              1,
              "#f0f921"
             ]
            ],
            "type": "contour"
           }
          ],
          "contourcarpet": [
           {
            "colorbar": {
             "outlinewidth": 0,
             "ticks": ""
            },
            "type": "contourcarpet"
           }
          ],
          "heatmap": [
           {
            "colorbar": {
             "outlinewidth": 0,
             "ticks": ""
            },
            "colorscale": [
             [
              0,
              "#0d0887"
             ],
             [
              0.1111111111111111,
              "#46039f"
             ],
             [
              0.2222222222222222,
              "#7201a8"
             ],
             [
              0.3333333333333333,
              "#9c179e"
             ],
             [
              0.4444444444444444,
              "#bd3786"
             ],
             [
              0.5555555555555556,
              "#d8576b"
             ],
             [
              0.6666666666666666,
              "#ed7953"
             ],
             [
              0.7777777777777778,
              "#fb9f3a"
             ],
             [
              0.8888888888888888,
              "#fdca26"
             ],
             [
              1,
              "#f0f921"
             ]
            ],
            "type": "heatmap"
           }
          ],
          "heatmapgl": [
           {
            "colorbar": {
             "outlinewidth": 0,
             "ticks": ""
            },
            "colorscale": [
             [
              0,
              "#0d0887"
             ],
             [
              0.1111111111111111,
              "#46039f"
             ],
             [
              0.2222222222222222,
              "#7201a8"
             ],
             [
              0.3333333333333333,
              "#9c179e"
             ],
             [
              0.4444444444444444,
              "#bd3786"
             ],
             [
              0.5555555555555556,
              "#d8576b"
             ],
             [
              0.6666666666666666,
              "#ed7953"
             ],
             [
              0.7777777777777778,
              "#fb9f3a"
             ],
             [
              0.8888888888888888,
              "#fdca26"
             ],
             [
              1,
              "#f0f921"
             ]
            ],
            "type": "heatmapgl"
           }
          ],
          "histogram": [
           {
            "marker": {
             "pattern": {
              "fillmode": "overlay",
              "size": 10,
              "solidity": 0.2
             }
            },
            "type": "histogram"
           }
          ],
          "histogram2d": [
           {
            "colorbar": {
             "outlinewidth": 0,
             "ticks": ""
            },
            "colorscale": [
             [
              0,
              "#0d0887"
             ],
             [
              0.1111111111111111,
              "#46039f"
             ],
             [
              0.2222222222222222,
              "#7201a8"
             ],
             [
              0.3333333333333333,
              "#9c179e"
             ],
             [
              0.4444444444444444,
              "#bd3786"
             ],
             [
              0.5555555555555556,
              "#d8576b"
             ],
             [
              0.6666666666666666,
              "#ed7953"
             ],
             [
              0.7777777777777778,
              "#fb9f3a"
             ],
             [
              0.8888888888888888,
              "#fdca26"
             ],
             [
              1,
              "#f0f921"
             ]
            ],
            "type": "histogram2d"
           }
          ],
          "histogram2dcontour": [
           {
            "colorbar": {
             "outlinewidth": 0,
             "ticks": ""
            },
            "colorscale": [
             [
              0,
              "#0d0887"
             ],
             [
              0.1111111111111111,
              "#46039f"
             ],
             [
              0.2222222222222222,
              "#7201a8"
             ],
             [
              0.3333333333333333,
              "#9c179e"
             ],
             [
              0.4444444444444444,
              "#bd3786"
             ],
             [
              0.5555555555555556,
              "#d8576b"
             ],
             [
              0.6666666666666666,
              "#ed7953"
             ],
             [
              0.7777777777777778,
              "#fb9f3a"
             ],
             [
              0.8888888888888888,
              "#fdca26"
             ],
             [
              1,
              "#f0f921"
             ]
            ],
            "type": "histogram2dcontour"
           }
          ],
          "mesh3d": [
           {
            "colorbar": {
             "outlinewidth": 0,
             "ticks": ""
            },
            "type": "mesh3d"
           }
          ],
          "parcoords": [
           {
            "line": {
             "colorbar": {
              "outlinewidth": 0,
              "ticks": ""
             }
            },
            "type": "parcoords"
           }
          ],
          "pie": [
           {
            "automargin": true,
            "type": "pie"
           }
          ],
          "scatter": [
           {
            "marker": {
             "colorbar": {
              "outlinewidth": 0,
              "ticks": ""
             }
            },
            "type": "scatter"
           }
          ],
          "scatter3d": [
           {
            "line": {
             "colorbar": {
              "outlinewidth": 0,
              "ticks": ""
             }
            },
            "marker": {
             "colorbar": {
              "outlinewidth": 0,
              "ticks": ""
             }
            },
            "type": "scatter3d"
           }
          ],
          "scattercarpet": [
           {
            "marker": {
             "colorbar": {
              "outlinewidth": 0,
              "ticks": ""
             }
            },
            "type": "scattercarpet"
           }
          ],
          "scattergeo": [
           {
            "marker": {
             "colorbar": {
              "outlinewidth": 0,
              "ticks": ""
             }
            },
            "type": "scattergeo"
           }
          ],
          "scattergl": [
           {
            "marker": {
             "colorbar": {
              "outlinewidth": 0,
              "ticks": ""
             }
            },
            "type": "scattergl"
           }
          ],
          "scattermapbox": [
           {
            "marker": {
             "colorbar": {
              "outlinewidth": 0,
              "ticks": ""
             }
            },
            "type": "scattermapbox"
           }
          ],
          "scatterpolar": [
           {
            "marker": {
             "colorbar": {
              "outlinewidth": 0,
              "ticks": ""
             }
            },
            "type": "scatterpolar"
           }
          ],
          "scatterpolargl": [
           {
            "marker": {
             "colorbar": {
              "outlinewidth": 0,
              "ticks": ""
             }
            },
            "type": "scatterpolargl"
           }
          ],
          "scatterternary": [
           {
            "marker": {
             "colorbar": {
              "outlinewidth": 0,
              "ticks": ""
             }
            },
            "type": "scatterternary"
           }
          ],
          "surface": [
           {
            "colorbar": {
             "outlinewidth": 0,
             "ticks": ""
            },
            "colorscale": [
             [
              0,
              "#0d0887"
             ],
             [
              0.1111111111111111,
              "#46039f"
             ],
             [
              0.2222222222222222,
              "#7201a8"
             ],
             [
              0.3333333333333333,
              "#9c179e"
             ],
             [
              0.4444444444444444,
              "#bd3786"
             ],
             [
              0.5555555555555556,
              "#d8576b"
             ],
             [
              0.6666666666666666,
              "#ed7953"
             ],
             [
              0.7777777777777778,
              "#fb9f3a"
             ],
             [
              0.8888888888888888,
              "#fdca26"
             ],
             [
              1,
              "#f0f921"
             ]
            ],
            "type": "surface"
           }
          ],
          "table": [
           {
            "cells": {
             "fill": {
              "color": "#EBF0F8"
             },
             "line": {
              "color": "white"
             }
            },
            "header": {
             "fill": {
              "color": "#C8D4E3"
             },
             "line": {
              "color": "white"
             }
            },
            "type": "table"
           }
          ]
         },
         "layout": {
          "annotationdefaults": {
           "arrowcolor": "#2a3f5f",
           "arrowhead": 0,
           "arrowwidth": 1
          },
          "autotypenumbers": "strict",
          "coloraxis": {
           "colorbar": {
            "outlinewidth": 0,
            "ticks": ""
           }
          },
          "colorscale": {
           "diverging": [
            [
             0,
             "#8e0152"
            ],
            [
             0.1,
             "#c51b7d"
            ],
            [
             0.2,
             "#de77ae"
            ],
            [
             0.3,
             "#f1b6da"
            ],
            [
             0.4,
             "#fde0ef"
            ],
            [
             0.5,
             "#f7f7f7"
            ],
            [
             0.6,
             "#e6f5d0"
            ],
            [
             0.7,
             "#b8e186"
            ],
            [
             0.8,
             "#7fbc41"
            ],
            [
             0.9,
             "#4d9221"
            ],
            [
             1,
             "#276419"
            ]
           ],
           "sequential": [
            [
             0,
             "#0d0887"
            ],
            [
             0.1111111111111111,
             "#46039f"
            ],
            [
             0.2222222222222222,
             "#7201a8"
            ],
            [
             0.3333333333333333,
             "#9c179e"
            ],
            [
             0.4444444444444444,
             "#bd3786"
            ],
            [
             0.5555555555555556,
             "#d8576b"
            ],
            [
             0.6666666666666666,
             "#ed7953"
            ],
            [
             0.7777777777777778,
             "#fb9f3a"
            ],
            [
             0.8888888888888888,
             "#fdca26"
            ],
            [
             1,
             "#f0f921"
            ]
           ],
           "sequentialminus": [
            [
             0,
             "#0d0887"
            ],
            [
             0.1111111111111111,
             "#46039f"
            ],
            [
             0.2222222222222222,
             "#7201a8"
            ],
            [
             0.3333333333333333,
             "#9c179e"
            ],
            [
             0.4444444444444444,
             "#bd3786"
            ],
            [
             0.5555555555555556,
             "#d8576b"
            ],
            [
             0.6666666666666666,
             "#ed7953"
            ],
            [
             0.7777777777777778,
             "#fb9f3a"
            ],
            [
             0.8888888888888888,
             "#fdca26"
            ],
            [
             1,
             "#f0f921"
            ]
           ]
          },
          "colorway": [
           "#636efa",
           "#EF553B",
           "#00cc96",
           "#ab63fa",
           "#FFA15A",
           "#19d3f3",
           "#FF6692",
           "#B6E880",
           "#FF97FF",
           "#FECB52"
          ],
          "font": {
           "color": "#2a3f5f"
          },
          "geo": {
           "bgcolor": "white",
           "lakecolor": "white",
           "landcolor": "#E5ECF6",
           "showlakes": true,
           "showland": true,
           "subunitcolor": "white"
          },
          "hoverlabel": {
           "align": "left"
          },
          "hovermode": "closest",
          "mapbox": {
           "style": "light"
          },
          "paper_bgcolor": "white",
          "plot_bgcolor": "#E5ECF6",
          "polar": {
           "angularaxis": {
            "gridcolor": "white",
            "linecolor": "white",
            "ticks": ""
           },
           "bgcolor": "#E5ECF6",
           "radialaxis": {
            "gridcolor": "white",
            "linecolor": "white",
            "ticks": ""
           }
          },
          "scene": {
           "xaxis": {
            "backgroundcolor": "#E5ECF6",
            "gridcolor": "white",
            "gridwidth": 2,
            "linecolor": "white",
            "showbackground": true,
            "ticks": "",
            "zerolinecolor": "white"
           },
           "yaxis": {
            "backgroundcolor": "#E5ECF6",
            "gridcolor": "white",
            "gridwidth": 2,
            "linecolor": "white",
            "showbackground": true,
            "ticks": "",
            "zerolinecolor": "white"
           },
           "zaxis": {
            "backgroundcolor": "#E5ECF6",
            "gridcolor": "white",
            "gridwidth": 2,
            "linecolor": "white",
            "showbackground": true,
            "ticks": "",
            "zerolinecolor": "white"
           }
          },
          "shapedefaults": {
           "line": {
            "color": "#2a3f5f"
           }
          },
          "ternary": {
           "aaxis": {
            "gridcolor": "white",
            "linecolor": "white",
            "ticks": ""
           },
           "baxis": {
            "gridcolor": "white",
            "linecolor": "white",
            "ticks": ""
           },
           "bgcolor": "#E5ECF6",
           "caxis": {
            "gridcolor": "white",
            "linecolor": "white",
            "ticks": ""
           }
          },
          "title": {
           "x": 0.05
          },
          "xaxis": {
           "automargin": true,
           "gridcolor": "white",
           "linecolor": "white",
           "ticks": "",
           "title": {
            "standoff": 15
           },
           "zerolinecolor": "white",
           "zerolinewidth": 2
          },
          "yaxis": {
           "automargin": true,
           "gridcolor": "white",
           "linecolor": "white",
           "ticks": "",
           "title": {
            "standoff": 15
           },
           "zerolinecolor": "white",
           "zerolinewidth": 2
          }
         }
        }
       }
      },
      "text/html": [
       "<div>                            <div id=\"3b628392-4fc7-4cc6-98e8-e3e324a7a820\" class=\"plotly-graph-div\" style=\"height:525px; width:100%;\"></div>            <script type=\"text/javascript\">                require([\"plotly\"], function(Plotly) {                    window.PLOTLYENV=window.PLOTLYENV || {};                                    if (document.getElementById(\"3b628392-4fc7-4cc6-98e8-e3e324a7a820\")) {                    Plotly.newPlot(                        \"3b628392-4fc7-4cc6-98e8-e3e324a7a820\",                        [{\"name\":\"bitso_ask_ltc\",\"x\":[\"2022-04-29T02:27:29.000Z\",\"2022-04-29T02:28:31.000Z\",\"2022-04-29T02:29:34.000Z\",\"2022-04-29T02:30:37.000Z\",\"2022-04-29T02:31:39.000Z\",\"2022-04-29T02:32:42.000Z\",\"2022-04-29T02:33:44.000Z\",\"2022-04-29T02:34:46.000Z\",\"2022-04-29T02:35:48.000Z\",\"2022-04-29T02:36:51.000Z\",\"2022-04-29T02:37:54.000Z\",\"2022-04-29T02:38:57.000Z\",\"2022-04-29T02:40:00.000Z\",\"2022-04-29T02:41:02.000Z\",\"2022-04-29T02:42:04.000Z\",\"2022-04-29T02:43:07.000Z\",\"2022-04-29T02:44:09.000Z\",\"2022-04-29T02:45:11.000Z\",\"2022-04-29T02:46:14.000Z\",\"2022-04-29T02:47:17.000Z\",\"2022-04-29T02:48:19.000Z\",\"2022-04-29T02:49:23.000Z\",\"2022-04-29T02:50:26.000Z\",\"2022-04-29T02:51:30.000Z\",\"2022-04-29T02:52:33.000Z\",\"2022-04-29T02:53:35.000Z\",\"2022-04-29T02:54:38.000Z\",\"2022-04-29T02:55:40.000Z\",\"2022-04-29T02:56:42.000Z\",\"2022-04-29T02:57:45.000Z\",\"2022-04-29T02:58:47.000Z\",\"2022-04-29T02:59:48.000Z\",\"2022-04-29T03:00:51.000Z\",\"2022-04-29T03:01:53.000Z\",\"2022-04-29T03:02:55.000Z\",\"2022-04-29T03:03:56.000Z\",\"2022-04-29T03:04:58.000Z\",\"2022-04-29T03:06:01.000Z\",\"2022-04-29T03:07:03.000Z\",\"2022-04-29T03:08:05.000Z\",\"2022-04-29T03:09:07.000Z\",\"2022-04-29T03:10:09.000Z\",\"2022-04-29T03:11:12.000Z\",\"2022-04-29T03:12:14.000Z\",\"2022-04-29T03:13:16.000Z\",\"2022-04-29T03:14:18.000Z\",\"2022-04-29T03:15:20.000Z\",\"2022-04-29T03:16:22.000Z\",\"2022-04-29T03:17:26.000Z\",\"2022-04-29T03:18:28.000Z\",\"2022-04-29T03:19:30.000Z\",\"2022-04-29T03:20:32.000Z\",\"2022-04-29T03:21:34.000Z\",\"2022-04-29T03:22:36.000Z\",\"2022-04-29T03:23:38.000Z\",\"2022-04-29T03:24:41.000Z\",\"2022-04-29T03:25:43.000Z\",\"2022-04-29T03:26:45.000Z\",\"2022-04-29T03:27:47.000Z\",\"2022-04-29T03:28:50.000Z\"],\"y\":[2112.9,2117.63,2118.0,2118.0,2121.0,2121.42,2123.0,2123.0,2123.0,2122.67,2122.42,2119.92,2117.08,2119.92,2120.77,2114.79,2114.79,2120.86,2120.8,2122.58,2121.2,2120.5,2120.5,2120.5,2120.5,2120.5,2122.18,2119.48,2117.69,2116.62,2115.0,2115.0,2112.0,2112.0,2112.0,2112.0,2112.0,2112.0,2112.0,2114.0,2114.0,2114.54,2114.06,2114.85,2117.84,2110.71,2108.18,2100.92,2104.77,2104.72,2105.39,2105.8,2099.4,2107.92,2106.09,2108.59,2110.17,2108.0,2108.0,2108.0],\"type\":\"scatter\"},{\"name\":\"kraken_ask_ltc\",\"x\":[\"2022-04-29T02:27:29.000Z\",\"2022-04-29T02:28:31.000Z\",\"2022-04-29T02:29:34.000Z\",\"2022-04-29T02:30:37.000Z\",\"2022-04-29T02:31:39.000Z\",\"2022-04-29T02:32:42.000Z\",\"2022-04-29T02:33:44.000Z\",\"2022-04-29T02:34:46.000Z\",\"2022-04-29T02:35:48.000Z\",\"2022-04-29T02:36:51.000Z\",\"2022-04-29T02:37:54.000Z\",\"2022-04-29T02:38:57.000Z\",\"2022-04-29T02:40:00.000Z\",\"2022-04-29T02:41:02.000Z\",\"2022-04-29T02:42:04.000Z\",\"2022-04-29T02:43:07.000Z\",\"2022-04-29T02:44:09.000Z\",\"2022-04-29T02:45:11.000Z\",\"2022-04-29T02:46:14.000Z\",\"2022-04-29T02:47:17.000Z\",\"2022-04-29T02:48:19.000Z\",\"2022-04-29T02:49:23.000Z\",\"2022-04-29T02:50:26.000Z\",\"2022-04-29T02:51:30.000Z\",\"2022-04-29T02:52:33.000Z\",\"2022-04-29T02:53:35.000Z\",\"2022-04-29T02:54:38.000Z\",\"2022-04-29T02:55:40.000Z\",\"2022-04-29T02:56:42.000Z\",\"2022-04-29T02:57:45.000Z\",\"2022-04-29T02:58:47.000Z\",\"2022-04-29T02:59:48.000Z\",\"2022-04-29T03:00:51.000Z\",\"2022-04-29T03:01:53.000Z\",\"2022-04-29T03:02:55.000Z\",\"2022-04-29T03:03:56.000Z\",\"2022-04-29T03:04:58.000Z\",\"2022-04-29T03:06:01.000Z\",\"2022-04-29T03:07:03.000Z\",\"2022-04-29T03:08:05.000Z\",\"2022-04-29T03:09:07.000Z\",\"2022-04-29T03:10:09.000Z\",\"2022-04-29T03:11:12.000Z\",\"2022-04-29T03:12:14.000Z\",\"2022-04-29T03:13:16.000Z\",\"2022-04-29T03:14:18.000Z\",\"2022-04-29T03:15:20.000Z\",\"2022-04-29T03:16:22.000Z\",\"2022-04-29T03:17:26.000Z\",\"2022-04-29T03:18:28.000Z\",\"2022-04-29T03:19:30.000Z\",\"2022-04-29T03:20:32.000Z\",\"2022-04-29T03:21:34.000Z\",\"2022-04-29T03:22:36.000Z\",\"2022-04-29T03:23:38.000Z\",\"2022-04-29T03:24:41.000Z\",\"2022-04-29T03:25:43.000Z\",\"2022-04-29T03:26:45.000Z\",\"2022-04-29T03:27:47.000Z\",\"2022-04-29T03:28:50.000Z\"],\"y\":[103.3,103.46,103.63,103.67,103.72,103.68,103.85,103.89,103.79,103.66,103.59,103.4,103.35,103.64,103.63,103.63,103.63,103.63,103.74,103.76,103.74,103.74,103.74,103.71,103.69,103.68,103.56,103.4,103.35,103.35,103.46,103.49,103.38,103.38,103.35,103.44,103.35,103.38,103.49,103.47,103.38,103.35,103.48,103.33,103.02,103.13,103.02,102.85,102.95,102.95,102.95,102.96,102.88,103.08,103.07,103.19,103.19,103.28,103.3,103.31],\"type\":\"scatter\"},{\"name\":\"binance_ask_ltc\",\"x\":[\"2022-04-29T02:27:29.000Z\",\"2022-04-29T02:28:31.000Z\",\"2022-04-29T02:29:34.000Z\",\"2022-04-29T02:30:37.000Z\",\"2022-04-29T02:31:39.000Z\",\"2022-04-29T02:32:42.000Z\",\"2022-04-29T02:33:44.000Z\",\"2022-04-29T02:34:46.000Z\",\"2022-04-29T02:35:48.000Z\",\"2022-04-29T02:36:51.000Z\",\"2022-04-29T02:37:54.000Z\",\"2022-04-29T02:38:57.000Z\",\"2022-04-29T02:40:00.000Z\",\"2022-04-29T02:41:02.000Z\",\"2022-04-29T02:42:04.000Z\",\"2022-04-29T02:43:07.000Z\",\"2022-04-29T02:44:09.000Z\",\"2022-04-29T02:45:11.000Z\",\"2022-04-29T02:46:14.000Z\",\"2022-04-29T02:47:17.000Z\",\"2022-04-29T02:48:19.000Z\",\"2022-04-29T02:49:23.000Z\",\"2022-04-29T02:50:26.000Z\",\"2022-04-29T02:51:30.000Z\",\"2022-04-29T02:52:33.000Z\",\"2022-04-29T02:53:35.000Z\",\"2022-04-29T02:54:38.000Z\",\"2022-04-29T02:55:40.000Z\",\"2022-04-29T02:56:42.000Z\",\"2022-04-29T02:57:45.000Z\",\"2022-04-29T02:58:47.000Z\",\"2022-04-29T02:59:48.000Z\",\"2022-04-29T03:00:51.000Z\",\"2022-04-29T03:01:53.000Z\",\"2022-04-29T03:02:55.000Z\",\"2022-04-29T03:03:56.000Z\",\"2022-04-29T03:04:58.000Z\",\"2022-04-29T03:06:01.000Z\",\"2022-04-29T03:07:03.000Z\",\"2022-04-29T03:08:05.000Z\",\"2022-04-29T03:09:07.000Z\",\"2022-04-29T03:10:09.000Z\",\"2022-04-29T03:11:12.000Z\",\"2022-04-29T03:12:14.000Z\",\"2022-04-29T03:13:16.000Z\",\"2022-04-29T03:14:18.000Z\",\"2022-04-29T03:15:20.000Z\",\"2022-04-29T03:16:22.000Z\",\"2022-04-29T03:17:26.000Z\",\"2022-04-29T03:18:28.000Z\",\"2022-04-29T03:19:30.000Z\",\"2022-04-29T03:20:32.000Z\",\"2022-04-29T03:21:34.000Z\",\"2022-04-29T03:22:36.000Z\",\"2022-04-29T03:23:38.000Z\",\"2022-04-29T03:24:41.000Z\",\"2022-04-29T03:25:43.000Z\",\"2022-04-29T03:26:45.000Z\",\"2022-04-29T03:27:47.000Z\",\"2022-04-29T03:28:50.000Z\"],\"y\":[103.9,104.259999,104.299999,104.34,104.38,104.4,104.48,104.5,104.36,104.32,104.48,104.079999,103.9,104.44,104.2,104.319999,104.4,104.359999,104.3,104.44,104.3,104.3,104.48,104.2,104.419999,104.44,104.2,103.999999,103.9,103.9,104.12,104.0,103.9,103.9,103.9,103.9,103.9,103.9,103.9,103.9,103.9,103.9,104.36,103.9,103.699999,104.2,103.7,103.4,104.2,103.84,103.559999,103.5,103.3,103.76,103.6,103.6,103.96,103.8,104.16,103.9],\"type\":\"scatter\"}],                        {\"template\":{\"data\":{\"bar\":[{\"error_x\":{\"color\":\"#2a3f5f\"},\"error_y\":{\"color\":\"#2a3f5f\"},\"marker\":{\"line\":{\"color\":\"#E5ECF6\",\"width\":0.5},\"pattern\":{\"fillmode\":\"overlay\",\"size\":10,\"solidity\":0.2}},\"type\":\"bar\"}],\"barpolar\":[{\"marker\":{\"line\":{\"color\":\"#E5ECF6\",\"width\":0.5},\"pattern\":{\"fillmode\":\"overlay\",\"size\":10,\"solidity\":0.2}},\"type\":\"barpolar\"}],\"carpet\":[{\"aaxis\":{\"endlinecolor\":\"#2a3f5f\",\"gridcolor\":\"white\",\"linecolor\":\"white\",\"minorgridcolor\":\"white\",\"startlinecolor\":\"#2a3f5f\"},\"baxis\":{\"endlinecolor\":\"#2a3f5f\",\"gridcolor\":\"white\",\"linecolor\":\"white\",\"minorgridcolor\":\"white\",\"startlinecolor\":\"#2a3f5f\"},\"type\":\"carpet\"}],\"choropleth\":[{\"colorbar\":{\"outlinewidth\":0,\"ticks\":\"\"},\"type\":\"choropleth\"}],\"contour\":[{\"colorbar\":{\"outlinewidth\":0,\"ticks\":\"\"},\"colorscale\":[[0.0,\"#0d0887\"],[0.1111111111111111,\"#46039f\"],[0.2222222222222222,\"#7201a8\"],[0.3333333333333333,\"#9c179e\"],[0.4444444444444444,\"#bd3786\"],[0.5555555555555556,\"#d8576b\"],[0.6666666666666666,\"#ed7953\"],[0.7777777777777778,\"#fb9f3a\"],[0.8888888888888888,\"#fdca26\"],[1.0,\"#f0f921\"]],\"type\":\"contour\"}],\"contourcarpet\":[{\"colorbar\":{\"outlinewidth\":0,\"ticks\":\"\"},\"type\":\"contourcarpet\"}],\"heatmap\":[{\"colorbar\":{\"outlinewidth\":0,\"ticks\":\"\"},\"colorscale\":[[0.0,\"#0d0887\"],[0.1111111111111111,\"#46039f\"],[0.2222222222222222,\"#7201a8\"],[0.3333333333333333,\"#9c179e\"],[0.4444444444444444,\"#bd3786\"],[0.5555555555555556,\"#d8576b\"],[0.6666666666666666,\"#ed7953\"],[0.7777777777777778,\"#fb9f3a\"],[0.8888888888888888,\"#fdca26\"],[1.0,\"#f0f921\"]],\"type\":\"heatmap\"}],\"heatmapgl\":[{\"colorbar\":{\"outlinewidth\":0,\"ticks\":\"\"},\"colorscale\":[[0.0,\"#0d0887\"],[0.1111111111111111,\"#46039f\"],[0.2222222222222222,\"#7201a8\"],[0.3333333333333333,\"#9c179e\"],[0.4444444444444444,\"#bd3786\"],[0.5555555555555556,\"#d8576b\"],[0.6666666666666666,\"#ed7953\"],[0.7777777777777778,\"#fb9f3a\"],[0.8888888888888888,\"#fdca26\"],[1.0,\"#f0f921\"]],\"type\":\"heatmapgl\"}],\"histogram\":[{\"marker\":{\"pattern\":{\"fillmode\":\"overlay\",\"size\":10,\"solidity\":0.2}},\"type\":\"histogram\"}],\"histogram2d\":[{\"colorbar\":{\"outlinewidth\":0,\"ticks\":\"\"},\"colorscale\":[[0.0,\"#0d0887\"],[0.1111111111111111,\"#46039f\"],[0.2222222222222222,\"#7201a8\"],[0.3333333333333333,\"#9c179e\"],[0.4444444444444444,\"#bd3786\"],[0.5555555555555556,\"#d8576b\"],[0.6666666666666666,\"#ed7953\"],[0.7777777777777778,\"#fb9f3a\"],[0.8888888888888888,\"#fdca26\"],[1.0,\"#f0f921\"]],\"type\":\"histogram2d\"}],\"histogram2dcontour\":[{\"colorbar\":{\"outlinewidth\":0,\"ticks\":\"\"},\"colorscale\":[[0.0,\"#0d0887\"],[0.1111111111111111,\"#46039f\"],[0.2222222222222222,\"#7201a8\"],[0.3333333333333333,\"#9c179e\"],[0.4444444444444444,\"#bd3786\"],[0.5555555555555556,\"#d8576b\"],[0.6666666666666666,\"#ed7953\"],[0.7777777777777778,\"#fb9f3a\"],[0.8888888888888888,\"#fdca26\"],[1.0,\"#f0f921\"]],\"type\":\"histogram2dcontour\"}],\"mesh3d\":[{\"colorbar\":{\"outlinewidth\":0,\"ticks\":\"\"},\"type\":\"mesh3d\"}],\"parcoords\":[{\"line\":{\"colorbar\":{\"outlinewidth\":0,\"ticks\":\"\"}},\"type\":\"parcoords\"}],\"pie\":[{\"automargin\":true,\"type\":\"pie\"}],\"scatter\":[{\"marker\":{\"colorbar\":{\"outlinewidth\":0,\"ticks\":\"\"}},\"type\":\"scatter\"}],\"scatter3d\":[{\"line\":{\"colorbar\":{\"outlinewidth\":0,\"ticks\":\"\"}},\"marker\":{\"colorbar\":{\"outlinewidth\":0,\"ticks\":\"\"}},\"type\":\"scatter3d\"}],\"scattercarpet\":[{\"marker\":{\"colorbar\":{\"outlinewidth\":0,\"ticks\":\"\"}},\"type\":\"scattercarpet\"}],\"scattergeo\":[{\"marker\":{\"colorbar\":{\"outlinewidth\":0,\"ticks\":\"\"}},\"type\":\"scattergeo\"}],\"scattergl\":[{\"marker\":{\"colorbar\":{\"outlinewidth\":0,\"ticks\":\"\"}},\"type\":\"scattergl\"}],\"scattermapbox\":[{\"marker\":{\"colorbar\":{\"outlinewidth\":0,\"ticks\":\"\"}},\"type\":\"scattermapbox\"}],\"scatterpolar\":[{\"marker\":{\"colorbar\":{\"outlinewidth\":0,\"ticks\":\"\"}},\"type\":\"scatterpolar\"}],\"scatterpolargl\":[{\"marker\":{\"colorbar\":{\"outlinewidth\":0,\"ticks\":\"\"}},\"type\":\"scatterpolargl\"}],\"scatterternary\":[{\"marker\":{\"colorbar\":{\"outlinewidth\":0,\"ticks\":\"\"}},\"type\":\"scatterternary\"}],\"surface\":[{\"colorbar\":{\"outlinewidth\":0,\"ticks\":\"\"},\"colorscale\":[[0.0,\"#0d0887\"],[0.1111111111111111,\"#46039f\"],[0.2222222222222222,\"#7201a8\"],[0.3333333333333333,\"#9c179e\"],[0.4444444444444444,\"#bd3786\"],[0.5555555555555556,\"#d8576b\"],[0.6666666666666666,\"#ed7953\"],[0.7777777777777778,\"#fb9f3a\"],[0.8888888888888888,\"#fdca26\"],[1.0,\"#f0f921\"]],\"type\":\"surface\"}],\"table\":[{\"cells\":{\"fill\":{\"color\":\"#EBF0F8\"},\"line\":{\"color\":\"white\"}},\"header\":{\"fill\":{\"color\":\"#C8D4E3\"},\"line\":{\"color\":\"white\"}},\"type\":\"table\"}]},\"layout\":{\"annotationdefaults\":{\"arrowcolor\":\"#2a3f5f\",\"arrowhead\":0,\"arrowwidth\":1},\"autotypenumbers\":\"strict\",\"coloraxis\":{\"colorbar\":{\"outlinewidth\":0,\"ticks\":\"\"}},\"colorscale\":{\"diverging\":[[0,\"#8e0152\"],[0.1,\"#c51b7d\"],[0.2,\"#de77ae\"],[0.3,\"#f1b6da\"],[0.4,\"#fde0ef\"],[0.5,\"#f7f7f7\"],[0.6,\"#e6f5d0\"],[0.7,\"#b8e186\"],[0.8,\"#7fbc41\"],[0.9,\"#4d9221\"],[1,\"#276419\"]],\"sequential\":[[0.0,\"#0d0887\"],[0.1111111111111111,\"#46039f\"],[0.2222222222222222,\"#7201a8\"],[0.3333333333333333,\"#9c179e\"],[0.4444444444444444,\"#bd3786\"],[0.5555555555555556,\"#d8576b\"],[0.6666666666666666,\"#ed7953\"],[0.7777777777777778,\"#fb9f3a\"],[0.8888888888888888,\"#fdca26\"],[1.0,\"#f0f921\"]],\"sequentialminus\":[[0.0,\"#0d0887\"],[0.1111111111111111,\"#46039f\"],[0.2222222222222222,\"#7201a8\"],[0.3333333333333333,\"#9c179e\"],[0.4444444444444444,\"#bd3786\"],[0.5555555555555556,\"#d8576b\"],[0.6666666666666666,\"#ed7953\"],[0.7777777777777778,\"#fb9f3a\"],[0.8888888888888888,\"#fdca26\"],[1.0,\"#f0f921\"]]},\"colorway\":[\"#636efa\",\"#EF553B\",\"#00cc96\",\"#ab63fa\",\"#FFA15A\",\"#19d3f3\",\"#FF6692\",\"#B6E880\",\"#FF97FF\",\"#FECB52\"],\"font\":{\"color\":\"#2a3f5f\"},\"geo\":{\"bgcolor\":\"white\",\"lakecolor\":\"white\",\"landcolor\":\"#E5ECF6\",\"showlakes\":true,\"showland\":true,\"subunitcolor\":\"white\"},\"hoverlabel\":{\"align\":\"left\"},\"hovermode\":\"closest\",\"mapbox\":{\"style\":\"light\"},\"paper_bgcolor\":\"white\",\"plot_bgcolor\":\"#E5ECF6\",\"polar\":{\"angularaxis\":{\"gridcolor\":\"white\",\"linecolor\":\"white\",\"ticks\":\"\"},\"bgcolor\":\"#E5ECF6\",\"radialaxis\":{\"gridcolor\":\"white\",\"linecolor\":\"white\",\"ticks\":\"\"}},\"scene\":{\"xaxis\":{\"backgroundcolor\":\"#E5ECF6\",\"gridcolor\":\"white\",\"gridwidth\":2,\"linecolor\":\"white\",\"showbackground\":true,\"ticks\":\"\",\"zerolinecolor\":\"white\"},\"yaxis\":{\"backgroundcolor\":\"#E5ECF6\",\"gridcolor\":\"white\",\"gridwidth\":2,\"linecolor\":\"white\",\"showbackground\":true,\"ticks\":\"\",\"zerolinecolor\":\"white\"},\"zaxis\":{\"backgroundcolor\":\"#E5ECF6\",\"gridcolor\":\"white\",\"gridwidth\":2,\"linecolor\":\"white\",\"showbackground\":true,\"ticks\":\"\",\"zerolinecolor\":\"white\"}},\"shapedefaults\":{\"line\":{\"color\":\"#2a3f5f\"}},\"ternary\":{\"aaxis\":{\"gridcolor\":\"white\",\"linecolor\":\"white\",\"ticks\":\"\"},\"baxis\":{\"gridcolor\":\"white\",\"linecolor\":\"white\",\"ticks\":\"\"},\"bgcolor\":\"#E5ECF6\",\"caxis\":{\"gridcolor\":\"white\",\"linecolor\":\"white\",\"ticks\":\"\"}},\"title\":{\"x\":0.05},\"xaxis\":{\"automargin\":true,\"gridcolor\":\"white\",\"linecolor\":\"white\",\"ticks\":\"\",\"title\":{\"standoff\":15},\"zerolinecolor\":\"white\",\"zerolinewidth\":2},\"yaxis\":{\"automargin\":true,\"gridcolor\":\"white\",\"linecolor\":\"white\",\"ticks\":\"\",\"title\":{\"standoff\":15},\"zerolinecolor\":\"white\",\"zerolinewidth\":2}}}},                        {\"responsive\": true}                    ).then(function(){\n",
       "                            \n",
       "var gd = document.getElementById('3b628392-4fc7-4cc6-98e8-e3e324a7a820');\n",
       "var x = new MutationObserver(function (mutations, observer) {{\n",
       "        var display = window.getComputedStyle(gd).display;\n",
       "        if (!display || display === 'none') {{\n",
       "            console.log([gd, 'removed!']);\n",
       "            Plotly.purge(gd);\n",
       "            observer.disconnect();\n",
       "        }}\n",
       "}});\n",
       "\n",
       "// Listen for the removal of the full notebook cells\n",
       "var notebookContainer = gd.closest('#notebook-container');\n",
       "if (notebookContainer) {{\n",
       "    x.observe(notebookContainer, {childList: true});\n",
       "}}\n",
       "\n",
       "// Listen for the clearing of the current output cell\n",
       "var outputEl = gd.closest('.output');\n",
       "if (outputEl) {{\n",
       "    x.observe(outputEl, {childList: true});\n",
       "}}\n",
       "\n",
       "                        })                };                });            </script>        </div>"
      ]
     },
     "metadata": {},
     "output_type": "display_data"
    }
   ],
   "source": [
    "main.plot_spread_ltc_1(data)"
   ]
  },
  {
   "cell_type": "markdown",
   "id": "6fa4d16f",
   "metadata": {},
   "source": [
    "## <font color= #6B6B6B> 5. Modelado de Microestructura </font> <font color= #555555>"
   ]
  },
  {
   "cell_type": "markdown",
   "id": "d7d86252",
   "metadata": {},
   "source": [
    "A continuación, se comparará el effective spread con el spread real y visualizarlo en un DataFrame"
   ]
  },
  {
   "cell_type": "code",
   "execution_count": 5,
   "id": "9009791f",
   "metadata": {},
   "outputs": [
    {
     "data": {
      "text/html": [
       "<div>\n",
       "<style scoped>\n",
       "    .dataframe tbody tr th:only-of-type {\n",
       "        vertical-align: middle;\n",
       "    }\n",
       "\n",
       "    .dataframe tbody tr th {\n",
       "        vertical-align: top;\n",
       "    }\n",
       "\n",
       "    .dataframe thead th {\n",
       "        text-align: right;\n",
       "    }\n",
       "</style>\n",
       "<table border=\"1\" class=\"dataframe\">\n",
       "  <thead>\n",
       "    <tr style=\"text-align: right;\">\n",
       "      <th></th>\n",
       "      <th>timestamp</th>\n",
       "      <th>close</th>\n",
       "      <th>spread</th>\n",
       "      <th>effective spread</th>\n",
       "    </tr>\n",
       "  </thead>\n",
       "  <tbody>\n",
       "    <tr>\n",
       "      <th>0</th>\n",
       "      <td>2022-04-29T02:36:51.000Z</td>\n",
       "      <td>39671.31</td>\n",
       "      <td>39.60</td>\n",
       "      <td>0.000000</td>\n",
       "    </tr>\n",
       "    <tr>\n",
       "      <th>1</th>\n",
       "      <td>2022-04-29T02:37:54.000Z</td>\n",
       "      <td>39671.31</td>\n",
       "      <td>38.09</td>\n",
       "      <td>37.177622</td>\n",
       "    </tr>\n",
       "    <tr>\n",
       "      <th>2</th>\n",
       "      <td>2022-04-29T02:38:57.000Z</td>\n",
       "      <td>39671.31</td>\n",
       "      <td>35.09</td>\n",
       "      <td>13.920772</td>\n",
       "    </tr>\n",
       "    <tr>\n",
       "      <th>3</th>\n",
       "      <td>2022-04-29T02:40:00.000Z</td>\n",
       "      <td>39671.31</td>\n",
       "      <td>35.09</td>\n",
       "      <td>0.000000</td>\n",
       "    </tr>\n",
       "    <tr>\n",
       "      <th>4</th>\n",
       "      <td>2022-04-29T02:41:02.000Z</td>\n",
       "      <td>39652.26</td>\n",
       "      <td>35.09</td>\n",
       "      <td>13.278810</td>\n",
       "    </tr>\n",
       "    <tr>\n",
       "      <th>...</th>\n",
       "      <td>...</td>\n",
       "      <td>...</td>\n",
       "      <td>...</td>\n",
       "      <td>...</td>\n",
       "    </tr>\n",
       "    <tr>\n",
       "      <th>454</th>\n",
       "      <td>2022-04-29T03:24:41.000Z</td>\n",
       "      <td>103.04</td>\n",
       "      <td>0.94</td>\n",
       "      <td>0.075100</td>\n",
       "    </tr>\n",
       "    <tr>\n",
       "      <th>455</th>\n",
       "      <td>2022-04-29T03:25:43.000Z</td>\n",
       "      <td>103.04</td>\n",
       "      <td>1.26</td>\n",
       "      <td>0.092304</td>\n",
       "    </tr>\n",
       "    <tr>\n",
       "      <th>456</th>\n",
       "      <td>2022-04-29T03:26:45.000Z</td>\n",
       "      <td>103.28</td>\n",
       "      <td>0.94</td>\n",
       "      <td>0.153297</td>\n",
       "    </tr>\n",
       "    <tr>\n",
       "      <th>457</th>\n",
       "      <td>2022-04-29T03:27:47.000Z</td>\n",
       "      <td>103.28</td>\n",
       "      <td>1.24</td>\n",
       "      <td>0.000000</td>\n",
       "    </tr>\n",
       "    <tr>\n",
       "      <th>458</th>\n",
       "      <td>2022-04-29T03:28:50.000Z</td>\n",
       "      <td>103.29</td>\n",
       "      <td>1.13</td>\n",
       "      <td>0.030000</td>\n",
       "    </tr>\n",
       "  </tbody>\n",
       "</table>\n",
       "<p>459 rows × 4 columns</p>\n",
       "</div>"
      ],
      "text/plain": [
       "                    timestamp     close  spread  effective spread\n",
       "0    2022-04-29T02:36:51.000Z  39671.31   39.60          0.000000\n",
       "1    2022-04-29T02:37:54.000Z  39671.31   38.09         37.177622\n",
       "2    2022-04-29T02:38:57.000Z  39671.31   35.09         13.920772\n",
       "3    2022-04-29T02:40:00.000Z  39671.31   35.09          0.000000\n",
       "4    2022-04-29T02:41:02.000Z  39652.26   35.09         13.278810\n",
       "..                        ...       ...     ...               ...\n",
       "454  2022-04-29T03:24:41.000Z    103.04    0.94          0.075100\n",
       "455  2022-04-29T03:25:43.000Z    103.04    1.26          0.092304\n",
       "456  2022-04-29T03:26:45.000Z    103.28    0.94          0.153297\n",
       "457  2022-04-29T03:27:47.000Z    103.28    1.24          0.000000\n",
       "458  2022-04-29T03:28:50.000Z    103.29    1.13          0.030000\n",
       "\n",
       "[459 rows x 4 columns]"
      ]
     },
     "execution_count": 5,
     "metadata": {},
     "output_type": "execute_result"
    }
   ],
   "source": [
    "modelado"
   ]
  },
  {
   "cell_type": "markdown",
   "id": "372d6e32",
   "metadata": {},
   "source": [
    "## <font color= #6B6B6B> 6. Conclusiones </font> <font color= #555555>"
   ]
  },
  {
   "cell_type": "markdown",
   "id": "0b66f9e9",
   "metadata": {},
   "source": [
    "En el laboratorio 4 se logra observar la diferencia, aunque sea mínima, entre los tipos de exchanges y las mismas criptomonedas utilizadas. Es bueno ver el spread real que se genera con la descarga de los datos y el effective spread calculado con la formula de Rolls, en algunos casos es mucha la diferencia y en otros es mínimo, esto se debe a que la correlación en algunos casos es negativa y no se puede calcular, por lo que se agregó el 0. "
   ]
  }
 ],
 "metadata": {
  "kernelspec": {
   "display_name": "Python 3 (ipykernel)",
   "language": "python",
   "name": "python3"
  },
  "language_info": {
   "codemirror_mode": {
    "name": "ipython",
    "version": 3
   },
   "file_extension": ".py",
   "mimetype": "text/x-python",
   "name": "python",
   "nbconvert_exporter": "python",
   "pygments_lexer": "ipython3",
   "version": "3.10.2"
  }
 },
 "nbformat": 4,
 "nbformat_minor": 5
}
